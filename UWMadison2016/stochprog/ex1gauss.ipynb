{
 "cells": [
  {
   "cell_type": "markdown",
   "metadata": {},
   "source": [
    "Mauricio Tombini, Jordan Jalving, and Victor M. Zavala 2016 \n",
    "\n",
    "University of Wisconsin-Madison "
   ]
  },
  {
   "cell_type": "code",
   "execution_count": null,
   "metadata": {
    "collapsed": false
   },
   "outputs": [],
   "source": [
    "# Loading packages:\n",
    "using JuMP \n",
    "using Distributions \n",
    "using Ipopt\n",
    "using Gadfly\n",
    "set_default_plot_size(20cm, 15cm)"
   ]
  },
  {
   "cell_type": "code",
   "execution_count": null,
   "metadata": {
    "collapsed": false
   },
   "outputs": [],
   "source": [
    "# Generate random data: \n",
    "N = 1000\n",
    "srand(0)\n",
    "μ = 0; σ = 2; \n",
    "d = Normal(μ,σ)\n",
    "R = rand(d,N);"
   ]
  },
  {
   "cell_type": "code",
   "execution_count": null,
   "metadata": {
    "collapsed": false
   },
   "outputs": [],
   "source": [
    "# Plotting:\n",
    "p = plot(x = R, Geom.histogram(bincount = 30),Guide.XLabel(\"ξ\"), Guide.YLabel(\"p(ξ)\"))\n",
    "#draw(PDF(\"myplot.pdf\", 6inch, 3inch), p)\n",
    "p"
   ]
  },
  {
   "cell_type": "markdown",
   "metadata": {},
   "source": [
    "## Ex1Gauss"
   ]
  },
  {
   "cell_type": "code",
   "execution_count": null,
   "metadata": {
    "collapsed": false
   },
   "outputs": [],
   "source": [
    "# ex1gauss.mod \n",
    "function ex1GaussModel(xip)\n",
    "    m = Model(solver=IpoptSolver(print_level=0))\n",
    "    @variable(m, x)\n",
    "    @objective(m, Min, (x-xip)^2 - x*xip)\n",
    "    solve(m)\n",
    "    obj = getobjectivevalue(m)\n",
    "    x = getvalue(x)\n",
    "    return obj,x\n",
    "end\n",
    "        \n",
    "# solve problems with data points\n",
    "solex1gauss = zeros(N)\n",
    "solxex1gauss = zeros(N)\n",
    "\n",
    "for i=1:N \n",
    "    (solex1gauss[i], solxex1gauss[i]) = ex1GaussModel(R[i])\n",
    "end "
   ]
  },
  {
   "cell_type": "code",
   "execution_count": null,
   "metadata": {
    "collapsed": false
   },
   "outputs": [],
   "source": [
    "# Plotting: \n",
    "sol = solex1gauss;\n",
    "solx = solxex1gauss;\n",
    "p = plot(x = sol, Geom.histogram(bincount = 30),Guide.XLabel(\"f(x<sup>*</sup>(ξ),ξ)\"), Guide.YLabel(\"p(f(⋅))\"))\n",
    "#draw(PDF(\"ex1solgauss.pdf\", 6inch, 3inch), p)\n",
    "p"
   ]
  },
  {
   "cell_type": "code",
   "execution_count": null,
   "metadata": {
    "collapsed": false
   },
   "outputs": [],
   "source": [
    "p = plot(x = solx, Geom.histogram(bincount = 30),Guide.XLabel(\"x<sup>*</sup>(ξ)\"), Guide.YLabel(\"p(x<sup>*</sup>(ξ))\"))\n",
    "#draw(PDF(\"ex1solxgauss.pdf\", 6inch, 3inch), p)\n",
    "p"
   ]
  },
  {
   "cell_type": "markdown",
   "metadata": {},
   "source": [
    "## Ex1 Gauss with Constraints"
   ]
  },
  {
   "cell_type": "code",
   "execution_count": null,
   "metadata": {
    "collapsed": false
   },
   "outputs": [],
   "source": [
    "# ex1gausscons.mod\n",
    "\n",
    "function ex1GaussConsModel(xip)\n",
    "    m = Model(solver=IpoptSolver(print_level=0))\n",
    "    @variable(m, -1 <= x <= 1)\n",
    "    @objective(m, Min, (x-xip)^2 - x*xip)\n",
    "    \n",
    "    solve(m)\n",
    "    obj = getobjectivevalue(m)\n",
    "    x = getvalue(x)\n",
    "    \n",
    "    return obj,x\n",
    "end\n",
    "        \n",
    "# solve problems with data points\n",
    "solex1gausscons = zeros(N)\n",
    "solxex1gausscons = zeros(N)\n",
    "\n",
    "for i=1:N \n",
    "    (solex1gausscons[i], solxex1gausscons[i]) = ex1GaussConsModel(R[i])\n",
    "end "
   ]
  },
  {
   "cell_type": "code",
   "execution_count": null,
   "metadata": {
    "collapsed": false
   },
   "outputs": [],
   "source": [
    "# Plotting: \n",
    "sol = solex1gausscons\n",
    "solx = solxex1gausscons\n",
    "p = plot(x = sol, Geom.histogram(bincount = 30),Guide.XLabel(\"f(x<sup>*</sup>(ξ),ξ)\"), Guide.YLabel(\"p(f(x<sup>*</sup>(ξ),ξ))\"))\n",
    "#draw(PDF(\"ex1solgausscons.pdf\", 6inch, 3inch), p)\n",
    "p"
   ]
  },
  {
   "cell_type": "code",
   "execution_count": null,
   "metadata": {
    "collapsed": false
   },
   "outputs": [],
   "source": [
    "p = plot(x = solx, Geom.histogram(bincount = 30),Guide.XLabel(\"x<sup>*</sup>(ξ)\"), Guide.YLabel(\"p(x<sup>*</sup>(ξ))\"))\n",
    "#draw(PDF(\"ex1solxgausscons.pdf\", 6inch, 3inch), p)\n",
    "p"
   ]
  }
 ],
 "metadata": {
  "anaconda-cloud": {},
  "kernelspec": {
   "display_name": "Julia 0.4.5",
   "language": "julia",
   "name": "julia-0.4"
  },
  "language_info": {
   "file_extension": ".jl",
   "mimetype": "application/julia",
   "name": "julia",
   "version": "0.4.5"
  }
 },
 "nbformat": 4,
 "nbformat_minor": 0
}
