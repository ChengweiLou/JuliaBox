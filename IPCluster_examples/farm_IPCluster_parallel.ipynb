{
 "cells": [
  {
   "cell_type": "code",
   "execution_count": 1,
   "metadata": {
    "collapsed": false
   },
   "outputs": [
    {
     "name": "stdout",
     "output_type": "stream",
     "text": [
      "[0/2] create problem \n",
      "[1/2] create problem \n",
      "-----------------------------------------------\n",
      "IP Solver\n",
      "V.M. Zavala, Argonne National Laboratory, 2012\n",
      "-----------------------------------------------\n",
      "  Scenarios ======= 10000\n",
      "  Variables ======= 90004 | 1st Stage = 4 | 2nd Stage = 90000\n",
      "  Equality Cons === 30001 | 1st Stage = 1 | 2nd Stage = 30000\n",
      "  Inequality Cons = 110004 | 1st Stage = 4 | 2nd Stage = 110000\n",
      "check point 0. Start \n",
      "check point 0. Start \n",
      "Hello world from process 0 of 2\n",
      "check point 1. Before calling solver \n",
      "Hello world from process 1 of 2\n",
      "check point 1. Before calling solver \n",
      "iter      objective      inf_pr      inf_du     lg(mu)      alpha     |C|    itla \n",
      "   0    0.0000000e+00   5.00e+02   1.37e+07   6.39e+00   0.00e+00       0       0\n",
      "   1    1.8056443e+05   2.31e+02   3.56e+06   5.84e+00   5.37e-01     100       3\n",
      "   2    5.3158647e+05   2.07e+02   5.72e+09   5.84e+00   1.06e-01     100       3\n",
      "   3    5.1394011e+05   2.05e+02   6.30e+09   5.83e+00   9.74e-03     100       3\n",
      "   4    4.2015405e+05   2.03e+02   1.25e+10   5.89e+00   9.80e-03     100       3\n",
      "   5    6.2522939e+05   1.60e+01   2.37e+09   5.05e+00   9.21e-01     100       3\n",
      "   6    6.8323823e+05   6.49e-01   1.85e+08   3.89e+00   9.59e-01     100       3\n",
      "   7    6.7386867e+05   3.75e-03   9.97e+05   1.67e+00   9.94e-01     100       3\n",
      "   8    1.3966456e+05   2.38e-05   8.78e+04   5.69e-01   9.94e-01     100       3\n",
      "   9    1.1990868e+05   1.93e-05   6.75e+04   5.23e-01   1.89e-01     100       3\n",
      "  10    9.5882216e+04   1.68e-05   6.98e+04   5.67e-01   1.31e-01     100       3\n",
      "  11   -2.0182478e+04   3.63e-06   2.39e+04   1.54e-01   7.84e-01     100       3\n",
      "  12   -4.1502253e+04   3.47e-06   2.82e+04   1.97e-01   4.46e-02     100      11\n",
      "  13   -3.5326404e+04   2.72e-06   2.30e+04   1.90e-01   2.16e-01     100       8\n",
      "  14   -1.0376485e+04   6.14e-07   2.41e+04   2.25e-01   7.74e-01     100      11\n",
      "  15   -2.4363303e+04   2.83e-07   1.33e+04   1.35e-01   5.39e-01     100      11\n",
      "  16   -3.8601752e+04   1.61e-07   7.71e+03   2.88e-02   4.31e-01     100      11\n",
      "  17   -8.2497424e+04   5.12e-08   1.17e+03  -5.17e-01   6.82e-01     100      11\n",
      "  18   -9.7241292e+04   9.00e-09   4.92e+02  -9.49e-01   8.24e-01     100      11\n",
      "  19   -1.0113570e+05   2.75e-09   1.60e+02  -1.31e+00   6.95e-01     100      11\n",
      "  20   -1.0356377e+05   4.39e-10   4.29e+01  -1.90e+00   8.40e-01     100       3\n",
      "  21   -1.0399190e+05   1.15e-10   1.55e+01  -2.29e+00   7.39e-01     100       3\n",
      "  22   -1.0416285e+05   3.11e-11   6.55e+00  -2.66e+00   7.28e-01     100      11\n",
      "  23   -1.0421529e+05   1.13e-11   3.67e+00  -2.91e+00   6.38e-01     100      11\n",
      "  24   -1.0424950e+05   3.30e-12   3.13e-02  -3.59e+00   7.03e-01     100      11\n",
      "  25   -1.0426849e+05   1.82e-12   3.43e-03  -4.42e+00   8.91e-01     100      11\n",
      "  26   -1.0427156e+05   1.82e-12   3.46e-05  -5.66e+00   9.90e-01     100      11\n",
      "  27   -1.0427164e+05   1.36e-12   9.97e-06  -6.38e+00   7.14e-01     100      11\n",
      "totalKSPiter  272average iteration 9.00e+00\n",
      "Factorization_K_time 6.47e-02\n",
      "Backsolve_time  2.99e-02\n",
      "Factorization_Kw_s_time 4.56e+00\n",
      "KSP_time 7.68e+00\n",
      "Cluster_time 1.49e+01\n",
      "Block_Backsolve_time 4.35e+00\n",
      "Block_Backsolve 3376693\n",
      "MatrixMult_time  1.06e+00\n",
      "Test_time  0.00e+00\n",
      "PC_0_time 5.93e+00\n",
      "PC_1_time 0.00e+00\n",
      "W_time 5.58e+00\n",
      "Elapsed Time =2.98e+01(s)\n"
     ]
    }
   ],
   "source": [
    "run(`mpirun -np 2 /opt/julia-0.4.2/bin/julia farm_IPCluster.jl`)"
   ]
  },
  {
   "cell_type": "code",
   "execution_count": null,
   "metadata": {
    "collapsed": true
   },
   "outputs": [],
   "source": []
  }
 ],
 "metadata": {
  "kernelspec": {
   "display_name": "Julia 0.4.2",
   "language": "julia",
   "name": "julia-0.4"
  },
  "language_info": {
   "file_extension": ".jl",
   "mimetype": "application/julia",
   "name": "julia",
   "version": "0.4.2"
  }
 },
 "nbformat": 4,
 "nbformat_minor": 0
}
