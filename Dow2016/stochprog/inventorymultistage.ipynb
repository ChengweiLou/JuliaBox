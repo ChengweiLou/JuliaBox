{
 "cells": [
  {
   "cell_type": "markdown",
   "metadata": {},
   "source": [
    "Multi-stage inventory problem\n",
    "\n",
    "Victor M. Zavala 2016 \n",
    "\n",
    "University of Wisconsin-Madison  "
   ]
  },
  {
   "cell_type": "code",
   "execution_count": 123,
   "metadata": {
    "collapsed": true
   },
   "outputs": [],
   "source": [
    "using JuMP \n",
    "using Ipopt "
   ]
  },
  {
   "cell_type": "code",
   "execution_count": 124,
   "metadata": {
    "collapsed": false
   },
   "outputs": [
    {
     "ename": "LoadError",
     "evalue": "LoadError: TypeError: Dict: in parameter, expected Type{T}, got Array{Int64,1}\nwhile loading In[124], in expression starting on line 7",
     "output_type": "error",
     "traceback": [
      "LoadError: TypeError: Dict: in parameter, expected Type{T}, got Array{Int64,1}\nwhile loading In[124], in expression starting on line 7",
      ""
     ]
    }
   ],
   "source": [
    "# Model parameters\n",
    "NST =3;\n",
    "STAGE = collect(1:NST);\n",
    "SCEN0 = collect(1:1);\n",
    "SCENK = collect(1:2);\n",
    "\n",
    "Demd = Dict()\n",
    "\n",
    "# construct scenario tree\n",
    "Dem=zeros(length(STAGE),length(SCEN0),length(SCENK),length(SCENK))\n",
    "  p=zeros(length(SCEN0),length(SCENK),length(SCENK))\n",
    "for st in STAGE, i in SCEN0, j in SCENK, k in SCENK\n",
    "    p[i,j,k]=1/4;\n",
    "    if st == 1 && i == 1\n",
    "    Dem[st,i,j,k]=0.0\n",
    "    end\n",
    "    if st == 2 && i == 1 && j == 1\n",
    "    Dem[st,i,j,k]=5.0\n",
    "    end\n",
    "    if st == 2 && i == 1 && j == 2\n",
    "    Dem[st,i,j,k]=25.0\n",
    "    end\n",
    "    if st == 3 && i == 1 && j == 1 && k == 1\n",
    "    Dem[st,i,j,k]=0.0\n",
    "    end\n",
    "    if st == 3 && i == 1 && j == 1 && k == 2\n",
    "    Dem[st,i,j,k]=25.0\n",
    "    end\n",
    "    if st == 3 && i == 1 && j == 2 && k == 1\n",
    "    Dem[st,i,j,k]=50.0\n",
    "    end   \n",
    "    if st == 3 && i == 1 && j == 2 && k == 2\n",
    "    Dem[st,i,j,k]=25.0\n",
    "    end       \n",
    "end"
   ]
  },
  {
   "cell_type": "code",
   "execution_count": 125,
   "metadata": {
    "collapsed": false
   },
   "outputs": [
    {
     "data": {
      "text/plain": [
       ":Optimal"
      ]
     },
     "execution_count": 125,
     "metadata": {},
     "output_type": "execute_result"
    }
   ],
   "source": [
    "# Create Model (standard)\n",
    "m = Model(solver=IpoptSolver(print_level=0))\n",
    "\n",
    "@variable(m, 0<=Inv[STAGE,SCEN0,SCENK,SCENK] <=1000)    \n",
    "@variable(m, 0<=Buy[STAGE,SCEN0,SCENK,SCENK] <=25)\n",
    "\n",
    "@objective(m, Min,  sum{p[i,j,k]*Buy[st,i,j,k], st in STAGE, i in SCEN0, j in SCENK, k in SCENK}\n",
    "                  + sum{ p[i,j,k]*Inv[1,i,j,k],              i in SCEN0, j in SCENK, k in SCENK})\n",
    "\n",
    "@constraint(m, consinv[st in 1:NST-1,i in SCEN0,j in SCENK,k in SCENK], \n",
    "               Inv[st+1,i,j,k] == Inv[st,i,j,k] + Buy[st,i,j,k] - Dem[st,i,j,k])\n",
    "\n",
    "# non-anticipativity stage 1\n",
    "@constraint(m,  nonantInv1[st in STAGE,i in SCEN0,j in SCENK,k in SCENK; st==1 && i==1],Inv[st,i,j,k] == Inv[st,1,1,1])\n",
    "@constraint(m,  nonantBuy1[st in STAGE,i in SCEN0,j in SCENK,k in SCENK; st==1 && i==1],Buy[st,i,j,k] == Buy[st,1,1,1])\n",
    "\n",
    "# non-anticipativity stage 2\n",
    "@constraint(m, nonantBuy21[st in STAGE,i in SCEN0,j in SCENK,k in SCENK; st==2 && i==1 && j==1],Buy[st,i,j,k] == Buy[st,1,1,1])\n",
    "@constraint(m, nonantBuy22[st in STAGE,i in SCEN0,j in SCENK,k in SCENK; st==2 && i==1 && j==2],Buy[st,i,j,k] == Buy[st,1,2,1])\n",
    "\n",
    "# terminal constraint\n",
    "@constraint(m,    finalInv[ i in SCEN0,j in SCENK,k in SCENK],Inv[NST,i,j,k]==100)\n",
    "\n",
    "solve(m)"
   ]
  },
  {
   "cell_type": "code",
   "execution_count": 126,
   "metadata": {
    "collapsed": false
   },
   "outputs": [
    {
     "name": "stdout",
     "output_type": "stream",
     "text": [
      "Buy: 4 dimensions:\n",
      "[1,:,:,:]\n",
      "  [1,1,:,:]\n",
      "    [1,1,1,:]\n",
      "      [1,1,1,1] = 11.166105824213341\n",
      "      [1,1,1,2] = 11.166105824176794\n",
      "    [1,1,2,:]\n",
      "      [1,1,2,1] = 11.166105824260331\n",
      "      [1,1,2,2] = 11.166105824260331\n",
      "[2,:,:,:]\n",
      "  [2,1,:,:]\n",
      "    [2,1,1,:]\n",
      "      [2,1,1,1] = 2.956457913735106\n",
      "      [2,1,1,2] = 2.956457913745548\n",
      "    [2,1,2,:]\n",
      "      [2,1,2,1] = 22.95645791332787\n",
      "      [2,1,2,2] = 22.95645791332787\n",
      "[3,:,:,:]\n",
      "  [3,1,:,:]\n",
      "    [3,1,1,:]\n",
      "      [3,1,1,1] = 0.38831141321459295\n",
      "      [3,1,1,2] = 0.38831141321459295\n",
      "    [3,1,2,:]\n",
      "      [3,1,2,1] = 0.38831141321459295\n",
      "      [3,1,2,2] = 0.38831141321459295\n",
      "\n",
      "Inv: 4 dimensions:\n",
      "[1,:,:,:]\n",
      "  [1,1,:,:]\n",
      "    [1,1,1,:]\n",
      "      [1,1,1,1] = 90.8774362622235\n",
      "      [1,1,1,2] = 90.87743626218696\n",
      "    [1,1,2,:]\n",
      "      [1,1,2,1] = 90.87743626227049\n",
      "      [1,1,2,2] = 90.87743626227049\n",
      "[2,:,:,:]\n",
      "  [2,1,:,:]\n",
      "    [2,1,1,:]\n",
      "      [2,1,1,1] = 102.0435420863795\n",
      "      [2,1,1,2] = 102.04354208632729\n",
      "    [2,1,2,:]\n",
      "      [2,1,2,1] = 102.0435420865779\n",
      "      [2,1,2,2] = 102.0435420865779\n",
      "[3,:,:,:]\n",
      "  [3,1,:,:]\n",
      "    [3,1,1,:]\n",
      "      [3,1,1,1] = 100.0000000000573\n",
      "      [3,1,1,2] = 100.00000000003642\n",
      "    [3,1,2,:]\n",
      "      [3,1,2,1] = 99.99999999995289\n",
      "      [3,1,2,2] = 99.99999999995289\n",
      "\n",
      "obj 115.38831141321424\n"
     ]
    }
   ],
   "source": [
    "# Results\n",
    "println(getvalue(Buy))\n",
    "println(getvalue(Inv))\n",
    "println(\"obj \",getobjectivevalue(m))"
   ]
  },
  {
   "cell_type": "code",
   "execution_count": null,
   "metadata": {
    "collapsed": true
   },
   "outputs": [],
   "source": []
  }
 ],
 "metadata": {
  "kernelspec": {
   "display_name": "Julia 0.4.5",
   "language": "julia",
   "name": "julia-0.4"
  },
  "language_info": {
   "file_extension": ".jl",
   "mimetype": "application/julia",
   "name": "julia",
   "version": "0.4.5"
  }
 },
 "nbformat": 4,
 "nbformat_minor": 0
}
