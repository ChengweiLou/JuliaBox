{
 "cells": [
  {
   "cell_type": "code",
   "execution_count": 16,
   "metadata": {},
   "outputs": [
    {
     "name": "stdout",
     "output_type": "stream",
     "text": [
      "Min 80000 Qs + 20000 Qw\n",
      "Subject to\n",
      " Rs1 + Qs11 - Qs = 0\n",
      " Qs11 = 30\n",
      " R12 + Q112 = 60\n",
      " Rs2 - Rs1 + Qs12 = 0\n",
      " Qs12 + Q112 = 90\n",
      " R13 - R12 + Q113 + Q123 = 160\n",
      " R23 + Q213 + Q223 = 320\n",
      " Rs3 - Rs2 + Qs13 + Qs23 = 0\n",
      " Q113 + Q213 + Qs13 = 240\n",
      " Q123 + Q223 + Qs23 = 117\n",
      " -R13 + Q124 + Q1w4 = 60\n",
      " -R23 + Q224 + Q2w4 = 120\n",
      " -Rs3 + Qs24 = 0\n",
      " Q124 + Q224 + Qs24 = 78\n",
      " Q1w4 + Q2w4 - Qw = 0\n",
      " Q112 = 0\n",
      " Q113 = 0\n",
      " Qs ≥ 0\n",
      " Qw ≥ 0\n",
      " Rs1 ≥ 0\n",
      " Qs11 ≥ 0\n",
      " R12 ≥ 0\n",
      " Q112 ≥ 0\n",
      " Rs2 ≥ 0\n",
      " Qs12 ≥ 0\n",
      " R13 ≥ 0\n",
      " Q113 ≥ 0\n",
      " Q123 ≥ 0\n",
      " R23 ≥ 0\n",
      " Q213 ≥ 0\n",
      " Q223 ≥ 0\n",
      " Rs3 ≥ 0\n",
      " Qs13 ≥ 0\n",
      " Qs23 ≥ 0\n",
      " Q124 ≥ 0\n",
      " Q1w4 ≥ 0\n",
      " Q224 ≥ 0\n",
      " Q2w4 ≥ 0\n",
      " Qs24 ≥ 0\n"
     ]
    }
   ],
   "source": [
    "#Example 16.3\n",
    "#Using table 16.4\n",
    "m = Model(solver = GurobiSolver(OutputFlag = 0))\n",
    "@variables m begin\n",
    "    Qs >= 0\n",
    "    Qw >= 0\n",
    "    Rs1 >= 0\n",
    "    Qs11 >= 0\n",
    "    R12 >= 0\n",
    "    Q112 >= 0\n",
    "    Rs2 >= 0\n",
    "    Qs12 >= 0\n",
    "    R13 >= 0\n",
    "    Q113 >= 0\n",
    "    Q123 >= 0\n",
    "    R23 >= 0\n",
    "    Q213 >= 0\n",
    "    Q223 >= 0\n",
    "    Rs3 >= 0\n",
    "    Qs13 >= 0\n",
    "    Qs23 >= 0\n",
    "    Q124 >= 0\n",
    "    Q1w4 >= 0\n",
    "    Q224 >= 0\n",
    "    Q2w4 >= 0\n",
    "    Qs24 >= 0  \n",
    "end\n",
    "@constraint(m, Rs1 + Qs11 -Qs ==0);\n",
    "@constraint(m, Qs11 == 30);\n",
    "@constraint(m, R12 +Q112 == 60);\n",
    "@constraint(m, Rs2-Rs1+Qs12 == 0);\n",
    "@constraint(m, Qs12 +Q112 == 90);\n",
    "@constraint(m, R13-R12+Q113+Q123 == 160);\n",
    "@constraint(m, R23 +Q213+Q223==320);\n",
    "@constraint(m, Rs3-Rs2+Qs13+Qs23 == 0);\n",
    "@constraint(m, Q113 +Q213+Qs13 == 240);\n",
    "@constraint(m, Q123+Q223+Qs23 == 117);\n",
    "@constraint(m, -R13+Q124+Q1w4 == 60);\n",
    "@constraint(m, -R23+Q224+Q2w4 == 120);\n",
    "@constraint(m, -Rs3+Qs24 == 0);\n",
    "@constraint(m, Q124+Q224+Qs24 == 78);\n",
    "@constraint(m, Q1w4+Q2w4-Qw == 0);\n",
    "@constraint(m, Q112 == 0);\n",
    "@constraint(m, Q113 == 0);\n",
    "@objective(m, Min, 80000Qs+20000Qw);\n",
    "print(m)"
   ]
  },
  {
   "cell_type": "code",
   "execution_count": 17,
   "metadata": {},
   "outputs": [
    {
     "name": "stdout",
     "output_type": "stream",
     "text": [
      "Academic license - for non-commercial use only\n",
      "Qs = 120.0\n",
      "Qw = 285.0\n",
      "Cost = 1.53e7\n"
     ]
    }
   ],
   "source": [
    "solve(m);\n",
    "println(\"Qs = \", getvalue(sum(Qs)));\n",
    "println(\"Qw = \", getvalue(sum(Qw)));\n",
    "println(\"Cost = \", getobjectivevalue(M));"
   ]
  },
  {
   "cell_type": "code",
   "execution_count": 18,
   "metadata": {
    "collapsed": true
   },
   "outputs": [],
   "source": [
    "#Import data, defind sets and dictionary\n",
    "Data = readcsv(\"Eg_16.1.csv\");\n",
    "S = [\"HP\"];\n",
    "W = [\"CW\"];\n",
    "K = length(Data[1,:])-1;\n",
    "Sk = [[\"HP\"],[],[],[]];\n",
    "Wk = [[],[],[],[\"CW\"]];\n",
    "Hk = [[],[\"H1\"],[\"H1\",\"H2\"],[\"H1\",\"H2\"]];\n",
    "Ck = [[\"C1\"],[\"C1\"],[\"C1\",\"C2\"],[\"C2\"]];\n",
    "H = [\"H1\",\"H2\"];\n",
    "C = [\"C1\",\"C2\"];\n",
    "Q = Dict((\"H1\",1) => 0.1)\n",
    "for i in 1:4\n",
    "    for j in 1:4\n",
    "        Q[(Data[i,1],j)] = Data[i,j+1];\n",
    "    end\n",
    "end\n",
    "Hk2 = [[],[\"H1\"],[\"H1\",\"H2\"],[\"H1\",\"H2\"]];\n",
    "Sk2 = [[\"HP\"],[\"HP\"],[\"HP\"],[\"HP\"]];"
   ]
  },
  {
   "cell_type": "code",
   "execution_count": 19,
   "metadata": {},
   "outputs": [
    {
     "name": "stdout",
     "output_type": "stream",
     "text": [
      "Min 80000 Qs[HP] + 20000 Qw[CW]\n",
      "Subject to\n",
      " Rki[1,H1] = 0\n",
      " Rki[1,H2] = 0\n",
      " Rki[2,H2] = 0\n",
      " Rki[2,H1] - Rki[1,H1] + Qkij[2,H1,C1] = 60\n",
      " Rki[3,H1] - Rki[2,H1] + Qkij[3,H1,C1] + Qkij[3,H1,C2] = 160\n",
      " Rki[3,H2] - Rki[2,H2] + Qkij[3,H2,C1] + Qkij[3,H2,C2] = 320\n",
      " Rki[4,H1] - Rki[3,H1] + Qkij[4,H1,C2] + Qkin[4,H1,CW] = 60\n",
      " Rki[4,H2] - Rki[3,H2] + Qkij[4,H2,C2] + Qkin[4,H2,CW] = 120\n",
      " Rkm[1,HP] - Rkm[0,HP] + Qkmj[1,HP,C1] - Qs[HP] = 0\n",
      " Rkm[2,HP] - Rkm[1,HP] + Qkmj[2,HP,C1] = 0\n",
      " Rkm[3,HP] - Rkm[2,HP] + Qkmj[3,HP,C1] + Qkmj[3,HP,C2] = 0\n",
      " Rkm[4,HP] - Rkm[3,HP] + Qkmj[4,HP,C2] = 0\n",
      " Qkmj[1,HP,C1] = 30\n",
      " Qkij[2,H1,C1] + Qkmj[2,HP,C1] = 90\n",
      " Qkij[3,H1,C1] + Qkij[3,H2,C1] + Qkmj[3,HP,C1] = 240\n",
      " Qkij[3,H1,C2] + Qkij[3,H2,C2] + Qkmj[3,HP,C2] = 117\n",
      " Qkij[4,H1,C2] + Qkij[4,H2,C2] + Qkmj[4,HP,C2] = 78\n",
      " Qkin[4,H1,CW] + Qkin[4,H2,CW] - Qw[CW] = 0\n",
      " Rki[0,H1] = 0\n",
      " Rki[0,H2] = 0\n",
      " Rki[4,H1] = 0\n",
      " Rki[4,H2] = 0\n",
      " Rkm[0,HP] = 0\n",
      " Rkm[4,HP] = 0\n",
      " Qkij[2,H1,C1] = 0\n",
      " Qkij[3,H1,C1] = 0\n",
      " Qs[i] ≥ 0 ∀ i ∈ {HP}\n",
      " Qw[i] ≥ 0 ∀ i ∈ {CW}\n",
      " Qkij[k,i,j] ≥ 0 ∀ k ∈ {1,2,3,4}, i ∈ {…}, j ∈ {…}\n",
      " Qkmj[k,m,j] ≥ 0 ∀ k ∈ {1,2,3,4}, m ∈ {…}, j ∈ {…}\n",
      " Qkin[k,i,n] ≥ 0 ∀ k ∈ {1,2,3,4}, i ∈ {…}, n ∈ {…}\n",
      " Rki[k,i] ≥ 0 ∀ k ∈ {0,1,2,3,4}, i ∈ {H1,H2}\n",
      " Rkm[k,m] ≥ 0 ∀ k ∈ {0,1,2,3,4}, m ∈ {HP}\n"
     ]
    }
   ],
   "source": [
    "# Structured modeling, equation (16.9)\n",
    "using JuMP\n",
    "using Gurobi\n",
    "M = Model(solver = GurobiSolver(OutputFlag = 0));\n",
    "@variable(M, Qs[S] >= 0);\n",
    "@variable(M, Qw[W] >= 0);\n",
    "@variable(M, Qkij[k=1:K,i=Hk2[k],j=Ck[k]] >= 0);\n",
    "@variable(M, Qkmj[k=1:K,m=Sk2[k],j=Ck[k]] >= 0);\n",
    "@variable(M, Qkin[k=1:K,i=Hk2[k],n=Wk[k]] >= 0);\n",
    "@variable(M, Rki[k=0:K,i in H] >= 0); # Define all possible Rki, otherwise term 'Rki[k-1,i]' wil cause trouble\n",
    "@variable(M, Rkm[k=0:K,m in S] >= 0); # Same reason\n",
    "# Force nonexistent Rki, Rkm to be zero\n",
    "for k in 1:K\n",
    "   for ii in H\n",
    "        if in(ii,Hk2[k]) == 0\n",
    "          @constraint(M, Rki[k,ii] == 0);\n",
    "        end\n",
    "    end\n",
    "    for ii in S\n",
    "        if in(ii,Sk2[k]) == 0\n",
    "          @constraint(M, Rkm[k,ii] == 0);\n",
    "        end\n",
    "    end\n",
    "end\n",
    "@objective(M, Min, 80000*sum(Qs[m] for m in S) + 20000*sum(Qw[n] for n in W));\n",
    "@constraint(M, [k in 1:K, i in Hk2[k]], Rki[k,i] - Rki[k-1,i] + sum(Qkij[k,i,j] for j in Ck[k]) + sum(Qkin[k,i,n] for n in Wk[k]) == Q[i,k]);\n",
    "@constraint(M, [k in 1:K, m in Sk2[k]], Rkm[k,m] - Rkm[k-1,m] + sum(Qkmj[k,m,j] for j in Ck[k]) - sum(Qs[m] for m in Sk[k]) == 0);  \n",
    "@constraint(M, [k in 1:K, j in Ck[k]], sum(Qkij[k,i,j] for i in Hk2[k]) +sum(Qkmj[k,m,j] for m in Sk2[k]) == Q[j,k]);                            \n",
    "@constraint(M, [k in 1:K, n in Wk[k]], sum(Qkin[k,i,n] for i in Hk2[k]) - Qw[n] == 0);                            \n",
    "@constraint(M, [i in H], Rki[0,i] == 0);                            \n",
    "@constraint(M, [i in H], Rki[K,i] == 0);                           \n",
    "@constraint(M, [m in S], Rkm[0,m] == 0);\n",
    "@constraint(M, [m in S], Rkm[K,m] == 0);                            \n",
    "@constraint(M, Qkij[2,\"H1\",\"C1\"] == 0);\n",
    "@constraint(M, Qkij[3,\"H1\",\"C1\"] == 0);\n",
    "print(M);               "
   ]
  },
  {
   "cell_type": "code",
   "execution_count": 20,
   "metadata": {},
   "outputs": [
    {
     "name": "stdout",
     "output_type": "stream",
     "text": [
      "Academic license - for non-commercial use only\n",
      "Qs = 120.0\n",
      "Qw = 285.0\n",
      "Cost = 1.53e7\n"
     ]
    }
   ],
   "source": [
    "solve(M);\n",
    "println(\"Qs = \", getvalue(sum(Qs)));\n",
    "println(\"Qw = \", getvalue(sum(Qw)));\n",
    "println(\"Cost = \", getobjectivevalue(M));"
   ]
  }
 ],
 "metadata": {
  "kernelspec": {
   "display_name": "Julia 0.5.2",
   "language": "julia",
   "name": "julia-0.5"
  },
  "language_info": {
   "file_extension": ".jl",
   "mimetype": "application/julia",
   "name": "julia",
   "version": "0.5.2"
  }
 },
 "nbformat": 4,
 "nbformat_minor": 2
}
