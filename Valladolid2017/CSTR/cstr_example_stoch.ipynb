{
 "cells": [
  {
   "cell_type": "markdown",
   "metadata": {},
   "source": [
    "IPOPT Tutorial Example\n",
    "\n",
    "Victor M. Zavala 2016 \n",
    "\n",
    "University of Wisconsin-Madison  "
   ]
  },
  {
   "cell_type": "code",
   "execution_count": 20,
   "metadata": {
    "collapsed": true
   },
   "outputs": [],
   "source": [
    "using JuMP \n",
    "using Ipopt "
   ]
  },
  {
   "cell_type": "code",
   "execution_count": 21,
   "metadata": {
    "collapsed": false
   },
   "outputs": [],
   "source": [
    "# Model \n",
    "m = Model(solver=IpoptSolver(tol = 1e-8, max_iter = 100,linear_solver =\"mumps\",mu_strategy=\"monotone\"))\n",
    "\n",
    "NS=3\n",
    "S=collect(1:3)\n",
    "Cai=zeros(NS)\n",
    "pr=zeros(NS)\n",
    "\n",
    "Cai[1]=15\n",
    "Cai[2]=10\n",
    "Cai[3]=20\n",
    "pr[1]=0.7\n",
    "pr[2]=0.2\n",
    "pr[3]=0.1\n",
    "\n",
    "Ti=20\n",
    "Tci=15\n",
    "rol= 800.8\n",
    "cel=0.968\n",
    "ror=1041.1\n",
    "cer=1.291\n",
    "U=6129\n",
    "Ea=6867.36\n",
    "R=8.314\n",
    "Beta=5.967\n",
    "H=69710.5\n",
    "V=38.3\n",
    "A=24\n",
    "\n",
    "@variable(m,  0.5 <= q <= 15, start= 2.83)    \n",
    "@variable(m, 20 <= T[S] <= 200, start = 73.3)\n",
    "@variable(m, 10 <= Tc[S] <= 69, start =63.31)\n",
    "@variable(m, 0.9 <= Ca[S] <= 16, start = 1.866)\n",
    "@variable(m, 5 <= Cb[S] <= 30, start = 13.1339)\n",
    "@variable(m, 20 <= F[S] <= 600, start = 450)\n",
    "@variable(m, 0.7 <= x[S] <= 0.9, start = 0.87) \n",
    "@variable(m, k[S], start = 0.54) \n",
    "@variable(m, cost[S]) \n",
    "\n",
    "@NLconstraint(m, balca[s in S], q*(Cai[s] - Ca[s]) - V*k[s]*Ca[s] == 0) \n",
    "@NLconstraint(m, balcb[s in S], V*k[s]*Ca[s] - q*Cb[s] == 0) \n",
    "\n",
    "@NLconstraint(m, balcT[s in S], \n",
    "    q*rol*cel*(Ti - T[s]) + V*k[s]*Ca[s]*H - (U*A)*(T[s]- Tc[s]) == 0) \n",
    "\n",
    "@NLconstraint(m, balcTc[s in S], F[s]*ror*cer*(Tci - Tc[s]) + U*A*(T[s] - Tc[s]) == 0) \n",
    "\n",
    "@NLconstraint(m, arrhenius[s in S], k[s] - Beta*exp(-Ea/(R*(T[s]+273.15))) == 0) \n",
    "\n",
    "@NLconstraint(m, conv[s in S], Ca[s] - Cai[s]*(1-x[s]) == 0) \n",
    "\n",
    "@constraint(m, approach[s in S], T[s] - Tc[s] >= 5) \n",
    "@constraint(m, restime1, V <= 25*q) \n",
    "@constraint(m, restime2, 15*q <= V) \n",
    "\n",
    "@NLconstraint(m, costeq[s in S], cost[s]==100*q*Cb[s] - 80*q*Cai[s]) \n",
    "\n",
    "@NLobjective(m, Max, sum(pr[s]*cost[s] for s in S))\n",
    "\n",
    "# print model\n",
    "#println(\"\\n\")\n",
    "#print(m)\n",
    "#println(\"\\n\")"
   ]
  },
  {
   "cell_type": "code",
   "execution_count": 22,
   "metadata": {
    "collapsed": false
   },
   "outputs": [
    {
     "name": "stdout",
     "output_type": "stream",
     "text": [
      "This is Ipopt version 3.12.1, running with linear solver mumps.\n",
      "NOTE: Other linear solvers might be more efficient (see Ipopt documentation).\n",
      "\n",
      "Number of nonzeros in equality constraint Jacobian...:       66\n",
      "Number of nonzeros in inequality constraint Jacobian.:        8\n",
      "Number of nonzeros in Lagrangian Hessian.............:       72\n",
      "\n",
      "Total number of variables............................:       25\n",
      "                     variables with only lower bounds:        0\n",
      "                variables with lower and upper bounds:       19\n",
      "                     variables with only upper bounds:        0\n",
      "Total number of equality constraints.................:       21\n",
      "Total number of inequality constraints...............:        5\n",
      "        inequality constraints with only lower bounds:        3\n",
      "   inequality constraints with lower and upper bounds:        0\n",
      "        inequality constraints with only upper bounds:        2\n",
      "\n",
      "iter    objective    inf_pr   inf_du lg(mu)  ||d||  lg(rg) alpha_du alpha_pr  ls\n",
      "   0 -0.0000000e+00 2.77e+07 2.14e-01  -1.0 0.00e+00    -  0.00e+00 0.00e+00   0\n",
      "   1 -2.5634228e+02 4.68e+06 9.14e+00  -1.0 3.85e+02    -  1.37e-01 1.00e+00f  1\n",
      "   2 -2.2913057e+02 4.01e+05 2.60e+00  -1.0 3.92e+01    -  2.78e-01 1.00e+00h  1\n",
      "   3 -2.4752595e+02 5.82e+03 9.86e+00  -1.0 2.00e+01    -  9.46e-01 1.00e+00f  1\n",
      "   4 -2.5018808e+02 1.21e+06 1.75e+00  -1.0 2.18e+02    -  4.40e-01 1.00e+00H  1\n",
      "   5 -2.8616244e+02 4.26e+05 3.61e+01  -1.0 5.22e+01  -2.0 4.42e-01 1.00e+00f  1\n",
      "   6 -3.0337341e+02 5.65e+05 3.27e+01  -1.0 3.55e+02    -  3.54e-01 7.18e-02f  1\n",
      "   7 -3.2954524e+02 1.07e+06 5.53e+01  -1.0 2.02e+03    -  1.16e-01 9.55e-02f  1\n",
      "   8 -3.2983289e+02 1.03e+06 1.72e+02  -1.0 2.27e+01  -2.5 2.80e-01 3.74e-02h  1\n",
      "   9 -3.3150552e+02 2.49e+05 3.25e+02  -1.0 3.10e+01  -3.0 5.04e-01 1.00e+00f  1\n",
      "iter    objective    inf_pr   inf_du lg(mu)  ||d||  lg(rg) alpha_du alpha_pr  ls\n",
      "  10 -3.3666509e+02 1.44e+06 3.01e+02  -1.0 6.64e+02  -3.4 2.15e-01 1.16e-01f  1\n",
      "  11 -3.4321123e+02 4.14e+05 1.07e+02  -1.0 8.98e+01  -3.0 1.00e+00 7.04e-01f  1\n",
      "  12 -3.4307013e+02 1.56e+05 1.87e+02  -1.0 4.21e+01  -3.5 1.00e+00 6.26e-01h  1\n",
      "  13 -3.4564057e+02 1.22e+06 1.80e+02  -1.0 6.89e+03  -4.0 5.46e-02 2.90e-02f  1\n",
      "  14 -3.6120595e+02 1.13e+06 3.77e+01  -1.0 7.59e+01  -2.6 1.00e+00 1.00e+00f  1\n",
      "  15 -3.5830890e+02 4.84e+04 6.38e+00  -1.0 1.99e+01    -  1.00e+00 1.00e+00h  1\n",
      "  16 -3.6323653e+02 1.63e+05 8.09e+00  -1.0 9.89e+01    -  7.77e-01 2.49e-01f  1\n",
      "  17 -3.6452139e+02 2.43e+03 6.13e-02  -1.0 6.47e+00    -  1.00e+00 1.00e+00h  1\n",
      "  18 -3.6469509e+02 1.36e+03 4.17e+01  -1.7 1.27e+00    -  1.00e+00 4.21e-01h  1\n",
      "  19 -3.6477009e+02 5.42e+01 3.27e-03  -1.7 6.87e-01    -  1.00e+00 1.00e+00f  1\n",
      "iter    objective    inf_pr   inf_du lg(mu)  ||d||  lg(rg) alpha_du alpha_pr  ls\n",
      "  20 -3.6486130e+02 8.06e+00 4.55e-04  -2.5 2.75e-01    -  1.00e+00 1.00e+00h  1\n",
      "  21 -3.6487118e+02 1.59e-01 1.14e-05  -3.8 3.92e-02    -  1.00e+00 1.00e+00h  1\n",
      "  22 -3.6487175e+02 5.29e-04 3.50e-08  -5.7 2.23e-03    -  1.00e+00 1.00e+00h  1\n",
      "  23 -3.6487176e+02 8.38e-08 5.36e-12  -8.6 2.80e-05    -  1.00e+00 1.00e+00h  1\n",
      "\n",
      "Number of Iterations....: 23\n",
      "\n",
      "                                   (scaled)                 (unscaled)\n",
      "Objective...............:  -3.6487175516988577e+02   -3.6487175516988577e+02\n",
      "Dual infeasibility......:   5.3569065098009037e-12    5.3569065098009037e-12\n",
      "Constraint violation....:   1.1147288578632815e-11    8.3819031715393066e-08\n",
      "Complementarity.........:   2.5157169649701711e-09    2.5157169649701711e-09\n",
      "Overall NLP error.......:   2.5157169649701711e-09    8.3819031715393066e-08\n",
      "\n",
      "\n",
      "Number of objective function evaluations             = 25\n",
      "Number of objective gradient evaluations             = 24\n",
      "Number of equality constraint evaluations            = 25\n",
      "Number of inequality constraint evaluations          = 25\n",
      "Number of equality constraint Jacobian evaluations   = 24\n",
      "Number of inequality constraint Jacobian evaluations = 24\n",
      "Number of Lagrangian Hessian evaluations             = 23\n",
      "Total CPU secs in IPOPT (w/o function evaluations)   =      0.012\n",
      "Total CPU secs in NLP function evaluations           =      0.000\n",
      "\n",
      "EXIT: Optimal Solution Found.\n"
     ]
    },
    {
     "data": {
      "text/plain": [
       ":Optimal"
      ]
     },
     "execution_count": 22,
     "metadata": {},
     "output_type": "execute_result"
    }
   ],
   "source": [
    "# solve model and get solution\n",
    "solve(m)"
   ]
  },
  {
   "cell_type": "code",
   "execution_count": 23,
   "metadata": {
    "collapsed": false
   },
   "outputs": [
    {
     "name": "stdout",
     "output_type": "stream",
     "text": [
      "Ca = Ca: 1 dimensions:\n",
      "[1] = 1.5173522955195395\n",
      "[2] = 1.0442588763924474\n",
      "[3] = 1.9999998000980004\n",
      " T = T: 1 dimensions:\n",
      "[1] = 84.44754985496282\n",
      "[2] = 79.04247615630797\n",
      "[3] = 86.43834251412198\n",
      "\n",
      " q = 2.5533333588011504\n",
      " F = F: 1 dimensions:\n",
      "[1] = 31.307471587966386\n",
      "[2] = 20.353035438035104\n",
      "[3] = 45.219488715005554\n",
      "\n",
      " cost = cost: 1 dimensions:\n",
      "[1] = 378.5693843199906\n",
      "[2] = 244.03256932852534\n",
      "[3] = 510.66672280187294\n",
      " Tc= Tc: 1 dimensions:\n",
      "[1] = 69.0\n",
      "[2] = 69.0\n",
      "[3] = 65.55133909889908\n"
     ]
    }
   ],
   "source": [
    "println(\"Ca = \", getvalue(Ca), \"\\n T = \", getvalue(T))\n",
    "println(\"\\n q = \", getvalue(q), \"\\n F = \", getvalue(F))\n",
    "println(\"\\n cost = \", getvalue(cost), \"\\n Tc= \", getvalue(Tc))"
   ]
  },
  {
   "cell_type": "code",
   "execution_count": null,
   "metadata": {
    "collapsed": true
   },
   "outputs": [],
   "source": []
  }
 ],
 "metadata": {
  "kernelspec": {
   "display_name": "Julia 0.5.2",
   "language": "julia",
   "name": "julia-0.5"
  },
  "language_info": {
   "file_extension": ".jl",
   "mimetype": "application/julia",
   "name": "julia",
   "version": "0.5.2"
  }
 },
 "nbformat": 4,
 "nbformat_minor": 0
}
