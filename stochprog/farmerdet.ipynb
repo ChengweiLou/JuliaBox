{
 "cells": [
  {
   "cell_type": "markdown",
   "metadata": {},
   "source": [
    "## Farmer problem \n",
    "### Victor M. Zavala 2016 \n",
    "### University of Wisconsin-Madison "
   ]
  },
  {
   "cell_type": "code",
   "execution_count": 71,
   "metadata": {
    "collapsed": true
   },
   "outputs": [],
   "source": [
    "using JuMP \n",
    "using Ipopt "
   ]
  },
  {
   "cell_type": "code",
   "execution_count": 72,
   "metadata": {
    "collapsed": false
   },
   "outputs": [],
   "source": [
    "# Model parameters\n",
    "\n",
    "NS = 5;                    # number of scenarios\n",
    "S = collect([1:NS]);       # scenario set\n",
    "P = collect([1:3]);        # set of crops (1=wheat,2=corn,3=beets)\n",
    "\n",
    "# Data \n",
    "prcost = zeros(3)          # production (planting) cost\n",
    "prcost[1] = 150;\n",
    "prcost[2] = 230;\n",
    "prcost[3] = 260;\n",
    "\n",
    "pcost = zeros(3)           # purchase cost\n",
    "pcost[1] = 238;\n",
    "pcost[2] = 210;\n",
    "pcost[3] = 0;\n",
    "\n",
    "scost = zeros(3)           # sales cost\n",
    "scost[1] = 170;\n",
    "scost[2] = 150;\n",
    "scost[3] = 36;\n",
    "\n",
    "demand = zeros(3)          # demand\n",
    "demand[1] = 200;\n",
    "demand[2] = 240;\n",
    "demand[3] = 0;\n",
    "\n",
    "# assign random data\n",
    "\n",
    "yield = zeros(length(S),3) # yields\n",
    "\n",
    "yield[S,1] = 2.5;\n",
    "yield[S,2] = 3.0;\n",
    "yield[S,3] = 20;"
   ]
  },
  {
   "cell_type": "code",
   "execution_count": 73,
   "metadata": {
    "collapsed": false
   },
   "outputs": [
    {
     "data": {
      "text/plain": [
       ":Optimal"
      ]
     },
     "execution_count": 73,
     "metadata": {},
     "output_type": "execute_result"
    }
   ],
   "source": [
    "# Model \n",
    "\n",
    "mp = Model(solver=IpoptSolver(print_level=0))\n",
    "\n",
    "@defVar(mp, x[S,P] >= 0)    # acres devoted to crops\n",
    "@defVar(mp, y[S,P] >= 0)    # crops purchase\n",
    "@defVar(mp, w[S,P] >= 0)    # crops sold;\n",
    "@defExpr(mp, Cost[s in S], sum{prcost[j]*x[s,j] + pcost[j]*y[s,j] - scost[j]*w[s,j], j in P})\n",
    "@defVar(mp, cost[s in S])\n",
    "\n",
    "\n",
    "@addConstraint(mp, varcost[s in S], cost[s] == Cost[s]) \n",
    "@addConstraint(mp, cap[s in S], sum{x[s,j], j in P} <= 500)\n",
    "@addConstraint(mp, bal[s in S,j in P], yield[s,j]*x[s,j]+y[s,j]-w[s,j] >= demand[j]) \n",
    "@addConstraint(mp, sellb[s in S], w[s,3] <= 6000)\n",
    "@addConstraint(mp, buyb[s in S], y[s,3] <= 0)\n",
    "@addConstraint(mp, nonant[s in S,j in P], x[1,j] == x[s,j])\n",
    "\n",
    "@setObjective(mp, Min, (1/NS)*sum{cost[s], s in S})\n",
    "\n",
    "solve(mp)"
   ]
  },
  {
   "cell_type": "code",
   "execution_count": 74,
   "metadata": {
    "collapsed": false
   },
   "outputs": [],
   "source": [
    "xs = getValue(x); "
   ]
  },
  {
   "cell_type": "code",
   "execution_count": 75,
   "metadata": {
    "collapsed": false
   },
   "outputs": [
    {
     "data": {
      "text/plain": [
       ":Optimal"
      ]
     },
     "execution_count": 75,
     "metadata": {},
     "output_type": "execute_result"
    }
   ],
   "source": [
    "yield[1,3] = 10;\n",
    "yield[2,3] = 15;\n",
    "yield[3,3] = 20;\n",
    "yield[4,3] = 25;\n",
    "yield[5,3] = 30;\n",
    "\n",
    "# Model \n",
    "\n",
    "m = Model(solver=IpoptSolver(print_level=0))\n",
    "\n",
    "@defVar(m, y[S,P] >= 0)    # crops purchase\n",
    "@defVar(m, w[S,P] >= 0)    # crops sold;\n",
    "@defVar(m, cost[s in S])\n",
    "\n",
    "@defExpr(m, Cost[s in S], sum{prcost[j]*xs[s,j] + pcost[j]*y[s,j] - scost[j]*w[s,j], j in P})\n",
    "@addConstraint(m, varcost[s in S], cost[s] == Cost[s]) \n",
    "@addConstraint(m, bal[s in S,j in P], yield[s,j]*xs[s,j]+y[s,j]-w[s,j] >= demand[j]) \n",
    "@addConstraint(m, sellb[s in S], w[s,3] <= 6000)\n",
    "@addConstraint(m, buyb[s in S], y[s,3] <= 0)\n",
    "\n",
    "@setObjective(m, Min, (1/NS)*sum{cost[s], s in S})\n",
    "\n",
    "solve(m)"
   ]
  },
  {
   "cell_type": "code",
   "execution_count": 76,
   "metadata": {
    "collapsed": false
   },
   "outputs": [
    {
     "name": "stdout",
     "output_type": "stream",
     "text": [
      "x = x: 2 dimensions:\n",
      "[1,:]\n",
      "  [1,1] = 120.00000279984634\n",
      "  [1,2] = 79.99999920015239\n",
      "  [1,3] = 300.00000299995565\n",
      "[2,:]\n",
      "  [2,1] = 120.00000279984634\n",
      "  [2,2] = 79.99999920015239\n",
      "  [2,3] = 300.00000299995565\n",
      "[3,:]\n",
      "  [3,1] = 120.00000279984634\n",
      "  [3,2] = 79.99999920015239\n",
      "  [3,3] = 300.00000299995565\n",
      "[4,:]\n",
      "  [4,1] = 120.00000279984634\n",
      "  [4,2] = 79.99999920015239\n",
      "  [4,3] = 300.00000299995565\n",
      "[5,:]\n",
      "  [5,1] = 120.00000279984634\n",
      "  [5,2] = 79.99999920015239\n",
      "  [5,3] = 300.00000299995565\n",
      "\n",
      "\n",
      "y = y: 2 dimensions:\n",
      "[1,:]\n",
      "  [1,1] = 0.0\n",
      "  [1,2] = 2.3798087768711324e-6\n",
      "  [1,3] = 9.65532035803641e-9\n",
      "[2,:]\n",
      "  [2,1] = 0.0\n",
      "  [2,2] = 2.3798087768711324e-6\n",
      "  [2,3] = 9.646982445737395e-9\n",
      "[3,:]\n",
      "  [3,1] = 0.0\n",
      "  [3,2] = 2.3798087768711324e-6\n",
      "  [3,3] = 6.278599013474232e-13\n",
      "[4,:]\n",
      "  [4,1] = 0.0\n",
      "  [4,2] = 2.3798087768711324e-6\n",
      "  [4,3] = 3.280541440718195e-20\n",
      "[5,:]\n",
      "  [5,1] = 0.0\n",
      "  [5,2] = 2.3798087768711324e-6\n",
      "  [5,3] = 1.608959349234551e-20\n",
      "\n",
      "\n",
      "w = w: 2 dimensions:\n",
      "[1,:]\n",
      "  [1,1] = 100.00000798972646\n",
      "  [1,2] = 0.0\n",
      "  [1,3] = 3000.000060008864\n",
      "[2,:]\n",
      "  [2,1] = 100.00000798972646\n",
      "  [2,2] = 0.0\n",
      "  [2,3] = 4500.000090008634\n",
      "[3,:]\n",
      "  [3,1] = 100.00000798972646\n",
      "  [3,2] = 0.0\n",
      "  [3,3] = 6000.000059999652\n",
      "[4,:]\n",
      "  [4,1] = 100.00000798972646\n",
      "  [4,2] = 0.0\n",
      "  [4,3] = 6000.000059999652\n",
      "[5,:]\n",
      "  [5,1] = 100.00000798972646\n",
      "  [5,2] = 0.0\n",
      "  [5,3] = 6000.000059999652\n",
      "\n",
      "\n",
      "cost = cost: 1 dimensions:\n",
      "[1] = -10600.00200367929\n",
      "[2] = -64600.003083671065\n",
      "[3] = -118600.00200334766\n",
      "[4] = -118600.00200334768\n",
      "[5] = -118600.00200334768\n",
      "\n",
      "\n",
      "obj: -86200.00221947869\n"
     ]
    }
   ],
   "source": [
    "# Results\n",
    "\n",
    "println(\"x = \",getValue(x))\n",
    "println(\"\")\n",
    "println(\"y = \",getValue(y))\n",
    "println(\"\")\n",
    "println(\"w = \",getValue(w))\n",
    "println(\"\")\n",
    "println(\"cost = \",getValue(cost))\n",
    "println(\"\")\n",
    "println(\"obj: \", getObjectiveValue(m))"
   ]
  },
  {
   "cell_type": "code",
   "execution_count": null,
   "metadata": {
    "collapsed": true
   },
   "outputs": [],
   "source": []
  }
 ],
 "metadata": {
  "kernelspec": {
   "display_name": "Julia 0.4.2",
   "language": "julia",
   "name": "julia-0.4"
  },
  "language_info": {
   "file_extension": ".jl",
   "mimetype": "application/julia",
   "name": "julia",
   "version": "0.4.2"
  }
 },
 "nbformat": 4,
 "nbformat_minor": 0
}
