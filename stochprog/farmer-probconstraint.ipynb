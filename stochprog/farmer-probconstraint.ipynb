{
 "cells": [
  {
   "cell_type": "markdown",
   "metadata": {},
   "source": [
    "Farmer problem with Probabilistic Constraints \n",
    "\n",
    "Mauricio Tombini and Victor M. Zavala 2016 \n",
    "\n",
    "University of Wisconsin-Madison "
   ]
  },
  {
   "cell_type": "code",
   "execution_count": 150,
   "metadata": {
    "collapsed": true
   },
   "outputs": [],
   "source": [
    "using JuMP \n",
    "using Cbc\n",
    "using Ipopt"
   ]
  },
  {
   "cell_type": "code",
   "execution_count": 151,
   "metadata": {
    "collapsed": false
   },
   "outputs": [
    {
     "data": {
      "text/plain": [
       "30"
      ]
     },
     "execution_count": 151,
     "metadata": {},
     "output_type": "execute_result"
    }
   ],
   "source": [
    "# Model parameters\n",
    "\n",
    "NS = 5;                    # number of scenarios\n",
    "S = collect([1:NS]);       # scenario set\n",
    "P = collect([1:3]);        # set of crops (1=wheat,2=corn,3=beets)\n",
    "\n",
    "# Data \n",
    "prcost = zeros(3)          # production (planting) cost\n",
    "prcost[1] = 150;\n",
    "prcost[2] = 230;\n",
    "prcost[3] = 260;\n",
    "\n",
    "pcost = zeros(3)           # purchase cost\n",
    "pcost[1] = 238;\n",
    "pcost[2] = 210;\n",
    "pcost[3] = 0;\n",
    "\n",
    "scost = zeros(3)           # sales cost\n",
    "scost[1] = 170;\n",
    "scost[2] = 150;\n",
    "scost[3] = 36;\n",
    "\n",
    "demand = zeros(3)          # demand\n",
    "demand[1] = 200;\n",
    "demand[2] = 240;\n",
    "demand[3] = 0;\n",
    "\n",
    "# assign random data\n",
    "\n",
    "yield = zeros(length(S),3) # yields\n",
    "yield[S,1] = 2.5;\n",
    "yield[S,2] = 3.0;\n",
    "\n",
    "yield[1,3] = 10;\n",
    "yield[2,3] = 15;\n",
    "yield[3,3] = 20;\n",
    "yield[4,3] = 25;\n",
    "yield[5,3] = 30"
   ]
  },
  {
   "cell_type": "code",
   "execution_count": 169,
   "metadata": {
    "collapsed": false
   },
   "outputs": [
    {
     "name": "stdout",
     "output_type": "stream",
     "text": [
      "cost: 1 dimensions, 5 entries:\n",
      " [1] = -279100.0\n",
      " [2] = -279099.99999999994\n",
      " [3] = -279100.0\n",
      " [4] = -279100.0\n",
      " [5] = -279100.00000000006\n",
      "\n",
      "wp: 1 dimensions, 5 entries:\n",
      " [1] = 1.0\n",
      " [2] = 1.0\n",
      " [3] = 0.9999999999999999\n",
      " [4] = 1.0\n",
      " [5] = 1.0\n",
      "\n",
      "probcost: 1 dimensions, 5 entries:\n",
      " [1] = -6000.0\n",
      " [2] = -6000.000000000001\n",
      " [3] = -6000.000000000001\n",
      " [4] = -6000.000000000001\n",
      " [5] = -6000.0\n",
      "\n",
      "obj -279100.0\n"
     ]
    }
   ],
   "source": [
    "# Model \n",
    "\n",
    "m = Model(solver=CbcSolver())\n",
    "\n",
    "@defVar(m, x[S,P] >= 0)    # acres devoted to crops\n",
    "@defVar(m, y[S,P] >= 0)    # crops purchase\n",
    "@defVar(m, w[S,P] >= 0)    # crops sold;\n",
    "@defVar(m, cost[s in S])   # per scenario cost\n",
    "@defVar(m,probcost[s in S]) # per scenario cost for probabilistic constraint\n",
    "@defVar(m,wp[S], Bin)       # indicator variables for probabilistic constraint\n",
    "\n",
    "alphap=NS # number of constraints allowed to be violated\n",
    "\n",
    "@addConstraint(m, varcost[s in S], cost[s] == sum{prcost[j]*x[s,j] + pcost[j]*y[s,j] - scost[j]*w[s,j], j in P}) \n",
    "@addConstraint(m, cap[s in S], sum{x[s,j], j in P} <= 500)\n",
    "@addConstraint(m, bal[s in S,j in 1:2], yield[s,j]*x[s,j]+y[s,j]-w[s,j] >= demand[j]) \n",
    "@addConstraint(m, probeq1[s in S], probcost[s] == yield[s,3]*x[s,3]+y[s,3]-w[s,3] - demand[3]) \n",
    "@addConstraint(m, probeq2[s in S], probcost[s] >= -wp[s]*6000) \n",
    "@addConstraint(m, probeq3[s in S], (1/NS)*sum{wp[s],s in S} <= alphap/NS) \n",
    "@addConstraint(m, sellb[s in S], w[s,3] <= 6000)\n",
    "@addConstraint(m, buyb[s in S], y[s,3] <= 0)\n",
    "@addConstraint(m, nonant[s in S,j in P], x[1,j] == x[s,j])\n",
    "\n",
    "@setObjective(m, Min, (1/NS)*sum{cost[s], s in S})\n",
    "\n",
    "solve(m)\n",
    "\n",
    "# Results (with probabilistic constraint)\n",
    "\n",
    "println(getValue(cost))\n",
    "println(\"\")\n",
    "println(getValue(wp))\n",
    "println(\"\")\n",
    "println(getValue(probcost))\n",
    "println(\"\")\n",
    "println(\"obj \",getObjectiveValue(m))"
   ]
  },
  {
   "cell_type": "code",
   "execution_count": 161,
   "metadata": {
    "collapsed": false
   },
   "outputs": [
    {
     "name": "stdout",
     "output_type": "stream",
     "text": [
      "cost: 1 dimensions, 5 entries:\n",
      " [1] = -69933.33333333331\n",
      " [2] = -99933.33333333331\n",
      " [3] = -129933.33333333327\n",
      " [4] = -159933.33333333326\n",
      " [5] = -189933.33333333334\n",
      "\n",
      "wp: 1 dimensions, 5 entries:\n",
      " [1] = 0.0\n",
      " [2] = 0.0\n",
      " [3] = 0.0\n",
      " [4] = 0.0\n",
      " [5] = 0.0\n",
      "\n",
      "probcost: 1 dimensions, 5 entries:\n",
      " [1] = -1000.0\n",
      " [2] = -999.9999999999999\n",
      " [3] = -1000.0\n",
      " [4] = -999.9999999999999\n",
      " [5] = -999.9999999999999\n",
      "\n",
      "obj -129933.33333333333\n"
     ]
    }
   ],
   "source": []
  },
  {
   "cell_type": "code",
   "execution_count": 168,
   "metadata": {
    "collapsed": false
   },
   "outputs": [
    {
     "name": "stdout",
     "output_type": "stream",
     "text": [
      "cost: 1 dimensions, 5 entries:\n",
      " [1] = -118599.99999999994\n",
      " [2] = -118599.99999999994\n",
      " [3] = -118599.99999999996\n",
      " [4] = -118599.99999999999\n",
      " [5] = -118600.0\n",
      "\n",
      "probcost: 1 dimensions, 5 entries:\n",
      " [1] = 2999.9999999999995\n",
      " [2] = 1500.0\n",
      " [3] = -5.407887852028221e-13\n",
      " [4] = -1499.9999999999989\n",
      " [5] = -3000.000000000001\n",
      "\n",
      "0.0\n",
      "\n",
      "-3000.000000000001\n",
      "\n",
      "obj -118599.99999999997\n"
     ]
    }
   ],
   "source": [
    "# Model (with cvar)\n",
    "\n",
    "mp = Model(solver=CbcSolver())\n",
    "\n",
    "@defVar(mp, x[S,P] >= 0)     # acres devoted to crops\n",
    "@defVar(mp, y[S,P] >= 0)     # crops purchase\n",
    "@defVar(mp, w[S,P] >= 0)     # crops sold;\n",
    "@defVar(mp, cost[s in S])    # per scenario cost\n",
    "@defVar(mp,probcost[s in S]) # per scenario cost for probabilistic constraint\n",
    "@defVar(mp,VaR)              # CVaR auxiliary variable\n",
    "@defVar(mp,CVaR)             # CVaR auxiliary variable\n",
    "@defVar(mp,phi[S]>=0)        # CVaR auxiliary variable\n",
    "\n",
    "alpha=5/NS  # alpha largest constraints in CVaR\n",
    "\n",
    "@addConstraint(mp, varcost[s in S], cost[s] == sum{prcost[j]*x[s,j] + pcost[j]*y[s,j] - scost[j]*w[s,j], j in P}) \n",
    "@addConstraint(mp, cap[s in S], sum{x[s,j], j in P} <= 500)\n",
    "@addConstraint(mp, bal[s in S,j in 1:2], yield[s,j]*x[s,j]+y[s,j]-w[s,j] >= demand[j]) \n",
    "@addConstraint(mp, probeq1[s in S], probcost[s] == -(yield[s,3]*x[s,3]+y[s,3]-w[s,3] - demand[3])) \n",
    "@addConstraint(mp, probeq2[s in S], probcost[s] - VaR <= phi[s])\n",
    "@addConstraint(mp, probeq3, CVaR == VaR + (1/NS)*(1/alpha)*sum{phi[s],s in S}) \n",
    "@addConstraint(mp, probeq4, CVaR <= 0) \n",
    "\n",
    "@addConstraint(mp, sellb[s in S], w[s,3] <= 6000)\n",
    "@addConstraint(mp, buyb[s in S], y[s,3] <= 0)\n",
    "@addConstraint(mp, nonant[s in S,j in P], x[1,j] == x[s,j])\n",
    "\n",
    "@setObjective(mp, Min, (1/NS)*sum{cost[s], s in S})\n",
    "\n",
    "solve(mp)\n",
    "\n",
    "# Results (with CVaR)\n",
    "println(getValue(cost))\n",
    "println(\"\")\n",
    "println(getValue(probcost))\n",
    "println(\"\")\n",
    "println(getValue(CVaR))\n",
    "println(\"\")\n",
    "println(getValue(VaR))\n",
    "println(\"\")\n",
    "println(\"obj \",getObjectiveValue(mp))"
   ]
  },
  {
   "cell_type": "code",
   "execution_count": null,
   "metadata": {
    "collapsed": false
   },
   "outputs": [],
   "source": []
  },
  {
   "cell_type": "code",
   "execution_count": null,
   "metadata": {
    "collapsed": true
   },
   "outputs": [],
   "source": []
  }
 ],
 "metadata": {
  "kernelspec": {
   "display_name": "Julia 0.3.12",
   "language": "julia",
   "name": "julia-0.3"
  },
  "language_info": {
   "file_extension": ".jl",
   "mimetype": "application/julia",
   "name": "julia",
   "version": "0.3.12"
  }
 },
 "nbformat": 4,
 "nbformat_minor": 0
}
