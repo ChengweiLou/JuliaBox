{
 "cells": [
  {
   "cell_type": "markdown",
   "metadata": {},
   "source": [
    "# Solving a Single Pipeline Model using Plasmo"
   ]
  },
  {
   "cell_type": "markdown",
   "metadata": {},
   "source": [
    "## Import Plasmo and Ipopt"
   ]
  },
  {
   "cell_type": "code",
   "execution_count": 1,
   "metadata": {},
   "outputs": [
    {
     "name": "stderr",
     "output_type": "stream",
     "text": [
      "WARNING: Method definition macroexpand(Module, Any) in module Compat at /home/jordan/.julia/v0.5/Compat/src/Compat.jl:1491 overwritten in module MacroTools at /home/jordan/.julia/v0.5/MacroTools/src/utils.jl:64.\n"
     ]
    }
   ],
   "source": [
    "using Plasmo\n",
    "using Ipopt\n",
    "using PyPlot"
   ]
  },
  {
   "cell_type": "markdown",
   "metadata": {},
   "source": [
    "## Define a global horizon variable, and import some gas component models"
   ]
  },
  {
   "cell_type": "code",
   "execution_count": 2,
   "metadata": {},
   "outputs": [],
   "source": [
    "global horizon = 48\n",
    "include(\"gas_components.jl\");"
   ]
  },
  {
   "cell_type": "markdown",
   "metadata": {},
   "source": [
    "## Set our parameters are usual"
   ]
  },
  {
   "cell_type": "code",
   "execution_count": 12,
   "metadata": {
    "collapsed": true
   },
   "outputs": [],
   "source": [
    "#pipeline data\n",
    "pipe_length = 30000\n",
    "diameter = 0.92\n",
    "time_grid = 1:48\n",
    "x_grid = 1:10\n",
    "min_pressure = 1\n",
    "max_pressure = 100\n",
    "min_flow = 1\n",
    "max_flow = 300\n",
    "\n",
    "#compressor data\n",
    "dp_min = 1\n",
    "dp_max = 20\n",
    "min_power = 1\n",
    "max_power = 10000\n",
    "comp_cost = 0.1;"
   ]
  },
  {
   "cell_type": "markdown",
   "metadata": {},
   "source": [
    "## Set pipeline, compressor, and junction data"
   ]
  },
  {
   "cell_type": "code",
   "execution_count": 13,
   "metadata": {
    "collapsed": true
   },
   "outputs": [],
   "source": [
    "pdata = PipeData(pipe_length,diameter,time_grid,x_grid,min_pressure,max_pressure,min_flow,max_flow) #pipe data\n",
    "cdata = CompData(dp_min,dp_max,min_power,max_power,comp_cost) #compressor data\n",
    "supply_node_data = NodeData(time_grid,1,300,0,50,70,-1000,0.0)\n",
    "demand_node_data = NodeData(time_grid,0,0,1,50,70,-1000,0.0);"
   ]
  },
  {
   "cell_type": "markdown",
   "metadata": {},
   "source": [
    "## Create the graph representing a pipeline and two junctions (supply and demand)"
   ]
  },
  {
   "cell_type": "code",
   "execution_count": 14,
   "metadata": {
    "collapsed": true
   },
   "outputs": [],
   "source": [
    "#Create the Plasmo Graph Model\n",
    "model = GraphModel()\n",
    "graph = getgraph(model)\n",
    "n1 = add_node!(model)\n",
    "n2 = add_node!(model)\n",
    "pipe = add_edge!(model,n1,n2);"
   ]
  },
  {
   "cell_type": "markdown",
   "metadata": {},
   "source": [
    "## Setup our model for our PDE system"
   ]
  },
  {
   "cell_type": "code",
   "execution_count": 15,
   "metadata": {
    "collapsed": true
   },
   "outputs": [],
   "source": [
    "euler_model = euleractivelink(pdata,cdata)\n",
    "#provide a steady state initial condition\n",
    "euler_model = steadystatestart(euler_model,pdata)\n",
    "\n",
    "supply = gasnode(supply_node_data)\n",
    "demand = gasnode(demand_node_data)\n",
    "\n",
    "#set the models on our nodes and edge\n",
    "setmodel!(n1,supply)\n",
    "setmodel!(n2,demand)\n",
    "setmodel!(pipe,euler_model)"
   ]
  },
  {
   "cell_type": "markdown",
   "metadata": {},
   "source": [
    "## Add linking constraints between component models"
   ]
  },
  {
   "cell_type": "code",
   "execution_count": 16,
   "metadata": {
    "collapsed": true
   },
   "outputs": [],
   "source": [
    "#Node conservation in n1\n",
    "@linkconstraint(model,graph,n1,[t = time_grid], 0 == sum(in_edges(graph,n1)[i][:fout][t] for i = 1:length(in_edges(graph,n1))) -\n",
    "sum(out_edges(graph,n1)[i][:fin][t] for i = 1:length(out_edges(graph,n1))) + n1[:total_supplied][t] - n1[:total_delivered][t])\n",
    "\n",
    "#Node conservation in n2\n",
    "@linkconstraint(model,graph,n2,[t = time_grid], 0 == sum(in_edges(graph,n2)[i][:fout][t] for i = 1:length(in_edges(graph,n2))) -\n",
    "sum(out_edges(graph,n2)[i][:fin][t] for i = 1:length(out_edges(graph,n2))) + n2[:total_supplied][t] - n2[:total_delivered][t])\n",
    "\n",
    "#set linking constraints for our pipe boundary condition\n",
    "@linkconstraint(model,graph,pipe,[t = time_grid],pipe[:pin][t] == getconnectedfrom(graph,pipe)[:pressure][t])\n",
    "@linkconstraint(model,graph,pipe,[t = time_grid],pipe[:pout][t] == getconnectedto(graph,pipe)[:pressure][t]);"
   ]
  },
  {
   "cell_type": "markdown",
   "metadata": {},
   "source": [
    "## Fix the demand at n2"
   ]
  },
  {
   "cell_type": "code",
   "execution_count": 17,
   "metadata": {},
   "outputs": [],
   "source": [
    "d = getmodel(n2) #grab n2's model\n",
    "@constraint(d,[t = time_grid],n2[:demand][1,t] == 80);"
   ]
  },
  {
   "cell_type": "markdown",
   "metadata": {},
   "source": [
    "## Solve the pipe system"
   ]
  },
  {
   "cell_type": "code",
   "execution_count": 18,
   "metadata": {},
   "outputs": [
    {
     "name": "stdout",
     "output_type": "stream",
     "text": [
      "Creating flattened graph model...\n",
      "Finished model instantiation\n",
      "This is Ipopt version 3.12.1, running with linear solver mumps.\n",
      "NOTE: Other linear solvers might be more efficient (see Ipopt documentation).\n",
      "\n",
      "Number of nonzeros in equality constraint Jacobian...:    11514\n",
      "Number of nonzeros in inequality constraint Jacobian.:       98\n",
      "Number of nonzeros in Lagrangian Hessian.............:     9798\n",
      "\n",
      "Total number of variables............................:     3175\n",
      "                     variables with only lower bounds:     1920\n",
      "                variables with lower and upper bounds:     1200\n",
      "                     variables with only upper bounds:        0\n",
      "Total number of equality constraints.................:     3031\n",
      "Total number of inequality constraints...............:       49\n",
      "        inequality constraints with only lower bounds:        1\n",
      "   inequality constraints with lower and upper bounds:        0\n",
      "        inequality constraints with only upper bounds:       48\n",
      "\n",
      "iter    objective    inf_pr   inf_du lg(mu)  ||d||  lg(rg) alpha_du alpha_pr  ls\n",
      "   0  0.0000000e+00 4.80e+06 1.00e+00  -1.0 0.00e+00    -  0.00e+00 0.00e+00   0\n",
      "   1 -3.7624631e+04 4.71e+06 1.42e+02  -1.0 2.12e+06    -  1.24e-04 1.78e-02f  1\n",
      "   2 -6.6911425e+04 4.71e+06 1.42e+02  -1.0 2.78e+07    -  1.19e-03 1.05e-03f  1\n",
      "   3 -7.4955285e+04 4.70e+06 1.42e+02  -1.0 7.23e+06    -  6.95e-04 1.11e-03f  1\n",
      "   4 -8.1801404e+04 4.70e+06 1.42e+02  -1.0 3.93e+06    -  3.27e-03 1.74e-03f  1\n",
      "   5 -8.6767036e+04 4.69e+06 1.41e+02  -1.0 3.69e+06    -  1.13e-03 1.34e-03f  1\n",
      "   6 -9.6844412e+04 4.68e+06 1.41e+02  -1.0 3.69e+06    -  1.15e-03 2.73e-03f  1\n",
      "   7 -1.0025345e+05 4.67e+06 1.41e+02  -1.0 3.69e+06    -  7.13e-04 9.24e-04f  1\n",
      "   8 -1.1533685e+05 4.65e+06 1.40e+02  -1.0 3.69e+06    -  1.16e-03 4.09e-03f  1\n",
      "   9 -1.2446000e+05 4.64e+06 1.40e+02  -1.0 3.68e+06    -  3.20e-03 2.48e-03f  1\n",
      "iter    objective    inf_pr   inf_du lg(mu)  ||d||  lg(rg) alpha_du alpha_pr  ls\n",
      "  10 -1.8753126e+05 4.56e+06 1.37e+02  -1.0 3.68e+06    -  1.55e-04 1.71e-02f  1\n",
      "  11 -1.9908090e+05 4.55e+06 1.37e+02  -1.0 3.62e+06    -  1.81e-02 3.19e-03f  1\n",
      "  12 -2.7903362e+05 4.45e+06 1.34e+02  -1.0 3.61e+06    -  4.29e-04 2.22e-02f  1\n",
      "  13 -3.8325678e+05 4.32e+06 1.30e+02  -1.0 3.53e+06    -  3.51e-02 2.95e-02f  1\n",
      "  14 -4.8454929e+05 4.19e+06 1.26e+02  -1.0 3.43e+06    -  3.39e-02 2.95e-02f  1\n",
      "  15 -1.1637288e+06 3.33e+06 1.57e+02  -1.0 3.33e+06    -  2.40e-03 2.04e-01f  1\n",
      "  16 -1.8988847e+06 2.41e+06 3.81e+02  -1.0 2.66e+06    -  4.94e-03 2.76e-01f  1\n",
      "  17 -2.1858951e+06 2.06e+06 4.26e+02  -1.0 1.94e+06    -  4.79e-02 1.48e-01f  1\n",
      "  18 -2.2306877e+06 2.01e+06 4.29e+02  -1.0 4.83e+06    -  9.39e-03 2.55e-02f  1\n",
      "  19 -2.2470192e+06 1.99e+06 4.12e+02  -1.0 5.96e+06    -  2.44e-02 9.36e-03f  1\n",
      "iter    objective    inf_pr   inf_du lg(mu)  ||d||  lg(rg) alpha_du alpha_pr  ls\n",
      "  20 -2.2486642e+06 1.98e+06 4.05e+02  -1.0 3.60e+06    -  9.07e-03 9.91e-04f  1\n",
      "  21 -2.2845038e+06 1.94e+06 4.11e+02  -1.0 6.56e+06    -  3.43e-03 2.05e-02f  1\n",
      "  22 -2.2938134e+06 1.93e+06 4.05e+02  -1.0 6.71e+06    -  9.61e-03 5.44e-03f  1\n",
      "  23 -2.2940965e+06 1.93e+06 3.65e+02  -1.0 2.86e+06    -  4.96e-02 1.78e-04f  1\n",
      "  24 -2.5964440e+06 1.55e+06 3.28e+02  -1.0 1.55e+06    -  1.50e-01 1.96e-01f  1\n",
      "  25 -2.9883379e+06 1.06e+06 3.42e+02  -1.0 1.24e+06    -  1.35e-01 3.15e-01f  1\n",
      "  26 -3.8314815e+06 1.06e+04 5.49e+02  -1.0 8.52e+05    -  2.11e-01 9.90e-01f  1\n",
      "  27 -3.8362765e+06 4.65e+03 5.60e+02  -1.0 1.45e+04    -  6.91e-01 5.63e-01f  1\n",
      "  28 -3.8399611e+06 2.02e+02 3.64e+03  -1.0 2.81e+04    -  6.38e-01 9.91e-01f  1\n",
      "  29 -3.8399945e+06 6.75e+02 7.92e+05  -1.0 4.78e+04    -  2.32e-01 1.00e+00f  1\n",
      "iter    objective    inf_pr   inf_du lg(mu)  ||d||  lg(rg) alpha_du alpha_pr  ls\n",
      "  30 -3.8399945e+06 3.91e+02 3.40e+06  -1.0 3.80e+04    -  6.52e-01 1.00e+00h  1\n",
      "  31 -3.8399945e+06 2.03e+03 2.22e+06  -1.0 9.56e+04    -  3.45e-01 1.00e+00h  1\n",
      "  32 -3.8399944e+06 1.01e+03 4.42e+05  -1.0 6.65e+04    -  8.01e-01 1.00e+00h  1\n",
      "  33 -3.8399943e+06 6.13e+03 2.37e+05  -1.0 1.62e+05    -  4.63e-01 1.00e+00h  1\n",
      "  34 -3.8399940e+06 4.28e+03 1.10e+05  -1.0 1.51e+05    -  5.38e-01 1.00e+00h  1\n",
      "  35 -3.8399937e+06 3.70e+03 6.40e+03  -1.0 1.30e+05    -  9.42e-01 1.00e+00h  1\n",
      "  36 -3.8399931e+06 3.56e+03 7.78e+02  -1.0 1.38e+05    -  8.79e-01 1.00e+00h  1\n",
      "  37 -3.8399928e+06 3.21e+04 5.61e+02  -1.0 3.54e+05    -  2.79e-01 1.00e+00h  1\n",
      "  38 -3.8399928e+06 5.24e+02 5.81e-02  -1.0 3.26e+04    -  1.00e+00 1.00e+00h  1\n",
      "  39 -3.8399928e+06 2.17e+02 5.86e-04  -1.0 2.18e+04    -  1.00e+00 1.00e+00h  1\n",
      "iter    objective    inf_pr   inf_du lg(mu)  ||d||  lg(rg) alpha_du alpha_pr  ls\n",
      "  40 -3.8399928e+06 6.55e+00 7.97e-06  -1.0 4.15e+03    -  1.00e+00 1.00e+00h  1\n",
      "  41 -3.8399978e+06 4.86e+01 8.67e+05  -2.5 2.23e+04    -  9.11e-01 1.00e+00f  1\n",
      "  42 -3.8399989e+06 3.31e+02 6.12e+04  -2.5 4.37e+04    -  9.29e-01 1.00e+00h  1\n",
      "  43 -3.8399991e+06 5.27e+03 9.48e-04  -2.5 8.22e+04    -  1.00e+00 1.00e+00h  1\n",
      "  44 -3.8399991e+06 6.30e+02 2.07e-05  -2.5 2.99e+04    -  1.00e+00 1.00e+00h  1\n",
      "  45 -3.8399991e+06 3.70e-01 1.29e-07  -2.5 1.03e+03    -  1.00e+00 1.00e+00h  1\n",
      "  46 -3.8399994e+06 1.02e+04 8.07e+04  -3.8 9.99e+04    -  6.23e-01 9.25e-01f  1\n",
      "  47 -3.8399995e+06 1.75e+03 2.82e+04  -3.8 5.11e+04    -  7.20e-01 1.00e+00h  1\n",
      "  48 -3.8399995e+06 2.51e+03 3.86e+03  -3.8 1.24e+05    -  8.63e-01 4.15e-01h  1\n",
      "  49 -3.8399995e+06 5.68e+03 3.55e+03  -3.8 1.76e+05    -  7.97e-02 4.78e-01h  1\n",
      "iter    objective    inf_pr   inf_du lg(mu)  ||d||  lg(rg) alpha_du alpha_pr  ls\n",
      "  50 -3.8399996e+06 8.07e+03 1.89e+03  -3.8 1.25e+05    -  4.67e-01 9.92e-01h  1\n",
      "  51 -3.8399996e+06 6.54e+03 1.20e+03  -3.8 2.53e+05    -  3.67e-01 2.79e-01h  1\n",
      "  52 -3.8399996e+06 2.33e+03 9.61e+02  -3.8 7.46e+04    -  1.98e-01 1.00e+00h  1\n",
      "  53 -3.8399996e+06 1.25e+03 1.42e-03  -3.8 6.31e+04    -  1.00e+00 1.00e+00h  1\n",
      "  54 -3.8399996e+06 9.60e+02 4.36e-03  -3.8 3.53e+04    -  1.00e+00 1.00e+00h  1\n",
      "  55 -3.8399996e+06 8.18e-01 1.39e-03  -3.8 2.54e-01  -4.0 1.00e+00 1.00e+00h  1\n",
      "  56 -3.8399996e+06 3.41e+01 8.41e-03  -3.8 6.70e+03    -  1.00e+00 1.00e+00h  1\n",
      "  57 -3.8399996e+06 5.34e+00 1.42e-03  -3.8 2.73e+03    -  1.00e+00 1.00e+00h  1\n",
      "  58 -3.8399996e+06 6.64e-01 3.03e-03  -3.8 6.86e+02    -  1.00e+00 1.00e+00h  1\n",
      "  59 -3.8399996e+06 4.72e+01 3.52e-03  -3.8 5.17e+03    -  1.00e+00 1.00e+00h  1\n",
      "iter    objective    inf_pr   inf_du lg(mu)  ||d||  lg(rg) alpha_du alpha_pr  ls\n",
      "  60 -3.8399996e+06 2.02e-02 1.39e-04  -3.8 1.07e-01  -4.5 1.00e+00 1.00e+00h  1\n",
      "  61 -3.8399996e+06 9.93e-01 8.76e+02  -5.7 2.40e+00  -5.0 9.41e-01 1.00e+00h  1\n",
      "  62 -3.8399996e+06 1.05e+01 6.36e-04  -5.7 7.29e+00  -5.4 1.00e+00 1.00e+00h  1\n",
      "  63 -3.8399996e+06 1.92e+01 7.03e-02  -5.7 2.25e+01  -5.9 2.45e-01 1.94e-01h  1\n",
      "  64 -3.8399996e+06 9.73e+01 2.22e+00  -5.7 8.60e+01  -6.4 1.00e+00 1.18e-01h  1\n",
      "  65 -3.8399996e+06 1.41e+02 1.85e+00  -5.7 2.13e+02  -6.9 3.24e-01 3.79e-02h  1\n",
      "  66 -3.8399996e+06 1.81e+02 1.87e+00  -5.7 3.22e+02  -7.3 7.37e-03 3.35e-02h  1\n",
      "  67 -3.8399996e+06 1.81e+02 9.82e-01  -5.7 4.11e+02  -7.8 8.21e-01 2.90e-01h  1\n",
      "  68 -3.8399996e+06 1.36e+03 1.29e+00  -5.7 1.21e+03  -8.3 1.00e+00 2.64e-01h  1\n",
      "  69 -3.8399996e+06 8.96e+02 6.24e-01  -5.7 1.01e+02  -8.8 6.05e-01 3.63e-01h  1\n",
      "iter    objective    inf_pr   inf_du lg(mu)  ||d||  lg(rg) alpha_du alpha_pr  ls\n",
      "  70 -3.8399996e+06 3.36e+02 5.15e+01  -5.7 1.06e+02  -9.2 5.11e-03 6.27e-01h  1\n",
      "  71 -3.8399996e+06 1.80e+03 5.00e+01  -5.7 2.31e+06    -  1.18e-02 2.70e-02h  1\n",
      "  72 -3.8399997e+06 2.31e+03 4.89e+01  -5.7 2.26e+06    -  3.42e-02 2.12e-02h  1\n",
      "  73 -3.8399997e+06 2.57e+03 4.83e+01  -5.7 3.52e+06    -  8.29e-03 1.18e-02h  1\n",
      "  74 -3.8399997e+06 2.59e+03 4.79e+01  -5.7 1.55e+06    -  5.97e-02 9.29e-03h  1\n",
      "  75 -3.8399997e+06 2.84e+03 4.62e+01  -5.7 1.16e+06    -  4.17e-02 3.56e-02h  1\n",
      "  76 -3.8399997e+06 2.79e+03 4.53e+01  -5.7 1.92e+04  -9.7 1.85e-05 1.87e-02h  1\n",
      "  77 -3.8399997e+06 1.80e+03 2.92e+01  -5.7 1.53e+03 -10.2 2.69e-01 3.55e-01h  1\n",
      "  78 -3.8399997e+06 1.78e+03 2.89e+01  -5.7 1.71e+06    -  3.50e-02 9.28e-03h  1\n",
      "  79 -3.8399997e+06 2.08e+03 2.73e+01  -5.7 1.32e+06    -  1.07e-01 5.48e-02h  1\n",
      "iter    objective    inf_pr   inf_du lg(mu)  ||d||  lg(rg) alpha_du alpha_pr  ls\n",
      "  80 -3.8399997e+06 5.32e+03 2.49e+01  -5.7 1.26e+06    -  1.87e-01 8.80e-02h  1\n",
      "  81 -3.8399997e+06 5.35e+03 2.41e+01  -5.7 9.10e+05    -  1.79e-01 3.14e-02h  1\n",
      "  82 -3.8399997e+06 3.32e+03 1.50e+01  -5.7 1.55e+03 -10.7 2.16e-02 3.79e-01h  1\n",
      "  83 -3.8399997e+06 6.23e+03 1.33e+01  -5.7 1.14e+06    -  5.77e-02 1.12e-01h  1\n",
      "  84 -3.8399997e+06 7.41e+03 1.28e+01  -5.7 1.55e+06    -  1.72e-01 4.00e-02h  1\n",
      "  85 -3.8399997e+06 1.24e+04 1.14e+01  -5.7 1.67e+06    -  1.80e-01 1.05e-01h  1\n",
      "  86 -3.8399997e+06 1.15e+04 1.06e+01  -5.7 1.97e+06    -  1.33e-01 7.44e-02h  1\n",
      "  87 -3.8399997e+06 1.02e+04 8.48e+00  -5.7 4.35e+05    -  1.46e-01 1.98e-01h  1\n",
      "  88 -3.8399997e+06 7.21e+03 5.95e+00  -5.7 1.36e+05    -  2.60e-01 2.97e-01h  1\n",
      "  89 -3.8399997e+06 6.09e+03 5.02e+00  -5.7 1.85e+05    -  3.72e-01 1.56e-01h  1\n",
      "iter    objective    inf_pr   inf_du lg(mu)  ||d||  lg(rg) alpha_du alpha_pr  ls\n",
      "  90 -3.8399997e+06 3.84e+03 3.16e+00  -5.7 1.89e+05    -  1.66e-01 3.69e-01h  1\n",
      "  91 -3.8399997e+06 3.27e+03 2.65e+00  -5.7 8.24e+04    -  2.32e-01 1.63e-01h  1\n",
      "  92 -3.8399997e+06 2.81e+03 8.20e-03  -5.7 8.95e+04    -  4.54e-01 1.00e+00h  1\n",
      "  93 -3.8399997e+06 8.06e+02 3.62e-03  -5.7 4.34e+04    -  1.00e+00 7.33e-01h  1\n",
      "  94 -3.8399997e+06 4.56e+02 1.00e-03  -5.7 1.81e+04    -  1.00e+00 4.66e-01h  1\n",
      "  95 -3.8399997e+06 8.17e+01 2.95e-02  -5.7 1.52e+04    -  3.69e-01 1.00e+00h  1\n",
      "  96 -3.8399997e+06 1.55e+01 4.95e-06  -5.7 6.62e+03    -  1.00e+00 1.00e+00h  1\n",
      "  97 -3.8399997e+06 5.88e+00 1.21e-03  -5.7 1.37e+03    -  1.00e+00 6.20e-01h  1\n",
      "  98 -3.8399997e+06 6.86e-02 8.36e-07  -5.7 4.87e+02    -  1.00e+00 1.00e+00h  1\n",
      "  99 -3.8399997e+06 1.09e-05 1.37e-09  -5.7 4.60e+00    -  1.00e+00 1.00e+00h  1\n",
      "iter    objective    inf_pr   inf_du lg(mu)  ||d||  lg(rg) alpha_du alpha_pr  ls\n",
      " 100 -3.8399997e+06 1.29e+03 1.49e+01  -8.6 1.12e+05    -  4.19e-01 5.00e-01h  1\n",
      " 101 -3.8399997e+06 1.43e+03 1.61e+01  -8.6 1.50e+05    -  4.82e-01 2.23e-01h  1\n",
      " 102 -3.8399997e+06 6.81e+03 1.21e+01  -8.6 2.38e+05    -  5.88e-01 5.12e-01h  1\n",
      " 103 -3.8399997e+06 6.27e+03 1.49e+01  -8.6 2.01e+05    -  5.84e-01 3.01e-01h  1\n",
      " 104 -3.8399997e+06 5.23e+03 7.49e+00  -8.6 1.32e+05    -  8.23e-01 6.24e-01h  1\n",
      " 105 -3.8399997e+06 4.65e+03 6.71e+00  -8.6 3.56e+04    -  1.44e-01 1.11e-01h  1\n",
      " 106 -3.8399997e+06 3.95e+03 5.70e+00  -8.6 2.41e+04    -  1.59e-01 1.52e-01h  1\n",
      " 107 -3.8399997e+06 3.28e+03 4.54e+00  -8.6 2.15e+04    -  1.92e-02 1.71e-01h  1\n",
      " 108 -3.8399997e+06 2.58e+03 3.46e+00  -8.6 1.98e+04    -  1.32e-01 2.16e-01h  1\n",
      " 109 -3.8399997e+06 1.75e+03 2.06e+00  -8.6 1.79e+04    -  5.25e-02 3.23e-01h  1\n",
      "iter    objective    inf_pr   inf_du lg(mu)  ||d||  lg(rg) alpha_du alpha_pr  ls\n",
      " 110 -3.8399997e+06 1.06e+03 8.90e-01  -8.6 1.53e+04    -  2.80e-02 3.95e-01h  1\n",
      " 111 -3.8399997e+06 5.65e+02 5.17e-02  -8.6 1.26e+04    -  1.88e-02 4.66e-01h  1\n",
      " 112 -3.8399997e+06 2.57e+02 4.68e-01  -8.6 9.82e+03    -  1.73e-02 5.47e-01h  1\n",
      " 113 -3.8399997e+06 9.11e+01 7.35e-01  -8.6 7.20e+03    -  2.20e-02 6.45e-01h  1\n",
      " 114 -3.8399997e+06 1.97e+01 8.33e-01  -8.6 4.96e+03    -  2.97e-02 7.84e-01h  1\n",
      " 115 -3.8399997e+06 3.45e+00 8.15e-01  -8.6 2.81e+03    -  5.76e-02 9.43e-01h  1\n",
      " 116 -3.8399997e+06 3.03e+00 1.70e-03  -8.6 2.03e+03    -  1.00e+00 1.27e-01h  1\n",
      " 117 -3.8399997e+06 4.31e-01 2.39e-04  -8.6 6.46e+02    -  3.08e-01 8.59e-01h  1\n",
      " 118 -3.8399997e+06 4.47e-03 1.76e-09  -8.6 1.09e+02    -  1.00e+00 1.00e+00f  1\n",
      " 119 -3.8399997e+06 1.32e-03 3.57e-12  -8.6 5.91e+01    -  1.00e+00 1.00e+00h  1\n",
      "iter    objective    inf_pr   inf_du lg(mu)  ||d||  lg(rg) alpha_du alpha_pr  ls\n",
      " 120 -3.8399997e+06 1.61e-07 1.74e-13  -8.6 6.52e-01    -  1.00e+00 1.00e+00h  1\n",
      "\n",
      "Number of Iterations....: 120\n",
      "\n",
      "                                   (scaled)                 (unscaled)\n",
      "Objective...............:  -3.8399996711794455e+06   -3.8399996711794455e+06\n",
      "Dual infeasibility......:   1.7360095244801894e-13    1.7360095244801894e-13\n",
      "Constraint violation....:   4.4683636050516871e-09    1.6086108978186076e-07\n",
      "Complementarity.........:   2.5059043871667696e-09    2.5059043871667696e-09\n",
      "Overall NLP error.......:   4.4683636050516871e-09    1.6086108978186076e-07\n",
      "\n",
      "\n",
      "Number of objective function evaluations             = 121\n",
      "Number of objective gradient evaluations             = 121\n",
      "Number of equality constraint evaluations            = 121\n",
      "Number of inequality constraint evaluations          = 121\n",
      "Number of equality constraint Jacobian evaluations   = 121\n",
      "Number of inequality constraint Jacobian evaluations = 121\n",
      "Number of Lagrangian Hessian evaluations             = 120\n",
      "Total CPU secs in IPOPT (w/o function evaluations)   =      1.828\n",
      "Total CPU secs in NLP function evaluations           =      0.900\n",
      "\n",
      "EXIT: Optimal Solution Found.\n"
     ]
    }
   ],
   "source": [
    "model.solver = IpoptSolver()\n",
    "solve(model,graph)"
   ]
  },
  {
   "cell_type": "markdown",
   "metadata": {},
   "source": [
    "## Plot profiles"
   ]
  },
  {
   "cell_type": "code",
   "execution_count": 19,
   "metadata": {
    "collapsed": true
   },
   "outputs": [],
   "source": [
    "px = getvalue(pipe[:px])\n",
    "fx = getvalue(pipe[:fx]);"
   ]
  },
  {
   "cell_type": "code",
   "execution_count": 20,
   "metadata": {},
   "outputs": [
    {
     "data": {
      "image/png": "[encoded data removed]",
      "text/plain": [
       "PyPlot.Figure(PyObject <matplotlib.figure.Figure object at 0x7fc0ed42b890>)"
      ]
     },
     "metadata": {},
     "output_type": "display_data"
    },
    {
     "data": {
      "text/plain": [
       "1-element Array{Any,1}:\n",
       " PyObject <matplotlib.lines.Line2D object at 0x7fc0ed3c9550>"
      ]
     },
     "execution_count": 20,
     "metadata": {},
     "output_type": "execute_result"
    }
   ],
   "source": [
    "plot(x_grid,px[1,:])"
   ]
  },
  {
   "cell_type": "code",
   "execution_count": null,
   "metadata": {
    "collapsed": true
   },
   "outputs": [],
   "source": []
  }
 ],
 "metadata": {
  "kernelspec": {
   "display_name": "Julia 0.5.0",
   "language": "julia",
   "name": "julia-0.5"
  },
  "language_info": {
   "file_extension": ".jl",
   "mimetype": "application/julia",
   "name": "julia",
   "version": "0.5.0"
  }
 },
 "nbformat": 4,
 "nbformat_minor": 2
}
