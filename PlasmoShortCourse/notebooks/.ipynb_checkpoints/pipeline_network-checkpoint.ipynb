{
 "cells": [
  {
   "cell_type": "markdown",
   "metadata": {},
   "source": [
    "# Modeling a Pipeline Network with JuMP\n",
    "### Jordan Jalving and Victor Zavala"
   ]
  },
  {
   "cell_type": "markdown",
   "metadata": {},
   "source": [
    "![title](13_pipe_sketch.png)"
   ]
  },
  {
   "cell_type": "markdown",
   "metadata": {},
   "source": [
    "## Import packages"
   ]
  },
  {
   "cell_type": "code",
   "execution_count": 62,
   "metadata": {
    "collapsed": false
   },
   "outputs": [],
   "source": [
    "using JuMP\n",
    "using Ipopt\n",
    "using PyPlot"
   ]
  },
  {
   "cell_type": "markdown",
   "metadata": {},
   "source": [
    "# Physical property data"
   ]
  },
  {
   "cell_type": "code",
   "execution_count": 63,
   "metadata": {
    "collapsed": true
   },
   "outputs": [],
   "source": [
    "eps= 0.025\t\t             # pipe rugosity - [mm]\n",
    "z= 0.80        \t\t\t     # gas compressibility  - []\n",
    "rhon=0.72         \t\t     # density of air at normal conditions - [kg/m3]\n",
    "R=8314.0       \t\t\t     # universal gas constant [J/kgmol-K]\n",
    "M=18.0    \t\t\t         # gas molar mass [kg/kgmol]\n",
    "pi=3.14         \t\t     # pi\n",
    "T = 293.15      \t\t     # reference temperature [K]\n",
    "Cp = 2.34        \t\t     # heat capacity @ constant pressure [kJ/kg-K]\n",
    "Cv = 1.85        \t\t     # heat capacity @ constant volume [kJ/kg-K]\n",
    "\n",
    "#scaling factors\n",
    "ffac=(1e+6*rhon)/(24*3600)                     # from scmx10-6/day to kg/s\n",
    "ffac2=(3600)/(1e+4*rhon)                       # from kg/s to scmx10-4/hr\n",
    "pfac=1e+5                                      # from bar to Pa\n",
    "pfac2=1e-5                                     # from Pa to bar\n",
    "dfac=1e-3                                      # from mm to m\n",
    "lfac=1e+3;                                      # from km to m"
   ]
  },
  {
   "cell_type": "markdown",
   "metadata": {},
   "source": [
    "## Define sets of nodes and links"
   ]
  },
  {
   "cell_type": "markdown",
   "metadata": {},
   "source": [
    "$\\mathcal{N}$: Set of nodes in the gas network (junctions) \n",
    "\n",
    "$\\mathcal{L}$: Set of links (pipelines)\n",
    "\n",
    "$\\mathcal{S} \\subseteq \\mathcal{N}$: Set of gas supplies\n",
    "\n",
    "$\\mathcal{D} \\subseteq \\mathcal{N}$: Set of gas demands\n",
    "\n",
    "$\\mathcal{L}_a \\subseteq \\mathcal{L}$: Set of active links (pipelines with compressors)\n",
    "\n",
    "$\\mathcal{L}_p \\subseteq \\mathcal{L}$: Set of passive links (pipelines without compressors)"
   ]
  },
  {
   "cell_type": "markdown",
   "metadata": {},
   "source": [
    "## System Equations for our system\n"
   ]
  },
  {
   "cell_type": "markdown",
   "metadata": {},
   "source": [
    "$\\newcommand{\\norm}[1]{\\left\\lvert#1\\right\\rvert}$\n",
    "__Objective__ (Minimize system compressor cost and maximize gas delivery to all demands)\n",
    "\n",
    "$\n",
    "\\min \\varphi:=\\int_{0}^T \\left(\\sum_{\\ell \\in \\mathcal{L}_a}\\alpha_{P}P_\\ell(t) - \\sum_{j \\in \\mathcal{D}}\\alpha_{gas} d_{deliver,j}(t)\\right)dt\n",
    "$\n",
    "\n",
    "\n",
    "__Isothermal Euler Equations__\n",
    "\n",
    "$\n",
    "\\begin{align*}\n",
    "      &\\frac{\\partial p_{\\ell}(t,x)}{\\partial t} + \\frac{c^2}{A_{\\ell}}\\frac{\\partial f_{\\ell}(t,x)}{\\partial x} = 0, \\ \\ \\ell \\in \\mathcal{L}\\\\\n",
    "      &\\frac{\\partial f_{\\ell}(t,x)}{\\partial t} + \\frac{2c^2f_{\\ell}(t,x)}{A_{\\ell}p_{\\ell}(t,x)}\\frac{\\partial f_{\\ell}(t,x)}{\\partial x} - \\frac{c^2f_{\\ell}(t,x)^2}{A_{\\ell}p_{\\ell}(t,x)^2}\\frac{\\partial p_{\\ell}(t,x)}{\\partial x}\n",
    "          + A_{\\ell}\\frac{\\partial p_{\\ell}(t,x)}{\\partial x} = -\\frac{8c^2\\lambda A_{\\ell}}{\\pi^2D_{\\ell}^5}\\frac{f_{\\ell}(t,x)}{p_{\\ell}(t,x)} \\norm{f_{\\ell}(t,x)}, \\ \\ \\ell \\in \\mathcal{L}\n",
    "    \\end{align*}\n",
    "$\n",
    "\n",
    "__Compressor Equations__\n",
    "\n",
    "$\n",
    "\\begin{align*}\n",
    "&P_{\\ell}(t)= c_p\\cdot T\\cdot f_{in,\\ell}(t)\\cdot \\left(\\left(\\frac{p_{in,\\ell}(t)+\\Delta p_{\\ell}(t)}{p_{in,\\ell}(t)}\\right)^{\\frac{\\gamma-1}\n",
    "{\\gamma}}-1\\right),\\ell \\in \\mathcal{L}_a\\\\\n",
    "\\end{align*}\n",
    "$\n",
    "\n",
    "__Boundary Conditions__\n",
    "\n",
    "$\n",
    "\\begin{align*}\n",
    "&p_{\\ell}(0,t)= p_{in,\\ell}(t)+\\Delta p_{\\ell}(t),\\ell \\in \\mathcal{L}_a\\\\\n",
    "&p_{\\ell}(0,t)= p_{in,\\ell}(t),\\ell \\in \\mathcal{L}_p\\\\\n",
    "&p_{\\ell}(L_{\\ell},t)= p_{out,\\ell}(t),\\ell \\in \\mathcal{L}\\\\\n",
    "\\end{align*}\n",
    "$\n",
    "\n",
    "__Node Conservation__\n",
    "\n",
    "$\n",
    "\\begin{align*}\n",
    "&\\sum_{\\ell\\in\\mathcal{L}_n^{rec}}f_{out,\\ell}(t)-\\sum_{\\ell \\in\\mathcal{L}_n^{snd}}f_{in,\\ell}(t) +\n",
    "\\sum_{i\\in\\mathcal{S}_n}g_i(t) - \\sum_{j\\in \\mathcal{D}_n}d_{deliver,j}(t) = 0,\\; n \\in\\mathcal{N}\n",
    "\\end{align*}\n",
    "$\n",
    "\n",
    "__Supply and Demand__\n",
    "\n",
    "$\n",
    "\\begin{align*}\n",
    "&d_{deliver,j}(t) \\le d_{target,j}(t),j \\in \\mathcal{D} \\\\\n",
    "& \\underline{s}_i \\le g_i(t) \\le \\overline{s}_i,i \\in \\mathcal{S}\n",
    "\\end{align*}\n",
    "$"
   ]
  },
  {
   "cell_type": "markdown",
   "metadata": {
    "collapsed": true
   },
   "source": [
    "## Pipeline parameters"
   ]
  },
  {
   "cell_type": "code",
   "execution_count": 64,
   "metadata": {
    "collapsed": true
   },
   "outputs": [],
   "source": [
    "#parameters\n",
    "diameter = 0.92\n",
    "pipe_length = 60000\n",
    "area = (1/4)*pi*diameter*diameter\n",
    "lam = (2*log10(3.7*diameter/(eps*dfac)))^(-2); \n",
    "\n",
    "#other calculated constants\n",
    "gam = Cp/Cv       \t\t     \t# expansion coefficient [-]\n",
    "nu2 = gam*z*R*T/M  \t\t\t    # gas speed of sound\n",
    "om = (gam-1.0)/gam \t\t     \t# aux constant [-]\n",
    "c4 = (1/ffac2)*(Cp*T)\n",
    "#lumped constants for pipeline\n",
    "c1 = (pfac2/ffac2)*(nu2/area)\n",
    "c2 = area*(ffac2/pfac2)\n",
    "c3 = area*(pfac2/ffac2)*(8*lam*nu2)/(pi*pi*diameter^5);"
   ]
  },
  {
   "cell_type": "markdown",
   "metadata": {},
   "source": [
    "## Create time grid, spatial grid, and time horizon for optimization"
   ]
  },
  {
   "cell_type": "code",
   "execution_count": 65,
   "metadata": {
    "collapsed": true
   },
   "outputs": [],
   "source": [
    "horizon = 24*3600;\n",
    "time_grid = 1:24;\n",
    "x_grid = 1:10;\n",
    "dx = pipe_length / (length(x_grid) - 1)  #equally spaced spatial grid points\n",
    "dt = horizon / length(time_grid);         #equally spaced time grid points"
   ]
  },
  {
   "cell_type": "markdown",
   "metadata": {},
   "source": [
    "## Create demand profile data\n",
    "We consider a constant gas demand and introduce a pulse from hours 10 to 15"
   ]
  },
  {
   "cell_type": "code",
   "execution_count": 66,
   "metadata": {
    "collapsed": false
   },
   "outputs": [
    {
     "data": {
      "image/png": "[encoded data removed]",
      "text/plain": [
       "PyPlot.Figure(PyObject <matplotlib.figure.Figure object at 0x7f377d078bd0>)"
      ]
     },
     "metadata": {},
     "output_type": "display_data"
    }
   ],
   "source": [
    "gas_demands = fill(150,length(time_grid))\n",
    "gas_demands[10:15] = 200\n",
    "step(time_grid,gas_demands,color=\"blue\")\n",
    "ax = gca()\n",
    "ax[:set_xlim]([1,24])\n",
    "xlabel(\"Time\")\n",
    "ylabel(\"Demand requested\")\n",
    "grid(\"on\")"
   ]
  },
  {
   "cell_type": "markdown",
   "metadata": {},
   "source": [
    "## Setup network information"
   ]
  },
  {
   "cell_type": "code",
   "execution_count": 67,
   "metadata": {
    "collapsed": true
   },
   "outputs": [],
   "source": [
    "links = 1:13              #define set of pipelines \n",
    "plinks = [1,13]           #define passive pipelines\n",
    "alinks = collect(2:12)    #define active pipelines\n",
    "nodes = 1:14              #define set of nodes\n",
    "supplies = [1]            #define set of supplies\n",
    "demands = [1]             #define set of demands\n",
    "supply_locs = [1]         #define node location of supply\n",
    "demand_locs = [14]        #define node location of demand \n",
    "lstartloc = collect(1:13) #link start locations\n",
    "lendloc = collect(2:14);  #link end locations"
   ]
  },
  {
   "cell_type": "markdown",
   "metadata": {},
   "source": [
    "## Define pipeline transport variables\n",
    "Notice how we have added a new index to each variable representing its link in the network"
   ]
  },
  {
   "cell_type": "code",
   "execution_count": 68,
   "metadata": {
    "collapsed": true
   },
   "outputs": [],
   "source": [
    "m = Model(solver = IpoptSolver())\n",
    "@variable(m,pin[links,time_grid] >= 0, start = 60)\n",
    "@variable(m,pout[links,time_grid] >= 0, start = 60)\n",
    "@variable(m,fin[links,time_grid] >=0, start = 100)\n",
    "@variable(m,fout[links,time_grid] >= 0, start = 100)\n",
    "@variable(m, px[links,time_grid,x_grid] >= 0, start = 60)\n",
    "@variable(m, fx[links,time_grid,x_grid] >= 0, start = 10)\n",
    "@constraint(m, flow_in[link = links,t = time_grid],  fx[link,t,1] == fin[link,t])\n",
    "@constraint(m, flow_out[link = links,t = time_grid], fx[link,t,x_grid[end]] == fout[link,t]);"
   ]
  },
  {
   "cell_type": "markdown",
   "metadata": {},
   "source": [
    "## Supply and demand variables and constraints"
   ]
  },
  {
   "cell_type": "code",
   "execution_count": 69,
   "metadata": {
    "collapsed": false
   },
   "outputs": [],
   "source": [
    "# supply and demand variables\n",
    "@variable(m,sgen[supplies,time_grid] >= 0, start = 100)\n",
    "@variable(m,ddeliver[demands,time_grid] >= 0, start = 100)\n",
    "@variable(m, dtarget[demands,time_grid] >= 0)\n",
    "@constraint(m, gasLimit[d = demands,t = time_grid], ddeliver[d,t] <= dtarget[d,t]);\n",
    "@constraint(m, demand[d = demands,t = time_grid], dtarget[d,t] == gas_demands[t]);"
   ]
  },
  {
   "cell_type": "markdown",
   "metadata": {},
   "source": [
    "## Compressor variables and equations"
   ]
  },
  {
   "cell_type": "code",
   "execution_count": 70,
   "metadata": {
    "collapsed": false
   },
   "outputs": [],
   "source": [
    "@variable(m, dp[link = alinks,time_grid] >= 0 , start = 10)\n",
    "@variable(m, pow[link = alinks,time_grid] >= 0, start = 500);\n",
    "@NLconstraint(m,powereqn[link = alinks,t = time_grid], \n",
    "pow[link,t] == c4*fin[link,t]*(((pin[link,t]+dp[link,t])/pin[link,t])^om-1));"
   ]
  },
  {
   "cell_type": "markdown",
   "metadata": {},
   "source": [
    "## Define PDE equations\n",
    "Here we define the isothermal euler equations, as well as the appropriate boundary conditions and initial condition for EACH pipeline"
   ]
  },
  {
   "cell_type": "code",
   "execution_count": 71,
   "metadata": {
    "collapsed": false
   },
   "outputs": [],
   "source": [
    "#Auxillary variables\n",
    "@variable(m, slack1[links,time_grid,x_grid] >= 0, start = 10)  #auxiliary variable for friction loss term\n",
    "@variable(m, slack2[links,time_grid,x_grid] >= 0, start = 10)  #auxiliary variable\n",
    "@variable(m, slack3[links,time_grid,x_grid] >= 0, start = 10)  #auxiliary variable\n",
    "\n",
    "#Auxillary constraints (let's us avoid the fractional terms)\n",
    "@NLconstraint(m, slackeq1[link = links,t = time_grid, x = x_grid],  \n",
    "slack1[link,t,x]*px[link,t,x] - c3*fx[link,t,x]*fx[link,t,x] == 0)\n",
    "@NLconstraint(m, slackeq2[link = links,t = time_grid, x = x_grid],  \n",
    "slack2[link,t,x]*px[link,t,x] - 2*c1*fx[link,t,x] == 0)\n",
    "@NLconstraint(m, slackeq3[link = links,t = time_grid, x = x_grid],  \n",
    "slack3[link,t,x]*px[link,t,x]*px[link,t,x] - c1*fx[link,t,x]*fx[link,t,x] == 0)\n",
    "\n",
    "#PDE equations\n",
    "@constraint(m, mass[link = links,t = time_grid[1:end-1], x = x_grid[1:end-1]],\n",
    "    (px[link,t+1,x]-px[link,t,x])/dt + c1*(fx[link,t+1,x+1]-fx[link,t+1,x])/dx == 0 )\n",
    "@constraint(m, momentum[link = links,t = time_grid[1:end-1], x = x_grid[1:end-1]],\n",
    "    (fx[link,t+1,x]-fx[link,t,x])/dt == -slack2[link,t+1,x]*(fx[link,t+1,x+1]-fx[link,t+1,x])/dx +\n",
    "                            slack3[link,t+1,x]*(px[link,t+1,x+1]-px[link,t+1,x])/dx -c2*(px[link,t+1,x+1]-px[link,t+1,x])/dx - slack1[link,t+1,x])\n",
    "\n",
    "#Boundary Conditions\n",
    "#@constraint(m,f_in[t = time_grid],  fin[t] == 80)\n",
    "@constraint(m,press_in1[link = plinks,t = time_grid], px[link,t,1] == pin[link,t])\n",
    "@constraint(m,press_in2[link = alinks,t = time_grid], px[link,t,1] == pin[link,t] + dp[link,t])\n",
    "@constraint(m,press_out[link = links,t = time_grid], px[link,t,x_grid[end]] == pout[link,t])\n",
    "\n",
    "#Initial Conditions\n",
    "@constraint(m, mass_ss[link = links,t = 1, x = x_grid[1:end-1]],\n",
    "(fx[link,t,x+1] - fx[link,t,x]) == 0)\n",
    "@constraint(m, momentum_ss[link = links,t = 1, x = x_grid[1:end-1]], \n",
    "-c2*(px[link,t,x+1] - px[link,t,x])/dx - slack1[link,t,x] == 0)"
   ]
  },
  {
   "cell_type": "markdown",
   "metadata": {},
   "source": [
    "## Node conservation\n",
    "We now introduce a mass balance for gas around each node in the network"
   ]
  },
  {
   "cell_type": "code",
   "execution_count": 72,
   "metadata": {
    "collapsed": false
   },
   "outputs": [],
   "source": [
    "# node balances\n",
    "@constraint(m,nodebalance[node = nodes,t = time_grid],\n",
    "sum(fout[link,t] for link in links if lendloc[link] == node)\n",
    "+ sum(sgen[supply,t] for supply in supplies if supply_locs[supply] == node)\n",
    "- sum(fin[link,t] for link in links if lstartloc[link] == node)\n",
    "- sum(ddeliver[demand,t] for demand in demands if demand_locs[demand] == node) == 0);"
   ]
  },
  {
   "cell_type": "markdown",
   "metadata": {},
   "source": [
    "## Periodic terminal constraint\n",
    "This avoids solutions that deplete the mass of gas in the pipeline"
   ]
  },
  {
   "cell_type": "code",
   "execution_count": 73,
   "metadata": {
    "collapsed": false
   },
   "outputs": [],
   "source": [
    "#Periodic terminal constraint\n",
    "@variable(m,linepack[links,time_grid])\n",
    "@constraint(m,linepack_def[link = links,t = time_grid],linepack[link,t] == sum(fx[link,t,x] for x in x_grid)*dx);\n",
    "@constraint(m,linepack_cons[link = links], linepack[link,time_grid[end]] >= linepack[link,time_grid[1]]);"
   ]
  },
  {
   "cell_type": "markdown",
   "metadata": {},
   "source": [
    "## Objective function terms"
   ]
  },
  {
   "cell_type": "code",
   "execution_count": 74,
   "metadata": {
    "collapsed": true
   },
   "outputs": [],
   "source": [
    "compressor_cost = 0.1\n",
    "@variable(m, powercost[alinks])\n",
    "@constraint(m,boostcosteqn[link = alinks], powercost[link] == sum(compressor_cost*pow[link,t] for t = time_grid)*dt/3600)\n",
    "\n",
    "gas_cost = 1000\n",
    "@variable(m, demandcost[demands])\n",
    "@constraint(m, integratedGasCost[d = demands], demandcost[d] == sum(gas_cost*ddeliver[d,t] for t = time_grid));"
   ]
  },
  {
   "cell_type": "markdown",
   "metadata": {},
   "source": [
    "## Objective function\n",
    "Minimize total compressor power and maximize total gas delivered throughout the network"
   ]
  },
  {
   "cell_type": "code",
   "execution_count": 75,
   "metadata": {
    "collapsed": true
   },
   "outputs": [],
   "source": [
    "@objective(m,Min,sum(powercost[link] for link in alinks) - sum(demandcost[d] for d in demands));"
   ]
  },
  {
   "cell_type": "markdown",
   "metadata": {},
   "source": [
    "## Solve problem"
   ]
  },
  {
   "cell_type": "code",
   "execution_count": 76,
   "metadata": {
    "collapsed": false
   },
   "outputs": [
    {
     "name": "stdout",
     "output_type": "stream",
     "text": [
      "This is Ipopt version 3.12.1, running with linear solver mumps.\n",
      "NOTE: Other linear solvers might be more efficient (see Ipopt documentation).\n",
      "\n",
      "Number of nonzeros in equality constraint Jacobian...:    82656\n",
      "Number of nonzeros in inequality constraint Jacobian.:       74\n",
      "Number of nonzeros in Lagrangian Hessian.............:    46668\n",
      "\n",
      "Total number of variables............................:    17772\n",
      "                     variables with only lower bounds:    17448\n",
      "                variables with lower and upper bounds:        0\n",
      "                     variables with only upper bounds:        0\n",
      "Total number of equality constraints.................:    17172\n",
      "Total number of inequality constraints...............:       37\n",
      "        inequality constraints with only lower bounds:       13\n",
      "   inequality constraints with lower and upper bounds:        0\n",
      "        inequality constraints with only upper bounds:       24\n",
      "\n",
      "iter    objective    inf_pr   inf_du lg(mu)  ||d||  lg(rg) alpha_du alpha_pr  ls\n",
      "   0  0.0000000e+00 2.40e+06 1.00e+00  -1.0 0.00e+00    -  0.00e+00 0.00e+00   0\n",
      "   1 -4.3847041e+03 2.40e+06 2.16e+01  -1.0 9.95e+06    -  4.95e-05 1.08e-03f  1\n",
      "   2 -9.6756377e+03 2.39e+06 2.16e+01  -1.0 9.64e+06    -  6.96e-04 1.37e-03f  1\n",
      "   3 -3.4630038e+05 2.18e+06 8.20e+01  -1.0 9.59e+06    -  1.22e-03 8.88e-02f  1\n",
      "   4 -3.5644047e+05 2.18e+06 1.98e+01  -1.0 9.24e+06    -  8.40e-02 2.90e-03f  1\n",
      "   5 -7.3964520e+05 1.94e+06 2.64e+01  -1.0 9.50e+06    -  8.60e-02 1.10e-01f  1\n",
      "   6 -9.0765045e+05 1.84e+06 4.00e+01  -1.0 2.28e+07    -  3.15e-02 5.00e-02f  1\n",
      "   7 -9.0859779e+05 1.84e+06 1.67e+01  -1.0 3.38e+07    -  4.69e-02 2.81e-04f  1\n",
      "   8 -9.1052867e+05 1.84e+06 1.57e+02  -1.0 7.98e+06    -  1.65e-01 6.48e-04f  1\n",
      "   9 -1.4335834e+06 1.52e+06 1.47e+02  -1.0 7.91e+06    -  1.98e-01 1.76e-01f  1\n",
      "iter    objective    inf_pr   inf_du lg(mu)  ||d||  lg(rg) alpha_du alpha_pr  ls\n",
      "  10 -2.1657867e+06 1.06e+06 9.94e+01  -1.0 6.31e+06    -  9.38e-02 2.98e-01f  1\n",
      "  11 -3.2004090e+06 4.26e+05 3.27e+02  -1.0 4.43e+06    -  6.01e-02 6.00e-01f  1\n",
      "  12 -3.8915684e+06 4.55e+04 5.19e+02  -1.0 1.77e+06    -  7.24e-02 1.00e+00f  1\n",
      "  13 -3.8933436e+06 6.96e+03 3.02e+02  -1.0 1.30e+05    -  4.49e-01 1.00e+00f  1\n",
      "  14 -3.8955169e+06 2.24e+02 2.24e+01  -1.0 1.41e+05    -  9.27e-01 1.00e+00f  1\n",
      "  15 -3.8987747e+06 2.19e+04 6.24e+01  -1.0 2.96e+02  -4.0 7.18e-01 1.00e+00f  1\n",
      "  16 -3.8989079e+06 2.10e+04 4.44e+01  -1.0 1.87e+07    -  4.36e-02 1.07e-01f  1\n",
      "  17 -3.8997496e+06 6.41e+04 4.08e+01  -1.0 3.45e+02  -4.5 6.37e-01 7.80e-01f  1\n",
      "  18 -3.8998982e+06 8.00e+04 1.59e+01  -1.0 1.05e+03  -5.0 6.29e-01 9.85e-01h  1\n",
      "  19 -3.8999308e+06 8.49e+04 1.98e+01  -1.0 1.24e+03  -5.4 5.44e-01 7.10e-01h  1\n",
      "iter    objective    inf_pr   inf_du lg(mu)  ||d||  lg(rg) alpha_du alpha_pr  ls\n",
      "  20 -3.8999447e+06 3.49e+04 5.01e+01  -1.0 1.38e+03  -5.0 1.07e-01 1.00e+00h  1\n",
      "  21 -3.8999449e+06 6.61e+03 3.27e-01  -1.0 4.59e+02  -5.5 1.00e+00 1.00e+00h  1\n",
      "  22 -3.8999448e+06 8.81e+03 8.80e-02  -1.0 7.83e+02  -6.0 1.00e+00 1.00e+00h  1\n",
      "  23 -3.8999448e+06 1.08e+04 1.06e-01  -1.0 1.27e+03  -6.4 1.00e+00 1.00e+00h  1\n",
      "  24 -3.8999448e+06 1.23e+04 1.22e-01  -1.0 2.02e+03  -6.9 1.00e+00 1.00e+00h  1\n",
      "  25 -3.8999448e+06 1.34e+04 1.31e-01  -1.0 3.29e+03  -7.4 1.00e+00 1.00e+00h  1\n",
      "  26 -3.8999448e+06 4.98e+04 3.07e-01  -1.0 6.16e+03  -7.9 6.37e-01 6.19e-01h  1\n",
      "  27 -3.8999448e+06 1.03e+05 2.11e+00  -1.0 5.43e+03  -7.4 2.61e-01 5.08e-01h  1\n",
      "  28 -3.8999448e+06 1.03e+05 6.30e+00  -1.0 1.96e+06  -7.9 4.06e-03 6.13e-04h  3\n",
      "  29 -3.8999448e+06 1.03e+05 3.58e+01  -1.0 1.11e+06  -7.5 1.02e-02 7.02e-04h  2\n",
      "iter    objective    inf_pr   inf_du lg(mu)  ||d||  lg(rg) alpha_du alpha_pr  ls\n",
      "  30 -3.8999448e+06 1.02e+05 3.58e+01  -1.0 2.87e+06  -8.0 2.80e-03 2.83e-03h  1\n",
      "  31 -3.8999448e+06 1.01e+05 4.91e+01  -1.0 3.98e+05  -7.5 3.40e-04 8.42e-03h  1\n",
      "  32 -3.8999448e+06 1.00e+05 4.00e+01  -1.0 2.36e+06  -8.0 3.51e-03 7.04e-03h  1\n",
      "  33 -3.8999448e+06 1.00e+05 4.00e+01  -1.0 1.38e+06  -7.6 5.54e-04 1.35e-04h  3\n",
      "  34 -3.8999448e+06 1.00e+05 4.00e+01  -1.0 6.50e+05  -7.2 1.19e-02 4.33e-04h  2\n",
      "  35 -3.8999448e+06 9.98e+04 8.74e+01  -1.0 1.05e+06  -7.6 2.28e-03 2.32e-03h  1\n",
      "  36 -3.8999447e+06 5.55e+05 7.03e+04  -1.0 2.94e+05  -7.2 3.05e-04 2.08e-01f  1\n",
      "  37 -3.8999456e+06 5.47e+05 6.93e+04  -1.0 1.61e+04  -2.3 7.53e-01 1.39e-02h  1\n",
      "  38 -3.8999458e+06 5.15e+05 6.53e+04  -1.0 8.80e+03  -2.8 6.02e-02 5.98e-02h  1\n",
      "  39 -3.8999455e+06 1.09e+05 6.54e+04  -1.0 4.26e+03  -2.3 1.69e-02 1.00e+00h  1\n",
      "iter    objective    inf_pr   inf_du lg(mu)  ||d||  lg(rg) alpha_du alpha_pr  ls\n",
      "  40 -3.8999455e+06 1.01e+05 3.69e+04  -1.0 5.49e+03  -2.8 6.23e-01 7.31e-02h  1\n",
      "  41 -3.8999455e+06 1.01e+05 1.13e+04  -1.0 1.03e+03  -2.4 9.79e-01 1.93e-03H  1\n",
      "  42 -3.8999455e+06 1.01e+05 1.13e+04  -1.0 2.10e+03  -2.9 3.41e-05 1.96e-03f  1\n",
      "  43 -3.8999470e+06 9.34e+04 1.04e+04  -1.0 1.10e+03  -2.4 2.05e-03 7.18e-02h  1\n",
      "  44 -3.8999468e+06 8.51e+04 9.49e+03  -1.0 4.05e+03  -2.9 1.09e-01 9.01e-02h  1\n",
      "  45 -3.8999465e+06 1.02e+05 7.32e+03  -1.0 2.09e+04  -3.4 2.46e-01 2.20e-01h  1\n",
      "  46 -3.8999465e+06 1.02e+05 7.32e+03  -1.0 5.83e+05  -3.9 1.20e-03 1.62e-04h  5\n",
      "  47 -3.8999463e+06 1.02e+05 7.19e+03  -1.0 1.94e+04  -3.4 1.86e-02 1.79e-02h  2\n",
      "  48 -3.8999463e+06 1.02e+05 7.19e+03  -1.0 2.19e+04  -2.1 1.07e-02 9.36e-05h  2\n",
      "  49 -3.8999450e+06 1.02e+05 7.87e+03  -1.0 3.01e+04  -2.6 6.56e-03 2.78e-02h  2\n",
      "iter    objective    inf_pr   inf_du lg(mu)  ||d||  lg(rg) alpha_du alpha_pr  ls\n",
      "  50 -3.8999451e+06 1.02e+05 1.44e+04  -1.0 1.55e+04  -3.1 1.19e-01 1.39e-04h  1\n",
      "  51 -3.8999451e+06 9.79e+04 1.44e+04  -1.0 3.49e+04  -3.5 4.26e-02 2.27e-02h  2\n",
      "  52 -3.8999465e+06 4.52e+04 1.41e+04  -1.0 5.48e+03  -3.1 1.00e+00 2.85e-01h  1\n",
      "  53 -3.8999468e+06 3.69e+03 3.55e+03  -1.0 2.38e+02  -1.8 6.25e-03 1.00e+00h  1\n",
      "  54 -3.8999465e+06 3.54e+01 1.75e+02  -1.0 1.76e+01  -2.3 1.00e+00 1.00e+00h  1\n",
      "  55 -3.8999448e+06 3.39e-03 1.64e-01  -1.0 1.70e+00  -2.7 1.00e+00 1.00e+00f  1\n",
      "  56 -3.8999975e+06 5.22e-03 2.79e-03  -2.5 4.59e+00  -3.2 1.00e+00 1.00e+00f  1\n",
      "  57 -3.8999999e+06 3.54e-06 7.36e-04  -3.8 3.64e+00  -3.7 1.00e+00 1.00e+00f  1\n",
      "  58 -3.8999999e+06 1.26e-05 2.48e+01  -3.8 1.04e+01  -4.2 1.00e+00 4.82e-01f  1\n",
      "  59 -3.8999999e+06 1.20e-07 2.30e-06  -3.8 1.02e-01  -4.6 1.00e+00 1.00e+00f  1\n",
      "iter    objective    inf_pr   inf_du lg(mu)  ||d||  lg(rg) alpha_du alpha_pr  ls\n",
      "  60 -3.9000000e+06 3.78e-09 7.67e-07  -5.7 1.02e-01  -5.1 1.00e+00 1.00e+00f  1\n",
      "  61 -3.9000000e+06 1.86e-09 1.30e+00  -8.6 5.29e-04  -5.6 1.00e+00 8.63e-01f  1\n",
      "  62 -3.9000000e+06 3.73e-09 1.92e+01  -8.6 7.17e-05  -6.1 1.00e+00 6.21e-01f  1\n",
      "  63 -3.9000000e+06 3.73e-09 4.61e+00  -8.6 2.72e-05  -6.6 1.00e+00 7.62e-01f  1\n",
      "  64 -3.9000000e+06 2.79e-09 2.64e-09  -8.6 3.05e-05  -7.0 1.00e+00 1.00e+00f  1\n",
      "\n",
      "Number of Iterations....: 64\n",
      "\n",
      "                                   (scaled)                 (unscaled)\n",
      "Objective...............:  -3.9000000002395199e+06   -3.9000000002395199e+06\n",
      "Dual infeasibility......:   2.6382214746156762e-09    2.6382214746156762e-09\n",
      "Constraint violation....:   1.8626451492309571e-10    2.7939677238464355e-09\n",
      "Complementarity.........:   4.9651727426403307e-09    4.9651727426403307e-09\n",
      "Overall NLP error.......:   4.9651727426403307e-09    4.9651727426403307e-09\n",
      "\n",
      "\n",
      "Number of objective function evaluations             = 88\n",
      "Number of objective gradient evaluations             = 65\n",
      "Number of equality constraint evaluations            = 88\n",
      "Number of inequality constraint evaluations          = 88\n",
      "Number of equality constraint Jacobian evaluations   = 65\n",
      "Number of inequality constraint Jacobian evaluations = 65\n",
      "Number of Lagrangian Hessian evaluations             = 64\n",
      "Total CPU secs in IPOPT (w/o function evaluations)   =     10.760\n",
      "Total CPU secs in NLP function evaluations           =      3.632\n",
      "\n",
      "EXIT: Optimal Solution Found.\n"
     ]
    },
    {
     "data": {
      "text/plain": [
       ":Optimal"
      ]
     },
     "execution_count": 76,
     "metadata": {},
     "output_type": "execute_result"
    }
   ],
   "source": [
    "solve(m)"
   ]
  },
  {
   "cell_type": "code",
   "execution_count": 77,
   "metadata": {
    "collapsed": false
   },
   "outputs": [
    {
     "data": {
      "image/png": "[encoded data removed]",
      "text/plain": [
       "PyPlot.Figure(PyObject <matplotlib.figure.Figure object at 0x7f37873c3fd0>)"
      ]
     },
     "metadata": {},
     "output_type": "display_data"
    }
   ],
   "source": [
    "d_profile = getvalue(ddeliver)\n",
    "step(time_grid,d_profile[:],color=\"red\")\n",
    "ax = gca()\n",
    "ax[:set_xlim]([1,24])\n",
    "xlabel(\"Time\")\n",
    "ylabel(\"Demand delivered\")\n",
    "grid(\"on\")"
   ]
  },
  {
   "cell_type": "code",
   "execution_count": null,
   "metadata": {
    "collapsed": true
   },
   "outputs": [],
   "source": []
  }
 ],
 "metadata": {
  "kernelspec": {
   "display_name": "Julia 0.4.5",
   "language": "julia",
   "name": "julia-0.4"
  },
  "language_info": {
   "file_extension": ".jl",
   "mimetype": "application/julia",
   "name": "julia",
   "version": "0.4.5"
  }
 },
 "nbformat": 4,
 "nbformat_minor": 2
}
