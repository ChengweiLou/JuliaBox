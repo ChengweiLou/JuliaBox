{
 "cells": [
  {
   "cell_type": "markdown",
   "metadata": {},
   "source": [
    "## Farmer problem \n",
    "### Victor M. Zavala 2016 \n",
    "### University of Wisconsin-Madison "
   ]
  },
  {
   "cell_type": "code",
   "execution_count": 8,
   "metadata": {
    "collapsed": true
   },
   "outputs": [],
   "source": [
    "using JuMP \n",
    "using Ipopt "
   ]
  },
  {
   "cell_type": "code",
   "execution_count": 9,
   "metadata": {
    "collapsed": false
   },
   "outputs": [],
   "source": [
    "# Model parameters\n",
    "\n",
    "NS = 5;                    # number of scenarios\n",
    "S = collect([1:NS]);       # scenario set\n",
    "P = collect([1:3]);        # set of crops (1=wheat,2=corn,3=beets)\n",
    "\n",
    "# Data \n",
    "prcost = zeros(3)          # production (planting) cost\n",
    "prcost[1] = 150;\n",
    "prcost[2] = 230;\n",
    "prcost[3] = 260;\n",
    "\n",
    "pcost = zeros(3)           # purchase cost\n",
    "pcost[1] = 238;\n",
    "pcost[2] = 210;\n",
    "pcost[3] = 0;\n",
    "\n",
    "scost = zeros(3)           # sales cost\n",
    "scost[1] = 170;\n",
    "scost[2] = 150;\n",
    "scost[3] = 36;\n",
    "\n",
    "demand = zeros(3)          # demand\n",
    "demand[1] = 200;\n",
    "demand[2] = 240;\n",
    "demand[3] = 0;\n",
    "\n",
    "# assign random data\n",
    "\n",
    "yield = zeros(length(S),3) # yields\n",
    "yield[S,1] = 2.5;\n",
    "yield[S,2] = 3.0;\n",
    "\n",
    "yield[1,3] = 10;\n",
    "yield[2,3] = 15;\n",
    "yield[3,3] = 20;\n",
    "yield[4,3] = 25;\n",
    "yield[5,3] = 30;"
   ]
  },
  {
   "cell_type": "code",
   "execution_count": 10,
   "metadata": {
    "collapsed": false
   },
   "outputs": [
    {
     "data": {
      "text/plain": [
       ":Optimal"
      ]
     },
     "execution_count": 10,
     "metadata": {},
     "output_type": "execute_result"
    }
   ],
   "source": [
    "# Model \n",
    "\n",
    "m = Model(solver=IpoptSolver(print_level=0))\n",
    "\n",
    "@defVar(m, x[S,P] >= 0)    # acres devoted to crops\n",
    "@defVar(m, y[S,P] >= 0)    # crops purchase\n",
    "@defVar(m, w[S,P] >= 0)    # crops sold;\n",
    "@defExpr(m, Cost[s in S], sum{prcost[j]*x[s,j] + pcost[j]*y[s,j] - scost[j]*w[s,j], j in P})\n",
    "@defVar(m, cost[s in S])\n",
    "\n",
    "\n",
    "@addConstraint(m, varcost[s in S], cost[s] == Cost[s]) \n",
    "@addConstraint(m, cap[s in S], sum{x[s,j], j in P} <= 500)\n",
    "@addConstraint(m, bal[s in S,j in P], yield[s,j]*x[s,j]+y[s,j]-w[s,j] >= demand[j]) \n",
    "@addConstraint(m, sellb[s in S], w[s,3] <= 6000)\n",
    "@addConstraint(m, buyb[s in S], y[s,3] <= 0)\n",
    "@addConstraint(m, nonant[s in S,j in P], x[1,j] == x[s,j])\n",
    "\n",
    "@setObjective(m, Min, (1/NS)*sum{cost[s], s in S})\n",
    "\n",
    "solve(m)"
   ]
  },
  {
   "cell_type": "code",
   "execution_count": 11,
   "metadata": {
    "collapsed": false
   },
   "outputs": [
    {
     "name": "stdout",
     "output_type": "stream",
     "text": [
      "x: 2 dimensions:\n",
      "[1,:]\n",
      "  [1,1] = 220.00000379973474\n",
      "  [1,2] = 79.99999920015239\n",
      "  [1,3] = 200.0000020000673\n",
      "[2,:]\n",
      "  [2,1] = 220.00000379973474\n",
      "  [2,2] = 79.99999920015239\n",
      "  [2,3] = 200.0000020000673\n",
      "[3,:]\n",
      "  [3,1] = 220.00000379973474\n",
      "  [3,2] = 79.99999920015239\n",
      "  [3,3] = 200.0000020000673\n",
      "[4,:]\n",
      "  [4,1] = 220.00000379973474\n",
      "  [4,2] = 79.99999920015239\n",
      "  [4,3] = 200.0000020000673\n",
      "[5,:]\n",
      "  [5,1] = 220.00000379973474\n",
      "  [5,2] = 79.99999920015239\n",
      "  [5,3] = 200.0000020000673\n",
      "\n",
      "\n",
      "y: 2 dimensions:\n",
      "[1,:]\n",
      "  [1,1] = 0.0\n",
      "  [1,2] = 0.0\n",
      "  [1,3] = 0.0\n",
      "[2,:]\n",
      "  [2,1] = 0.0\n",
      "  [2,2] = 0.0\n",
      "  [2,3] = 0.0\n",
      "[3,:]\n",
      "  [3,1] = 0.0\n",
      "  [3,2] = 0.0\n",
      "  [3,3] = 0.0\n",
      "[4,:]\n",
      "  [4,1] = 0.0\n",
      "  [4,2] = 0.0\n",
      "  [4,3] = 0.0\n",
      "[5,:]\n",
      "  [5,1] = 0.0\n",
      "  [5,2] = 0.0\n",
      "  [5,3] = 0.0\n",
      "\n",
      "\n",
      "w: 2 dimensions:\n",
      "[1,:]\n",
      "  [1,1] = 350.00001148944745\n",
      "  [1,2] = 0.0\n",
      "  [1,3] = 2000.0000200003253\n",
      "[2,:]\n",
      "  [2,1] = 350.00001148944745\n",
      "  [2,2] = 0.0\n",
      "  [2,3] = 3000.000030000662\n",
      "[3,:]\n",
      "  [3,1] = 350.00001148944745\n",
      "  [3,2] = 0.0\n",
      "  [3,3] = 4000.0000400009985\n",
      "[4,:]\n",
      "  [4,1] = 350.00001148944745\n",
      "  [4,2] = 0.0\n",
      "  [4,3] = 5000.000050001335\n",
      "[5,:]\n",
      "  [5,1] = 350.00001148944745\n",
      "  [5,2] = 0.0\n",
      "  [5,3] = 6000.000059999594\n",
      "\n",
      "\n",
      "cost: 1 dimensions:\n",
      "[1] = -28100.001770180523\n",
      "[2] = -64100.00213019264\n",
      "[3] = -100100.00249020477\n",
      "[4] = -136100.00285021687\n",
      "[5] = -172100.00321015422\n",
      "\n",
      "\n",
      "obj -100100.00249018983\n"
     ]
    }
   ],
   "source": [
    "# Results\n",
    "\n",
    "println(getValue(x))\n",
    "println(\"\")\n",
    "println(getValue(y))\n",
    "println(\"\")\n",
    "println(getValue(w))\n",
    "println(\"\")\n",
    "println(getValue(cost))\n",
    "println(\"\")\n",
    "println(\"obj \",getObjectiveValue(m))"
   ]
  },
  {
   "cell_type": "code",
   "execution_count": null,
   "metadata": {
    "collapsed": true
   },
   "outputs": [],
   "source": []
  }
 ],
 "metadata": {
  "kernelspec": {
   "display_name": "Julia 0.4.2",
   "language": "julia",
   "name": "julia-0.4"
  },
  "language_info": {
   "file_extension": ".jl",
   "mimetype": "application/julia",
   "name": "julia",
   "version": "0.4.2"
  }
 },
 "nbformat": 4,
 "nbformat_minor": 0
}
