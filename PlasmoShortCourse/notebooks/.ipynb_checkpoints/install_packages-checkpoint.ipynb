{
 "cells": [
  {
   "cell_type": "code",
   "execution_count": null,
   "metadata": {
    "collapsed": true
   },
   "outputs": [],
   "source": [
    "Pkg.add(\"JuMP\")\n",
    "Pkg.add(\"Ipopt\")\n",
    "#Pkg.add(\"PyPlot\")\n",
    "#Pkg.add(\"LightGraphs\")\n",
    "push!(LOAD_PATH,\"/home/juser/JuliaBox/PlasmoShortCourse/src\")\n",
    "using JuMP\n",
    "using Ipopt\n",
    "using Plasmo\n",
    "using PyPlot"
   ]
  },
  {
   "cell_type": "code",
   "execution_count": 3,
   "metadata": {},
   "outputs": [
    {
     "name": "stderr",
     "output_type": "stream",
     "text": [
      "touch: cannot touch '/home/juser/.juliarc.jl': No such file or directory\n"
     ]
    },
    {
     "ename": "LoadError",
     "evalue": "failed process: Process(`touch /home/juser/.juliarc.jl`, ProcessExited(1)) [1]",
     "output_type": "error",
     "traceback": [
      "failed process: Process(`touch /home/juser/.juliarc.jl`, ProcessExited(1)) [1]",
      "",
      " in pipeline_error(::Base.Process) at ./process.jl:616",
      " in run(::Cmd) at ./process.jl:592"
     ]
    }
   ],
   "source": []
  },
  {
   "cell_type": "code",
   "execution_count": null,
   "metadata": {
    "collapsed": true
   },
   "outputs": [],
   "source": []
  }
 ],
 "metadata": {
  "kernelspec": {
   "display_name": "Julia 0.5.0",
   "language": "julia",
   "name": "julia-0.5"
  },
  "language_info": {
   "file_extension": ".jl",
   "mimetype": "application/julia",
   "name": "julia",
   "version": "0.5.0"
  }
 },
 "nbformat": 4,
 "nbformat_minor": 2
}
