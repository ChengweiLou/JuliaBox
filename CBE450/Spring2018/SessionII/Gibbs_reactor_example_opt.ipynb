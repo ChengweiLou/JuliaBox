{
 "cells": [
  {
   "cell_type": "code",
   "execution_count": 1,
   "metadata": {
    "collapsed": false
   },
   "outputs": [],
   "source": [
    "# call libraries to be used\n",
    "using JuMP\n",
    "using Ipopt\n",
    "\n",
    "# define algebraic model\n",
    "m = Model(solver=IpoptSolver())\n",
    "\n",
    "# define sets\n",
    "K = [\"CO\",\"H2\",\"CH3OH\"]; # set of components\n",
    "\n",
    "# define variables\n",
    "@variable(m, μ_in[K]>=0)     # inlet molar flows (kmol/hr)\n",
    "@variable(m, μ_out[K]>=0)    # outlet molar flows (kmol/hr)\n",
    "@variable(m, μ_out_tot>=0)   # total outlet flow\n",
    "@variable(m,0<=ξ<=1)         # extent of reactor [-]\n",
    "@variable(m,90<=P<=150)      # reactor pressure [bar] -> now a free variable\n",
    "\n",
    "# define data\n",
    "T=300+273.15\n",
    "Keq=10^(-12.275+4938/T) # reaction equilibrium @ 300 degC \n",
    "\n",
    "# Gibbs equilibrium condition\n",
    "@constraint(m, μ_in[\"CO\"] == 100)\n",
    "@constraint(m, μ_in[\"H2\"] == 600)\n",
    "@constraint(m, μ_in[\"CH3OH\"]== 0)\n",
    "@constraint(m, μ_out[\"CO\"]==μ_in[\"CO\"]-100*ξ)\n",
    "@constraint(m, μ_out[\"H2\"]==μ_in[\"H2\"]-2*100*ξ)\n",
    "@constraint(m, μ_out[\"CH3OH\"]==100*ξ)\n",
    "@constraint(m, μ_out_tot==sum(μ_out[k] for k in K))\n",
    "@NLconstraint(m, \n",
    "(μ_out[\"CH3OH\"]/μ_out_tot)/(μ_out[\"CO\"]*μ_out[\"H2\"]*μ_out[\"H2\"]/(μ_out_tot*μ_out_tot*μ_out_tot))== (P^2)*Keq)\n",
    "            \n",
    "# maximize extent of reaction\n",
    "@objective(m, Max, ξ)"
   ]
  },
  {
   "cell_type": "code",
   "execution_count": 2,
   "metadata": {
    "collapsed": false
   },
   "outputs": [
    {
     "name": "stdout",
     "output_type": "stream",
     "text": [
      "\n",
      "******************************************************************************\n",
      "This program contains Ipopt, a library for large-scale nonlinear optimization.\n",
      " Ipopt is released as open source code under the Eclipse Public License (EPL).\n",
      "         For more information visit http://projects.coin-or.org/Ipopt\n",
      "******************************************************************************\n",
      "\n",
      "This is Ipopt version 3.12.1, running with linear solver mumps.\n",
      "NOTE: Other linear solvers might be more efficient (see Ipopt documentation).\n",
      "\n",
      "Number of nonzeros in equality constraint Jacobian...:       20\n",
      "Number of nonzeros in inequality constraint Jacobian.:        0\n",
      "Number of nonzeros in Lagrangian Hessian.............:       11\n",
      "\n",
      "Total number of variables............................:        9\n",
      "                     variables with only lower bounds:        7\n",
      "                variables with lower and upper bounds:        2\n",
      "                     variables with only upper bounds:        0\n",
      "Total number of equality constraints.................:        8\n",
      "Total number of inequality constraints...............:        0\n",
      "        inequality constraints with only lower bounds:        0\n",
      "   inequality constraints with lower and upper bounds:        0\n",
      "        inequality constraints with only upper bounds:        0\n",
      "\n",
      "iter    objective    inf_pr   inf_du lg(mu)  ||d||  lg(rg) alpha_du alpha_pr  ls\n",
      "   0 -9.9999900e-03 6.00e+02 7.92e-04  -1.0 0.00e+00    -  0.00e+00 0.00e+00   0\n",
      "   1 -9.8990297e-03 6.00e+02 1.49e+02  -1.0 8.00e+02    -  1.24e-05 1.98e-04f  1\n",
      "   2 -3.1423687e-03 6.00e+00 3.14e+03  -1.0 6.99e+02    -  2.13e-04 9.90e-01f  1\n",
      "   3 -1.1230116e-04 4.96e+00 2.60e+03  -1.0 5.57e+01    -  4.11e-01 1.73e-01h  1\n",
      "   4 -2.3071976e-04 3.90e+00 2.04e+03  -1.0 5.04e+01    -  2.48e-01 2.15e-01h  1\n",
      "   5 -3.5016428e-04 3.89e+00 2.04e+03  -1.0 4.34e+01    -  4.79e-03 2.49e-03h  1\n",
      "   6 -2.6201477e-02 3.81e+00 2.00e+03  -1.0 2.55e+02    -  2.27e-04 2.00e-02f  1\n",
      "   7 -9.8909589e-01 1.58e+02 8.52e+04  -1.0 2.36e+02    -  2.65e-02 8.04e-01f  1\n",
      "   8 -9.8766705e-01 1.34e+02 7.27e+04  -1.0 2.51e+00    -  7.31e-01 1.73e-01h  2\n",
      "   9 -9.8270516e-01 8.94e+01 4.87e+04  -1.0 2.72e+00    -  1.00e+00 4.95e-01h  2\n",
      "iter    objective    inf_pr   inf_du lg(mu)  ||d||  lg(rg) alpha_du alpha_pr  ls\n",
      "  10 -9.7495676e-01 5.94e+01 3.27e+04  -1.0 3.49e+00    -  7.77e-01 4.96e-01h  2\n",
      "  11 -9.6347500e-01 3.93e+01 2.36e+04  -1.0 4.80e+00    -  1.00e+00 4.97e-01h  2\n",
      "  12 -9.5519453e-01 3.13e+01 5.98e+04  -1.0 6.73e+00    -  8.11e-01 2.49e-01h  3\n",
      "  13 -9.1519786e-01 1.48e+01 8.72e+03  -1.0 8.07e+00    -  1.00e+00 1.00e+00h  1\n",
      "  14 -8.4687201e-01 6.62e+00 2.15e+06  -1.0 1.37e+01    -  7.80e-01 1.00e+00h  1\n",
      "  15 -7.4686347e-01 2.63e+00 1.95e+03  -1.0 2.00e+01    -  1.00e+00 1.00e+00h  1\n",
      "  16 -6.3729327e-01 8.05e-01 7.63e+02  -1.0 2.19e+01    -  1.00e+00 1.00e+00h  1\n",
      "  17 -5.6753168e-01 1.33e-01 5.87e+04  -1.7 1.40e+01    -  9.93e-01 1.00e+00h  1\n",
      "  18 -5.5099542e-01 5.05e-03 1.31e+01  -1.7 3.31e+00    -  1.00e+00 1.00e+00h  1\n",
      "  19 -5.5031667e-01 7.88e-06 4.02e-02  -3.8 1.36e-01    -  1.00e+00 1.00e+00h  1\n",
      "iter    objective    inf_pr   inf_du lg(mu)  ||d||  lg(rg) alpha_du alpha_pr  ls\n",
      "  20 -5.5035015e-01 9.86e-09 5.32e-03  -3.8 6.70e-03    -  8.15e-01 1.00e+00h  1\n",
      "  21 -6.0140134e-01 3.00e-02 1.48e+04  -5.7 1.02e+01    -  7.62e-04 1.00e+00f  1\n",
      "  22 -8.3057529e-01 2.49e+00 5.35e+03  -5.7 7.58e+01    -  6.40e-01 6.64e-01f  1\n",
      "  23 -7.8376496e-01 5.51e-01 1.03e+03  -5.7 9.36e+00    -  8.07e-01 1.00e+00h  1\n",
      "  24 -7.8101842e-01 4.26e-01 4.95e-03  -5.7 2.41e+00    -  1.00e+00 2.28e-01h  1\n",
      "  25 -7.6777543e-01 2.46e-02 5.47e-04  -5.7 2.65e+00    -  1.00e+00 1.00e+00h  1\n",
      "  26 -7.6691621e-01 9.16e-05 4.17e-06  -5.7 1.72e-01    -  1.00e+00 1.00e+00h  1\n",
      "  27 -7.6691296e-01 1.30e-09 1.01e-10  -5.7 6.49e-04    -  1.00e+00 1.00e+00h  1\n",
      "  28 -7.6691481e-01 2.80e-10 1.27e-12  -8.6 7.96e-04    -  1.00e+00 1.00e+00h  1\n",
      "\n",
      "Number of Iterations....: 28\n",
      "\n",
      "                                   (scaled)                 (unscaled)\n",
      "Objective...............:  -7.6691480572533477e-01   -7.6691480572533477e-01\n",
      "Dual infeasibility......:   1.2665808406938511e-12    1.2665808406938511e-12\n",
      "Constraint violation....:   2.7950974867962941e-10    2.7950974867962941e-10\n",
      "Complementarity.........:   2.5269866950595848e-09    2.5269866950595848e-09\n",
      "Overall NLP error.......:   2.5269866950595848e-09    2.5269866950595848e-09\n",
      "\n",
      "\n",
      "Number of objective function evaluations             = 35\n",
      "Number of objective gradient evaluations             = 29\n",
      "Number of equality constraint evaluations            = 35\n",
      "Number of inequality constraint evaluations          = 0\n",
      "Number of equality constraint Jacobian evaluations   = 29\n",
      "Number of inequality constraint Jacobian evaluations = 0\n",
      "Number of Lagrangian Hessian evaluations             = 28\n",
      "Total CPU secs in IPOPT (w/o function evaluations)   =      0.156\n",
      "Total CPU secs in NLP function evaluations           =      0.044\n",
      "\n",
      "EXIT: Optimal Solution Found.\n"
     ]
    }
   ],
   "source": [
    "# solve problem\n",
    "solve(m)"
   ]
  },
  {
   "cell_type": "code",
   "execution_count": 3,
   "metadata": {
    "collapsed": false
   },
   "outputs": [
    {
     "name": "stdout",
     "output_type": "stream",
     "text": [
      "P=150.0\n",
      "ξ=0.7669148057253348\n",
      "μ_out: 1 dimensions:\n",
      "[   CO] = 23.308519427466532\n",
      "[   H2] = 446.61703885493307\n",
      "[CH3OH] = 76.69148057253346\n",
      "μ_out_tot=546.6170388549331\n"
     ]
    }
   ],
   "source": [
    "# display solution\n",
    "println(\"P=\",getvalue(P))\n",
    "println(\"ξ=\",getvalue(ξ))\n",
    "println(getvalue(μ_out))\n",
    "println(\"μ_out_tot=\",getvalue(μ_out_tot))"
   ]
  },
  {
   "cell_type": "code",
   "execution_count": null,
   "metadata": {
    "collapsed": true
   },
   "outputs": [],
   "source": []
  }
 ],
 "metadata": {
  "kernelspec": {
   "display_name": "Julia 0.5.2",
   "language": "julia",
   "name": "julia-0.5"
  },
  "language_info": {
   "file_extension": ".jl",
   "mimetype": "application/julia",
   "name": "julia",
   "version": "0.5.2"
  }
 },
 "nbformat": 4,
 "nbformat_minor": 2
}
