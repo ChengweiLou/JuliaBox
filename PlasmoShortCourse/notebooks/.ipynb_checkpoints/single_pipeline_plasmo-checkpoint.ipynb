{
 "cells": [
  {
   "cell_type": "markdown",
   "metadata": {},
   "source": [
    "# Solving a Single Pipeline Model using Plasmo"
   ]
  },
  {
   "cell_type": "markdown",
   "metadata": {},
   "source": [
    "## Import Plasmo and Ipopt"
   ]
  },
  {
   "cell_type": "code",
   "execution_count": 1,
   "metadata": {},
   "outputs": [
    {
     "name": "stderr",
     "output_type": "stream",
     "text": [
      "WARNING: Method definition macroexpand(Module, Any) in module Compat at /home/jordan/.julia/v0.5/Compat/src/Compat.jl:1491 overwritten in module MacroTools at /home/jordan/.julia/v0.5/MacroTools/src/utils.jl:64.\n"
     ]
    }
   ],
   "source": [
    "using Plasmo\n",
    "using Ipopt\n",
    "using PyPlot"
   ]
  },
  {
   "cell_type": "markdown",
   "metadata": {},
   "source": [
    "## Define a global horizon variable, and import some gas component models"
   ]
  },
  {
   "cell_type": "code",
   "execution_count": 2,
   "metadata": {},
   "outputs": [],
   "source": [
    "global horizon = 48\n",
    "include(\"gas_components.jl\");"
   ]
  },
  {
   "cell_type": "markdown",
   "metadata": {},
   "source": [
    "## Set our parameters are usual"
   ]
  },
  {
   "cell_type": "code",
   "execution_count": 3,
   "metadata": {
    "collapsed": true
   },
   "outputs": [],
   "source": [
    "#pipeline data\n",
    "pipe_length = 30000\n",
    "diameter = 0.92\n",
    "time_grid = 1:48\n",
    "x_grid = 1:10\n",
    "min_pressure = 1\n",
    "max_pressure = 100\n",
    "min_flow = 1\n",
    "max_flow = 300\n",
    "\n",
    "#compressor data\n",
    "dp_min = 1\n",
    "dp_max = 20\n",
    "min_power = 1\n",
    "max_power = 10000\n",
    "comp_cost = 0.1;"
   ]
  },
  {
   "cell_type": "markdown",
   "metadata": {},
   "source": [
    "## Set pipeline, compressor, and junction data"
   ]
  },
  {
   "cell_type": "code",
   "execution_count": 4,
   "metadata": {
    "collapsed": true
   },
   "outputs": [],
   "source": [
    "pdata = PipeData(pipe_length,diameter,time_grid,x_grid,min_pressure,max_pressure,min_flow,max_flow) #pipe data\n",
    "cdata = CompData(dp_min,dp_max,min_power,max_power,comp_cost) #compressor data\n",
    "supply_node_data = NodeData(time_grid,1,300,0,50,70,-1000,0.0)\n",
    "demand_node_data = NodeData(time_grid,0,0,1,50,70,-1000,0.0);"
   ]
  },
  {
   "cell_type": "markdown",
   "metadata": {},
   "source": [
    "## Create the graph representing a pipeline and two junctions (supply and demand)"
   ]
  },
  {
   "cell_type": "code",
   "execution_count": 5,
   "metadata": {
    "collapsed": true
   },
   "outputs": [],
   "source": [
    "#Create the Plasmo Graph Model\n",
    "model = GraphModel()\n",
    "graph = getgraph(model)\n",
    "n1 = add_node!(model)\n",
    "n2 = add_node!(model)\n",
    "pipe = add_edge!(model,n1,n2);"
   ]
  },
  {
   "cell_type": "markdown",
   "metadata": {},
   "source": [
    "## Setup our model for our PDE system"
   ]
  },
  {
   "cell_type": "code",
   "execution_count": 6,
   "metadata": {
    "collapsed": true
   },
   "outputs": [],
   "source": [
    "euler_model = euleractivelink(pdata,cdata)\n",
    "#provide a steady state initial condition\n",
    "euler_model = steadystatestart(euler_model,pdata)\n",
    "\n",
    "supply = gasnode(supply_node_data)\n",
    "demand = gasnode(demand_node_data)\n",
    "\n",
    "#set the models on our nodes and edge\n",
    "setmodel!(n1,supply)\n",
    "setmodel!(n2,demand)\n",
    "setmodel!(pipe,euler_model)"
   ]
  },
  {
   "cell_type": "markdown",
   "metadata": {},
   "source": [
    "## Add linking constraints between component models"
   ]
  },
  {
   "cell_type": "code",
   "execution_count": 7,
   "metadata": {
    "collapsed": true
   },
   "outputs": [],
   "source": [
    "#Node conservation in n1\n",
    "@linkconstraint(model,graph,n1,[t = time_grid], 0 == sum(in_edges(graph,n1)[i][:fout][t] for i = 1:length(in_edges(graph,n1))) -\n",
    "sum(out_edges(graph,n1)[i][:fin][t] for i = 1:length(out_edges(graph,n1))) + n1[:total_supplied][t] - n1[:total_delivered][t])\n",
    "\n",
    "#Node conservation in n2\n",
    "@linkconstraint(model,graph,n2,[t = time_grid], 0 == sum(in_edges(graph,n2)[i][:fout][t] for i = 1:length(in_edges(graph,n2))) -\n",
    "sum(out_edges(graph,n2)[i][:fin][t] for i = 1:length(out_edges(graph,n2))) + n2[:total_supplied][t] - n2[:total_delivered][t])\n",
    "\n",
    "#set linking constraints for our pipe boundary condition\n",
    "@linkconstraint(model,graph,pipe,[t = time_grid],pipe[:pin][t] == getconnectedfrom(graph,pipe)[:pressure][t])\n",
    "@linkconstraint(model,graph,pipe,[t = time_grid],pipe[:pout][t] == getconnectedto(graph,pipe)[:pressure][t]);"
   ]
  },
  {
   "cell_type": "markdown",
   "metadata": {},
   "source": [
    "## Fix the demand at n2"
   ]
  },
  {
   "cell_type": "code",
   "execution_count": 8,
   "metadata": {},
   "outputs": [],
   "source": [
    "d = getmodel(n2) #grab n2's model\n",
    "@constraint(d,[t = time_grid],n2[:demand][1,t] == 30);"
   ]
  },
  {
   "cell_type": "markdown",
   "metadata": {},
   "source": [
    "## Solve the pipe system"
   ]
  },
  {
   "cell_type": "code",
   "execution_count": 9,
   "metadata": {},
   "outputs": [
    {
     "name": "stdout",
     "output_type": "stream",
     "text": [
      "Creating flattened graph model...\n",
      "Finished model instantiation\n",
      "\n",
      "******************************************************************************\n",
      "This program contains Ipopt, a library for large-scale nonlinear optimization.\n",
      " Ipopt is released as open source code under the Eclipse Public License (EPL).\n",
      "         For more information visit http://projects.coin-or.org/Ipopt\n",
      "******************************************************************************\n",
      "\n",
      "This is Ipopt version 3.12.1, running with linear solver mumps.\n",
      "NOTE: Other linear solvers might be more efficient (see Ipopt documentation).\n",
      "\n",
      "Number of nonzeros in equality constraint Jacobian...:    11514\n",
      "Number of nonzeros in inequality constraint Jacobian.:       98\n",
      "Number of nonzeros in Lagrangian Hessian.............:     9798\n",
      "\n",
      "Total number of variables............................:     3175\n",
      "                     variables with only lower bounds:     1920\n",
      "                variables with lower and upper bounds:     1200\n",
      "                     variables with only upper bounds:        0\n",
      "Total number of equality constraints.................:     3031\n",
      "Total number of inequality constraints...............:       49\n",
      "        inequality constraints with only lower bounds:        1\n",
      "   inequality constraints with lower and upper bounds:        0\n",
      "        inequality constraints with only upper bounds:       48\n",
      "\n",
      "iter    objective    inf_pr   inf_du lg(mu)  ||d||  lg(rg) alpha_du alpha_pr  ls\n",
      "   0  0.0000000e+00 4.80e+06 1.00e+00  -1.0 0.00e+00    -  0.00e+00 0.00e+00   0\n",
      "   1 -3.9439758e+04 4.60e+06 1.25e+02  -1.0 9.41e+05    -  3.31e-04 4.19e-02f  1\n",
      "   2 -5.8585780e+04 4.59e+06 1.25e+02  -1.0 2.10e+07    -  1.70e-03 9.13e-04f  1\n",
      "   3 -6.2883726e+04 4.59e+06 1.25e+02  -1.0 2.60e+06    -  8.07e-03 1.65e-03f  1\n",
      "   4 -7.5396891e+04 4.55e+06 1.24e+02  -1.0 1.37e+06    -  5.43e-03 9.10e-03f  1\n",
      "   5 -8.9617079e+04 4.50e+06 1.22e+02  -1.0 1.35e+06    -  4.23e-03 1.05e-02f  1\n",
      "   6 -1.0492165e+05 4.45e+06 1.21e+02  -1.0 1.34e+06    -  5.69e-03 1.14e-02f  1\n",
      "   7 -2.2848102e+05 4.03e+06 1.10e+02  -1.0 1.33e+06    -  2.34e-03 9.28e-02f  1\n",
      "   8 -2.6430293e+05 3.91e+06 1.07e+02  -1.0 1.21e+06    -  1.90e-02 2.95e-02f  1\n",
      "   9 -3.2068825e+05 3.73e+06 1.12e+02  -1.0 1.26e+06    -  2.42e-03 4.76e-02f  1\n",
      "iter    objective    inf_pr   inf_du lg(mu)  ||d||  lg(rg) alpha_du alpha_pr  ls\n",
      "  10 -3.8938692e+05 3.50e+06 1.53e+02  -1.0 1.45e+06    -  1.23e-02 6.04e-02f  1\n",
      "  11 -3.8988123e+05 3.50e+06 1.21e+02  -1.0 1.57e+06    -  3.34e-02 4.60e-04f  1\n",
      "  12 -4.9404427e+05 3.15e+06 1.45e+02  -1.0 1.05e+06    -  5.98e-02 9.92e-02f  1\n",
      "  13 -5.8043060e+05 2.87e+06 1.40e+02  -1.0 9.46e+05    -  8.19e-02 9.13e-02f  1\n",
      "  14 -7.2753739e+05 2.38e+06 1.33e+02  -1.0 8.60e+05    -  1.49e-01 1.71e-01f  1\n",
      "  15 -9.3922407e+05 1.67e+06 1.77e+02  -1.0 7.12e+05    -  1.73e-01 2.97e-01f  1\n",
      "  16 -1.0732728e+06 1.22e+06 1.43e+02  -1.0 5.01e+05    -  2.43e-01 2.68e-01f  1\n",
      "  17 -1.2694974e+06 5.69e+05 1.83e+02  -1.0 3.67e+05    -  2.57e-01 5.35e-01f  1\n",
      "  18 -1.4382910e+06 5.68e+03 2.01e+02  -1.0 1.70e+05    -  4.53e-01 9.90e-01f  1\n",
      "  19 -1.4399789e+06 5.21e+01 3.24e+03  -1.0 1.11e+04    -  6.08e-01 9.91e-01f  1\n",
      "iter    objective    inf_pr   inf_du lg(mu)  ||d||  lg(rg) alpha_du alpha_pr  ls\n",
      "  20 -1.4399867e+06 4.57e+01 2.12e+04  -1.0 2.21e+04    -  5.27e-01 5.00e-01f  2\n",
      "  21 -1.4399906e+06 1.25e+02 1.28e+05  -1.0 4.42e+04    -  5.79e-01 5.00e-01h  2\n",
      "  22 -1.4399945e+06 2.44e+02 6.42e+05  -1.0 9.11e+04    -  7.26e-01 1.00e+00H  1\n",
      "  23 -1.4399945e+06 4.85e+02 6.63e+05  -1.0 1.53e+05    -  9.05e-01 1.00e+00H  1\n",
      "  24 -1.4399944e+06 1.02e+03 3.81e+04  -1.0 1.10e+05    -  9.42e-01 7.38e-01h  1\n",
      "  25 -1.4399943e+06 4.80e+03 2.84e+04  -1.0 1.23e+05    -  2.54e-01 1.00e+00f  1\n",
      "  26 -1.4399942e+06 2.77e+03 1.95e+04  -1.0 1.23e+05    -  3.15e-01 1.00e+00h  1\n",
      "  27 -1.4399942e+06 2.87e+02 4.56e-02  -1.0 1.36e+04    -  1.00e+00 1.00e+00h  1\n",
      "  28 -1.4399942e+06 1.87e+03 2.21e-01  -1.0 7.17e+04    -  6.09e-01 1.00e+00h  1\n",
      "  29 -1.4399942e+06 1.69e+03 1.48e-02  -1.0 6.73e+04    -  1.00e+00 1.00e+00h  1\n",
      "iter    objective    inf_pr   inf_du lg(mu)  ||d||  lg(rg) alpha_du alpha_pr  ls\n",
      "  30 -1.4399942e+06 1.69e+03 1.05e-02  -1.0 6.72e+04    -  8.92e-01 1.00e+00h  1\n",
      "  31 -1.4399942e+06 3.24e+03 3.16e-03  -1.0 9.32e+04    -  1.00e+00 1.00e+00h  1\n",
      "  32 -1.4399942e+06 1.47e+02 7.95e-05  -1.0 1.98e+04    -  1.00e+00 1.00e+00h  1\n",
      "  33 -1.4399942e+06 7.16e-02 1.00e-06  -1.0 4.43e+02    -  1.00e+00 1.00e+00h  1\n",
      "  34 -1.4399990e+06 4.31e+00 9.92e+05  -3.8 7.26e+03    -  9.01e-01 1.00e+00f  1\n",
      "  35 -1.4399994e+06 6.31e+01 3.42e+05  -3.8 2.44e+04    -  6.55e-01 1.00e+00h  1\n",
      "  36 -1.4399996e+06 1.73e+02 6.50e+04  -3.8 3.41e+04    -  8.10e-01 8.49e-01h  1\n",
      "  37 -1.4399998e+06 6.71e+03 2.22e+04  -3.8 8.47e+04    -  6.58e-01 8.62e-01h  1\n",
      "  38 -1.4399998e+06 7.18e+02 1.85e+03  -3.8 3.69e+04    -  9.17e-01 1.00e+00h  1\n",
      "  39 -1.4399998e+06 9.49e+02 6.04e-03  -3.8 6.94e+04    -  1.00e+00 5.39e-01h  1\n",
      "iter    objective    inf_pr   inf_du lg(mu)  ||d||  lg(rg) alpha_du alpha_pr  ls\n",
      "  40 -1.4399998e+06 1.15e+02 1.64e+00  -3.8 2.19e+04    -  1.90e-02 1.00e+00h  1\n",
      "  41 -1.4399998e+06 8.72e-01 1.42e+00  -3.8 6.02e-01  -4.0 8.84e-01 1.00e+00h  1\n",
      "  42 -1.4399998e+06 2.48e+01 9.07e+00  -3.8 2.38e+04    -  1.00e+00 2.61e-01h  2\n",
      "  43 -1.4399998e+06 2.32e+01 1.22e-02  -3.8 6.92e+03    -  1.00e+00 1.00e+00h  1\n",
      "  44 -1.4399998e+06 8.29e+00 3.03e-06  -3.8 4.77e+03    -  1.00e+00 1.00e+00h  1\n",
      "  45 -1.4399998e+06 2.91e-02 2.05e-08  -3.8 1.06e+02    -  1.00e+00 1.00e+00h  1\n",
      "  46 -1.4399998e+06 3.98e-07 1.51e-09  -3.8 7.90e-01    -  1.00e+00 1.00e+00h  1\n",
      "  47 -1.4399998e+06 4.03e+02 2.64e+03  -5.7 7.34e+04    -  5.24e-01 3.47e-01f  1\n",
      "  48 -1.4399998e+06 3.31e+02 8.46e+02  -5.7 5.04e+00  -4.5 3.32e-03 1.87e-01h  1\n",
      "  49 -1.4399998e+06 4.48e+00 6.41e+03  -5.7 2.57e+00  -5.0 8.96e-02 1.00e+00h  1\n",
      "iter    objective    inf_pr   inf_du lg(mu)  ||d||  lg(rg) alpha_du alpha_pr  ls\n",
      "  50 -1.4399999e+06 1.68e+03 4.84e+03  -5.7 1.59e+05    -  2.46e-01 3.77e-01h  1\n",
      "  51 -1.4399999e+06 2.08e+03 2.81e+03  -5.7 1.70e+05    -  4.19e-01 3.65e-01h  1\n",
      "  52 -1.4399999e+06 1.05e+02 2.58e+03  -5.7 4.11e+00  -5.4 8.35e-02 9.54e-01h  1\n",
      "  53 -1.4399999e+06 8.08e+01 1.36e+00  -5.7 3.47e+00  -5.9 9.99e-01 2.29e-01h  1\n",
      "  54 -1.4399999e+06 4.11e+01 2.59e-01  -5.7 8.75e+00  -6.4 1.00e+00 4.93e-01h  1\n",
      "  55 -1.4399999e+06 2.23e+01 2.43e-02  -5.7 1.48e+01  -6.9 7.94e-01 1.00e+00h  1\n",
      "  56 -1.4399999e+06 2.03e+02 8.25e-03  -5.7 5.26e+01  -7.3 1.00e+00 8.43e-01h  1\n",
      "  57 -1.4399999e+06 4.87e+01 9.73e-02  -5.7 1.43e+01  -7.8 7.47e-01 1.00e+00h  1\n",
      "  58 -1.4399999e+06 1.02e+02 4.11e-02  -5.7 7.30e+01  -8.3 1.00e+00 5.15e-01h  1\n",
      "  59 -1.4399999e+06 7.76e+01 3.03e+00  -5.7 6.60e+01  -8.8 2.30e-02 1.00e+00h  1\n",
      "iter    objective    inf_pr   inf_du lg(mu)  ||d||  lg(rg) alpha_du alpha_pr  ls\n",
      "  60 -1.4399999e+06 5.47e+01 1.63e+00  -5.7 2.36e+02  -9.2 9.51e-01 4.31e-01h  1\n",
      "  61 -1.4399999e+06 6.44e+02 1.03e-01  -5.7 6.87e+02  -9.7 6.95e-01 9.36e-01h  1\n",
      "  62 -1.4399999e+06 4.80e+02 7.75e-02  -5.7 1.25e+03 -10.2 1.00e+00 2.67e-01h  1\n",
      "  63 -1.4399999e+06 1.81e+02 3.69e-03  -5.7 3.38e+03 -10.7 3.07e-01 1.00e+00h  1\n",
      "  64 -1.4399999e+06 1.72e+02 1.45e-02  -5.7 1.04e+04 -11.2 4.06e-01 4.80e-02h  1\n",
      "  65 -1.4399999e+06 1.65e+02 1.98e-03  -5.7 2.70e+04 -11.6 7.79e-01 2.83e-01h  1\n",
      "  66 -1.4399999e+06 1.50e+02 5.52e-03  -5.7 5.83e+04 -12.1 1.00e+00 9.20e-02h  1\n",
      "  67 -1.4399999e+06 1.38e+03 5.33e-03  -5.7 2.02e+06    -  3.94e-02 3.26e-02h  1\n",
      "  68 -1.4399999e+06 1.41e+03 5.14e-03  -5.7 1.16e+06    -  8.96e-02 9.98e-03h  1\n",
      "  69 -1.4399999e+06 1.55e+03 4.80e-03  -5.7 5.43e+05    -  1.01e-01 5.29e-02h  1\n",
      "iter    objective    inf_pr   inf_du lg(mu)  ||d||  lg(rg) alpha_du alpha_pr  ls\n",
      "  70 -1.4399999e+06 9.39e+02 3.37e-03  -5.7 2.60e+04 -12.6 4.93e-02 3.93e-01h  1\n",
      "  71 -1.4399999e+06 9.74e+02 3.18e-03  -5.7 6.49e+05    -  9.50e-02 4.09e-02h  1\n",
      "  72 -1.4399999e+06 9.50e+02 3.10e-03  -5.7 8.14e+05    -  6.81e-03 2.83e-02h  1\n",
      "  73 -1.4399999e+06 2.45e+03 2.72e-03  -5.7 6.39e+05    -  1.51e-01 1.16e-01h  1\n",
      "  74 -1.4399999e+06 1.99e+03 2.19e-03  -5.7 2.41e+04 -13.1 2.07e-01 1.87e-01h  1\n",
      "  75 -1.4399999e+06 1.54e+03 3.84e-03  -5.7 9.22e+04 -13.5 5.87e-01 2.24e-01h  1\n",
      "  76 -1.4399999e+06 1.05e+04 2.27e-03  -5.7 6.25e+05    -  1.68e-01 2.72e-01h  1\n",
      "  77 -1.4399999e+06 8.90e+03 8.18e-04  -5.7 2.32e+05    -  9.11e-02 2.95e-01h  1\n",
      "  78 -1.4399999e+06 2.59e+03 4.93e-03  -5.7 9.84e+04    -  2.25e-01 7.57e-01h  1\n",
      "  79 -1.4399999e+06 2.21e+04 8.04e-03  -5.7 3.63e+05    -  2.86e-02 6.75e-01h  1\n",
      "iter    objective    inf_pr   inf_du lg(mu)  ||d||  lg(rg) alpha_du alpha_pr  ls\n",
      "  80 -1.4399999e+06 1.87e+04 5.49e-03  -5.7 2.98e+05    -  6.97e-02 2.24e-01h  1\n",
      "  81 -1.4399999e+06 1.36e+04 7.08e-03  -5.7 1.94e+05    -  4.43e-02 3.05e-01h  1\n",
      "  82 -1.4399999e+06 1.20e+04 8.04e-03  -5.7 1.61e+05    -  3.69e-02 1.14e-01h  1\n",
      "  83 -1.4399999e+06 1.52e+04 8.64e-03  -5.7 2.50e+05    -  3.26e-01 7.30e-01h  1\n",
      "  84 -1.4399999e+06 9.58e+03 8.90e-03  -5.7 1.54e+05    -  4.21e-03 3.72e-01h  1\n",
      "  85 -1.4399999e+06 5.79e+03 5.35e-02  -5.7 1.36e+05    -  8.82e-02 5.01e-01h  1\n",
      "  86 -1.4399999e+06 4.02e+03 3.65e-02  -5.7 8.44e+03 -14.0 9.12e-02 3.05e-01h  1\n",
      "  87 -1.4399999e+06 2.04e+03 4.53e-03  -5.7 7.24e+04    -  9.93e-01 8.85e-01h  1\n",
      "  88 -1.4399999e+06 2.21e+02 1.25e-03  -5.7 1.45e+04 -14.5 2.78e-02 8.92e-01h  1\n",
      "  89 -1.4399999e+06 2.03e+02 1.93e-07  -5.7 2.30e+04    -  1.00e+00 1.00e+00h  1\n",
      "iter    objective    inf_pr   inf_du lg(mu)  ||d||  lg(rg) alpha_du alpha_pr  ls\n",
      "  90 -1.4399999e+06 2.21e+00 6.76e-08  -5.7 2.39e+03    -  1.00e+00 1.00e+00h  1\n",
      "  91 -1.4399999e+06 1.84e-04 8.92e-10  -5.7 2.26e+01    -  1.00e+00 1.00e+00h  1\n",
      "  92 -1.4399999e+06 3.68e+03 6.88e+00  -8.6 2.02e+05    -  5.25e-01 4.38e-01h  1\n",
      "  93 -1.4399999e+06 7.90e+03 3.02e+01  -8.6 2.54e+05    -  6.14e-01 4.73e-01h  1\n",
      "  94 -1.4399999e+06 6.49e+03 2.21e+01  -8.6 2.13e+05    -  4.86e-01 3.77e-01h  1\n",
      "  95 -1.4399999e+06 5.14e+03 1.68e+01  -8.6 2.03e+05    -  3.66e-01 2.86e-01h  1\n",
      "  96 -1.4399999e+06 4.63e+03 1.30e+01  -8.6 1.78e+05    -  2.54e-01 2.36e-01h  1\n",
      "  97 -1.4399999e+06 4.05e+03 1.09e+01  -8.6 1.51e+05    -  3.83e-01 2.25e-01h  1\n",
      "  98 -1.4399999e+06 3.34e+03 6.60e+00  -8.6 1.20e+05    -  1.81e-01 3.47e-01h  1\n",
      "  99 -1.4399999e+06 2.65e+03 4.33e+00  -8.6 7.93e+04    -  3.75e-02 2.59e-01h  1\n",
      "iter    objective    inf_pr   inf_du lg(mu)  ||d||  lg(rg) alpha_du alpha_pr  ls\n",
      " 100 -1.4399999e+06 2.14e+03 3.00e+00  -8.6 4.93e+04    -  3.56e-02 2.10e-01h  1\n",
      " 101 -1.4399999e+06 1.35e+03 9.45e-01  -8.6 2.97e+04    -  2.09e-02 3.95e-01h  1\n",
      " 102 -1.4399999e+06 1.15e+03 5.66e-01  -8.6 2.30e+04    -  4.24e-02 1.48e-01h  1\n",
      " 103 -1.4399999e+06 4.63e+02 1.03e+00  -8.6 2.13e+04    -  1.38e-02 5.98e-01h  1\n",
      " 104 -1.4399999e+06 1.48e+02 1.78e+00  -8.6 1.46e+04    -  1.13e-02 7.05e-01h  1\n",
      " 105 -1.4399999e+06 1.07e+02 1.83e+00  -8.6 1.08e+04    -  1.85e-02 3.03e-01h  1\n",
      " 106 -1.4399999e+06 5.59e+01 1.03e-01  -8.6 7.11e+03    -  1.00e+00 5.34e-01h  1\n",
      " 107 -1.4399999e+06 4.91e+01 8.89e-02  -8.6 6.37e+03    -  1.00e+00 1.25e-01h  1\n",
      " 108 -1.4399999e+06 1.40e+01 2.77e-03  -8.6 5.83e+03    -  4.02e-02 9.69e-01h  1\n",
      " 109 -1.4399999e+06 3.64e+00 1.21e-03  -8.6 3.11e+03    -  6.57e-02 1.00e+00h  1\n",
      "iter    objective    inf_pr   inf_du lg(mu)  ||d||  lg(rg) alpha_du alpha_pr  ls\n",
      " 110 -1.4399999e+06 1.61e+00 3.50e-04  -8.6 2.06e+03    -  6.25e-02 1.00e+00h  1\n",
      " 111 -1.4399999e+06 3.48e-01 6.46e-05  -8.6 6.63e+02    -  1.00e+00 8.17e-01h  1\n",
      " 112 -1.4399999e+06 1.14e+00 1.04e-05  -8.6 1.99e+03    -  1.00e+00 8.47e-01h  1\n",
      " 113 -1.4399999e+06 9.18e-02 1.47e-09  -8.6 4.90e+02    -  1.00e+00 1.00e+00f  1\n",
      " 114 -1.4399999e+06 4.11e-02 1.48e-10  -8.6 3.28e+02    -  1.00e+00 1.00e+00h  1\n",
      " 115 -1.4399999e+06 8.64e-05 1.27e-12  -8.6 1.50e+01    -  1.00e+00 1.00e+00h  1\n",
      " 116 -1.4399999e+06 5.90e-10 1.14e-13  -8.6 3.93e-02    -  1.00e+00 1.00e+00h  1\n",
      "\n",
      "Number of Iterations....: 116\n",
      "\n",
      "                                   (scaled)                 (unscaled)\n",
      "Objective...............:  -1.4399998770424693e+06   -1.4399998770424693e+06\n",
      "Dual infeasibility......:   1.1368683772161603e-13    1.1368683772161603e-13\n",
      "Constraint violation....:   1.6380057803960173e-11    5.8968208094256624e-10\n",
      "Complementarity.........:   2.5059035606408804e-09    2.5059035606408804e-09\n",
      "Overall NLP error.......:   2.5059035606408804e-09    2.5059035606408804e-09\n",
      "\n",
      "\n",
      "Number of objective function evaluations             = 132\n",
      "Number of objective gradient evaluations             = 117\n",
      "Number of equality constraint evaluations            = 132\n",
      "Number of inequality constraint evaluations          = 132\n",
      "Number of equality constraint Jacobian evaluations   = 117\n",
      "Number of inequality constraint Jacobian evaluations = 117\n",
      "Number of Lagrangian Hessian evaluations             = 116\n",
      "Total CPU secs in IPOPT (w/o function evaluations)   =      1.960\n",
      "Total CPU secs in NLP function evaluations           =      0.864\n",
      "\n",
      "EXIT: Optimal Solution Found.\n"
     ]
    }
   ],
   "source": [
    "model.solver = IpoptSolver()\n",
    "solve(model,graph)"
   ]
  },
  {
   "cell_type": "markdown",
   "metadata": {},
   "source": [
    "## Plot profiles"
   ]
  },
  {
   "cell_type": "code",
   "execution_count": 10,
   "metadata": {
    "collapsed": true
   },
   "outputs": [],
   "source": [
    "px = getvalue(pipe[:px])\n",
    "fx = getvalue(pipe[:fx]);"
   ]
  },
  {
   "cell_type": "code",
   "execution_count": 11,
   "metadata": {},
   "outputs": [
    {
     "data": {
      "image/png": "[encoded data removed]",
      "text/plain": [
       "PyPlot.Figure(PyObject <matplotlib.figure.Figure object at 0x7fc0f15bb7d0>)"
      ]
     },
     "metadata": {},
     "output_type": "display_data"
    },
    {
     "data": {
      "text/plain": [
       "1-element Array{Any,1}:\n",
       " PyObject <matplotlib.lines.Line2D object at 0x7fc0ed4d2610>"
      ]
     },
     "execution_count": 11,
     "metadata": {},
     "output_type": "execute_result"
    }
   ],
   "source": [
    "plot(x_grid,px[1,:])"
   ]
  },
  {
   "cell_type": "code",
   "execution_count": null,
   "metadata": {
    "collapsed": true
   },
   "outputs": [],
   "source": []
  }
 ],
 "metadata": {
  "kernelspec": {
   "display_name": "Julia 0.5.0",
   "language": "julia",
   "name": "julia-0.5"
  },
  "language_info": {
   "file_extension": ".jl",
   "mimetype": "application/julia",
   "name": "julia",
   "version": "0.5.0"
  }
 },
 "nbformat": 4,
 "nbformat_minor": 2
}
