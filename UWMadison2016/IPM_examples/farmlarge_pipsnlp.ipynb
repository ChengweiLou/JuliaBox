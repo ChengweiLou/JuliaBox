{
 "cells": [
  {
   "cell_type": "code",
   "execution_count": null,
   "metadata": {
    "collapsed": true
   },
   "outputs": [],
   "source": [
    "push!(LOAD_PATH, pwd())\n",
    "using JuMP \n",
    "using Distributions \n",
    "using Ipopt\n",
    "using Plasmo"
   ]
  },
  {
   "cell_type": "code",
   "execution_count": null,
   "metadata": {
    "collapsed": true
   },
   "outputs": [],
   "source": [
    "srand(123)\n",
    "NS = 1000;                    # number of scenarios\n",
    "NP = 100;\n",
    "S = collect(1:NS)           # scenario set\n",
    "P = collect(1:NP)           # set of crops (1=wheat,2=corn,3=beets)\n",
    "\n",
    "prcost = zeros(NP)\n",
    "d = Uniform(100,200)\n",
    "prcost = rand(d,NP)\n",
    "\n",
    "pcost = zeros(NP)\n",
    "d = Uniform(100,200)\n",
    "pcost = rand(d,NP)\n",
    "\n",
    "scost = zeros(NP)\n",
    "scost = pcost - 50\n",
    "\n",
    "demand = zeros(NP)\n",
    "d = Uniform(100,300)\n",
    "demand = rand(d,NP)/NP\n",
    "\n",
    "# assign random data\n",
    "yield = zeros(length(S),NP)\n",
    "d = Uniform(5,20)\n",
    "for j in 1:(NP-1)\n",
    "    yield[S,j] = rand(d,1)[1]\n",
    "end\n",
    "d = Uniform(10,30)\n",
    "yield[S,NP] = rand(d,NS)\n",
    "\n",
    "sellub = zeros(NP)\n",
    "d = Uniform(2000,8000)\n",
    "sellub[P] = rand(d,NP)\n"
   ]
  },
  {
   "cell_type": "code",
   "execution_count": null,
   "metadata": {
    "collapsed": true
   },
   "outputs": [],
   "source": [
    "m = NetModel()\n",
    "@variable(m, x[P] >= 0)    # acres devoted to crops\n",
    "@variable(m, s2 >= 0)\n",
    "@constraint(m, cap, (sum{x[j], j in P} + s2) == 200)\n",
    "@objective(m, Min, sum{prcost[j]*x[j], j in P})\n",
    "for i in 1:NS\n",
    "    bl = Model()\n",
    "    @variable(bl, y[P] >= 0)    # crops purchase\n",
    "    @variable(bl, 0<=w[j in P] <= sellub[j in P])    # crops sold\n",
    "    @variable(bl, s[P] >= 0)\n",
    "    @constraint(m, bal[j in P], yield[i,j]*x[j]+y[j]-w[j] - s[j] == demand[j])\n",
    "    @objective(bl, Min, 1.0/NS*sum{pcost[j]*y[j] - scost[j]*w[j], j in P})\n",
    "    @addNode(m, bl, \"s$i\")\n",
    "end\n",
    "ParPipsNlp_solve(m)\n",
    "println(getvalue(getvariable(m,:x)))\n",
    "println(getvalue(getvariable(getNode(m,\"s1\"),:w)))"
   ]
  }
 ],
 "metadata": {
  "anaconda-cloud": {},
  "kernelspec": {
   "display_name": "Julia 0.4.5",
   "language": "julia",
   "name": "julia-0.4"
  },
  "language_info": {
   "file_extension": ".jl",
   "mimetype": "application/julia",
   "name": "julia",
   "version": "0.4.5"
  }
 },
 "nbformat": 4,
 "nbformat_minor": 0
}
