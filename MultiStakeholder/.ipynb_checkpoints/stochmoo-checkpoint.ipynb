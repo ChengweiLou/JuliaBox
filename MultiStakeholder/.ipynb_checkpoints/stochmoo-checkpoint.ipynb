{
 "cells": [
  {
   "cell_type": "code",
   "execution_count": null,
   "metadata": {
    "collapsed": false
   },
   "outputs": [
    {
     "name": "stderr",
     "output_type": "stream",
     "text": [
      "\u001b[1m\u001b[34mINFO: Recompiling stale cache file /Users/vzavala/.julia/lib/v0.4/Gadfly.ji for module Gadfly.\n",
      "\u001b[0m\u001b[1m\u001b[34mINFO: Recompiling stale cache file /Users/vzavala/.julia/lib/v0.4/Compose.ji for module Compose.\n",
      "\u001b[0m\u001b[1m\u001b[34mINFO: Recompiling stale cache file /Users/vzavala/.julia/lib/v0.4/Iterators.ji for module Iterators.\n",
      "\u001b[0m\u001b[1m\u001b[34mINFO: Recompiling stale cache file /Users/vzavala/.julia/lib/v0.4/Measures.ji for module Measures.\n",
      "\u001b[0m\u001b[1m\u001b[34mINFO: Recompiling stale cache file /Users/vzavala/.julia/lib/v0.4/DataArrays.ji for module DataArrays.\n",
      "\u001b[0m\u001b[1m\u001b[34mINFO: Recompiling stale cache file /Users/vzavala/.julia/lib/v0.4/StatsBase.ji for module StatsBase.\n",
      "\u001b[0m\u001b[1m\u001b[34mINFO: Recompiling stale cache file /Users/vzavala/.julia/lib/v0.4/DataFrames.ji for module DataFrames.\n",
      "\u001b[0m"
     ]
    }
   ],
   "source": [
    "using JuMP \n",
    "using Ipopt \n",
    "using Gadfly\n",
    "\n",
    "# number of objectives\n",
    "nObj = 2\n",
    "\n",
    "# number of stakeholders\n",
    "nStake = 10;\n",
    "\n",
    "W = rand(nStake,nObj)\n",
    "for i = 1:size(W,1)\n",
    "W[i,:] = W[i,:] / sum(W[i,:])\n",
    "end\n",
    "\n",
    "# container for solutions\n",
    "x1v=zeros(nStake)\n",
    "x2v=zeros(nStake)\n",
    "\n",
    "for p in 1:nStake\n",
    "\n",
    "# Model \n",
    "m = Model(solver=IpoptSolver(tol = 1e-4, max_iter = 100,linear_solver =\"mumps\",mu_strategy=\"monotone\"))\n",
    "\n",
    "@variable(m, 0 <= x1<=2/3)    \n",
    "@variable(m, 0 <= x2<=2/3)    \n",
    "@NLconstraint(m, cons, x1 + x2>=1) \n",
    "@NLobjective(m, Min, W[p,1]*x1 + W[p,2]*x2)\n",
    "   \n",
    "# solve model and get solution\n",
    "solve(m)\n",
    "    \n",
    "# collect solution    \n",
    "    x1v[p]=getvalue(x1);\n",
    "    x2v[p]=getvalue(x2);\n",
    "\n",
    "end\n",
    "\n",
    "# plot solutions\n",
    "plot(x=x1v,y=x2v)\n"
   ]
  },
  {
   "cell_type": "code",
   "execution_count": null,
   "metadata": {
    "collapsed": true
   },
   "outputs": [],
   "source": []
  }
 ],
 "metadata": {
  "anaconda-cloud": {},
  "kernelspec": {
   "display_name": "Julia 0.4.5",
   "language": "julia",
   "name": "julia-0.4"
  },
  "language_info": {
   "file_extension": ".jl",
   "mimetype": "application/julia",
   "name": "julia",
   "version": "0.4.5"
  }
 },
 "nbformat": 4,
 "nbformat_minor": 0
}
