{
 "cells": [
  {
   "cell_type": "code",
   "execution_count": 1,
   "metadata": {
    "collapsed": false
   },
   "outputs": [
    {
     "ename": "LoadError",
     "evalue": "LoadError: LoadError: ArgumentError: StochJuMP not found in path\nwhile loading /home/jordan/git/JuliaBox/IPCluster_examples/ClusterIPM.jl, in expression starting on line 7\nwhile loading In[1], in expression starting on line 2",
     "output_type": "error",
     "traceback": [
      "LoadError: LoadError: ArgumentError: StochJuMP not found in path\nwhile loading /home/jordan/git/JuliaBox/IPCluster_examples/ClusterIPM.jl, in expression starting on line 7\nwhile loading In[1], in expression starting on line 2",
      "",
      " in require at ./loading.jl:249",
      " in include at ./boot.jl:261",
      " in include_from_node1 at ./loading.jl:320"
     ]
    }
   ],
   "source": [
    "push!(LOAD_PATH, pwd())\n",
    "include(\"ClusterIPM.jl\")\n",
    "using StochJuMP\n",
    "using JuMP\n",
    "using Distributions\n",
    "using Ipopt"
   ]
  },
  {
   "cell_type": "code",
   "execution_count": 2,
   "metadata": {
    "collapsed": false
   },
   "outputs": [
    {
     "ename": "LoadError",
     "evalue": "LoadError: UndefVarError: Normal not defined\nwhile loading In[2], in expression starting on line 32",
     "output_type": "error",
     "traceback": [
      "LoadError: UndefVarError: Normal not defined\nwhile loading In[2], in expression starting on line 32",
      ""
     ]
    }
   ],
   "source": [
    "# Parameters\n",
    "NS = 10000;                 # number of scenarios\n",
    "S = collect(1:NS)          # scenario set\n",
    "P = collect(1:3)           # set of crops (1=wheat,2=corn,3=beets)\n",
    "\n",
    "prcost = zeros(3)\n",
    "prcost[1] = 150\n",
    "prcost[2] = 230\n",
    "prcost[3] = 260\n",
    "\n",
    "pcost = zeros(3)\n",
    "pcost[1] = 238\n",
    "pcost[2] = 210\n",
    "pcost[3] = 0\n",
    "\n",
    "scost = zeros(3)\n",
    "scost[1] = 170\n",
    "scost[2] = 150\n",
    "scost[3] = 36\n",
    "\n",
    "demand = zeros(3)\n",
    "demand[1] = 200\n",
    "demand[2] = 240\n",
    "demand[3] = 0;\n",
    "\n",
    "# assign random data\n",
    "yield = zeros(length(S),3)\n",
    "yield[S,1] = 2.5\n",
    "yield[S,2] = 3.0\n",
    "srand(123)\n",
    "μ = 20; σ = 5\n",
    "d = Normal(μ,σ)\n",
    "yield[S,3] = rand(d,NS)"
   ]
  },
  {
   "cell_type": "code",
   "execution_count": 3,
   "metadata": {
    "collapsed": false
   },
   "outputs": [
    {
     "ename": "LoadError",
     "evalue": "LoadError: UndefVarError: IpoptSolver not defined\nwhile loading In[3], in expression starting on line 2",
     "output_type": "error",
     "traceback": [
      "LoadError: UndefVarError: IpoptSolver not defined\nwhile loading In[3], in expression starting on line 2",
      ""
     ]
    }
   ],
   "source": [
    "# build the model and solve with IPOPT\n",
    "m = Model(solver=IpoptSolver())\n",
    "@variable(m, x[S,P] >= 0)    # acres devoted to crops\n",
    "@variable(m, y[S,P] >= 0)    # crops purchase\n",
    "@variable(m, w[S,P] >= 0)    # crops sold;\n",
    "@variable(m, cost[s in S])\n",
    "@constraint(m, varcost[s in S], cost[s] == sum{prcost[j]*x[s,j] + pcost[j]*y[s,j] - scost[j]*w[s,j], j in P})\n",
    "@constraint(m, cap[s in S], sum{x[s,j], j in P} <= 500)\n",
    "@constraint(m, bal[s in S,j in P], yield[s,j]*x[s,j]+y[s,j]-w[s,j] >= demand[j])\n",
    "@constraint(m, sellb[s in S], w[s,3] <= 6000)\n",
    "@constraint(m, buyb[s in S], y[s,3] <= 0)\n",
    "@constraint(m, nonant[s in S,j in P], x[1,j] == x[s,j])\n",
    "@objective(m, Min, (1/NS)*sum{cost[s], s in S})\n",
    "solve(m)"
   ]
  },
  {
   "cell_type": "code",
   "execution_count": 4,
   "metadata": {
    "collapsed": false
   },
   "outputs": [
    {
     "name": "stdout",
     "output_type": "stream",
     "text": [
      "[0/1] create problem \n"
     ]
    },
    {
     "data": {
      "text/plain": [
       "1"
      ]
     },
     "execution_count": 4,
     "metadata": {},
     "output_type": "execute_result"
    },
    {
     "name": "stdout",
     "output_type": "stream",
     "text": [
      "-----------------------------------------------\n",
      "IP Solver\n",
      "V.M. Zavala, Argonne National Laboratory, 2012\n",
      "-----------------------------------------------\n",
      "  Scenarios ======= 10000\n",
      "  Variables ======= 90004 | 1st Stage = 4 | 2nd Stage = 90000\n",
      "  Equality Cons === 30001 | 1st Stage = 1 | 2nd Stage = 30000\n",
      "  Inequality Cons = 110004 | 1st Stage = 4 | 2nd Stage = 110000\n",
      "check point 0. Start \n",
      "Hello world from process 0 of 1\n",
      "check point 1. Before calling solver \n",
      "iter      objective      inf_pr      inf_du     lg(mu)      alpha     |C|    itla \n",
      "   0    0.0000000e+00   5.00e+02   1.37e+07   6.39e+00   0.00e+00       0       0\n",
      "   1    1.8056443e+05   2.31e+02   3.56e+06   5.84e+00   5.37e-01     100       3\n",
      "   2    5.3158647e+05   2.07e+02   5.72e+09   5.84e+00   1.06e-01     100       3\n",
      "   3    5.1394011e+05   2.05e+02   6.30e+09   5.83e+00   9.74e-03     100       3\n",
      "   4    4.2015405e+05   2.03e+02   1.25e+10   5.89e+00   9.80e-03     100       3\n",
      "   5    6.2522939e+05   1.60e+01   2.37e+09   5.05e+00   9.21e-01     100       3\n",
      "   6    6.8323823e+05   6.49e-01   1.85e+08   3.89e+00   9.59e-01     100       3\n",
      "   7    6.7386867e+05   3.75e-03   9.97e+05   1.67e+00   9.94e-01     100       3\n",
      "   8    1.3966456e+05   2.38e-05   8.78e+04   5.69e-01   9.94e-01     100       3\n",
      "   9    1.1990868e+05   1.93e-05   6.75e+04   5.23e-01   1.89e-01     100       3\n",
      "  10    9.5882216e+04   1.68e-05   6.98e+04   5.67e-01   1.31e-01     100       3\n",
      "  11   -2.0182478e+04   3.63e-06   2.39e+04   1.54e-01   7.84e-01     100       3\n",
      "  12   -4.1502253e+04   3.47e-06   2.82e+04   1.97e-01   4.46e-02     100       8\n",
      "  13   -3.5326404e+04   2.72e-06   2.30e+04   1.90e-01   2.16e-01     100      11\n",
      "  14   -1.0376485e+04   6.14e-07   2.41e+04   2.25e-01   7.74e-01     100       6\n",
      "  15   -2.4363303e+04   2.83e-07   1.33e+04   1.35e-01   5.39e-01     100       3\n",
      "  16   -3.8601752e+04   1.61e-07   7.71e+03   2.88e-02   4.31e-01     100      11\n",
      "  17   -8.2497424e+04   5.12e-08   1.17e+03  -5.17e-01   6.82e-01     100       3\n",
      "  18   -9.7241292e+04   9.00e-09   4.92e+02  -9.49e-01   8.24e-01     100      11\n",
      "  19   -1.0113570e+05   2.75e-09   1.60e+02  -1.31e+00   6.95e-01     100      11\n",
      "  20   -1.0356377e+05   4.39e-10   4.29e+01  -1.90e+00   8.40e-01     100      11\n",
      "  21   -1.0399190e+05   1.15e-10   1.55e+01  -2.29e+00   7.39e-01     100      11\n",
      "  22   -1.0416285e+05   3.12e-11   6.55e+00  -2.66e+00   7.28e-01     100      11\n",
      "  23   -1.0421529e+05   1.13e-11   3.67e+00  -2.91e+00   6.38e-01     100      11\n",
      "  24   -1.0424950e+05   3.35e-12   3.13e-02  -3.59e+00   7.03e-01     100      11\n",
      "  25   -1.0426849e+05   1.82e-12   3.43e-03  -4.42e+00   8.91e-01     100      11\n",
      "  26   -1.0427156e+05   2.27e-12   3.46e-05  -5.66e+00   9.90e-01     100      11\n",
      "  27   -1.0427164e+05   1.82e-12   9.97e-06  -6.38e+00   7.14e-01     100      11\n",
      "totalKSPiter  267average iteration 9.00e+00\n",
      "Factorization_K_time 6.38e-02\n",
      "Backsolve_time  3.11e-02\n",
      "Factorization_Kw_s_time 6.64e+00\n",
      "KSP_time 1.48e+01\n",
      "Cluster_time 1.49e+01\n",
      "Block_Backsolve_time 9.27e+00\n",
      "Block_Backsolve 6646600\n",
      "MatrixMult_time  1.95e+00\n",
      "Test_time  0.00e+00\n",
      "PC_0_time 1.15e+01\n",
      "PC_1_time 0.00e+00\n",
      "W_time 1.12e+01\n",
      "Elapsed Time =3.84e+01(s)\n"
     ]
    }
   ],
   "source": [
    "# build with StochJuMP and solve with IPCluster\n",
    "m = StochasticModel(NS)\n",
    "@defVar(m, x[P] >= 0)    # acres devoted to crops\n",
    "@defVar(m, s2 >= 0)\n",
    "@addConstraint(m, cap, sum{x[j], j in P} + s2 == 500)\n",
    "@setObjective(m, Min, sum{prcost[j]*x[j], j in P})\n",
    "for i in 1:NS\n",
    "    bl = StochasticBlock(m)\n",
    "    @defVar(bl, y[P] >= 0)    # crops purchase\n",
    "    @defVar(bl, w[P] >= 0)    # crops sold;\n",
    "    @defVar(bl, s[P] >= 0)\n",
    "    @addConstraint(bl, bal[j in P], yield[i,j]*x[j]+y[j]-w[j] - s[j] == demand[j])\n",
    "    setUpper(w[3], 6000)\n",
    "    setUpper(y[3], 0)\n",
    "    @setObjective(bl, Min, 1.0/NS*sum{pcost[j]*y[j] - scost[j]*w[j], j in P})\n",
    "end\n",
    "CluIPM_solve(m)"
   ]
  },
  {
   "cell_type": "code",
   "execution_count": null,
   "metadata": {
    "collapsed": true
   },
   "outputs": [],
   "source": []
  }
 ],
 "metadata": {
  "kernelspec": {
   "display_name": "Julia 0.4.5",
   "language": "julia",
   "name": "julia-0.4"
  },
  "language_info": {
   "file_extension": ".jl",
   "mimetype": "application/julia",
   "name": "julia",
   "version": "0.4.5"
  }
 },
 "nbformat": 4,
 "nbformat_minor": 0
}
