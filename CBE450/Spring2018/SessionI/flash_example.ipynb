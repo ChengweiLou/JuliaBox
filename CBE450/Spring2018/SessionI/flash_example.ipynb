{
 "cells": [
  {
   "cell_type": "code",
   "execution_count": 4,
   "metadata": {
    "collapsed": false
   },
   "outputs": [
    {
     "name": "stdout",
     "output_type": "stream",
     "text": [
      "\n",
      "******************************************************************************\n",
      "This program contains Ipopt, a library for large-scale nonlinear optimization.\n",
      " Ipopt is released as open source code under the Eclipse Public License (EPL).\n",
      "         For more information visit http://projects.coin-or.org/Ipopt\n",
      "******************************************************************************\n",
      "\n",
      "This is Ipopt version 3.12.1, running with linear solver mumps.\n",
      "NOTE: Other linear solvers might be more efficient (see Ipopt documentation).\n",
      "\n",
      "Number of nonzeros in equality constraint Jacobian...:       54\n",
      "Number of nonzeros in inequality constraint Jacobian.:        0\n",
      "Number of nonzeros in Lagrangian Hessian.............:       49\n",
      "\n",
      "Total number of variables............................:       21\n",
      "                     variables with only lower bounds:       15\n",
      "                variables with lower and upper bounds:        6\n",
      "                     variables with only upper bounds:        0\n",
      "Total number of equality constraints.................:       21\n",
      "Total number of inequality constraints...............:        0\n",
      "        inequality constraints with only lower bounds:        0\n",
      "   inequality constraints with lower and upper bounds:        0\n",
      "        inequality constraints with only upper bounds:        0\n",
      "\n",
      "iter    objective    inf_pr   inf_du lg(mu)  ||d||  lg(rg) alpha_du alpha_pr  ls\n",
      "   0  0.0000000e+00 2.08e+03 1.00e+00  -1.0 0.00e+00    -  0.00e+00 0.00e+00   0\n",
      "   1  0.0000000e+00 2.08e+03 1.05e+00  -1.0 1.05e+06    -  9.47e-09 1.48e-10h  7\n",
      "   2r 0.0000000e+00 2.08e+03 9.99e+02   3.3 0.00e+00    -  0.00e+00 1.82e-11R 10\n",
      "   3r 0.0000000e+00 2.08e+03 1.35e+03   3.3 2.87e+03    -  7.31e-03 8.13e-04f  1\n",
      "   4r 0.0000000e+00 2.08e+03 2.45e+03   1.2 8.00e+00    -  2.57e-01 5.87e-01f  1\n",
      "   5r 0.0000000e+00 2.07e+03 1.31e+03   1.2 2.84e+01    -  1.23e-01 4.87e-01f  1\n",
      "   6r 0.0000000e+00 2.04e+03 1.24e+03   1.2 2.30e+02    -  4.54e-02 1.29e-01f  1\n",
      "   7r 0.0000000e+00 2.03e+03 1.14e+03   1.2 2.10e+02    -  1.73e-01 7.38e-02f  1\n",
      "   8r 0.0000000e+00 1.98e+03 8.54e+02   1.2 1.92e+02    -  5.87e-01 2.50e-01f  1\n",
      "   9r 0.0000000e+00 1.93e+03 6.36e+02   0.5 1.45e+02    -  4.02e-01 3.96e-01f  1\n",
      "iter    objective    inf_pr   inf_du lg(mu)  ||d||  lg(rg) alpha_du alpha_pr  ls\n",
      "  10r 0.0000000e+00 1.84e+03 4.93e+02   0.5 3.90e+02    -  4.56e-01 2.26e-01f  1\n",
      "  11r 0.0000000e+00 1.76e+03 3.68e+02   0.5 3.02e+02    -  3.64e-01 2.53e-01f  1\n",
      "  12r 0.0000000e+00 1.73e+03 6.52e+02   0.5 2.26e+02    -  7.02e-01 1.24e-01f  1\n",
      "  13r 0.0000000e+00 1.71e+03 5.67e+02   0.5 1.98e+02    -  9.67e-01 1.09e-01f  1\n",
      "  14r 0.0000000e+00 1.54e+03 4.69e+00   0.5 1.76e+02    -  1.00e+00 9.92e-01f  1\n",
      "  15r 0.0000000e+00 1.54e+03 8.00e+02  -0.9 1.45e+00    -  1.00e+00 1.00e+00f  1\n",
      "  16r 0.0000000e+00 1.18e+03 6.71e+02  -0.9 2.19e+03    -  2.52e-01 1.61e-01f  1\n",
      "  17r 0.0000000e+00 1.18e+03 6.70e+02  -0.9 1.84e+03    -  1.00e+00 1.92e-03f  1\n",
      "  18r 0.0000000e+00 1.18e+03 6.69e+02  -0.9 1.83e+03    -  4.95e-01 1.02e-03f  1\n",
      "  19r 0.0000000e+00 1.84e+02 3.06e+02  -0.9 1.83e+03    -  1.00e+00 5.43e-01f  1\n",
      "iter    objective    inf_pr   inf_du lg(mu)  ||d||  lg(rg) alpha_du alpha_pr  ls\n",
      "  20r 0.0000000e+00 1.35e+02 2.88e+02  -0.9 8.37e+02    -  1.00e+00 5.91e-02f  1\n",
      "  21r 0.0000000e+00 1.35e+00 2.39e+02  -0.9 7.87e+02    -  1.00e+00 1.69e-01f  1\n",
      "  22r 0.0000000e+00 1.22e-01 2.38e+02  -0.9 6.21e+02    -  1.00e+00 2.15e-03f  1\n",
      "  23r 0.0000000e+00 1.34e-01 2.26e+02  -0.9 9.63e+00    -  9.60e-01 5.30e-02f  1\n",
      "  24r 0.0000000e+00 2.79e-01 2.86e+01  -0.9 6.33e+00    -  1.00e+00 8.74e-01f  1\n",
      "  25r 0.0000000e+00 2.77e-01 8.10e+01  -0.9 4.65e-01    -  6.60e-01 3.32e-01f  1\n",
      "  26r 0.0000000e+00 2.69e-01 8.16e-02  -0.9 3.64e-01    -  1.00e+00 1.00e+00f  1\n",
      "  27r 0.0000000e+00 2.70e-01 7.26e+02  -3.5 6.15e-02    -  9.98e-01 9.68e-01f  1\n",
      "  28  0.0000000e+00 3.84e-01 1.10e+02  -1.0 2.43e+01    -  2.91e-01 1.00e+00F  1\n",
      "  29  0.0000000e+00 3.63e-02 1.15e+00  -1.0 3.52e+00    -  4.61e-01 1.00e+00h  1\n",
      "iter    objective    inf_pr   inf_du lg(mu)  ||d||  lg(rg) alpha_du alpha_pr  ls\n",
      "  30  0.0000000e+00 5.55e-17 9.30e-03  -1.0 3.63e-02    -  9.91e-01 1.00e+00h  1\n",
      "\n",
      "Number of Iterations....: 30\n",
      "\n",
      "                                   (scaled)                 (unscaled)\n",
      "Objective...............:   0.0000000000000000e+00    0.0000000000000000e+00\n",
      "Dual infeasibility......:   0.0000000000000000e+00    0.0000000000000000e+00\n",
      "Constraint violation....:   5.5511151231257827e-17    5.5511151231257827e-17\n",
      "Complementarity.........:   0.0000000000000000e+00    0.0000000000000000e+00\n",
      "Overall NLP error.......:   5.5511151231257827e-17    5.5511151231257827e-17\n",
      "\n",
      "\n",
      "Number of objective function evaluations             = 48\n",
      "Number of objective gradient evaluations             = 7\n",
      "Number of equality constraint evaluations            = 48\n",
      "Number of inequality constraint evaluations          = 0\n",
      "Number of equality constraint Jacobian evaluations   = 32\n",
      "Number of inequality constraint Jacobian evaluations = 0\n",
      "Number of Lagrangian Hessian evaluations             = 30\n",
      "Total CPU secs in IPOPT (w/o function evaluations)   =      0.176\n",
      "Total CPU secs in NLP function evaluations           =      0.040\n",
      "\n",
      "EXIT: Optimal Solution Found.\n"
     ]
    },
    {
     "data": {
      "text/plain": [
       ":Optimal"
      ]
     },
     "execution_count": 4,
     "metadata": {},
     "output_type": "execute_result"
    }
   ],
   "source": [
    "## Flash unit\n",
    "## Yicheng Hu, Victor M. Zavala 2017-08\n",
    "\n",
    "using JuMP\n",
    "using Ipopt\n",
    "\n",
    "# define sets \n",
    "K = [\"benzene\",\"toluene\",\"xylene\"] # set of components\n",
    "A = [15.9008; 16.0137; 16.1156]\n",
    "A = Dict(zip(K,A));\n",
    "B = [2788.51; 3096.52; 3395.57]\n",
    "B = Dict(zip(K,B));\n",
    "C = [-52.34; -53.67; -59.44];\n",
    "C = Dict(zip(K,C));\n",
    "key = \"toluene\"\n",
    "Km = [\"benzene\",\"xylene\"]\n",
    "\n",
    "m = Model(solver = IpoptSolver(tol = 0.1, max_iter = 15000));\n",
    "\n",
    "# variables\n",
    "@variable(m, alpha[K]>=0)\n",
    "@variable(m, P0[K]>=0)\n",
    "@variable(m, ξ[K]>=0)\n",
    "@variable(m, v[K]>=0)\n",
    "@variable(m, l[K]>=0)\n",
    "@variable(m,0<=x[K]<=1)\n",
    "@variable(m,0<=y[K]<=1)\n",
    "\n",
    "# data\n",
    "   f = [30;50;40];  # split fraction for each component\n",
    "   f = Dict(zip(K,f));       # assign to set\n",
    "\n",
    "# data\n",
    "T=390\n",
    "\n",
    "# constraints\n",
    "@constraint(m,ξ[key]==0.9)\n",
    "@NLconstraint(m, [k in K], P0[k] == exp(A[k] - B[k]/(T + C[k])))\n",
    "@NLconstraint(m, [k in K], alpha[k] == P0[k]/P0[key])\n",
    "@NLconstraint(m, [k in Km], ξ[k] == alpha[k]*ξ[key]/(1+(alpha[k]-1)*ξ[key])); \n",
    "@NLconstraint(m, [k in K], v[k] == ξ[k]*f[k]);\n",
    "@NLconstraint(m, [k in K], l[k] == (1-ξ[k])*f[k]);    \n",
    "@NLconstraint(m, [k in K], x[k] == l[k]/sum(l[kk] for kk in K));\n",
    "@NLconstraint(m, [k in K], y[k] == v[k]/sum(v[kk] for kk in K));\n",
    "\n",
    "solve(m)"
   ]
  },
  {
   "cell_type": "code",
   "execution_count": 5,
   "metadata": {
    "collapsed": false
   },
   "outputs": [
    {
     "name": "stdout",
     "output_type": "stream",
     "text": [
      "ξ: 1 dimensions:\n",
      "[benzene] = 0.9540331852350292\n",
      "[toluene] = 0.9\n",
      "[ xylene] = 0.7744726720812821\n",
      "x: 1 dimensions:\n",
      "[benzene] = 0.08954517577589817\n",
      "[toluene] = 0.32467326785546047\n",
      "[ xylene] = 0.5857815563686414\n",
      "y: 1 dimensions:\n",
      "[benzene] = 0.2736235396910204\n",
      "[toluene] = 0.4302107263023754\n",
      "[ xylene] = 0.2961657340066043\n"
     ]
    }
   ],
   "source": [
    "println(getvalue(ξ))\n",
    "println(getvalue(x))\n",
    "println(getvalue(y))"
   ]
  },
  {
   "cell_type": "code",
   "execution_count": null,
   "metadata": {
    "collapsed": true
   },
   "outputs": [],
   "source": []
  }
 ],
 "metadata": {
  "kernelspec": {
   "display_name": "Julia 0.5.2",
   "language": "julia",
   "name": "julia-0.5"
  },
  "language_info": {
   "file_extension": ".jl",
   "mimetype": "application/julia",
   "name": "julia",
   "version": "0.5.2"
  }
 },
 "nbformat": 4,
 "nbformat_minor": 2
}
