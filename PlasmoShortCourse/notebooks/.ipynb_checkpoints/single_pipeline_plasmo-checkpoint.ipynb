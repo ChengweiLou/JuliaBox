{
 "cells": [
  {
   "cell_type": "markdown",
   "metadata": {},
   "source": [
    "# Solving a Single Pipeline Model using Plasmo"
   ]
  },
  {
   "cell_type": "markdown",
   "metadata": {},
   "source": [
    "## Import Plasmo and Ipopt"
   ]
  },
  {
   "cell_type": "code",
   "execution_count": 1,
   "metadata": {},
   "outputs": [
    {
     "name": "stderr",
     "output_type": "stream",
     "text": [
      "WARNING: Method definition macroexpand(Module, Any) in module Compat at /home/jordan/.julia/v0.5/Compat/src/Compat.jl:1491 overwritten in module MacroTools at /home/jordan/.julia/v0.5/MacroTools/src/utils.jl:64.\n"
     ]
    }
   ],
   "source": [
    "push!(LOAD_PATH,\"/home/juser/JuliaBox/PlasmoShortCourse/src\")\n",
    "using Plasmo\n",
    "using Ipopt\n",
    "using PyPlot"
   ]
  },
  {
   "cell_type": "markdown",
   "metadata": {},
   "source": [
    "## Define a global horizon variable, and import some gas component models"
   ]
  },
  {
   "cell_type": "code",
   "execution_count": 33,
   "metadata": {},
   "outputs": [
    {
     "name": "stderr",
     "output_type": "stream",
     "text": [
      "WARNING: Method definition (::Type{Main.NodeData})(Any, Any, Any, Any, Any, Any, Any, Any) in module Main at /home/jordan/git/chegitlab/plasmo_master/PLASMO/Presentations/Plasmo_short_course/notebooks/gas_components.jl:54 overwritten at /home/jordan/git/chegitlab/plasmo_master/PLASMO/Presentations/Plasmo_short_course/notebooks/gas_components.jl:54.\n",
      "WARNING: Method definition gasnode(Main.NodeData) in module Main at /home/jordan/git/chegitlab/plasmo_master/PLASMO/Presentations/Plasmo_short_course/notebooks/gas_components.jl:65 overwritten at /home/jordan/git/chegitlab/plasmo_master/PLASMO/Presentations/Plasmo_short_course/notebooks/gas_components.jl:65.\n",
      "WARNING: Method definition @basepipeeqns(ANY<:Any) in module Main at /home/jordan/git/chegitlab/plasmo_master/PLASMO/Presentations/Plasmo_short_course/notebooks/gas_components.jl:138 overwritten at /home/jordan/git/chegitlab/plasmo_master/PLASMO/Presentations/Plasmo_short_course/notebooks/gas_components.jl:138.\n",
      "WARNING: Method definition @steadystatestart(ANY<:Any) in module Main at /home/jordan/git/chegitlab/plasmo_master/PLASMO/Presentations/Plasmo_short_course/notebooks/gas_components.jl:152 overwritten at /home/jordan/git/chegitlab/plasmo_master/PLASMO/Presentations/Plasmo_short_course/notebooks/gas_components.jl:152.\n",
      "WARNING: Method definition @passivepressureboundary(ANY<:Any) in module Main at /home/jordan/git/chegitlab/plasmo_master/PLASMO/Presentations/Plasmo_short_course/notebooks/gas_components.jl:161 overwritten at /home/jordan/git/chegitlab/plasmo_master/PLASMO/Presentations/Plasmo_short_course/notebooks/gas_components.jl:161.\n",
      "WARNING: Method definition @activepressureboundary(ANY<:Any) in module Main at /home/jordan/git/chegitlab/plasmo_master/PLASMO/Presentations/Plasmo_short_course/notebooks/gas_components.jl:170 overwritten at /home/jordan/git/chegitlab/plasmo_master/PLASMO/Presentations/Plasmo_short_course/notebooks/gas_components.jl:170.\n",
      "WARNING: Method definition @isothermaleuler(ANY<:Any) in module Main at /home/jordan/git/chegitlab/plasmo_master/PLASMO/Presentations/Plasmo_short_course/notebooks/gas_components.jl:179 overwritten at /home/jordan/git/chegitlab/plasmo_master/PLASMO/Presentations/Plasmo_short_course/notebooks/gas_components.jl:179.\n",
      "WARNING: Method definition @weymouthapprox(ANY<:Any) in module Main at /home/jordan/git/chegitlab/plasmo_master/PLASMO/Presentations/Plasmo_short_course/notebooks/gas_components.jl:194 overwritten at /home/jordan/git/chegitlab/plasmo_master/PLASMO/Presentations/Plasmo_short_course/notebooks/gas_components.jl:194.\n",
      "WARNING: Method definition @simoneapprox(ANY<:Any) in module Main at /home/jordan/git/chegitlab/plasmo_master/PLASMO/Presentations/Plasmo_short_course/notebooks/gas_components.jl:206 overwritten at /home/jordan/git/chegitlab/plasmo_master/PLASMO/Presentations/Plasmo_short_course/notebooks/gas_components.jl:206.\n",
      "WARNING: Method definition @simonesteadystatestart(ANY<:Any) in module Main at /home/jordan/git/chegitlab/plasmo_master/PLASMO/Presentations/Plasmo_short_course/notebooks/gas_components.jl:224 overwritten at /home/jordan/git/chegitlab/plasmo_master/PLASMO/Presentations/Plasmo_short_course/notebooks/gas_components.jl:224.\n",
      "WARNING: Method definition @adiabaticapprox(ANY<:Any) in module Main at /home/jordan/git/chegitlab/plasmo_master/PLASMO/Presentations/Plasmo_short_course/notebooks/gas_components.jl:232 overwritten at /home/jordan/git/chegitlab/plasmo_master/PLASMO/Presentations/Plasmo_short_course/notebooks/gas_components.jl:232.\n",
      "WARNING: Method definition @steadystateflow(ANY<:Any) in module Main at /home/jordan/git/chegitlab/plasmo_master/PLASMO/Presentations/Plasmo_short_course/notebooks/gas_components.jl:242 overwritten at /home/jordan/git/chegitlab/plasmo_master/PLASMO/Presentations/Plasmo_short_course/notebooks/gas_components.jl:242.\n",
      "WARNING: Method definition @linepackeqns(ANY<:Any) in module Main at /home/jordan/git/chegitlab/plasmo_master/PLASMO/Presentations/Plasmo_short_course/notebooks/gas_components.jl:252 overwritten at /home/jordan/git/chegitlab/plasmo_master/PLASMO/Presentations/Plasmo_short_course/notebooks/gas_components.jl:252.\n",
      "WARNING: Method definition @compressoreqns(ANY<:Any) in module Main at /home/jordan/git/chegitlab/plasmo_master/PLASMO/Presentations/Plasmo_short_course/notebooks/gas_components.jl:262 overwritten at /home/jordan/git/chegitlab/plasmo_master/PLASMO/Presentations/Plasmo_short_course/notebooks/gas_components.jl:262.\n",
      "WARNING: Method definition (::Type{Main.PipeData})(Any, Any, Any, Any, Any, Any, Any, Any) in module Main at /home/jordan/git/chegitlab/plasmo_master/PLASMO/Presentations/Plasmo_short_course/notebooks/gas_components.jl:274 overwritten at /home/jordan/git/chegitlab/plasmo_master/PLASMO/Presentations/Plasmo_short_course/notebooks/gas_components.jl:274.\n",
      "WARNING: Method definition (::Type{Main.CompData})(Any, Any, Any, Any, Any) in module Main at /home/jordan/git/chegitlab/plasmo_master/PLASMO/Presentations/Plasmo_short_course/notebooks/gas_components.jl:286 overwritten at /home/jordan/git/chegitlab/plasmo_master/PLASMO/Presentations/Plasmo_short_course/notebooks/gas_components.jl:286.\n",
      "WARNING: Method definition @compressordata(ANY<:Any) in module Main at /home/jordan/git/chegitlab/plasmo_master/PLASMO/Presentations/Plasmo_short_course/notebooks/gas_components.jl:294 overwritten at /home/jordan/git/chegitlab/plasmo_master/PLASMO/Presentations/Plasmo_short_course/notebooks/gas_components.jl:294.\n",
      "WARNING: Method definition @unpackpipedata(ANY<:Any) in module Main at /home/jordan/git/chegitlab/plasmo_master/PLASMO/Presentations/Plasmo_short_course/notebooks/gas_components.jl:306 overwritten at /home/jordan/git/chegitlab/plasmo_master/PLASMO/Presentations/Plasmo_short_course/notebooks/gas_components.jl:306.\n",
      "WARNING: Method definition sspassivelink(Main.PipeData) in module Main at /home/jordan/git/chegitlab/plasmo_master/PLASMO/Presentations/Plasmo_short_course/notebooks/gas_components.jl:327 overwritten at /home/jordan/git/chegitlab/plasmo_master/PLASMO/Presentations/Plasmo_short_course/notebooks/gas_components.jl:327.\n",
      "WARNING: Method definition ssactivelink(Main.PipeData, Main.CompData) in module Main at /home/jordan/git/chegitlab/plasmo_master/PLASMO/Presentations/Plasmo_short_course/notebooks/gas_components.jl:338 overwritten at /home/jordan/git/chegitlab/plasmo_master/PLASMO/Presentations/Plasmo_short_course/notebooks/gas_components.jl:338.\n",
      "WARNING: Method definition weymouthpassivelink(Main.PipeData) in module Main at /home/jordan/git/chegitlab/plasmo_master/PLASMO/Presentations/Plasmo_short_course/notebooks/gas_components.jl:352 overwritten at /home/jordan/git/chegitlab/plasmo_master/PLASMO/Presentations/Plasmo_short_course/notebooks/gas_components.jl:352.\n",
      "WARNING: Method definition steadystatestart(JuMP.Model, Main.PipeData) in module Main at /home/jordan/git/chegitlab/plasmo_master/PLASMO/Presentations/Plasmo_short_course/notebooks/gas_components.jl:365 overwritten at /home/jordan/git/chegitlab/plasmo_master/PLASMO/Presentations/Plasmo_short_course/notebooks/gas_components.jl:365.\n",
      "WARNING: Method definition weymouthactivelink(Main.PipeData, Main.CompData) in module Main at /home/jordan/git/chegitlab/plasmo_master/PLASMO/Presentations/Plasmo_short_course/notebooks/gas_components.jl:381 overwritten at /home/jordan/git/chegitlab/plasmo_master/PLASMO/Presentations/Plasmo_short_course/notebooks/gas_components.jl:381.\n",
      "WARNING: Method definition adiabaticpassivelink(Main.PipeData) in module Main at /home/jordan/git/chegitlab/plasmo_master/PLASMO/Presentations/Plasmo_short_course/notebooks/gas_components.jl:396 overwritten at /home/jordan/git/chegitlab/plasmo_master/PLASMO/Presentations/Plasmo_short_course/notebooks/gas_components.jl:396.\n",
      "WARNING: Method definition adiabaticactivelink(Main.PipeData, Main.CompData) in module Main at /home/jordan/git/chegitlab/plasmo_master/PLASMO/Presentations/Plasmo_short_course/notebooks/gas_components.jl:409 overwritten at /home/jordan/git/chegitlab/plasmo_master/PLASMO/Presentations/Plasmo_short_course/notebooks/gas_components.jl:409.\n",
      "WARNING: Method definition euleractivelink(Main.PipeData, Main.CompData) in module Main at /home/jordan/git/chegitlab/plasmo_master/PLASMO/Presentations/Plasmo_short_course/notebooks/gas_components.jl:425 overwritten at /home/jordan/git/chegitlab/plasmo_master/PLASMO/Presentations/Plasmo_short_course/notebooks/gas_components.jl:425.\n",
      "WARNING: Method definition eulerpassivelink(Main.PipeData) in module Main at /home/jordan/git/chegitlab/plasmo_master/PLASMO/Presentations/Plasmo_short_course/notebooks/gas_components.jl:441 overwritten at /home/jordan/git/chegitlab/plasmo_master/PLASMO/Presentations/Plasmo_short_course/notebooks/gas_components.jl:441.\n",
      "WARNING: Method definition simoneactivelink(Main.PipeData, Main.CompData) in module Main at /home/jordan/git/chegitlab/plasmo_master/PLASMO/Presentations/Plasmo_short_course/notebooks/gas_components.jl:454 overwritten at /home/jordan/git/chegitlab/plasmo_master/PLASMO/Presentations/Plasmo_short_course/notebooks/gas_components.jl:454.\n"
     ]
    }
   ],
   "source": [
    "global horizon = 3600*24\n",
    "include(\"gas_components.jl\");"
   ]
  },
  {
   "cell_type": "markdown",
   "metadata": {},
   "source": [
    "## Set our parameters are usual"
   ]
  },
  {
   "cell_type": "code",
   "execution_count": 24,
   "metadata": {
    "collapsed": true
   },
   "outputs": [],
   "source": [
    "#pipeline data\n",
    "pipe_length = 30000\n",
    "diameter = 0.92\n",
    "time_grid = 1:48\n",
    "x_grid = 1:10\n",
    "min_pressure = 1\n",
    "max_pressure = 100\n",
    "min_flow = 1\n",
    "max_flow = 300\n",
    "\n",
    "#compressor data\n",
    "dp_min = 1\n",
    "dp_max = 20\n",
    "min_power = 1\n",
    "max_power = 10000\n",
    "comp_cost = 0.1;"
   ]
  },
  {
   "cell_type": "markdown",
   "metadata": {},
   "source": [
    "## Set pipeline, compressor, and junction data"
   ]
  },
  {
   "cell_type": "code",
   "execution_count": 25,
   "metadata": {
    "collapsed": true
   },
   "outputs": [],
   "source": [
    "pdata = PipeData(pipe_length,diameter,time_grid,x_grid,min_pressure,max_pressure,min_flow,max_flow) #pipe data\n",
    "cdata = CompData(dp_min,dp_max,min_power,max_power,comp_cost) #compressor data\n",
    "supply_node_data = NodeData(time_grid,1,300,0,50,70,-1000,0.0)\n",
    "demand_node_data = NodeData(time_grid,0,0,1,50,70,-1000,0.0);"
   ]
  },
  {
   "cell_type": "markdown",
   "metadata": {},
   "source": [
    "## Create the graph representing a pipeline and two junctions (supply and demand)"
   ]
  },
  {
   "cell_type": "code",
   "execution_count": 26,
   "metadata": {
    "collapsed": true
   },
   "outputs": [],
   "source": [
    "#Create the Plasmo Graph Model\n",
    "model = GraphModel()\n",
    "graph = getgraph(model)\n",
    "n1 = add_node!(model)\n",
    "n2 = add_node!(model)\n",
    "pipe = add_edge!(model,n1,n2);"
   ]
  },
  {
   "cell_type": "markdown",
   "metadata": {},
   "source": [
    "## Setup our model for our PDE system"
   ]
  },
  {
   "cell_type": "code",
   "execution_count": 27,
   "metadata": {
    "collapsed": true
   },
   "outputs": [],
   "source": [
    "#call a function which produced the pipeline model\n",
    "euler_model = euleractivelink(pdata,cdata)\n",
    "#provide a steady state initial condition\n",
    "#roll this into the model\n",
    "euler_model = steadystatestart(euler_model,pdata)\n",
    "\n",
    "supply = gasnode(supply_node_data)\n",
    "demand = gasnode(demand_node_data)\n",
    "\n",
    "#set the models on our nodes and edge\n",
    "setmodel!(n1,supply)\n",
    "setmodel!(n2,demand)\n",
    "setmodel!(pipe,euler_model)"
   ]
  },
  {
   "cell_type": "markdown",
   "metadata": {},
   "source": [
    "## Add linking constraints between component models"
   ]
  },
  {
   "cell_type": "code",
   "execution_count": 28,
   "metadata": {
    "collapsed": true
   },
   "outputs": [],
   "source": [
    "#Node conservation in n1\n",
    "@linkconstraint(model,graph,n1,[t = time_grid], 0 == sum(in_edges(graph,n1)[i][:fout][t] for i = 1:length(in_edges(graph,n1))) -\n",
    "sum(out_edges(graph,n1)[i][:fin][t] for i = 1:length(out_edges(graph,n1))) + n1[:total_supplied][t] - n1[:total_delivered][t])\n",
    "\n",
    "#Node conservation in n2\n",
    "@linkconstraint(model,graph,n2,[t = time_grid], 0 == sum(in_edges(graph,n2)[i][:fout][t] for i = 1:length(in_edges(graph,n2))) -\n",
    "sum(out_edges(graph,n2)[i][:fin][t] for i = 1:length(out_edges(graph,n2))) + n2[:total_supplied][t] - n2[:total_delivered][t])\n",
    "\n",
    "#set linking constraints for our pipe boundary condition\n",
    "@linkconstraint(model,graph,pipe,[t = time_grid],pipe[:pin][t] == getconnectedfrom(graph,pipe)[:pressure][t])\n",
    "@linkconstraint(model,graph,pipe,[t = time_grid],pipe[:pout][t] == getconnectedto(graph,pipe)[:pressure][t]);"
   ]
  },
  {
   "cell_type": "markdown",
   "metadata": {},
   "source": [
    "## Fix the demand at n2"
   ]
  },
  {
   "cell_type": "code",
   "execution_count": 29,
   "metadata": {
    "collapsed": true
   },
   "outputs": [],
   "source": [
    "d = getmodel(n2) #grab n2's model\n",
    "@constraint(d,[t = time_grid],n2[:demand][1,t] == 80);"
   ]
  },
  {
   "cell_type": "markdown",
   "metadata": {},
   "source": [
    "## Solve the pipe system"
   ]
  },
  {
   "cell_type": "code",
   "execution_count": 30,
   "metadata": {},
   "outputs": [
    {
     "name": "stdout",
     "output_type": "stream",
     "text": [
      "Creating flattened graph model...\n",
      "Finished model instantiation\n",
      "This is Ipopt version 3.12.1, running with linear solver mumps.\n",
      "NOTE: Other linear solvers might be more efficient (see Ipopt documentation).\n",
      "\n",
      "Number of nonzeros in equality constraint Jacobian...:    11514\n",
      "Number of nonzeros in inequality constraint Jacobian.:       98\n",
      "Number of nonzeros in Lagrangian Hessian.............:     9798\n",
      "\n",
      "Total number of variables............................:     3175\n",
      "                     variables with only lower bounds:     1920\n",
      "                variables with lower and upper bounds:     1200\n",
      "                     variables with only upper bounds:        0\n",
      "Total number of equality constraints.................:     3031\n",
      "Total number of inequality constraints...............:       49\n",
      "        inequality constraints with only lower bounds:        1\n",
      "   inequality constraints with lower and upper bounds:        0\n",
      "        inequality constraints with only upper bounds:       48\n",
      "\n",
      "iter    objective    inf_pr   inf_du lg(mu)  ||d||  lg(rg) alpha_du alpha_pr  ls\n",
      "   0  0.0000000e+00 4.80e+06 1.00e+00  -1.0 0.00e+00    -  0.00e+00 0.00e+00   0\n",
      "   1 -2.9843435e+03 4.79e+06 1.38e+01  -1.0 1.73e+06    -  1.24e-04 1.72e-03f  1\n",
      "   2 -3.6872898e+03 4.79e+06 1.38e+01  -1.0 2.43e+06    -  7.81e-04 2.89e-04f  1\n",
      "   3 -8.9692257e+03 4.79e+06 1.38e+01  -1.0 5.83e+06    -  2.52e-04 9.06e-04f  1\n",
      "   4 -1.3362064e+04 4.78e+06 1.38e+01  -1.0 8.04e+06    -  7.95e-04 5.46e-04f  1\n",
      "   5 -1.6795026e+04 4.78e+06 1.37e+01  -1.0 4.24e+06    -  1.43e-03 8.09e-04f  1\n",
      "   6 -2.5667700e+04 4.77e+06 1.37e+01  -1.0 3.85e+06    -  1.88e-03 2.31e-03f  1\n",
      "   7 -3.8345645e+04 4.75e+06 1.37e+01  -1.0 3.82e+06    -  2.92e-03 3.32e-03f  1\n",
      "   8 -8.5353335e+04 4.69e+06 1.35e+01  -1.0 3.80e+06    -  4.18e-03 1.24e-02f  1\n",
      "   9 -1.2666217e+05 4.64e+06 1.33e+01  -1.0 3.75e+06    -  1.49e-02 1.10e-02f  1\n",
      "iter    objective    inf_pr   inf_du lg(mu)  ||d||  lg(rg) alpha_du alpha_pr  ls\n",
      "  10 -1.3496368e+06 3.11e+06 2.69e+02  -1.0 3.71e+06    -  4.43e-02 3.29e-01f  1\n",
      "  11 -1.4186283e+06 3.03e+06 2.63e+02  -1.0 2.49e+06    -  2.55e-02 2.77e-02f  1\n",
      "  12 -1.6504544e+06 2.74e+06 1.40e+02  -1.0 2.42e+06    -  2.06e-01 9.58e-02f  1\n",
      "  13 -3.8170088e+06 2.74e+04 6.54e+02  -1.0 2.19e+06    -  9.07e-02 9.90e-01f  1\n",
      "  14 -3.8273521e+06 1.45e+04 2.85e+02  -1.0 5.57e+04    -  6.39e-01 4.71e-01f  1\n",
      "  15 -3.8296913e+06 1.16e+04 4.70e+02  -1.0 3.43e+04    -  2.73e-01 2.00e-01f  1\n",
      "  16 -3.8319522e+06 8.80e+03 1.66e+03  -1.0 5.30e+04    -  5.55e-01 2.40e-01f  1\n",
      "  17 -3.8340913e+06 6.15e+03 3.23e+02  -1.0 1.58e+05    -  1.47e-01 3.01e-01f  1\n",
      "  18 -3.8353382e+06 4.62e+03 3.38e+03  -1.0 2.21e+05    -  6.52e-01 2.50e-01f  1\n",
      "  19 -3.8364271e+06 3.31e+03 3.07e+03  -1.0 7.66e+05    -  3.45e-01 2.83e-01f  1\n",
      "iter    objective    inf_pr   inf_du lg(mu)  ||d||  lg(rg) alpha_du alpha_pr  ls\n",
      "  20 -3.8367979e+06 2.87e+03 5.83e+03  -1.0 3.34e+05    -  3.53e-01 1.34e-01f  1\n",
      "  21 -3.8391848e+06 2.91e+03 7.51e+03  -1.0 4.14e+05    -  5.29e-01 9.85e-01f  1\n",
      "  22 -3.8392014e+06 1.15e+03 1.41e+05  -1.0 2.41e+05    -  9.21e-01 7.76e-01h  1\n",
      "  23 -3.8392047e+06 5.37e+02 1.05e+05  -1.0 2.57e+05    -  9.65e-01 1.00e+00h  1\n",
      "  24 -3.8392050e+06 5.42e+00 1.14e-02  -1.0 2.25e+04    -  1.00e+00 1.00e+00h  1\n",
      "  25 -3.8392157e+06 2.36e+02 4.25e+06  -2.5 3.16e+05    -  8.48e-01 4.11e-01f  1\n",
      "  26 -3.8392159e+06 2.33e+02 4.24e+06  -2.5 5.79e+04    -  4.41e-02 1.21e-02h  1\n",
      "  27 -3.8392169e+06 2.12e+02 5.12e+06  -2.5 7.34e+04    -  1.00e+00 9.50e-02h  1\n",
      "  28 -3.8392253e+06 5.61e+01 1.15e+05  -2.5 5.99e+04    -  1.00e+00 9.77e-01h  1\n",
      "  29 -3.8392254e+06 2.71e+01 4.31e+04  -2.5 3.20e+04    -  1.00e+00 6.27e-01h  1\n",
      "iter    objective    inf_pr   inf_du lg(mu)  ||d||  lg(rg) alpha_du alpha_pr  ls\n",
      "  30 -3.8392255e+06 2.55e+01 4.04e+04  -2.5 1.80e+04    -  1.11e-01 6.20e-02h  1\n",
      "  31 -3.8392254e+06 2.21e-01 4.17e+01  -2.5 4.13e+03    -  4.22e-02 1.00e+00h  1\n",
      "  32 -3.8392254e+06 5.15e-03 1.22e-02  -2.5 6.01e+02    -  1.00e+00 1.00e+00h  1\n",
      "  33 -3.8392258e+06 2.54e-02 1.35e+04  -5.7 1.46e+03    -  8.55e-01 9.03e-01f  1\n",
      "  34 -3.8392258e+06 8.99e-01 8.08e+03  -5.7 6.76e+04    -  6.06e-01 1.19e-01h  1\n",
      "  35 -3.8392258e+06 8.97e-01 9.58e+03  -5.7 1.58e+04    -  9.71e-02 2.83e-03h  1\n",
      "  36 -3.8392258e+06 8.97e-01 9.67e+03  -5.7 2.21e+06    -  6.14e-03 2.27e-05f  9\n",
      "  37 -3.8392258e+06 7.09e-01 1.89e+04  -5.7 2.41e+02    -  9.85e-01 2.10e-01h  1\n",
      "  38 -3.8392259e+06 1.70e-05 9.67e-07  -5.7 3.13e+01    -  1.00e+00 1.00e+00h  1\n",
      "  39 -3.8392259e+06 6.49e-07 2.03e-01  -8.6 6.71e+00    -  1.00e+00 9.99e-01h  1\n",
      "iter    objective    inf_pr   inf_du lg(mu)  ||d||  lg(rg) alpha_du alpha_pr  ls\n",
      "  40 -3.8392259e+06 2.79e-09 1.14e-13  -8.6 8.63e-03    -  1.00e+00 1.00e+00f  1\n",
      "\n",
      "Number of Iterations....: 40\n",
      "\n",
      "                                   (scaled)                 (unscaled)\n",
      "Objective...............:  -3.8392258584562382e+06   -3.8392258584562382e+06\n",
      "Dual infeasibility......:   1.1368683772161603e-13    1.1368683772161603e-13\n",
      "Constraint violation....:   2.7939677238464360e-10    2.7939677238464360e-09\n",
      "Complementarity.........:   2.5059045943398500e-09    2.5059045943398500e-09\n",
      "Overall NLP error.......:   2.5059045943398500e-09    2.7939677238464360e-09\n",
      "\n",
      "\n",
      "Number of objective function evaluations             = 50\n",
      "Number of objective gradient evaluations             = 41\n",
      "Number of equality constraint evaluations            = 50\n",
      "Number of inequality constraint evaluations          = 50\n",
      "Number of equality constraint Jacobian evaluations   = 41\n",
      "Number of inequality constraint Jacobian evaluations = 41\n",
      "Number of Lagrangian Hessian evaluations             = 40\n",
      "Total CPU secs in IPOPT (w/o function evaluations)   =      0.620\n",
      "Total CPU secs in NLP function evaluations           =      0.340\n",
      "\n",
      "EXIT: Optimal Solution Found.\n"
     ]
    }
   ],
   "source": [
    "model.solver = IpoptSolver()\n",
    "solve(model,graph)"
   ]
  },
  {
   "cell_type": "markdown",
   "metadata": {},
   "source": [
    "## Plot profiles"
   ]
  },
  {
   "cell_type": "code",
   "execution_count": 31,
   "metadata": {
    "collapsed": true
   },
   "outputs": [],
   "source": [
    "px = getvalue(pipe[:px])\n",
    "fx = getvalue(pipe[:fx]);"
   ]
  },
  {
   "cell_type": "code",
   "execution_count": 32,
   "metadata": {},
   "outputs": [
    {
     "data": {
      "image/png": "[encoded data removed]",
      "text/plain": [
       "PyPlot.Figure(PyObject <matplotlib.figure.Figure object at 0x7fc0ed42b810>)"
      ]
     },
     "metadata": {},
     "output_type": "display_data"
    },
    {
     "data": {
      "text/plain": [
       "PyObject <matplotlib.text.Text object at 0x7fc0ed29d110>"
      ]
     },
     "execution_count": 32,
     "metadata": {},
     "output_type": "execute_result"
    }
   ],
   "source": [
    "plot(x_grid,px[1,:])\n",
    "ylabel(\"pressure [bar]\")"
   ]
  },
  {
   "cell_type": "markdown",
   "metadata": {
    "collapsed": true
   },
   "source": [
    "# A closer look at gas_components.jl"
   ]
  },
  {
   "cell_type": "markdown",
   "metadata": {},
   "source": [
    "# Gas Network Component Models\n",
    "Here we will define the component models for our gas network.  While there is certainly some effort required to come up with valid model components, we will see that the system as a whole becomes easier to analyze and extend."
   ]
  },
  {
   "cell_type": "markdown",
   "metadata": {},
   "source": [
    "### Gas Node (Junction) Component\n",
    "The gas node encompasses both supplies and demands."
   ]
  },
  {
   "cell_type": "code",
   "execution_count": null,
   "metadata": {
    "collapsed": true
   },
   "outputs": [],
   "source": [
    "type NodeData\n",
    "    time_grid\n",
    "    n_supplies\n",
    "    supply_upper\n",
    "    n_demands\n",
    "    pressure_lower\n",
    "    pressure_upper\n",
    "    demand_cost\n",
    "    gen_cost\n",
    "end\n",
    "\n",
    "function gasnode(data::NodeData)\n",
    "    m = Model()\n",
    "    time_grid = data.time_grid\n",
    "    supplies = collect(1:data.n_supplies)\n",
    "    demands = collect(1:data.n_demands)\n",
    "    @variable(m,data.pressure_lower <= pressure[time_grid] <= data.pressure_upper,start = 50)\n",
    "    @variable(m,0 <= fgen[supplies,time_grid] <= data.supply_upper, start = 10)\n",
    "    @variable(m,demand[demands,time_grid] >= 0)\n",
    "    @variable(m,fdeliver[demands,time_grid] >= 0,start = 100)\n",
    "    @constraint(m, flowLimit[d = demands,t = time_grid], fdeliver[d,t] <= demand[d,t])\n",
    "\n",
    "    @variable(m,total_delivered[time_grid] >= 0)\n",
    "    @variable(m,total_supplied[time_grid] >= 0)\n",
    "    @constraint(m,sum_deliver[t = time_grid],total_delivered[t] == sum(fdeliver[d,t] for d in demands))\n",
    "    @constraint(m,sum_supply[t = time_grid],total_supplied[t] == sum(fgen[s,t] for s in supplies))\n",
    "\n",
    "    @variable(m,delivercost[demands]) #each demand has a deliver cost (revenue)\n",
    "    @variable(m,total_delivercost)\n",
    "    @variable(m,supplycost[supplies])\n",
    "    @variable(m,total_supplycost)\n",
    "\n",
    "    @constraint(m,[d = demands],delivercost[d] == sum(data.demand_cost*fdeliver[d,t] for t = time_grid))\n",
    "    @constraint(m, integratedDemandCost, total_delivercost == sum(delivercost[d] for d = demands))\n",
    "    @constraint(m,[s = supplies],supplycost[s] == sum(data.gen_cost*fgen[s,t] for t = time_grid))\n",
    "    @constraint(m, integratedSupplyCost, total_supplycost == sum(supplycost[s] for s = supplies))\n",
    "\n",
    "    @objective(m, Min, total_delivercost + total_supplycost)\n",
    "    return m\n",
    "end"
   ]
  },
  {
   "cell_type": "markdown",
   "metadata": {},
   "source": [
    "### Gas Pipeline Components\n",
    "Since pipeline components can be extremely diverse (various reduced models, active vs passive,etc...), it is helpful to define functions that manipulate a model.  We can then build up different pipeline models for different applications and set them to edges within our network."
   ]
  },
  {
   "cell_type": "code",
   "execution_count": null,
   "metadata": {
    "collapsed": true
   },
   "outputs": [],
   "source": [
    "function euleractivelink(pdata,cdata)\n",
    "    m = Model()\n",
    "    m = basepipeequations(m,pdata)\n",
    "    m = isothermaleulerequations(m,pdata)\n",
    "    m = compressorequations(m,cdata)\n",
    "    m = activepressureboundary(m,pipedata)\n",
    "    m = ssinitialcondition(m,pipedata)\n",
    "    m = linepackconstraint(m,pipedata)\n",
    "    return m\n",
    "end"
   ]
  },
  {
   "cell_type": "code",
   "execution_count": null,
   "metadata": {
    "collapsed": true
   },
   "outputs": [],
   "source": [
    "function eulerpassivelink(pdata)\n",
    "    m = Model()\n",
    "    m = basepipeequations(m,pdata)\n",
    "    m = isothermaleulerequations(m,pdata)\n",
    "    m = passivepressureboundary(m,pdata)\n",
    "    m = ssinitialcondition(m,pdata)\n",
    "    m = linepackconstraint(m,pdata)\n",
    "    return m\n",
    "end "
   ]
  },
  {
   "cell_type": "markdown",
   "metadata": {},
   "source": [
    "### Structs for pipe and compressor data"
   ]
  },
  {
   "cell_type": "code",
   "execution_count": null,
   "metadata": {
    "collapsed": true
   },
   "outputs": [],
   "source": [
    "#Pipe data struct\n",
    "type PipeData\n",
    "    len\n",
    "    diameter\n",
    "    time_grid\n",
    "    x_grid\n",
    "    min_pressure\n",
    "    max_pressure\n",
    "    min_flow\n",
    "    max_flow\n",
    "end\n",
    "\n",
    "#Compressor data struct\n",
    "type CompData\n",
    "    dp_min\n",
    "    dp_max\n",
    "    min_power\n",
    "    max_power\n",
    "    cost\n",
    "end"
   ]
  },
  {
   "cell_type": "markdown",
   "metadata": {},
   "source": [
    "## Creating a gas pipeline component\n",
    "## Functions can be used to modify and compose models"
   ]
  },
  {
   "cell_type": "markdown",
   "metadata": {},
   "source": [
    "### Base Pipe Equations"
   ]
  },
  {
   "cell_type": "code",
   "execution_count": null,
   "metadata": {
    "collapsed": true
   },
   "outputs": [],
   "source": [
    "function basicpipeequations(m,pipedata)\n",
    "    time_grid = pipedata.time_grid \n",
    "    x_grid = pipedata.x_grid\n",
    "    min_pressure = pipedata.min_pressure\n",
    "    max_pressure = pipedata.max_pressure\n",
    "    min_flow = pipedata.min_flow\n",
    "    max_flow = pipedata.max_flow\n",
    "    @variable(m,pin[time_grid] >= 0, start = 60)\n",
    "    @variable(m,pout[time_grid] >= 0, start = 60)\n",
    "    @variable(m,fin[time_grid] >=0, start = 100)\n",
    "    @variable(m,fout[time_grid] >= 0, start = 100)\n",
    "    @variable(m, min_pressure <= px[time_grid,x_grid] <= max_pressure, start = 60)#start = 0.5*($data.min_pressure + $data.max_pressure)) #60   # link pressure profile - [bar]\n",
    "    @variable(m, min_flow <= fx[time_grid,x_grid] <= max_flow, start = 10)#100 #start = 0.5*($data.min_flow + $data.max_flow))\n",
    "    @constraint(m, flow_in[t = time_grid],  fx[t,1] == fin[t])\n",
    "    @constraint(m, flow_out[t = time_grid], fx[t,x_grid[end]] == fout[t])\n",
    "    return m\n",
    "end;"
   ]
  },
  {
   "cell_type": "markdown",
   "metadata": {},
   "source": [
    "### Isothermal Euler Equations"
   ]
  },
  {
   "cell_type": "code",
   "execution_count": null,
   "metadata": {
    "collapsed": true
   },
   "outputs": [],
   "source": [
    "function isothermaleulerequations(m,pipedata)\n",
    "    #pipe parameters\n",
    "    time_grid = pipedata.time_grid \n",
    "    x_grid = pipedata.x_grid\n",
    "    diameter = pipedata.diameter\n",
    "    len = pipedata.len\n",
    "    x_grid = pipedata.x_grid\n",
    "    time_grid = pipedata.time_grid\n",
    "    area = (1/4)*pi*diameter*diameter\n",
    "    lam = (2*log10(3.7*diameter/(eps*dfac)))^(-2)   #pipe friction coefficient\n",
    "    c1 = (pfac2/ffac2)*(nu2/area)\n",
    "    c2 = area*(ffac2/pfac2)\n",
    "    c3 = area*(pfac2/ffac2)*(8*lam*nu2)/(pi*pi*diameter^5)\n",
    "    dx = len / (length(x_grid) - 1)\n",
    "    dt = horizon / length(time_grid)\n",
    "    \n",
    "    #variables and equations\n",
    "    px = getvariable(m,px)\n",
    "    fx = getvariable(m,fx)\n",
    "    @variable(m, slack2[time_grid,x_grid] >= 0, start = 10)  #auxiliary variable\n",
    "    @variable(m, slack3[time_grid,x_grid] >= 0, start = 10)  #auxiliary variable\n",
    "    @variable(m, slack1[time_grid,x_grid] >= 0, start = 10)  #auxiliary variable for friction loss term\n",
    "    @NLconstraint(m, slackeq1[t = time_grid, x = x_grid],  slack1[t,x]*px[t,x] - c3*fx[t,x]*fx[t,x] == 0)\n",
    "    @NLconstraint(m, slackeq2[t = time_grid, x = x_grid],  slack2[t,x]*px[t,x] - 2*c1*fx[t,x] == 0)\n",
    "    @NLconstraint(m, slackeq3[t = time_grid, x = x_grid],  slack3[t,x]*px[t,x]*px[t,x] - c1*fx[t,x]*fx[t,x] == 0)\n",
    "    @constraint(m, press[t = time_grid[1:end-1], x = x_grid[1:end-1]], (px[t+1,x]-px[t,x])/dt + c1*(fx[t+1,x+1]-fx[t+1,x])/dx == 0 )\n",
    "    @constraint(m, flow[t = time_grid[1:end-1], x = x_grid[1:end-1]], (fx[t+1,x]-fx[t,x])/dt == -slack2[t+1,x]*(fx[t+1,x+1]-fx[t+1,x])/dx +\n",
    "                                    slack3[t+1,x]*(px[t+1,x+1]-px[t+1,x])/dx -c2*(px[t+1,x+1]-px[t+1,x])/dx - slack1[t+1,x])\n",
    "    return m\n",
    "end;"
   ]
  },
  {
   "cell_type": "markdown",
   "metadata": {},
   "source": [
    "### Compressor Equations"
   ]
  },
  {
   "cell_type": "code",
   "execution_count": null,
   "metadata": {
    "collapsed": true
   },
   "outputs": [],
   "source": [
    "function compressorequations(m,compressdata)\n",
    "    time_grid = compressdata.time_grid\n",
    "    dp_min = compressdata.dp_min\n",
    "    dp_max = compressdata.dp_max\n",
    "    min_power = compressdata.min_power \n",
    "    max_power = compressdata.max_power\n",
    "    cost = compressdata.cost\n",
    "    fin = getvariable(m,:fin)\n",
    "    pin = getvariable(m,:pin)\n",
    "    @variable(m, dp_min <= dp[time_grid] <= dp_max, start = 10)\n",
    "    @variable(m, min_power <= pow[time_grid] <= max_power, start = 500)\n",
    "    @variable(m, powercost)\n",
    "    @NLconstraint(m, powereqn[t = time_grid], pow[t] == c4*fin[t]*(((pin[t]+dp[t])/pin[t])^om-1))\n",
    "    @constraint(m,boostcosteqn, powercost == sum(cost*pow[t] for t = time_grid)*dt/3600)\n",
    "    @objective(m, Min, powercost)\n",
    "    return m\n",
    "end;"
   ]
  },
  {
   "cell_type": "markdown",
   "metadata": {},
   "source": [
    "### Boundary Conditions"
   ]
  },
  {
   "cell_type": "code",
   "execution_count": null,
   "metadata": {
    "collapsed": true
   },
   "outputs": [],
   "source": [
    "function activepressureboundary(m,pipedata)\n",
    "    time_grid = pipe.time_grid\n",
    "    px = getvariable(m,:px)\n",
    "    pin = getvariable(m,:pin)\n",
    "    dp = getvariable(m,:dp)\n",
    "    pout = getvariable(m,:pout)\n",
    "    @constraint(m,press_in[t = time_grid],  px[t,1] == pin[t] + dp[t])\n",
    "    @constraint(m,press_out[t = time_grid], px[t,x_grid[end]] == pout[t])\n",
    "    return m\n",
    "end"
   ]
  },
  {
   "cell_type": "code",
   "execution_count": null,
   "metadata": {
    "collapsed": true
   },
   "outputs": [],
   "source": [
    "function passivepressureboundary(m,pipedata)\n",
    "    time_grid = pipe.time_grid\n",
    "    px = getvariable(m,:px)\n",
    "    pin = getvariable(m,:pin)\n",
    "    pout = getvariable(m,:pout)\n",
    "    @constraint(m,press_in[t = time_grid],  px[t,1] == pin[t])\n",
    "    @constraint(m,press_out[t = time_grid], px[t,x_grid[end]] == pout[t])\n",
    "    return m\n",
    "end"
   ]
  },
  {
   "cell_type": "markdown",
   "metadata": {},
   "source": [
    "### Steady State Initial Condition"
   ]
  },
  {
   "cell_type": "code",
   "execution_count": null,
   "metadata": {
    "collapsed": true
   },
   "outputs": [],
   "source": [
    "function ssinitialconditions(m,pipedata)\n",
    "    x_grid = pipedata.x_grid\n",
    "    px = getvariable(m,:px)\n",
    "    fx = getvariable(m,:fx)\n",
    "    slack = getvariable(m,:slack)\n",
    "    @constraint(m, mass_ss[t = 1, x = x_grid[1:end-1]], (fx[t,x+1] - fx[t,x]) == 0)\n",
    "    @constraint(m, momentum_ss[t = 1, x = x_grid[1:end-1]], -c2*(px[t,x+1] - px[t,x])/dx - slack[t,x] == 0)\n",
    "end"
   ]
  },
  {
   "cell_type": "markdown",
   "metadata": {},
   "source": [
    "### Linepack Constraint"
   ]
  },
  {
   "cell_type": "code",
   "execution_count": null,
   "metadata": {
    "collapsed": true
   },
   "outputs": [],
   "source": [
    "function linepack(m,pipedata)\n",
    "    time_grid = pipedata.time_grid\n",
    "    @variable(m,linepack[time_grid])\n",
    "    @constraint(m,linepack_def[t = time_grid],linepack[t] == sum(fx[t,x] for x in x_grid)*dx)\n",
    "    #Periodic terminal constraint\n",
    "    @constraint(m,linepack_cons, linepack[time_grid[end]] >= linepack[time_grid[1]])\n",
    "end"
   ]
  },
  {
   "cell_type": "markdown",
   "metadata": {},
   "source": [
    "## Even more modularity"
   ]
  },
  {
   "cell_type": "markdown",
   "metadata": {},
   "source": [
    "![title](gas_coupling.png)"
   ]
  },
  {
   "cell_type": "markdown",
   "metadata": {},
   "source": [
    "### Gas Junction Component (no supply or demand)"
   ]
  },
  {
   "cell_type": "code",
   "execution_count": null,
   "metadata": {
    "collapsed": true
   },
   "outputs": [],
   "source": [
    "################################\n",
    "# Gas Node Component\n",
    "################################\n",
    "type JunctionData\n",
    "    time_grid\n",
    "    pressure_lower\n",
    "    pressure_upper\n",
    "end\n",
    "\n",
    "function gasjunction(data)\n",
    "    m = Model()\n",
    "    time_grid = data.time_grid\n",
    "    @variable(m,data.pressure_lower <= pressure[time_grid] <= data.pressure_upper, start = 60)\n",
    "    @variable(m,supply[time_grid] >= 0)  #supply flow to gasnode\n",
    "    @variable(m,deliver[time_grid] >= 0) #delivered flow from gas node\n",
    "    return m\n",
    "end;"
   ]
  },
  {
   "cell_type": "markdown",
   "metadata": {},
   "source": [
    "### Gas Demand Component"
   ]
  },
  {
   "cell_type": "code",
   "execution_count": null,
   "metadata": {
    "collapsed": true
   },
   "outputs": [],
   "source": [
    "####################################\n",
    "# Demand Component\n",
    "####################################\n",
    "type DemandData\n",
    "    time_grid\n",
    "    cost\n",
    "end\n",
    "\n",
    "function gasdemand(data)\n",
    "    cost = data.cost\n",
    "    time_grid = data.time_grid\n",
    "    m = Model()\n",
    "    @variable(m,fdeliver[time_grid] >= 0, start = 100)\n",
    "    @variable(m, demandcost)\n",
    "    @variable(m, fdemand[time_grid] >= 0)\n",
    "    @constraint(m, flowLimit[t = time_grid], fdeliver[t] <= fdemand[t])\n",
    "    @constraint(m, integratedGasCost, demandcost == sum(cost*fdeliver[t] for t = time_grid))\n",
    "    @objective(m, Min, demandcost)\n",
    "    return m\n",
    "end;"
   ]
  },
  {
   "cell_type": "markdown",
   "metadata": {},
   "source": [
    "### Gas Supply Component"
   ]
  },
  {
   "cell_type": "code",
   "execution_count": null,
   "metadata": {
    "collapsed": true
   },
   "outputs": [],
   "source": [
    "####################################\n",
    "# Supply Component\n",
    "####################################\n",
    "type SupplyData\n",
    "    time_grid\n",
    "    cost\n",
    "    fgen_lower\n",
    "    fgen_upper\n",
    "end\n",
    "\n",
    "function gassupply(data)\n",
    "    cost = data.cost\n",
    "    time_grid = data.time_grid\n",
    "    m = Model()\n",
    "    @variable(m, data.fgen_lower <= fgen[time_grid] <= data.fgen_upper, start = 10)\n",
    "    @variable(m,gencost[time_grid])\n",
    "    @constraint(m,costconstraint[t = time_grid], gencost[t] == cost*fgen[t])\n",
    "    return m\n",
    "end;"
   ]
  }
 ],
 "metadata": {
  "kernelspec": {
   "display_name": "Julia 0.5.0",
   "language": "julia",
   "name": "julia-0.5"
  },
  "language_info": {
   "file_extension": ".jl",
   "mimetype": "application/julia",
   "name": "julia",
   "version": "0.5.0"
  }
 },
 "nbformat": 4,
 "nbformat_minor": 2
}
