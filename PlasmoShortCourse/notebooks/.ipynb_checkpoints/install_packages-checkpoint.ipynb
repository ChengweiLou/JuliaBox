{
 "cells": [
  {
   "cell_type": "markdown",
   "metadata": {},
   "source": [
    "## Plasmo Short Course: Getting Started\n",
    "Run the following code to set up the rest of the tutorial."
   ]
  },
  {
   "cell_type": "code",
   "execution_count": null,
   "metadata": {
    "collapsed": true
   },
   "outputs": [],
   "source": [
    "Pkg.add(\"JuMP\")\n",
    "Pkg.add(\"Ipopt\")\n",
    "#Pkg.add(\"PyPlot\")  #Don't install \n",
    "push!(LOAD_PATH,\"/home/juser/JuliaBox/PlasmoShortCourse/src\")  #Put Plasmo in the load path\n",
    "#Check that everything loads\n",
    "using JuMP\n",
    "using Ipopt\n",
    "using Plasmo\n",
    "using PyPlot"
   ]
  }
 ],
 "metadata": {
  "kernelspec": {
   "display_name": "Julia 0.5.0",
   "language": "julia",
   "name": "julia-0.5"
  },
  "language_info": {
   "file_extension": ".jl",
   "mimetype": "application/julia",
   "name": "julia",
   "version": "0.5.0"
  }
 },
 "nbformat": 4,
 "nbformat_minor": 2
}
