{
 "cells": [
  {
   "cell_type": "markdown",
   "metadata": {},
   "source": [
    "# Modeling a Gas Network using JuMP and Plasmo\n",
    "### Jordan Jalving & Victor Zavala"
   ]
  },
  {
   "cell_type": "markdown",
   "metadata": {},
   "source": [
    "## Graph based Modeling (component based modeling)\n",
    "Plasmo applies a graph-based abstraction to model interconnected systems using nodes and edges.  In this sense, models (e.g. JuMP models) can be associated with nodes and edges and then coupled by providing function handles (coupling functions) to nodes or edges within their respective graph.  The key to this abstraction is the use of subgraphs.  It is possible to set coupling functions for a node within the context of multiple graphs.  This allows general coupling formulations that can connect a node to its neighbors within the prescribed subgraph."
   ]
  },
  {
   "cell_type": "markdown",
   "metadata": {},
   "source": [
    "## Network Equations\n",
    "Although our system of equations is described in terms of sets, we will implement them in terms of individual model components."
   ]
  },
  {
   "cell_type": "markdown",
   "metadata": {},
   "source": [
    "$\\newcommand{\\norm}[1]{\\left\\lvert#1\\right\\rvert}$\n",
    "__Objective__ (Minimize system compressor cost; maximize gas delivery to all demands)\n",
    "\n",
    "$\n",
    "\\min \\varphi:=\\int_{0}^T \\left(\\sum_{\\ell \\in \\mathcal{L}_a}\\alpha_{P}P(\\tau) - \\sum_{d \\in \\mathcal{D}}\\alpha_{gas} f_{deliver}(\\tau)\\right)d\\tau\n",
    "$\n",
    "\n",
    "\n",
    "__Isothermal Euler Equations__\n",
    "\n",
    "$\n",
    "\\begin{align*}\n",
    "      &\\frac{\\partial p_{\\ell}(t,x)}{\\partial t} + \\frac{c^2}{A_{\\ell}}\\frac{\\partial f_{\\ell}(t,x)}{\\partial x} = 0, \\ \\ \\ell \\in \\mathcal{L}\\\\\n",
    "      &\\frac{\\partial f_{\\ell}(t,x)}{\\partial t} + \\frac{2c^2f_{\\ell}(t,x)}{A_{\\ell}p_{\\ell}(t,x)}\\frac{\\partial f_{\\ell}(t,x)}{\\partial x} - \\frac{c^2f_{\\ell}(t,x)^2}{A_{\\ell}p_{\\ell}(t,x)^2}\\frac{\\partial p_{\\ell}(t,x)}{\\partial x}\n",
    "          + A_{\\ell}\\frac{\\partial p_{\\ell}(t,x)}{\\partial x} = -\\frac{8c^2\\lambda A_{\\ell}}{\\pi^2D_{\\ell}^5}\\frac{f_{\\ell}(t,x)}{p_{\\ell}(t,x)} \\norm{f_{\\ell}(t,x)}, \\ \\ \\ell \\in \\mathcal{L}\n",
    "    \\end{align*}\n",
    "$\n",
    "\n",
    "__Compressor Equation__\n",
    "\n",
    "$\n",
    "\\begin{align*}\n",
    "&P_{\\ell}(t)= c_p\\cdot T\\cdot f_{in,\\ell}\\left(\\left(\\frac{p_{in,\\ell}(t)+\\Delta p_{\\ell}(t)}{p_{in,\\ell}(t)}\\right)^{\\frac{\\gamma-1}\n",
    "{\\gamma}}-1\\right),\\ell \\in \\mathcal{L}_a\\\\\n",
    "\\end{align*}\n",
    "$\n",
    "\n",
    "__Pipe Boundary Conditions__\n",
    "\n",
    "$\n",
    "\\begin{align*}\n",
    "&p_{\\ell}(0,t)= p_{in,\\ell}(t)+\\Delta p_{\\ell}(t),\\ell \\in \\mathcal{L}_a\\\\\n",
    "&p_{\\ell}(0,t)= p_{in,\\ell}(t),\\ell \\in \\mathcal{L}_p\\\\\n",
    "&p_{\\ell}(L_{\\ell},t)= p_{out,\\ell}(t),\\ell \\in \\mathcal{L}\\\\\n",
    "\\end{align*}\n",
    "$\n",
    "\n",
    "__Node Conservation__\n",
    "\n",
    "$\n",
    "\\begin{align*}\n",
    "&\\sum_{\\ell\\in\\mathcal{L}_n^{rec}}f_{out,\\ell}(t)-\\sum_{\\ell \\in\\mathcal{L}_n^{snd}}f_{in,\\ell}(t) +\n",
    "\\sum_{i\\in\\mathcal{S}_n}g_i(t) - \\sum_{j\\in \\mathcal{D}_n}d_j^{gas}(t) = 0,\\; n \\in\\mathcal{N}\n",
    "\\end{align*}\n",
    "$\n",
    "\n",
    "__Supply and Demand__\n",
    "\n",
    "$\n",
    "\\begin{align*}\n",
    "&f_{deliver,n}(t) \\le f_{demand,n}(t),n \\in \\mathcal{D} \\\\\n",
    "& \\underline{s} \\le g_n(t) \\le \\overline{s},n \\in \\mathcal{S}\n",
    "\\end{align*}\n",
    "$"
   ]
  },
  {
   "cell_type": "markdown",
   "metadata": {},
   "source": [
    "## Import JuMP and Ipopt"
   ]
  },
  {
   "cell_type": "code",
   "execution_count": 1,
   "metadata": {
    "collapsed": true
   },
   "outputs": [],
   "source": [
    "using JuMP\n",
    "using Ipopt\n",
    "using PyPlot"
   ]
  },
  {
   "cell_type": "markdown",
   "metadata": {},
   "source": [
    "## The usual physical property data"
   ]
  },
  {
   "cell_type": "code",
   "execution_count": 2,
   "metadata": {
    "collapsed": true
   },
   "outputs": [],
   "source": [
    "eps= 0.025\t\t             # pipe rugosity - [mm]\n",
    "z= 0.80        \t\t\t     # gas compressibility  - []\n",
    "rhon=0.72         \t\t     # density of air at normal conditions - [kg/m3]\n",
    "R=8314.0       \t\t\t     # universal gas constant [J/kgmol-K]\n",
    "M=18.0    \t\t\t         # gas molar mass [kg/kgmol]\n",
    "pi=3.14         \t\t     # pi\n",
    "Tgas = 293.15      \t\t     # reference temperature [K]\n",
    "Cp = 2.34        \t\t     # heat capacity @ constant pressure [kJ/kg-K]\n",
    "Cv = 1.85        \t\t     # heat capacity @ constant volume [kJ/kg-K]\n",
    "\n",
    "#scaling factors\n",
    "ffac=(1e+6*rhon)/(24*3600)                     # from scmx10-6/day to kg/s\n",
    "ffac2=(3600)/(1e+4*rhon)                       # from kg/s to scmx10-4/hr\n",
    "pfac=1e+5                                      # from bar to Pa\n",
    "pfac2=1e-5                                     # from Pa to bar\n",
    "dfac=1e-3                                      # from mm to m\n",
    "lfac=1e+3;                                      # from km to m\n",
    "\n",
    "#We will also use a global horizon variable!\n",
    "horizon = 24*3600;"
   ]
  },
  {
   "cell_type": "markdown",
   "metadata": {},
   "source": [
    "# Gas Network Component Models\n",
    "Here we will define the component models for our gas network.  While there is certainly some effort required to come up with valid model components, we will see that the system as a whole becomes easier to analyze and extend."
   ]
  },
  {
   "cell_type": "markdown",
   "metadata": {},
   "source": [
    "### Gas Junction Component"
   ]
  },
  {
   "cell_type": "code",
   "execution_count": 3,
   "metadata": {
    "collapsed": true
   },
   "outputs": [],
   "source": [
    "################################\n",
    "# Gas Node Component\n",
    "################################\n",
    "type JunctionData\n",
    "    time_grid\n",
    "    pressure_lower\n",
    "    pressure_upper\n",
    "end\n",
    "\n",
    "function gasjunction(data)\n",
    "    m = Model()\n",
    "    time_grid = data.time_grid\n",
    "    @variable(m,data.pressure_lower <= pressure[time_grid] <= data.pressure_upper, start = 60)\n",
    "    @variable(m,supply[time_grid] >= 0)  #supply flow to gasnode\n",
    "    @variable(m,deliver[time_grid] >= 0) #delivered flow from gas node\n",
    "    return m\n",
    "end;"
   ]
  },
  {
   "cell_type": "markdown",
   "metadata": {},
   "source": [
    "### Gas Demand Component"
   ]
  },
  {
   "cell_type": "code",
   "execution_count": 4,
   "metadata": {
    "collapsed": true
   },
   "outputs": [],
   "source": [
    "####################################\n",
    "# Demand Component\n",
    "####################################\n",
    "type DemandData\n",
    "    time_grid\n",
    "    cost\n",
    "end\n",
    "\n",
    "function gasdemand(data)\n",
    "    cost = data.cost\n",
    "    time_grid = data.time_grid\n",
    "    m = Model()\n",
    "    @variable(m,fdeliver[time_grid] >= 0, start = 100)\n",
    "    @variable(m, demandcost)\n",
    "    @variable(m, fdemand[time_grid] >= 0)\n",
    "    @constraint(m, flowLimit[t = time_grid], fdeliver[t] <= fdemand[t])\n",
    "    @constraint(m, integratedGasCost, demandcost == sum(cost*fdeliver[t] for t = time_grid))\n",
    "    @objective(m, Min, demandcost)\n",
    "    return m\n",
    "end;"
   ]
  },
  {
   "cell_type": "markdown",
   "metadata": {},
   "source": [
    "### Gas Supply Component"
   ]
  },
  {
   "cell_type": "code",
   "execution_count": 5,
   "metadata": {
    "collapsed": true
   },
   "outputs": [],
   "source": [
    "####################################\n",
    "# Supply Component\n",
    "####################################\n",
    "type SupplyData\n",
    "    time_grid\n",
    "    cost\n",
    "    fgen_lower\n",
    "    fgen_upper\n",
    "end\n",
    "\n",
    "function gassupply(data)\n",
    "    cost = data.cost\n",
    "    time_grid = data.time_grid\n",
    "    m = Model()\n",
    "    @variable(m, data.fgen_lower <= fgen[time_grid] <= data.fgen_upper, start = 10)\n",
    "    @variable(m,gencost[time_grid])\n",
    "    @constraint(m,costconstraint[t = time_grid], gencost[t] == cost*fgen[t])\n",
    "    return m\n",
    "end;"
   ]
  },
  {
   "cell_type": "markdown",
   "metadata": {},
   "source": [
    "## Creating a gas pipeline component"
   ]
  },
  {
   "cell_type": "code",
   "execution_count": 6,
   "metadata": {
    "collapsed": true
   },
   "outputs": [],
   "source": [
    "#Pipe data struct\n",
    "type PipeData\n",
    "    len\n",
    "    diameter\n",
    "    time_grid\n",
    "    x_grid\n",
    "    min_pressure\n",
    "    max_pressure\n",
    "    min_flow\n",
    "    max_flow\n",
    "end\n",
    "\n",
    "#Compressor data struct\n",
    "type CompData\n",
    "    dp_min\n",
    "    dp_max\n",
    "    min_power\n",
    "    max_power\n",
    "    cost\n",
    "end"
   ]
  },
  {
   "cell_type": "markdown",
   "metadata": {},
   "source": [
    "### *Notice that we do not use sets of links.  Each pipeline is its own component encapsulating its own variables and equations*"
   ]
  },
  {
   "cell_type": "markdown",
   "metadata": {},
   "source": [
    "Since pipeline components can be extremely diverse (various reduced models, active vs passive,etc...), it is helpful to define functions that manipulate a model.  We can then build up different pipeline models for different applications and set them to edges within our network."
   ]
  },
  {
   "cell_type": "markdown",
   "metadata": {},
   "source": [
    "### Base Pipe Equations"
   ]
  },
  {
   "cell_type": "code",
   "execution_count": 7,
   "metadata": {},
   "outputs": [
    {
     "data": {
      "text/plain": [
       "basicpipeequations (generic function with 1 method)"
      ]
     },
     "execution_count": 7,
     "metadata": {},
     "output_type": "execute_result"
    }
   ],
   "source": [
    "function basicpipeequations(m,pipedata)\n",
    "    time_grid = pipedata.time_grid \n",
    "    x_grid = pipedata.x_grid\n",
    "    min_pressure = pipedata.min_pressure\n",
    "    max_pressure = pipedata.max_pressure\n",
    "    min_flow = pipedata.min_flow\n",
    "    max_flow = pipedata.max_flow\n",
    "    @variable(m,pin[time_grid] >= 0, start = 60)\n",
    "    @variable(m,pout[time_grid] >= 0, start = 60)\n",
    "    @variable(m,fin[time_grid] >=0, start = 100)\n",
    "    @variable(m,fout[time_grid] >= 0, start = 100)\n",
    "    @variable(m, min_pressure <= px[time_grid,x_grid] <= max_pressure, start = 60)#start = 0.5*($data.min_pressure + $data.max_pressure)) #60   # link pressure profile - [bar]\n",
    "    @variable(m, min_flow <= fx[time_grid,x_grid] <= max_flow, start = 10)#100 #start = 0.5*($data.min_flow + $data.max_flow))\n",
    "    @constraint(m, flow_in[t = time_grid],  fx[t,1] == fin[t])\n",
    "    @constraint(m, flow_out[t = time_grid], fx[t,x_grid[end]] == fout[t])\n",
    "    return m\n",
    "    end;"
   ]
  },
  {
   "cell_type": "markdown",
   "metadata": {},
   "source": [
    "### Isothermal Euler Equations"
   ]
  },
  {
   "cell_type": "code",
   "execution_count": 8,
   "metadata": {},
   "outputs": [
    {
     "data": {
      "text/plain": [
       "isothermaleulerequations (generic function with 1 method)"
      ]
     },
     "execution_count": 8,
     "metadata": {},
     "output_type": "execute_result"
    }
   ],
   "source": [
    "function isothermaleulerequations(m,pipedata)\n",
    "    #pipe parameters\n",
    "    time_grid = pipedata.time_grid \n",
    "    x_grid = pipedata.x_grid\n",
    "    diameter = pipedata.diameter\n",
    "    len = pipedata.len\n",
    "    x_grid = pipedata.x_grid\n",
    "    time_grid = pipedata.time_grid\n",
    "    area = (1/4)*pi*diameter*diameter\n",
    "    lam = (2*log10(3.7*diameter/(eps*dfac)))^(-2)   #pipe friction coefficient\n",
    "    c1 = (pfac2/ffac2)*(nu2/area)\n",
    "    c2 = area*(ffac2/pfac2)\n",
    "    c3 = area*(pfac2/ffac2)*(8*lam*nu2)/(pi*pi*diameter^5)\n",
    "    dx = len / (length(x_grid) - 1)\n",
    "    dt = horizon / length(time_grid)\n",
    "    \n",
    "    #variables and equations\n",
    "    px = getvariable(m,px)\n",
    "    fx = getvariable(m,fx)\n",
    "    @variable(m, slack2[time_grid,x_grid] >= 0, start = 10)  #auxiliary variable\n",
    "    @variable(m, slack3[time_grid,x_grid] >= 0, start = 10)  #auxiliary variable\n",
    "    @variable(m, slack1[time_grid,x_grid] >= 0, start = 10)  #auxiliary variable for friction loss term\n",
    "    @NLconstraint(m, slackeq1[t = time_grid, x = x_grid],  slack1[t,x]*px[t,x] - c3*fx[t,x]*fx[t,x] == 0)\n",
    "    @NLconstraint(m, slackeq2[t = time_grid, x = x_grid],  slack2[t,x]*px[t,x] - 2*c1*fx[t,x] == 0)\n",
    "    @NLconstraint(m, slackeq3[t = time_grid, x = x_grid],  slack3[t,x]*px[t,x]*px[t,x] - c1*fx[t,x]*fx[t,x] == 0)\n",
    "    @constraint(m, press[t = time_grid[1:end-1], x = x_grid[1:end-1]], (px[t+1,x]-px[t,x])/dt + c1*(fx[t+1,x+1]-fx[t+1,x])/dx == 0 )\n",
    "    @constraint(m, flow[t = time_grid[1:end-1], x = x_grid[1:end-1]], (fx[t+1,x]-fx[t,x])/dt == -slack2[t+1,x]*(fx[t+1,x+1]-fx[t+1,x])/dx +\n",
    "                                    slack3[t+1,x]*(px[t+1,x+1]-px[t+1,x])/dx -c2*(px[t+1,x+1]-px[t+1,x])/dx - slack1[t+1,x])\n",
    "    return m\n",
    "    end;"
   ]
  },
  {
   "cell_type": "markdown",
   "metadata": {},
   "source": [
    "### Compressor Equations"
   ]
  },
  {
   "cell_type": "code",
   "execution_count": 9,
   "metadata": {
    "collapsed": true
   },
   "outputs": [],
   "source": [
    "function compressorequations(m,compressdata)\n",
    "    time_grid = compressdata.time_grid\n",
    "    dp_min = compressdata.dp_min\n",
    "    dp_max = compressdata.dp_max\n",
    "    min_power = compressdata.min_power \n",
    "    max_power = compressdata.max_power\n",
    "    cost = compressdata.cost\n",
    "    fin = getvariable(m,:fin)\n",
    "    pin = getvariable(m,:pin)\n",
    "    @variable(m, dp_min <= dp[time_grid] <= dp_max, start = 10)\n",
    "    @variable(m, min_power <= pow[time_grid] <= max_power, start = 500)\n",
    "    @variable(m, powercost)\n",
    "    @NLconstraint(m, powereqn[t = time_grid], pow[t] == c4*fin[t]*(((pin[t]+dp[t])/pin[t])^om-1))\n",
    "    @constraint(m,boostcosteqn, powercost == sum(cost*pow[t] for t = time_grid)*dt/3600)\n",
    "    @objective(m, Min, powercost)\n",
    "    return m\n",
    "end;"
   ]
  },
  {
   "cell_type": "markdown",
   "metadata": {},
   "source": [
    "### Boundary Conditions"
   ]
  },
  {
   "cell_type": "code",
   "execution_count": 10,
   "metadata": {},
   "outputs": [
    {
     "data": {
      "text/plain": [
       "activepressureboundary (generic function with 1 method)"
      ]
     },
     "execution_count": 10,
     "metadata": {},
     "output_type": "execute_result"
    }
   ],
   "source": [
    "function activepressureboundary(m,pipedata)\n",
    "    time_grid = pipe.time_grid\n",
    "    px = getvariable(m,:px)\n",
    "    pin = getvariable(m,:pin)\n",
    "    dp = getvariable(m,:dp)\n",
    "    pout = getvariable(m,:pout)\n",
    "    @constraint(m,press_in[t = time_grid],  px[t,1] == pin[t] + dp[t])\n",
    "    @constraint(m,press_out[t = time_grid], px[t,x_grid[end]] == pout[t])\n",
    "    return m\n",
    "end"
   ]
  },
  {
   "cell_type": "code",
   "execution_count": 11,
   "metadata": {},
   "outputs": [
    {
     "data": {
      "text/plain": [
       "passivepressureboundary (generic function with 1 method)"
      ]
     },
     "execution_count": 11,
     "metadata": {},
     "output_type": "execute_result"
    }
   ],
   "source": [
    "function passivepressureboundary(m,pipedata)\n",
    "    time_grid = pipe.time_grid\n",
    "    px = getvariable(m,:px)\n",
    "    pin = getvariable(m,:pin)\n",
    "    pout = getvariable(m,:pout)\n",
    "    @constraint(m,press_in[t = time_grid],  px[t,1] == pin[t])\n",
    "    @constraint(m,press_out[t = time_grid], px[t,x_grid[end]] == pout[t])\n",
    "    return m\n",
    "end"
   ]
  },
  {
   "cell_type": "code",
   "execution_count": null,
   "metadata": {
    "collapsed": true
   },
   "outputs": [],
   "source": [
    "function ssinitialconditions(m,pipedata)\n",
    "    x_grid = pipedata.x_grid\n",
    "    px = getvariable(m,:px)\n",
    "    fx = getvariable(m,:fx)\n",
    "    slack = getvariable(m,:slack)\n",
    "    @constraint(m, mass_ss[t = 1, x = x_grid[1:end-1]], (fx[t,x+1] - fx[t,x]) == 0)\n",
    "    @constraint(m, momentum_ss[t = 1, x = x_grid[1:end-1]], -c2*(px[t,x+1] - px[t,x])/dx - slack[t,x] == 0)\n",
    "end"
   ]
  },
  {
   "cell_type": "markdown",
   "metadata": {},
   "source": [
    "### Linepack Constraint"
   ]
  },
  {
   "cell_type": "code",
   "execution_count": 12,
   "metadata": {},
   "outputs": [
    {
     "ename": "LoadError",
     "evalue": "syntax: incomplete: \"function\" at In[12]:1 requires end",
     "output_type": "error",
     "traceback": [
      "syntax: incomplete: \"function\" at In[12]:1 requires end",
      ""
     ]
    }
   ],
   "source": [
    "function linepack(m,pipedata)\n",
    "    time_grid = pipedata.time_grid\n",
    "    @variable(m,linepack[time_grid])\n",
    "    @constraint(m,linepack_def[t = time_grid],linepack[t] == sum(fx[t,x] for x in x_grid)*dx)\n",
    "    #Periodic terminal constraint\n",
    "    @constraint(m,linepack_cons, linepack[time_grid[end]] >= linepack[time_grid[1]])"
   ]
  },
  {
   "cell_type": "markdown",
   "metadata": {},
   "source": [
    "## Pipeline Models"
   ]
  },
  {
   "cell_type": "code",
   "execution_count": 13,
   "metadata": {},
   "outputs": [
    {
     "data": {
      "text/plain": [
       "euleractivelink (generic function with 1 method)"
      ]
     },
     "execution_count": 13,
     "metadata": {},
     "output_type": "execute_result"
    }
   ],
   "source": [
    "function euleractivelink(pdata,cdata)\n",
    "    m = Model()\n",
    "    m = basepipeequations(m,pdata)\n",
    "    m = isothermaleulerequations(m,pdata)\n",
    "    m = compressorequations(m,cdata)\n",
    "    m = activepressureboundary(m,pipedata)\n",
    "    m = ssinitialcondition(m,pipedata)\n",
    "    m = linepackconstraint(m,pipedata)\n",
    "    return m\n",
    "end"
   ]
  },
  {
   "cell_type": "code",
   "execution_count": 14,
   "metadata": {},
   "outputs": [
    {
     "data": {
      "text/plain": [
       "eulerpassivelink (generic function with 1 method)"
      ]
     },
     "execution_count": 14,
     "metadata": {},
     "output_type": "execute_result"
    }
   ],
   "source": [
    "function eulerpassivelink(pdata)\n",
    "    m = Model()\n",
    "    m = basepipeequations(m,pdata)\n",
    "    m = isothermaleulerequations(m,pdata)\n",
    "    m = passivepressureboundary(m,pdata)\n",
    "    m = ssinitialcondition(m,pdata)\n",
    "    m = linepackconstraint(m,pdata)\n",
    "    return m\n",
    "end "
   ]
  },
  {
   "cell_type": "markdown",
   "metadata": {},
   "source": [
    "## Coupling Functions"
   ]
  },
  {
   "cell_type": "code",
   "execution_count": 15,
   "metadata": {},
   "outputs": [
    {
     "data": {
      "text/plain": [
       "couplelink! (generic function with 1 method)"
      ]
     },
     "execution_count": 15,
     "metadata": {},
     "output_type": "execute_result"
    }
   ],
   "source": [
    "function couplesupplydemand(m::Model,graph,node)\n",
    "    supply = getvariable(node,:supply)\n",
    "    deliver = getvariable(node,:deliver)\n",
    "    #couple supply and delivery to junction variables for supply and delivery\n",
    "    @constraint(m,fsup[t = time_grid], supply[t]  ==  sum(getvariable(neighbors_in(graph,node)[i],:fgen)[t] for i = 1:n_neighbors_in(graph,node)))\n",
    "    @constraint(m,fdel[t = time_grid], deliver[t] ==  sum(getvariable(neighbors_out(graph,node)[i],:fdeliver)[t] for i = 1:n_neighbors_out(graph,node)))\n",
    "end\n",
    "\n",
    "function couplegasjunction(m::JuMP.Model,graph,node)\n",
    "    supply1 = getvariable(node,:supply)\n",
    "    deliver1 = getvariable(node,:deliver)\n",
    "    links_in = edges_in(graph,node)  #the links coming in at the higher level graph\n",
    "    links_out = edges_out(graph,node)\n",
    "    flow = @constraint(m,[t = time_grid], 0 == sum(getnodevariable(links_in[i],:fout)[t] for i = 1:length(links_in)) -\n",
    "    sum(getnodevariable(links_out[i],:fin)[t] for i = 1:length(links_out)) + supply1[t] - deliver1[t])\n",
    "end\n",
    "\n",
    "function couplelink!(m::JuMP.Model,graph,edge)\n",
    "    node_from = getconnectedfrom(edge)\n",
    "    node_to = getconnectedto(edge)\n",
    "    pin = getvariable(edge,:pin)\n",
    "    pout = getvariable(edge,:pout)\n",
    "    @constraint(m,pressure_in[t = time_grid],pin[t] == getvariable(node_from,:pressure)[t])\n",
    "    @constraint(m,pressure_out[t = time_grid],pout[t] == getvariable(node_to,:pressure)[t])\n",
    "end"
   ]
  },
  {
   "cell_type": "markdown",
   "metadata": {},
   "source": [
    "# Create system models with Plasmo\n",
    "## A single pipeline"
   ]
  },
  {
   "cell_type": "markdown",
   "metadata": {},
   "source": [
    "![title](gas_coupling.png)"
   ]
  },
  {
   "cell_type": "markdown",
   "metadata": {},
   "source": [
    "### Setup our data for the pipeline"
   ]
  },
  {
   "cell_type": "code",
   "execution_count": 16,
   "metadata": {},
   "outputs": [
    {
     "data": {
      "text/plain": [
       "CompData(1,20,1,100000,0.1)"
      ]
     },
     "execution_count": 16,
     "metadata": {},
     "output_type": "execute_result"
    }
   ],
   "source": [
    "#pipeline data\n",
    "pipe_length = 30000\n",
    "diameter = 0.92\n",
    "time_grid = 1:48\n",
    "x_grid = 1:10\n",
    "min_pressure = 1\n",
    "max_pressure = 100\n",
    "min_flow = 1\n",
    "max_flow = 300\n",
    "\n",
    "#compressor data\n",
    "dp_min = 1\n",
    "dp_max = 20\n",
    "min_power = 1\n",
    "max_power = 100000 \n",
    "comp_cost = 0.1\n",
    "pdata = PipeData(pipe_length,diameter,time_grid,x_grid,min_pressure,max_pressure,min_flow,max_flow) #pipe data\n",
    "cdata = CompData(dp_min,dp_max,min_power,max_power,comp_cost) #compressor data"
   ]
  },
  {
   "cell_type": "markdown",
   "metadata": {},
   "source": [
    "### Set our data for the junctions, demand, and supply"
   ]
  },
  {
   "cell_type": "code",
   "execution_count": 17,
   "metadata": {},
   "outputs": [
    {
     "data": {
      "text/plain": [
       "SupplyData(1:48,0,0,600)"
      ]
     },
     "execution_count": 17,
     "metadata": {},
     "output_type": "execute_result"
    }
   ],
   "source": [
    "#junction parameters\n",
    "pressure_lower = 50\n",
    "pressure_upper = 70\n",
    "\n",
    "#demand parameters\n",
    "gas_cost = -1000\n",
    "\n",
    "#supply parameters\n",
    "supply_cost = 0\n",
    "fgen_lower = 0\n",
    "fgen_upper = 600\n",
    "\n",
    "jdata = JunctionData(time_grid,pressure_lower,pressure_upper)\n",
    "ddata = DemandData(time_grid,gas_cost)\n",
    "sdata = SupplyData(time_grid,supply_cost,fgen_lower,fgen_upper)"
   ]
  },
  {
   "cell_type": "markdown",
   "metadata": {},
   "source": [
    "## Create the Plasmo Graph"
   ]
  },
  {
   "cell_type": "code",
   "execution_count": null,
   "metadata": {
    "collapsed": true
   },
   "outputs": [],
   "source": [
    "using Plasmo\n",
    "#Create a graph for the first junction\n",
    "graph1 = PlasmoGraph()\n",
    "j1 = add_node!(graph1)\n",
    "s1 = add_node!(graph1)\n",
    "add_edge!(graph1,s1,j1)\n",
    "\n",
    "setmodel!(j1,gasjunction(jdata))\n",
    "setmodel!(s1,gassupply(sdata))\n",
    "setcouplingfunction!(graph1,j1,couplesupplydemand)\n",
    "\n",
    "#Create a graph for the second junction\n",
    "graph2 = PlasmoGraph()\n",
    "j2 = add_node!(graph2)\n",
    "d2 = add_node!(graph2)\n",
    "add_edge!(graph2,j2,d2)\n",
    "setmodel!(j2,gasjunction(jdata))\n",
    "setmodel!(d2,gasdemand(ddata))\n",
    "setcouplingfunction!(graph2,j2,couplesupplydemand)\n",
    "\n",
    "#Create a graph containing both graph1 and graph2 as subgraphs\n",
    "graph3 = PlasmoGraph()\n",
    "add_subgraph!(graph3,graph1)\n",
    "add_subgraph!(graph3,graph2)\n",
    "pipeline = add_edge!(graph3,j1,j2)\n",
    "setmodel!(pipeline,euleractivelink(pdata,cdata))\n",
    "setcouplingfunction!(graph3,pipeline,couplelink)\n",
    "\n",
    "#Set the junction couplings in graph3\n",
    "setcouplingfunction!(graph3,j1,couplegasnode)\n",
    "setcouplingfunction!(graph3,j2,couplegasnode)"
   ]
  },
  {
   "cell_type": "markdown",
   "metadata": {},
   "source": [
    "## Solve the graph model"
   ]
  },
  {
   "cell_type": "code",
   "execution_count": null,
   "metadata": {
    "collapsed": true
   },
   "outputs": [],
   "source": [
    "graph_model = GraphModel(graph3)\n",
    "#NOTE: We can continue to modify the graphmodel.  It contains the same index references to nodes and edges.  \n",
    "#getvariable works the same way\n",
    "\n",
    "graph_model.solver = IpoptSolver()\n",
    "solve(graph_model)"
   ]
  },
  {
   "cell_type": "markdown",
   "metadata": {},
   "source": [
    "## Look at the results"
   ]
  },
  {
   "cell_type": "code",
   "execution_count": 18,
   "metadata": {},
   "outputs": [
    {
     "name": "stderr",
     "output_type": "stream",
     "text": [
      "\u001b[1m\u001b[31mWARNING: getvariable is deprecated, use getindex instead.\u001b[0m\n",
      " in depwarn(::String, ::Symbol) at ./deprecated.jl:64\n",
      " in getvariable(::Function, ::Vararg{Any,N}) at ./deprecated.jl:30\n",
      " in include_string(::String, ::String) at ./loading.jl:441\n",
      " in execute_request(::ZMQ.Socket, ::IJulia.Msg) at /home/jordan/.julia/v0.5/IJulia/src/execute_request.jl:156\n",
      " in eventloop(::ZMQ.Socket) at /home/jordan/.julia/v0.5/IJulia/src/eventloop.jl:8\n",
      " in (::IJulia.##13#19)() at ./task.jl:360\n",
      "while loading In[18], in expression starting on line 1\n"
     ]
    },
    {
     "ename": "LoadError",
     "evalue": "MethodError: no method matching getindex(::Base.#pipeline, ::Symbol)",
     "output_type": "error",
     "traceback": [
      "MethodError: no method matching getindex(::Base.#pipeline, ::Symbol)",
      "",
      " in getvariable(::Function, ::Vararg{Any,N}) at ./deprecated.jl:32"
     ]
    }
   ],
   "source": [
    "px = getvariable(pipeline,:px)\n",
    "fx = getvariable(pipeline,:fx)"
   ]
  },
  {
   "cell_type": "markdown",
   "metadata": {},
   "source": [
    "# Modeling the 13 pipeline system with Plasmo"
   ]
  },
  {
   "cell_type": "code",
   "execution_count": null,
   "metadata": {
    "collapsed": true
   },
   "outputs": [],
   "source": [
    "network = PlasmoGraph()\n",
    "\n",
    "#Add 13 subgraphs.  One for each junction in the network\n",
    "for i = 1:14\n",
    "    junction_graph = PlasmoGraph()\n",
    "    node = add_node!(junction_graph)\n",
    "    setmodel!(node,junction(jdata))\n",
    "    setcouplingfunction!(junction_graph,node,couplesupplydemand)\n",
    "    setcouplingfunction!(network,node,couplegasnode)\n",
    "    add_subgraph!(network,junction_graph)\n",
    "end\n",
    "\n",
    "#The first junction has a supply.  \n",
    "graph1 = getsubgraph(network,1) #We can get subgraphs by their index\n",
    "junction1 = getnode(graph1,1)   #We can also get nodes by their index\n",
    "supply_node = add_node!(graph1)\n",
    "setmodel!(supply_node,gassuply(sdata))\n",
    "add_edge!(graph1,supply_node,junction1)\n",
    "\n",
    "#The last junction has a demand.\n",
    "graph2 = getsubgraph(network,14)\n",
    "junction2 = getnode(graph2,1)\n",
    "demand_node = add_node!(graph2)\n",
    "setmodel!(demand_node,gasdemand(ddata))\n",
    "add_edge!(graph2,junction2,demand_node)\n",
    "\n",
    "#Add pipelines between the junctions \n",
    "for j = 1:13\n",
    "    edge = add_edge!(network,j,j+1)\n",
    "    if j == 1 || 13\n",
    "        setmodel!(edge,eulerpassivelink(pdata))\n",
    "    else\n",
    "        setmodel!(edge,euleractivelink(pdata,cdata))\n",
    "    end\n",
    "    setcouplingfunction!(network,edge,couplelink)\n",
    "end"
   ]
  },
  {
   "cell_type": "markdown",
   "metadata": {},
   "source": [
    "## Generate and solve the graph model"
   ]
  },
  {
   "cell_type": "code",
   "execution_count": null,
   "metadata": {
    "collapsed": true
   },
   "outputs": [],
   "source": [
    "graph_model = GraphModel(network)\n",
    "graph_model.solver = IpoptSolver()\n",
    "solve(graph)"
   ]
  }
 ],
 "metadata": {
  "kernelspec": {
   "display_name": "Julia 0.5.0",
   "language": "julia",
   "name": "julia-0.5"
  },
  "language_info": {
   "file_extension": ".jl",
   "mimetype": "application/julia",
   "name": "julia",
   "version": "0.5.0"
  }
 },
 "nbformat": 4,
 "nbformat_minor": 2
}
