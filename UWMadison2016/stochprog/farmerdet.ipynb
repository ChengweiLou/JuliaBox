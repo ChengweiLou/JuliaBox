{
 "cells": [
  {
   "cell_type": "markdown",
   "metadata": {},
   "source": [
    "Farmer problem (deterministic policy)\n",
    "\n",
    "Mauricio Tombini, Jordan Jalving, and Victor M. Zavala 2016 \n",
    "\n",
    "University of Wisconsin-Madison "
   ]
  },
  {
   "cell_type": "code",
   "execution_count": null,
   "metadata": {
    "collapsed": true
   },
   "outputs": [],
   "source": [
    "using JuMP \n",
    "using Ipopt "
   ]
  },
  {
   "cell_type": "code",
   "execution_count": null,
   "metadata": {
    "collapsed": false
   },
   "outputs": [],
   "source": [
    "# Model parameters\n",
    "\n",
    "NS = 5;                    # number of scenarios\n",
    "S = collect(1:NS);       # scenario set\n",
    "P = collect(1:3);        # set of crops (1=wheat,2=corn,3=beets)\n",
    "\n",
    "# Data \n",
    "prcost = zeros(3)          # production (planting) cost\n",
    "prcost[1] = 150;\n",
    "prcost[2] = 230;\n",
    "prcost[3] = 260;\n",
    "\n",
    "pcost = zeros(3)           # purchase cost\n",
    "pcost[1] = 238;\n",
    "pcost[2] = 210;\n",
    "pcost[3] = 0;\n",
    "\n",
    "scost = zeros(3)           # sales cost\n",
    "scost[1] = 170;\n",
    "scost[2] = 150;\n",
    "scost[3] = 36;\n",
    "\n",
    "demand = zeros(3)          # demand\n",
    "demand[1] = 200;\n",
    "demand[2] = 240;\n",
    "demand[3] = 0;\n",
    "\n",
    "# assign random data (set first all equal to mean forecast)\n",
    "yield = zeros(length(S),3) # yields\n",
    "yield[S,1] = 2.5;\n",
    "yield[S,2] = 3.0;\n",
    "yield[S,3] = 20;"
   ]
  },
  {
   "cell_type": "markdown",
   "metadata": {},
   "source": [
    "Solve deterministic problem using average forecast for yields"
   ]
  },
  {
   "cell_type": "code",
   "execution_count": null,
   "metadata": {
    "collapsed": false
   },
   "outputs": [],
   "source": [
    "# Model \n",
    "mp = Model(solver=IpoptSolver(print_level=0))\n",
    "\n",
    "@variable(mp, x[S,P] >= 0)    # acres devoted to crops\n",
    "@variable(mp, y[S,P] >= 0)    # crops purchase\n",
    "@variable(mp, w[S,P] >= 0)    # crops sold;\n",
    "@expression(mp, Cost[s in S], sum{prcost[j]*x[s,j] + pcost[j]*y[s,j] - scost[j]*w[s,j], j in P})\n",
    "@variable(mp, cost[s in S])\n",
    "\n",
    "@constraint(mp, varcost[s in S], cost[s] == Cost[s]) \n",
    "@constraint(mp, cap[s in S], sum{x[s,j], j in P} <= 500)\n",
    "@constraint(mp, bal[s in S,j in P], yield[s,j]*x[s,j]+y[s,j]-w[s,j] >= demand[j]) \n",
    "@constraint(mp, sellb[s in S], w[s,3] <= 6000)\n",
    "@constraint(mp, buyb[s in S], y[s,3] <= 0)\n",
    "@constraint(mp, nonant[s in S,j in P], x[1,j] == x[s,j])\n",
    "\n",
    "@objective(mp, Min, (1/NS)*sum{cost[s], s in S})\n",
    "\n",
    "solve(mp)"
   ]
  },
  {
   "cell_type": "markdown",
   "metadata": {},
   "source": [
    "Now solve recourse problem using deterministic first-stage solution and actual yields"
   ]
  },
  {
   "cell_type": "code",
   "execution_count": null,
   "metadata": {
    "collapsed": false
   },
   "outputs": [],
   "source": [
    "xs = getvalue(x); "
   ]
  },
  {
   "cell_type": "code",
   "execution_count": null,
   "metadata": {
    "collapsed": false
   },
   "outputs": [],
   "source": [
    "# set actual random data\n",
    "yield[1,3] = 10;\n",
    "yield[2,3] = 15;\n",
    "yield[3,3] = 20;\n",
    "yield[4,3] = 25;\n",
    "yield[5,3] = 30;\n",
    "\n",
    "# Model \n",
    "m = Model(solver=IpoptSolver(print_level=0))\n",
    "\n",
    "@variable(m, y[S,P] >= 0)    # crops purchase\n",
    "@variable(m, w[S,P] >= 0)    # crops sold;\n",
    "@variable(m, cost[s in S])\n",
    "\n",
    "@expression(m, Cost[s in S], sum{prcost[j]*xs[s,j] + pcost[j]*y[s,j] - scost[j]*w[s,j], j in P})\n",
    "@constraint(m, varcost[s in S], cost[s] == Cost[s]) \n",
    "@constraint(m, bal[s in S,j in P], yield[s,j]*xs[s,j]+y[s,j]-w[s,j] >= demand[j]) \n",
    "@constraint(m, sellb[s in S], w[s,3] <= 6000)\n",
    "@constraint(m, buyb[s in S], y[s,3] <= 0)\n",
    "\n",
    "@objective(m, Min, (1/NS)*sum{cost[s], s in S})\n",
    "\n",
    "solve(m)"
   ]
  },
  {
   "cell_type": "code",
   "execution_count": null,
   "metadata": {
    "collapsed": false
   },
   "outputs": [],
   "source": [
    "# Results\n",
    "println(\"x = \",getvalue(x))\n",
    "println(\"\")\n",
    "println(\"y = \",getvalue(y))\n",
    "println(\"\")\n",
    "println(\"w = \",getvalue(w))\n",
    "println(\"\")\n",
    "println(\"cost = \",getvalue(cost))\n",
    "println(\"\")\n",
    "println(\"obj: \", getobjectivevalue(m))"
   ]
  }
 ],
 "metadata": {
  "kernelspec": {
   "display_name": "Julia 0.4.5",
   "language": "julia",
   "name": "julia-0.4"
  },
  "language_info": {
   "file_extension": ".jl",
   "mimetype": "application/julia",
   "name": "julia",
   "version": "0.4.5"
  }
 },
 "nbformat": 4,
 "nbformat_minor": 0
}
