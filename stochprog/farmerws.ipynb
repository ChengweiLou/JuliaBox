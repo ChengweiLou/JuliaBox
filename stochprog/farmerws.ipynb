{
 "cells": [
  {
   "cell_type": "markdown",
   "metadata": {},
   "source": [
    "Farmer problem (wait-and-see policy)\n",
    "\n",
    "Mauricio Tombini and Victor M. Zavala 2016 \n",
    "\n",
    "University of Wisconsin-Madison "
   ]
  },
  {
   "cell_type": "code",
   "execution_count": 25,
   "metadata": {
    "collapsed": true
   },
   "outputs": [],
   "source": [
    "using JuMP \n",
    "using Ipopt "
   ]
  },
  {
   "cell_type": "code",
   "execution_count": 26,
   "metadata": {
    "collapsed": false
   },
   "outputs": [],
   "source": [
    "# Model parameters\n",
    "\n",
    "NS = 5;                    # number of scenarios\n",
    "S = collect([1:NS]);       # scenario set\n",
    "P = collect([1:3]);        # set of crops (1=wheat,2=corn,3=beets)\n",
    "\n",
    "# Data \n",
    "prcost = zeros(3)          # production (planting) cost\n",
    "prcost[1] = 150;\n",
    "prcost[2] = 230;\n",
    "prcost[3] = 260;\n",
    "\n",
    "pcost = zeros(3)           # purchase cost\n",
    "pcost[1] = 238;\n",
    "pcost[2] = 210;\n",
    "pcost[3] = 0;\n",
    "\n",
    "scost = zeros(3)           # sales cost\n",
    "scost[1] = 170;\n",
    "scost[2] = 150;\n",
    "scost[3] = 36;\n",
    "\n",
    "demand = zeros(3)          # demand\n",
    "demand[1] = 200;\n",
    "demand[2] = 240;\n",
    "demand[3] = 0;\n",
    "\n",
    "# assign random data\n",
    "\n",
    "yield = zeros(length(S),3) # yields\n",
    "yield[S,1] = 2.5;\n",
    "yield[S,2] = 3.0;\n",
    "\n",
    "yield[1,3] = 10;\n",
    "yield[2,3] = 15;\n",
    "yield[3,3] = 20;\n",
    "yield[4,3] = 25;\n",
    "yield[5,3] = 30;"
   ]
  },
  {
   "cell_type": "markdown",
   "metadata": {},
   "source": [
    "In this problem we remove the non-anticipativity constraints"
   ]
  },
  {
   "cell_type": "code",
   "execution_count": 27,
   "metadata": {
    "collapsed": false
   },
   "outputs": [
    {
     "data": {
      "text/plain": [
       ":Optimal"
      ]
     },
     "execution_count": 27,
     "metadata": {},
     "output_type": "execute_result"
    }
   ],
   "source": [
    "# Model \n",
    "\n",
    "m = Model(solver=IpoptSolver(print_level=0))\n",
    "\n",
    "@defVar(m, x[S,P] >= 0)    # acres devoted to crops\n",
    "@defVar(m, y[S,P] >= 0)    # crops purchase\n",
    "@defVar(m, w[S,P] >= 0)    # crops sold;\n",
    "@defExpr(m, Cost[s in S], sum{prcost[j]*x[s,j] + pcost[j]*y[s,j] - scost[j]*w[s,j], j in P})\n",
    "@defVar(m, cost[s in S])\n",
    "\n",
    "\n",
    "@addConstraint(m, varcost[s in S], cost[s] == Cost[s]) \n",
    "@addConstraint(m, cap[s in S], sum{x[s,j], j in P} <= 500)\n",
    "@addConstraint(m, bal[s in S,j in P], yield[s,j]*x[s,j]+y[s,j]-w[s,j] >= demand[j]) \n",
    "@addConstraint(m, sellb[s in S], w[s,3] <= 6000)\n",
    "@addConstraint(m, buyb[s in S], y[s,3] <= 0)\n",
    "\n",
    "\n",
    "@setObjective(m, Min, (1/NS)*sum{cost[s], s in S})\n",
    "\n",
    "solve(m)"
   ]
  },
  {
   "cell_type": "code",
   "execution_count": 28,
   "metadata": {
    "collapsed": false
   },
   "outputs": [
    {
     "name": "stdout",
     "output_type": "stream",
     "text": [
      "x: 2 dimensions:\n",
      "[1,:]\n",
      "  [1,1] = 420.0000058026925\n",
      "  [1,2] = 79.99999920015239\n",
      "  [1,3] = 0.0\n",
      "[2,:]\n",
      "  [2,1] = 79.99999920245911\n",
      "  [2,2] = 79.99999920012897\n",
      "  [2,3] = 340.00000659736713\n",
      "[3,:]\n",
      "  [3,1] = 120.00000280082533\n",
      "  [3,2] = 79.99999920015239\n",
      "  [3,3] = 300.0000029989767\n",
      "[4,:]\n",
      "  [4,1] = 180.00000340058205\n",
      "  [4,2] = 79.99999920015239\n",
      "  [4,3] = 240.00000239922\n",
      "[5,:]\n",
      "  [5,1] = 220.00000380042712\n",
      "  [5,2] = 79.99999920015239\n",
      "  [5,3] = 200.0000019993749\n",
      "\n",
      "\n",
      "y: 2 dimensions:\n",
      "[1,:]\n",
      "  [1,1] = 0.0\n",
      "  [1,2] = 0.0\n",
      "  [1,3] = 9.752086119058693e-9\n",
      "[2,:]\n",
      "  [2,1] = 0.0\n",
      "  [2,2] = 0.0\n",
      "  [2,3] = 9.714578177618196e-9\n",
      "[3,:]\n",
      "  [3,1] = 0.0\n",
      "  [3,2] = 0.0\n",
      "  [3,3] = 9.580169952360632e-9\n",
      "[4,:]\n",
      "  [4,1] = 0.0\n",
      "  [4,2] = 0.0\n",
      "  [4,3] = 9.227902637280718e-9\n",
      "[5,:]\n",
      "  [5,1] = 0.0\n",
      "  [5,2] = 0.0\n",
      "  [5,3] = 8.765825074884802e-9\n",
      "\n",
      "\n",
      "w: 2 dimensions:\n",
      "[1,:]\n",
      "  [1,1] = 850.0000164968418\n",
      "  [1,2] = 0.0\n",
      "  [1,3] = 0.0\n",
      "[2,:]\n",
      "  [2,1] = 0.0\n",
      "  [2,2] = 0.0\n",
      "  [2,3] = 5100.000098979874\n",
      "[3,:]\n",
      "  [3,1] = 100.00000899217387\n",
      "  [3,2] = 0.0\n",
      "  [3,3] = 6000.000059998646\n",
      "[4,:]\n",
      "  [4,1] = 250.00001049156566\n",
      "  [4,2] = 0.0\n",
      "  [4,3] = 6000.000059999142\n",
      "[5,:]\n",
      "  [5,1] = 350.00001149117827\n",
      "  [5,2] = 0.0\n",
      "  [5,3] = 6000.000059999311\n",
      "\n",
      "\n",
      "cost: 1 dimensions:\n",
      "[1] = -63100.002121413265\n",
      "[2] = -64800.002153889465\n",
      "[3] = -118600.00267570352\n",
      "[4] = -150700.0029965912\n",
      "[5] = -172100.0032105144\n",
      "\n",
      "\n",
      "obj: -113860.00263162237\n"
     ]
    }
   ],
   "source": [
    "# Results\n",
    "\n",
    "println(getValue(x))\n",
    "println(\"\")\n",
    "println(getValue(y))\n",
    "println(\"\")\n",
    "println(getValue(w))\n",
    "println(\"\")\n",
    "println(getValue(cost))\n",
    "println(\"\")\n",
    "println(\"obj: \", getObjectiveValue(m))"
   ]
  },
  {
   "cell_type": "code",
   "execution_count": null,
   "metadata": {
    "collapsed": true
   },
   "outputs": [],
   "source": []
  },
  {
   "cell_type": "code",
   "execution_count": null,
   "metadata": {
    "collapsed": true
   },
   "outputs": [],
   "source": []
  }
 ],
 "metadata": {
  "kernelspec": {
   "display_name": "Julia 0.4.2",
   "language": "julia",
   "name": "julia-0.4"
  },
  "language_info": {
   "file_extension": ".jl",
   "mimetype": "application/julia",
   "name": "julia",
   "version": "0.4.2"
  }
 },
 "nbformat": 4,
 "nbformat_minor": 0
}
