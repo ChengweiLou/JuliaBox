{
 "cells": [
  {
   "cell_type": "code",
   "execution_count": 9,
   "metadata": {
    "collapsed": false
   },
   "outputs": [
    {
     "name": "stdout",
     "output_type": "stream",
     "text": [
      "This is Ipopt version 3.12.1, running with linear solver mumps.\n",
      "NOTE: Other linear solvers might be more efficient (see Ipopt documentation).\n",
      "\n",
      "Number of nonzeros in equality constraint Jacobian...:        2\n",
      "Number of nonzeros in inequality constraint Jacobian.:        0\n",
      "Number of nonzeros in Lagrangian Hessian.............:        4\n",
      "\n",
      "Total number of variables............................:        2\n",
      "                     variables with only lower bounds:        2\n",
      "                variables with lower and upper bounds:        0\n",
      "                     variables with only upper bounds:        0\n",
      "Total number of equality constraints.................:        1\n",
      "Total number of inequality constraints...............:        0\n",
      "        inequality constraints with only lower bounds:        0\n",
      "   inequality constraints with lower and upper bounds:        0\n",
      "        inequality constraints with only upper bounds:        0\n",
      "\n",
      "iter    objective    inf_pr   inf_du lg(mu)  ||d||  lg(rg) alpha_du alpha_pr  ls\n",
      "   0  1.0201000e+00 0.00e+00 1.00e-02  -1.0 0.00e+00    -  0.00e+00 0.00e+00   0\n",
      "   1  1.0002979e+00 0.00e+00 9.70e-05  -3.8 9.85e-03    -  1.00e+00 1.00e+00f  1\n",
      "   2  1.0000037e+00 0.00e+00 7.38e-09  -5.7 1.47e-04    -  1.00e+00 1.00e+00f  1\n",
      "   3  9.9999999e-01 0.00e+00 3.49e-12  -8.6 1.86e-06    -  1.00e+00 1.00e+00f  1\n",
      "\n",
      "Number of Iterations....: 3\n",
      "\n",
      "                                   (scaled)                 (unscaled)\n",
      "Objective...............:   9.9999998501875653e-01    9.9999998501875653e-01\n",
      "Dual infeasibility......:   3.4859892750205290e-12    3.4859892750205290e-12\n",
      "Constraint violation....:   0.0000000000000000e+00    0.0000000000000000e+00\n",
      "Complementarity.........:   2.5093782419431952e-09    2.5093782419431952e-09\n",
      "Overall NLP error.......:   2.5093782419431952e-09    2.5093782419431952e-09\n",
      "\n",
      "\n",
      "Number of objective function evaluations             = 4\n",
      "Number of objective gradient evaluations             = 4\n",
      "Number of equality constraint evaluations            = 4\n",
      "Number of inequality constraint evaluations          = 0\n",
      "Number of equality constraint Jacobian evaluations   = 4\n",
      "Number of inequality constraint Jacobian evaluations = 0\n",
      "Number of Lagrangian Hessian evaluations             = 3\n",
      "Total CPU secs in IPOPT (w/o function evaluations)   =      0.000\n",
      "Total CPU secs in NLP function evaluations           =      0.000\n",
      "\n",
      "EXIT: Optimal Solution Found.\n",
      "1.0\n",
      "1.0\n"
     ]
    }
   ],
   "source": [
    "# calls libraries\n",
    "using JuMP\n",
    "using Ipopt \n",
    "\n",
    "# define model\n",
    "m = Model(solver=IpoptSolver(max_iter=100))\n",
    "\n",
    "# define variables\n",
    "@variable(m,x1>=1,start=1)\n",
    "@variable(m,x2>=1,start=1)\n",
    "\n",
    "# define equations  \n",
    "@NLconstraint(m, x1/x2 == 1)\n",
    "\n",
    "# define objective function\n",
    "@objective(m, Min, x1^2)\n",
    "\n",
    "# call Ipopt to solve model\n",
    "solve(m)\n",
    "\n",
    "# display results\n",
    "println(getvalue(x1))\n",
    "println(getvalue(x2))"
   ]
  },
  {
   "cell_type": "code",
   "execution_count": null,
   "metadata": {
    "collapsed": true
   },
   "outputs": [],
   "source": []
  }
 ],
 "metadata": {
  "kernelspec": {
   "display_name": "Julia 0.5.2",
   "language": "julia",
   "name": "julia-0.5"
  },
  "language_info": {
   "file_extension": ".jl",
   "mimetype": "application/julia",
   "name": "julia",
   "version": "0.5.2"
  }
 },
 "nbformat": 4,
 "nbformat_minor": 2
}
