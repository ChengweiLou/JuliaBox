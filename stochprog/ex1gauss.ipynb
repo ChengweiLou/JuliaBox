{
 "cells": [
  {
   "cell_type": "markdown",
   "metadata": {},
   "source": [
    "Mauricio Tombini and Victor M. Zavala 2016 \n",
    "\n",
    "University of Wisconsin-Madison "
   ]
  },
  {
   "cell_type": "code",
   "execution_count": 1,
   "metadata": {
    "collapsed": false
   },
   "outputs": [
    {
     "ename": "LoadError",
     "evalue": "LoadError: ArgumentError: Distributions not found in path\nwhile loading In[1], in expression starting on line 4",
     "output_type": "error",
     "traceback": [
      "LoadError: ArgumentError: Distributions not found in path\nwhile loading In[1], in expression starting on line 4",
      ""
     ]
    }
   ],
   "source": [
    "# Loading packages:\n",
    "\n",
    "using JuMP \n",
    "using Distributions \n",
    "using Ipopt\n",
    "using PyPlot "
   ]
  },
  {
   "cell_type": "code",
   "execution_count": 2,
   "metadata": {
    "collapsed": false
   },
   "outputs": [
    {
     "ename": "LoadError",
     "evalue": "LoadError: UndefVarError: Normal not defined\nwhile loading In[2], in expression starting on line 6",
     "output_type": "error",
     "traceback": [
      "LoadError: UndefVarError: Normal not defined\nwhile loading In[2], in expression starting on line 6",
      ""
     ]
    }
   ],
   "source": [
    "# Generate random data: \n",
    "\n",
    "N = 1000\n",
    "srand(0)\n",
    "μ = 0; σ = 2; \n",
    "d = Normal(μ,σ)\n",
    "R = rand(d,N);"
   ]
  },
  {
   "cell_type": "code",
   "execution_count": 3,
   "metadata": {
    "collapsed": false
   },
   "outputs": [
    {
     "ename": "LoadError",
     "evalue": "LoadError: UndefVarError: plt not defined\nwhile loading In[3], in expression starting on line 3",
     "output_type": "error",
     "traceback": [
      "LoadError: UndefVarError: plt not defined\nwhile loading In[3], in expression starting on line 3",
      ""
     ]
    }
   ],
   "source": [
    "# Plotting:\n",
    "\n",
    "plt[:hist](R, bins = 30)\n",
    "grid(\"on\")\n",
    "xlabel(L\"\\xi\")\n",
    "ylabel(L\"p(\\xi)\")\n",
    "savefig(\"ex1data.pdf\")"
   ]
  },
  {
   "cell_type": "markdown",
   "metadata": {},
   "source": [
    "## Ex1Gauss"
   ]
  },
  {
   "cell_type": "code",
   "execution_count": 4,
   "metadata": {
    "collapsed": false
   },
   "outputs": [
    {
     "name": "stderr",
     "output_type": "stream",
     "text": [
      "WARNING: @defVar is deprecated, use @variable instead.\n",
      "WARNING: @setObjective is deprecated, use @objective instead.\n"
     ]
    },
    {
     "ename": "LoadError",
     "evalue": "LoadError: UndefVarError: R not defined\nwhile loading In[4], in expression starting on line 19",
     "output_type": "error",
     "traceback": [
      "LoadError: UndefVarError: R not defined\nwhile loading In[4], in expression starting on line 19",
      ""
     ]
    }
   ],
   "source": [
    "# ex1gauss.mod \n",
    "\n",
    "function ex1GaussModel(xip)\n",
    "    m = Model(solver=IpoptSolver(print_level=0))\n",
    "    @defVar(m, x)\n",
    "    @setObjective(m, Min, (x-xip)^2 - x*xip)\n",
    "    \n",
    "    solve(m)\n",
    "    obj = getObjectiveValue(m)\n",
    "    x = getValue(x)\n",
    "    \n",
    "    return obj,x\n",
    "end\n",
    "        \n",
    "# solve problems with data points\n",
    "solex1gauss = zeros(N)\n",
    "solxex1gauss = zeros(N)\n",
    "\n",
    "for i=1:N \n",
    "    (solex1gauss[i], solxex1gauss[i]) = ex1GaussModel(R[i])\n",
    "end "
   ]
  },
  {
   "cell_type": "code",
   "execution_count": 5,
   "metadata": {
    "collapsed": false
   },
   "outputs": [
    {
     "ename": "LoadError",
     "evalue": "LoadError: UndefVarError: plt not defined\nwhile loading In[5], in expression starting on line 6",
     "output_type": "error",
     "traceback": [
      "LoadError: UndefVarError: plt not defined\nwhile loading In[5], in expression starting on line 6",
      ""
     ]
    }
   ],
   "source": [
    "# Plotting: \n",
    "\n",
    "sol = solex1gauss;\n",
    "solx = solxex1gauss;\n",
    "\n",
    "plt[:hist](sol, bins = 30)\n",
    "grid(\"on\")\n",
    "xlabel(L\"f(x^*(\\xi),\\xi)\")\n",
    "ylabel(L\"p(f(\\cdot))\")\n",
    "savefig(\"ex1solgauss.pdf\")"
   ]
  },
  {
   "cell_type": "code",
   "execution_count": 6,
   "metadata": {
    "collapsed": false
   },
   "outputs": [
    {
     "ename": "LoadError",
     "evalue": "LoadError: UndefVarError: plt not defined\nwhile loading In[6], in expression starting on line 1",
     "output_type": "error",
     "traceback": [
      "LoadError: UndefVarError: plt not defined\nwhile loading In[6], in expression starting on line 1",
      ""
     ]
    }
   ],
   "source": [
    "plt[:hist](solx, bins = 30)\n",
    "grid(\"on\")\n",
    "xlabel(L\"x^*(\\xi)\")\n",
    "ylabel(L\"p(x^*(\\xi))\")\n",
    "savefig(\"ex1solxgauss.pdf\")"
   ]
  },
  {
   "cell_type": "markdown",
   "metadata": {},
   "source": [
    "## Ex1 Gauss with Constraints"
   ]
  },
  {
   "cell_type": "code",
   "execution_count": 7,
   "metadata": {
    "collapsed": false
   },
   "outputs": [
    {
     "ename": "LoadError",
     "evalue": "LoadError: UndefVarError: R not defined\nwhile loading In[7], in expression starting on line 19",
     "output_type": "error",
     "traceback": [
      "LoadError: UndefVarError: R not defined\nwhile loading In[7], in expression starting on line 19",
      "",
      " [inlined code] from ./In[7]:20",
      " in anonymous at ./no file:4294967295"
     ]
    }
   ],
   "source": [
    "# ex1gausscons.mod\n",
    "\n",
    "function ex1GaussConsModel(xip)\n",
    "    m = Model(solver=IpoptSolver(print_level=0))\n",
    "    @defVar(m, -1 <= x <= 1)\n",
    "    @setObjective(m, Min, (x-xip)^2 - x*xip)\n",
    "    \n",
    "    solve(m)\n",
    "    obj = getObjectiveValue(m)\n",
    "    x = getValue(x)\n",
    "    \n",
    "    return obj,x\n",
    "end\n",
    "        \n",
    "# solve problems with data points\n",
    "solex1gausscons = zeros(N)\n",
    "solxex1gausscons = zeros(N)\n",
    "\n",
    "for i=1:N \n",
    "    (solex1gausscons[i], solxex1gausscons[i]) = ex1GaussConsModel(R[i])\n",
    "end "
   ]
  },
  {
   "cell_type": "code",
   "execution_count": 8,
   "metadata": {
    "collapsed": false
   },
   "outputs": [
    {
     "ename": "LoadError",
     "evalue": "LoadError: UndefVarError: plt not defined\nwhile loading In[8], in expression starting on line 6",
     "output_type": "error",
     "traceback": [
      "LoadError: UndefVarError: plt not defined\nwhile loading In[8], in expression starting on line 6",
      ""
     ]
    }
   ],
   "source": [
    "# Plotting: \n",
    "\n",
    "sol = solex1gausscons\n",
    "solx = solxex1gausscons\n",
    "\n",
    "plt[:hist](sol, bins = 30)\n",
    "grid(\"on\")\n",
    "xlabel(L\"f(x^*(\\xi),\\xi)\")\n",
    "ylabel(L\"p(f(x^*(\\xi),\\xi))\")\n",
    "savefig(\"ex1solgausscons.pdf\")"
   ]
  },
  {
   "cell_type": "code",
   "execution_count": 9,
   "metadata": {
    "collapsed": false
   },
   "outputs": [
    {
     "ename": "LoadError",
     "evalue": "LoadError: UndefVarError: plt not defined\nwhile loading In[9], in expression starting on line 1",
     "output_type": "error",
     "traceback": [
      "LoadError: UndefVarError: plt not defined\nwhile loading In[9], in expression starting on line 1",
      ""
     ]
    }
   ],
   "source": [
    "plt[:hist](solx, bins = 30)\n",
    "grid(\"on\")\n",
    "xlabel(L\"x^*(\\xi)\")\n",
    "ylabel(L\"p(x^*(\\xi))\")\n",
    "savefig(\"ex1solxgausscons.pdf\") "
   ]
  },
  {
   "cell_type": "code",
   "execution_count": null,
   "metadata": {
    "collapsed": true
   },
   "outputs": [],
   "source": []
  }
 ],
 "metadata": {
  "kernelspec": {
   "display_name": "Julia 0.4.5",
   "language": "julia",
   "name": "julia-0.4"
  },
  "language_info": {
   "file_extension": ".jl",
   "mimetype": "application/julia",
   "name": "julia",
   "version": "0.4.5"
  }
 },
 "nbformat": 4,
 "nbformat_minor": 0
}
