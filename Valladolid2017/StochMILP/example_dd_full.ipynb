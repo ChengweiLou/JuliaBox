{
 "cells": [
  {
   "cell_type": "code",
   "execution_count": 10,
   "metadata": {
    "collapsed": false
   },
   "outputs": [
    {
     "name": "stdout",
     "output_type": "stream",
     "text": [
      "x: 1 dimensions:\n",
      "[1] = 499.9999950106265\n",
      "[2] = 499.9999950106265\n",
      "1239.9999875975177\n",
      "0.3999999999924823"
     ]
    }
   ],
   "source": [
    "using JuMP\n",
    "using Ipopt\n",
    "\n",
    "NS=2; \n",
    "S=1:NS\n",
    "rhs=zeros(NS)\n",
    "pr=zeros(NS)\n",
    "rhs[1]=500\n",
    "rhs[2]=700\n",
    "pr[1]=0.6\n",
    "pr[2]=0.4\n",
    "\n",
    "m=Model(solver=IpoptSolver(print_level=0));\n",
    "@variable(m,x[S]>=0)\n",
    "@variable(m,y[S]>=0)\n",
    "@constraint(m,cons[s in S], x[s]+y[s]>=rhs[s])\n",
    "@constraint(m,nonant,x[1]-x[2]==0)\n",
    "@objective(m,Min,sum{pr[s]*(2*x[s]+3*y[s]), s in S})\n",
    "solve(m)   \n",
    "\n",
    "print(getvalue(x))\n",
    "print('\\n')\n",
    "print(getobjectivevalue(m))\n",
    "print('\\n')\n",
    "print(getdual(nonant))"
   ]
  },
  {
   "cell_type": "code",
   "execution_count": 11,
   "metadata": {
    "collapsed": false
   },
   "outputs": [
    {
     "name": "stdout",
     "output_type": "stream",
     "text": [
      "x: 1 dimensions:\n",
      "[1] = 499.9999950106265\n",
      "[2] = 350.11566627594544\n",
      "1239.9999875986446"
     ]
    }
   ],
   "source": [
    "#solve with dualized constraint\n",
    "lam=getdual(nonant)\n",
    "m=Model(solver=IpoptSolver(print_level=0));\n",
    "@variable(m,x[S]>=0)\n",
    "@variable(m,y[S]>=0)\n",
    "@constraint(m,cons[s in S], x[s]+y[s]>=rhs[s])\n",
    "@objective(m,Min,sum{pr[s]*(2*x[s]+3*y[s]), s in S}-lam*(x[1]-x[2]))\n",
    "solve(m)  \n",
    "\n",
    "print(getvalue(x))\n",
    "print('\\n')\n",
    "print(getobjectivevalue(m))"
   ]
  },
  {
   "cell_type": "code",
   "execution_count": null,
   "metadata": {
    "collapsed": true
   },
   "outputs": [],
   "source": []
  }
 ],
 "metadata": {
  "kernelspec": {
   "display_name": "Julia 0.5.2",
   "language": "julia",
   "name": "julia-0.5"
  },
  "language_info": {
   "file_extension": ".jl",
   "mimetype": "application/julia",
   "name": "julia",
   "version": "0.5.2"
  }
 },
 "nbformat": 4,
 "nbformat_minor": 2
}
