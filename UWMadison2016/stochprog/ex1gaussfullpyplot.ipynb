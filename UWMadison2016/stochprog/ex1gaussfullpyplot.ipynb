{
 "cells": [
  {
   "cell_type": "markdown",
   "metadata": {},
   "source": [
    "Expected Value vs. CVaR Comparison\n",
    "\n",
    "Mauricio Tombini, Jordan Jalving, and Victor M. Zavala \n",
    "\n",
    "University of Wisconsin-Madison, 2016"
   ]
  },
  {
   "cell_type": "code",
   "execution_count": 1,
   "metadata": {
    "collapsed": false
   },
   "outputs": [
    {
     "name": "stderr",
     "output_type": "stream",
     "text": [
      "INFO: Precompiling module PyPlot...\n",
      "\n",
      "signal (11): Segmentation fault: 11\n",
      "PyObject_Call at /System/Library/Frameworks/Python.framework/Versions/2.7/Python (unknown line)\n",
      "unknown function (ip: 0x320905760)\n",
      "unknown function (ip: 0x32090457e)\n",
      "unknown function (ip: 0x3209040f3)\n",
      "unknown function (ip: 0x320904026)\n",
      "jl_apply_generic at /opt/local/lib/julia/libjulia.dylib (unknown line)\n",
      "unknown function (ip: 0x3208c2178)\n",
      "unknown function (ip: 0x3208c2020)\n",
      "unknown function (ip: 0x3208a5249)\n",
      "unknown function (ip: 0x3208a5020)\n",
      "unknown function (ip: 0x3208a31e6)\n",
      "unknown function (ip: 0x3208a3055)\n",
      "unknown function (ip: 0x3208a301b)\n",
      "jl_apply_generic at /opt/local/lib/julia/libjulia.dylib (unknown line)\n",
      "unknown function (ip: 0x32089d0d6)\n",
      "unknown function (ip: 0x32089b28e)\n",
      "jl_apply_generic at /opt/local/lib/julia/libjulia.dylib (unknown line)\n",
      "unknown function (ip: 0x32089a0d6)\n",
      "jl_apply_generic at /opt/local/lib/julia/libjulia.dylib (unknown line)\n",
      "_start at /opt/local/lib/julia/sys.dylib (unknown line)\n",
      "jlcall__start_18571 at /opt/local/lib/julia/sys.dylib (unknown line)\n",
      "jl_apply_generic at /opt/local/lib/julia/libjulia.dylib (unknown line)\n",
      "true_main at /opt/local/bin/julia (unknown line)\n",
      "main at /opt/local/bin/julia (unknown line)\n"
     ]
    },
    {
     "ename": "LoadError",
     "evalue": "LoadError: Failed to precompile PyPlot to /Users/vzavala/.julia/lib/v0.4/PyPlot.ji\nwhile loading In[1], in expression starting on line 5",
     "output_type": "error",
     "traceback": [
      "LoadError: Failed to precompile PyPlot to /Users/vzavala/.julia/lib/v0.4/PyPlot.ji\nwhile loading In[1], in expression starting on line 5",
      "",
      " in error at /opt/local/lib/julia/sys.dylib",
      " in compilecache at ./loading.jl:400",
      " in require at /opt/local/lib/julia/sys.dylib"
     ]
    }
   ],
   "source": [
    "# Loading packages:\n",
    "using JuMP \n",
    "using Distributions \n",
    "using Ipopt\n",
    "using PyPlot"
   ]
  },
  {
   "cell_type": "code",
   "execution_count": 2,
   "metadata": {
    "collapsed": false
   },
   "outputs": [],
   "source": [
    "# Generate random data: \n",
    "NS = 100\n",
    "S = collect(1:NS); \n",
    "srand(0)\n",
    "μ = 0; σ = 2; \n",
    "d = Normal(μ,σ)\n",
    "R = rand(d,NS);"
   ]
  },
  {
   "cell_type": "code",
   "execution_count": 3,
   "metadata": {
    "collapsed": false
   },
   "outputs": [
    {
     "ename": "LoadError",
     "evalue": "LoadError: UndefVarError: plt not defined\nwhile loading In[3], in expression starting on line 2",
     "output_type": "error",
     "traceback": [
      "LoadError: UndefVarError: plt not defined\nwhile loading In[3], in expression starting on line 2",
      ""
     ]
    }
   ],
   "source": [
    "# Plotting data\n",
    "plt[:hist](R, bins = 30);\n",
    "grid(\"on\")\n",
    "xlabel(L\"\\xi\")\n",
    "ylabel(L\"p(\\xi)\")"
   ]
  },
  {
   "cell_type": "markdown",
   "metadata": {},
   "source": [
    "## Solve expected value problem"
   ]
  },
  {
   "cell_type": "code",
   "execution_count": 4,
   "metadata": {
    "collapsed": false
   },
   "outputs": [
    {
     "name": "stdout",
     "output_type": "stream",
     "text": [
      "\n",
      "******************************************************************************\n",
      "This program contains Ipopt, a library for large-scale nonlinear optimization.\n",
      " Ipopt is released as open source code under the Eclipse Public License (EPL).\n",
      "         For more information visit http://projects.coin-or.org/Ipopt\n",
      "******************************************************************************\n",
      "\n",
      "x=-0.049640963099936354\n",
      "mean=4.41838656225072\n",
      "meanR=-0.04964096309993606\n"
     ]
    }
   ],
   "source": [
    "m = Model(solver=IpoptSolver(print_level=0))\n",
    "\n",
    "@variable(m, x)            # decision variable\n",
    "@variable(m, cost[1:NS])   # per scenario cost\n",
    "@constraint(m, costeq[s in S], cost[s] == (x-R[s])^2) \n",
    "@objective(m, Min, (1/NS)*sum{cost[s], s in S})\n",
    "\n",
    "solve(m)\n",
    "solcost = getvalue(cost);\n",
    "println(\"x=\",getvalue(x))\n",
    "println(\"mean=\",getobjectivevalue(m))\n",
    "println(\"meanR=\",(1/NS)*sum(R))"
   ]
  },
  {
   "cell_type": "code",
   "execution_count": 5,
   "metadata": {
    "collapsed": false
   },
   "outputs": [
    {
     "ename": "LoadError",
     "evalue": "LoadError: UndefVarError: plt not defined\nwhile loading In[5], in expression starting on line 2",
     "output_type": "error",
     "traceback": [
      "LoadError: UndefVarError: plt not defined\nwhile loading In[5], in expression starting on line 2",
      ""
     ]
    }
   ],
   "source": [
    "# Plotting cost fistribution \n",
    "plt[:hist](solcost,bins = 30)\n",
    "grid(\"on\")\n",
    "xlabel(L\"f(x^*(\\xi),\\xi)\")\n",
    "ylabel(L\"p(f(\\cdot))\")"
   ]
  },
  {
   "cell_type": "markdown",
   "metadata": {},
   "source": [
    "## Solve CVaR Problem"
   ]
  },
  {
   "cell_type": "code",
   "execution_count": 6,
   "metadata": {
    "collapsed": false
   },
   "outputs": [
    {
     "name": "stdout",
     "output_type": "stream",
     "text": [
      "x=-1.153574009577105\n",
      "CVaR=33.42170024257977\n",
      "mean=5.637054734120719\n"
     ]
    }
   ],
   "source": [
    "m = Model(solver=IpoptSolver(print_level=0))\n",
    "\n",
    "@variable(m, x)              # decision variable\n",
    "@variable(m, cost[1:NS])     # per scenario cost\n",
    "@variable(m, VaR)            # cvar auxiliary variable\n",
    "@variable(m, phi[S] >= 0)    # cvar auxiliary variable\n",
    "alpha = 0.0001;              # cvar probability level\n",
    "\n",
    "@constraint(m, costeq[s in S], cost[s] == (x-R[s])^2) \n",
    "@constraint(m, cvar[s in S], cost[s]-VaR <= phi[s])\n",
    "@objective(m, Min, VaR + (1/NS)*sum{(1/alpha)*phi[s], s in S})\n",
    "\n",
    "solve(m)\n",
    "solcost2 = getvalue(cost);\n",
    "println(\"x=\",getvalue(x))\n",
    "println(\"CVaR=\",getobjectivevalue(m))\n",
    "println(\"mean=\",(1/NS)*sum(solcost2))"
   ]
  },
  {
   "cell_type": "code",
   "execution_count": 7,
   "metadata": {
    "collapsed": false
   },
   "outputs": [
    {
     "ename": "LoadError",
     "evalue": "LoadError: UndefVarError: plt not defined\nwhile loading In[7], in expression starting on line 2",
     "output_type": "error",
     "traceback": [
      "LoadError: UndefVarError: plt not defined\nwhile loading In[7], in expression starting on line 2",
      ""
     ]
    }
   ],
   "source": [
    "# Plotting cost distribution \n",
    "plt[:hist](solcost2,bins = 30)\n",
    "grid(\"on\")\n",
    "xlabel(L\"f(x^*(\\xi),\\xi)\")\n",
    "ylabel(L\"p(f(\\cdot))\")"
   ]
  }
 ],
 "metadata": {
  "anaconda-cloud": {},
  "kernelspec": {
   "display_name": "Julia 0.4.5",
   "language": "julia",
   "name": "julia-0.4"
  },
  "language_info": {
   "file_extension": ".jl",
   "mimetype": "application/julia",
   "name": "julia",
   "version": "0.4.5"
  }
 },
 "nbformat": 4,
 "nbformat_minor": 0
}
