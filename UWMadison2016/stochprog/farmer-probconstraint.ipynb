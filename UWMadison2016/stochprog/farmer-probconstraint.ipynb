{
 "cells": [
  {
   "cell_type": "markdown",
   "metadata": {},
   "source": [
    "Farmer problem with Probabilistic Constraints \n",
    "\n",
    "Mauricio Tombini and Victor M. Zavala 2016 \n",
    "\n",
    "University of Wisconsin-Madison "
   ]
  },
  {
   "cell_type": "code",
   "execution_count": 16,
   "metadata": {
    "collapsed": false,
    "scrolled": true
   },
   "outputs": [],
   "source": [
    "using JuMP \n",
    "using Cbc\n",
    "using Ipopt"
   ]
  },
  {
   "cell_type": "code",
   "execution_count": 17,
   "metadata": {
    "collapsed": false
   },
   "outputs": [
    {
     "data": {
      "text/plain": [
       "30"
      ]
     },
     "execution_count": 17,
     "metadata": {},
     "output_type": "execute_result"
    }
   ],
   "source": [
    "# Model parameters\n",
    "\n",
    "NS = 5;                    # number of scenarios\n",
    "S = collect(1:NS);       # scenario set\n",
    "P = collect(1:3);        # set of crops (1=wheat,2=corn,3=beets)\n",
    "\n",
    "# Data \n",
    "prcost = zeros(3)          # production (planting) cost\n",
    "prcost[1] = 150;\n",
    "prcost[2] = 230;\n",
    "prcost[3] = 260;\n",
    "\n",
    "pcost = zeros(3)           # purchase cost\n",
    "pcost[1] = 238;\n",
    "pcost[2] = 210;\n",
    "pcost[3] = 0;\n",
    "\n",
    "scost = zeros(3)           # sales cost\n",
    "scost[1] = 170;\n",
    "scost[2] = 150;\n",
    "scost[3] = 36;\n",
    "\n",
    "demand = zeros(3)          # demand\n",
    "demand[1] = 200;\n",
    "demand[2] = 240;\n",
    "demand[3] = 0;\n",
    "\n",
    "# assign random data\n",
    "\n",
    "yield = zeros(length(S),3) # yields\n",
    "yield[S,1] = 2.5;\n",
    "yield[S,2] = 3.0;\n",
    "\n",
    "yield[1,3] = 10;\n",
    "yield[2,3] = 15;\n",
    "yield[3,3] = 20;\n",
    "yield[4,3] = 25;\n",
    "yield[5,3] = 30"
   ]
  },
  {
   "cell_type": "code",
   "execution_count": 18,
   "metadata": {
    "collapsed": false
   },
   "outputs": [
    {
     "name": "stdout",
     "output_type": "stream",
     "text": [
      "cost: 1 dimensions:\n",
      "[1] = -279100.0\n",
      "[2] = -279099.99999999994\n",
      "[3] = -279100.0\n",
      "[4] = -279100.0\n",
      "[5] = -279100.00000000006\n",
      "\n",
      "\n",
      "wp: 1 dimensions:\n",
      "[1] = 1.0\n",
      "[2] = 1.0\n",
      "[3] = 0.9999999999999999\n",
      "[4] = 1.0\n",
      "[5] = 1.0\n",
      "\n",
      "\n",
      "probcost: 1 dimensions:\n",
      "[1] = -6000.0\n",
      "[2] = -6000.000000000001\n",
      "[3] = -6000.000000000001\n",
      "[4] = -6000.000000000001\n",
      "[5] = -6000.0\n",
      "\n",
      "\n",
      "obj -279100.0\n"
     ]
    }
   ],
   "source": [
    "# Model \n",
    "\n",
    "m = Model(solver=CbcSolver())\n",
    "\n",
    "@variable(m, x[S,P] >= 0)    # acres devoted to crops\n",
    "@variable(m, y[S,P] >= 0)    # crops purchase\n",
    "@variable(m, w[S,P] >= 0)    # crops sold;\n",
    "@variable(m, cost[s in S])   # per scenario cost\n",
    "@variable(m,probcost[s in S]) # per scenario cost for probabilistic constraint\n",
    "@variable(m,wp[S], Bin)       # indicator variables for probabilistic constraint\n",
    "\n",
    "alphap=NS # number of constraints allowed to be violated\n",
    "\n",
    "@constraint(m, varcost[s in S], cost[s] == sum{prcost[j]*x[s,j] + pcost[j]*y[s,j] - scost[j]*w[s,j], j in P}) \n",
    "@constraint(m, cap[s in S], sum{x[s,j], j in P} <= 500)\n",
    "@constraint(m, bal[s in S,j in 1:2], yield[s,j]*x[s,j]+y[s,j]-w[s,j] >= demand[j]) \n",
    "@constraint(m, probeq1[s in S], probcost[s] == yield[s,3]*x[s,3]+y[s,3]-w[s,3] - demand[3]) \n",
    "@constraint(m, probeq2[s in S], probcost[s] >= -wp[s]*6000) \n",
    "@constraint(m, probeq3[s in S], (1/NS)*sum{wp[s],s in S} <= alphap/NS) \n",
    "@constraint(m, sellb[s in S], w[s,3] <= 6000)\n",
    "@constraint(m, buyb[s in S], y[s,3] <= 0)\n",
    "@constraint(m, nonant[s in S,j in P], x[1,j] == x[s,j])\n",
    "\n",
    "@objective(m, Min, (1/NS)*sum{cost[s], s in S})\n",
    "\n",
    "solve(m)\n",
    "\n",
    "# Results (with probabilistic constraint)\n",
    "\n",
    "println(getvalue(cost))\n",
    "println(\"\")\n",
    "println(getvalue(wp))\n",
    "println(\"\")\n",
    "println(getvalue(probcost))\n",
    "println(\"\")\n",
    "println(\"obj \",getobjectivevalue(m))"
   ]
  },
  {
   "cell_type": "code",
   "execution_count": null,
   "metadata": {
    "collapsed": false,
    "scrolled": false
   },
   "outputs": [],
   "source": []
  },
  {
   "cell_type": "code",
   "execution_count": 19,
   "metadata": {
    "collapsed": false
   },
   "outputs": [
    {
     "name": "stdout",
     "output_type": "stream",
     "text": [
      "cost: 1 dimensions:\n",
      "[1] = -118599.99999999994\n",
      "[2] = -118599.99999999994\n",
      "[3] = -118599.99999999996\n",
      "[4] = -118599.99999999999\n",
      "[5] = -118600.0\n",
      "\n",
      "\n",
      "probcost: 1 dimensions:\n",
      "[1] = 2999.9999999999995\n",
      "[2] = 1500.0\n",
      "[3] = -5.407887852028221e-13\n",
      "[4] = -1499.9999999999989\n",
      "[5] = -3000.000000000001\n",
      "\n",
      "\n",
      "0.0\n",
      "\n",
      "-3000.000000000001\n",
      "\n",
      "obj -118599.99999999997\n"
     ]
    }
   ],
   "source": [
    "# Model (with cvar)\n",
    "\n",
    "mp = Model(solver=CbcSolver())\n",
    "\n",
    "@variable(mp, x[S,P] >= 0)     # acres devoted to crops\n",
    "@variable(mp, y[S,P] >= 0)     # crops purchase\n",
    "@variable(mp, w[S,P] >= 0)     # crops sold;\n",
    "@variable(mp, cost[s in S])    # per scenario cost\n",
    "@variable(mp,probcost[s in S]) # per scenario cost for probabilistic constraint\n",
    "@variable(mp,VaR)              # CVaR auxiliary variable\n",
    "@variable(mp,CVaR)             # CVaR auxiliary variable\n",
    "@variable(mp,phi[S]>=0)        # CVaR auxiliary variable\n",
    "\n",
    "alpha=5/NS  # alpha largest constraints in CVaR\n",
    "\n",
    "@constraint(mp, varcost[s in S], cost[s] == sum{prcost[j]*x[s,j] + pcost[j]*y[s,j] - scost[j]*w[s,j], j in P}) \n",
    "@constraint(mp, cap[s in S], sum{x[s,j], j in P} <= 500)\n",
    "@constraint(mp, bal[s in S,j in 1:2], yield[s,j]*x[s,j]+y[s,j]-w[s,j] >= demand[j]) \n",
    "@constraint(mp, probeq1[s in S], probcost[s] == -(yield[s,3]*x[s,3]+y[s,3]-w[s,3] - demand[3])) \n",
    "@constraint(mp, probeq2[s in S], probcost[s] - VaR <= phi[s])\n",
    "@constraint(mp, probeq3, CVaR == VaR + (1/NS)*(1/alpha)*sum{phi[s],s in S}) \n",
    "@constraint(mp, probeq4, CVaR <= 0) \n",
    "\n",
    "@constraint(mp, sellb[s in S], w[s,3] <= 6000)\n",
    "@constraint(mp, buyb[s in S], y[s,3] <= 0)\n",
    "@constraint(mp, nonant[s in S,j in P], x[1,j] == x[s,j])\n",
    "\n",
    "@objective(mp, Min, (1/NS)*sum{cost[s], s in S})\n",
    "\n",
    "solve(mp)\n",
    "\n",
    "# Results (with CVaR)\n",
    "println(getvalue(cost))\n",
    "println(\"\")\n",
    "println(getvalue(probcost))\n",
    "println(\"\")\n",
    "println(getvalue(CVaR))\n",
    "println(\"\")\n",
    "println(getvalue(VaR))\n",
    "println(\"\")\n",
    "println(\"obj \",getobjectivevalue(mp))"
   ]
  },
  {
   "cell_type": "code",
   "execution_count": 20,
   "metadata": {
    "collapsed": false
   },
   "outputs": [
    {
     "name": "stdout",
     "output_type": "stream",
     "text": [
      "\n",
      "******************************************************************************\n",
      "This program contains Ipopt, a library for large-scale nonlinear optimization.\n",
      " Ipopt is released as open source code under the Eclipse Public License (EPL).\n",
      "         For more information visit http://projects.coin-or.org/Ipopt\n",
      "******************************************************************************\n",
      "\n",
      "cost: 1 dimensions:\n",
      "[1] = -241551.25237687508\n",
      "[2] = -241551.25237687505\n",
      "[3] = -241551.25237687503\n",
      "[4] = -241551.25237687497\n",
      "[5] = -25551.250216536293\n",
      "\n",
      "\n",
      "probcost: 1 dimensions:\n",
      "[1] = 5298.154230041101\n",
      "[2] = 4947.231315056828\n",
      "[3] = 4596.308400072554\n",
      "[4] = 4245.385485088281\n",
      "[5] = -2105.537489905399\n",
      "\n",
      "\n",
      "phi: 1 dimensions:\n",
      "[1] = 1.099450175219882\n",
      "[2] = 1.0992192093308593\n",
      "[3] = 1.0988913172566999\n",
      "[4] = 1.098425922732688\n",
      "[5] = 0.6040134254598314\n",
      "\n",
      "\n",
      "obj -198351.2519448073\n"
     ]
    }
   ],
   "source": [
    "# Model (with sigmoid approximation)\n",
    "b= 10\n",
    "c= 1e-3\n",
    "\n",
    "mp = Model(solver=IpoptSolver(print_level=0))\n",
    "\n",
    "@variable(mp, x[S,P] >= 0)     # acres devoted to crops\n",
    "@variable(mp, y[S,P] >= 0)     # crops purchase\n",
    "@variable(mp, w[S,P] >= 0)     # crops sold;\n",
    "@variable(mp, cost[s in S])    # per scenario cost\n",
    "@variable(mp,probcost[s in S]) # per scenario cost for probabilistic constraint\n",
    "@variable(mp,phi[S]>=0)        # CVaR auxiliary variable\n",
    "\n",
    "alpha=5/NS  # alpha largest constraints in CVaR\n",
    "\n",
    "@constraint(mp, varcost[s in S], cost[s] == sum{prcost[j]*x[s,j] + pcost[j]*y[s,j] - scost[j]*w[s,j], j in P}) \n",
    "@constraint(mp, cap[s in S], sum{x[s,j], j in P} <= 500)\n",
    "@constraint(mp, bal[s in S,j in 1:2], yield[s,j]*x[s,j]+y[s,j]-w[s,j] >= demand[j]) \n",
    "@constraint(mp, probeq1[s in S], probcost[s] == -(yield[s,3]*x[s,3]+y[s,3]-w[s,3] - demand[3])) \n",
    "@NLconstraint(mp,phidef[s in S], (1+b)/(b+exp(-c*probcost[s])) <= phi[s] )\n",
    "@constraint(mp, (1.0/NS)*sum{phi[s], s in S} <= alpha )\n",
    "\n",
    "@constraint(mp, sellb[s in S], w[s,3] <= 6000)\n",
    "@constraint(mp, buyb[s in S], y[s,3] <= 0)\n",
    "@constraint(mp, nonant[s in S,j in P], x[1,j] == x[s,j])\n",
    "\n",
    "@objective(mp, Min, (1/NS)*sum{cost[s], s in S})\n",
    "\n",
    "solve(mp)\n",
    "\n",
    "# Results (with Sigmoid)\n",
    "println(getvalue(cost))\n",
    "println(\"\")\n",
    "println(getvalue(probcost))\n",
    "println(\"\")\n",
    "println(getvalue(phi))\n",
    "println(\"\")\n",
    "println(\"obj \",getobjectivevalue(mp))"
   ]
  },
  {
   "cell_type": "code",
   "execution_count": null,
   "metadata": {
    "collapsed": true
   },
   "outputs": [],
   "source": []
  }
 ],
 "metadata": {
  "kernelspec": {
   "display_name": "Julia 0.4.5",
   "language": "julia",
   "name": "julia-0.4"
  },
  "language_info": {
   "file_extension": ".jl",
   "mimetype": "application/julia",
   "name": "julia",
   "version": "0.4.5"
  }
 },
 "nbformat": 4,
 "nbformat_minor": 0
}
