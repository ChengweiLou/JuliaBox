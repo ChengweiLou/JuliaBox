{
 "cells": [
  {
   "cell_type": "code",
   "execution_count": null,
   "metadata": {
    "collapsed": true
   },
   "outputs": [],
   "source": [
    "push!(LOAD_PATH, pwd())\n",
    "include(\"ClusterIPM.jl\")\n",
    "using StochJuMP\n",
    "using JuMP\n",
    "using Distributions\n",
    "using Ipopt"
   ]
  },
  {
   "cell_type": "code",
   "execution_count": null,
   "metadata": {
    "collapsed": true
   },
   "outputs": [],
   "source": [
    "# Parameters\n",
    "srand(123)\n",
    "\n",
    "NS = 100;                    # number of scenarios\n",
    "NP = 1000;\n",
    "S = collect(1:NS)           # scenario set\n",
    "P = collect(1:NP)           # set of crops (1=wheat,2=corn,3=beets)\n",
    "\n",
    "\n",
    "prcost = zeros(NP)\n",
    "d = Uniform(100,200)\n",
    "prcost = rand(d,NP)\n",
    "\n",
    "pcost = zeros(NP)\n",
    "d = Uniform(100,200)\n",
    "prcost = rand(d,NP)\n",
    "\n",
    "scost = zeros(NP)\n",
    "scost = prcost - 50\n",
    "\n",
    "demand = zeros(NP)\n",
    "d = Uniform(100,300)\n",
    "prcost = rand(d,NP)\n",
    "\n",
    "# assign random data\n",
    "yield = zeros(length(S),NP)\n",
    "d = Uniform(5,20)\n",
    "for j in 1:(NP-1)\n",
    "    yield[S,j] = rand(d,1)[1]\n",
    "end\n",
    "d = Uniform(10,30)\n",
    "yield[S,NP] = rand(d,NS)"
   ]
  },
  {
   "cell_type": "code",
   "execution_count": null,
   "metadata": {
    "collapsed": true
   },
   "outputs": [],
   "source": [
    "# build the model and solve with IPOPT\n",
    "sellub = zeros(NP)\n",
    "d = Uniform(2000,8000)\n",
    "sellub[P] = rand(d,NP)\n",
    "\n",
    "m = Model(solver=IpoptSolver())\n",
    "@defVar(m, x[S,P] >= 0)    # acres devoted to crops\n",
    "@defVar(m, y[S,P] >= 0)    # crops purchase\n",
    "@defVar(m, 0<=w[S,j in P] <= sellub[j in P])    # crops sold;\n",
    "@defVar(m, cost[s in S])\n",
    "@addConstraint(m, varcost[s in S], cost[s] == sum{prcost[j]*x[s,j] + pcost[j]*y[s,j] - scost[j]*w[s,j], j in P})\n",
    "@addConstraint(m, cap[s in S], sum{x[s,j], j in P} <= 200*NP)\n",
    "@addConstraint(m, bal[s in S,j in P], yield[s,j]*x[s,j]+y[s,j]-w[s,j] >= demand[j])\n",
    "@addConstraint(m, nonant[s in S,j in P], x[1,j] == x[s,j])\n",
    "@setObjective(m, Min, (1/NS)*sum{cost[s], s in S})\n",
    "solve(m)\n",
    "\n"
   ]
  },
  {
   "cell_type": "code",
   "execution_count": null,
   "metadata": {
    "collapsed": true
   },
   "outputs": [],
   "source": [
    "# build with StochJuMP and solve with IPCluster\n",
    "m = StochasticModel(NS)\n",
    "@defVar(m, x[P] >= 0)    # acres devoted to crops\n",
    "@defVar(m, s2 >= 0)\n",
    "@addConstraint(m, cap, sum{x[j], j in P} + s2 == 200*NP)\n",
    "@setObjective(m, Min, sum{prcost[j]*x[j], j in P})\n",
    "for i in 1:NS\n",
    "    bl = StochasticBlock(m)\n",
    "    @defVar(bl, y[P] >= 0)    # crops purchase\n",
    "    @defVar(bl, 0<=w[j in P] <= sellub[j in P])    # crops sold;\n",
    "    @defVar(bl, s[P] >= 0)\n",
    "    @addConstraint(bl, bal[j in P], yield[i,j]*x[j]+y[j]-w[j] - s[j] == demand[j])\n",
    "    @setObjective(bl, Min, 1.0/NS*sum{pcost[j]*y[j] - scost[j]*w[j], j in P})\n",
    "end\n",
    "CluIPM_solve(m)"
   ]
  },
  {
   "cell_type": "code",
   "execution_count": null,
   "metadata": {
    "collapsed": true
   },
   "outputs": [],
   "source": []
  }
 ],
 "metadata": {
  "kernelspec": {
   "display_name": "Julia 0.4.2",
   "language": "julia",
   "name": "julia-0.4"
  },
  "language_info": {
   "file_extension": ".jl",
   "mimetype": "application/julia",
   "name": "julia",
   "version": "0.4.2"
  }
 },
 "nbformat": 4,
 "nbformat_minor": 0
}
