{
 "cells": [
  {
   "cell_type": "code",
   "execution_count": null,
   "metadata": {
    "collapsed": true
   },
   "outputs": [],
   "source": [
    "push!(LOAD_PATH, pwd())\n",
    "using Ipopt\n",
    "using NetJuMP\n",
    "include(\"NetParPipsNlp.jl\")\n",
    "using JuMP\n",
    "import MPI\n",
    "using Distributions"
   ]
  },
  {
   "cell_type": "code",
   "execution_count": null,
   "metadata": {
    "collapsed": true
   },
   "outputs": [],
   "source": [
    "# Parameters\n",
    "prcost = zeros(3)\n",
    "prcost[1] = 150\n",
    "prcost[2] = 230\n",
    "prcost[3] = 260\n",
    "\n",
    "pcost = zeros(3)\n",
    "pcost[1] = 238\n",
    "pcost[2] = 210\n",
    "pcost[3] = 0\n",
    "\n",
    "scost = zeros(3)\n",
    "scost[1] = 170\n",
    "scost[2] = 150\n",
    "scost[3] = 36\n",
    "\n",
    "demand = zeros(3)\n",
    "demand[1] = 200\n",
    "demand[2] = 240\n",
    "demand[3] = 0;\n",
    "\n",
    "NS = 10000;                 # number of scenarios\n",
    "S = collect(1:NS)          # scenario set\n",
    "P = collect(1:3)           # set of crops (1=wheat,2=corn,3=beets)\n",
    "\n",
    "yield = zeros(length(S),3)\n",
    "yield[S,1] = 2.5\n",
    "yield[S,2] = 3.0\n",
    "srand(123)\n",
    "μ = 20; σ = 5\n",
    "d = Normal(μ,σ)\n",
    "yield[S,3] = rand(d,NS)\n"
   ]
  },
  {
   "cell_type": "code",
   "execution_count": null,
   "metadata": {
    "collapsed": true
   },
   "outputs": [],
   "source": [
    "# build the model and solve with IPOPT\n",
    "m = Model(solver=IpoptSolver())\n",
    "@variable(m, x[S,P] >= 0)    # acres devoted to crops\n",
    "@variable(m, y[S,P] >= 0)    # crops purchase\n",
    "@variable(m, w[S,P] >= 0)    # crops sold;\n",
    "@variable(m, cost[s in S])\n",
    "@constraint(m, varcost[s in S], cost[s] == sum{prcost[j]*x[s,j] + pcost[j]*y[s,j] - scost[j]*w[s,j], j in P})\n",
    "@constraint(m, cap[s in S], sum{x[s,j], j in P} <= 500)\n",
    "@constraint(m, bal[s in S,j in P], yield[s,j]*x[s,j]+y[s,j]-w[s,j] >= demand[j])\n",
    "@constraint(m, sellb[s in S], w[s,3] <= 6000)\n",
    "@constraint(m, buyb[s in S], y[s,3] <= 0)\n",
    "@constraint(m, nonant[s in S,j in P], x[1,j] == x[s,j])\n",
    "@objective(m, Min, (1/NS)*sum{cost[s], s in S})\n",
    "solve(m)"
   ]
  },
  {
   "cell_type": "code",
   "execution_count": null,
   "metadata": {
    "collapsed": true
   },
   "outputs": [],
   "source": [
    "# build with PLASMO and solve with PIPS-NLP\n",
    "m = NetModel()\n",
    "@variable(m, x[P] >= 0)         # acres devoted to crops\n",
    "@constraint(m, cap, sum{x[j], j in P}  <= 500)\n",
    "@objective(m, Min, sum{prcost[j]*x[j], j in P})\n",
    "for i in 1:NS\n",
    "    bl = Model()\n",
    "    @variable(bl, y[P] >= 0)    # crops purchase\n",
    "    @variable(bl, w[P] >= 0)    # crops sold;\n",
    "    setUpper(w[3], 6000)\n",
    "    setUpper(y[3], 0)\n",
    "    @objective(bl, Min, 1.0/NS*sum{pcost[j]*y[j] - scost[j]*w[j], j in P})\n",
    "    @addNode(m, bl, \"s$i\")\n",
    "    @constraint(m, bal[j in P], yield[i,j]*x[j]+y[j]-w[j] >= demand[j])\n",
    "end\n",
    "ParPipsNlp_solve(m)"
   ]
  },
  {
   "cell_type": "code",
   "execution_count": null,
   "metadata": {
    "collapsed": true
   },
   "outputs": [],
   "source": []
  }
 ],
 "metadata": {
  "kernelspec": {
   "display_name": "Julia 0.4.2",
   "language": "julia",
   "name": "julia-0.4"
  },
  "language_info": {
   "file_extension": ".jl",
   "mimetype": "application/julia",
   "name": "julia",
   "version": "0.4.2"
  }
 },
 "nbformat": 4,
 "nbformat_minor": 0
}
