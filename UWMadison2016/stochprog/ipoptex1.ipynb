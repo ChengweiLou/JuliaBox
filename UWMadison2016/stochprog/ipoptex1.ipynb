{
 "cells": [
  {
   "cell_type": "markdown",
   "metadata": {},
   "source": [
    "IPOPT Tutorial Example\n",
    "\n",
    "Victor M. Zavala 2016 \n",
    "\n",
    "University of Wisconsin-Madison  "
   ]
  },
  {
   "cell_type": "code",
   "execution_count": 1,
   "metadata": {
    "collapsed": true
   },
   "outputs": [],
   "source": [
    "using JuMP \n",
    "using Ipopt "
   ]
  },
  {
   "cell_type": "code",
   "execution_count": 2,
   "metadata": {
    "collapsed": false
   },
   "outputs": [
    {
     "name": "stdout",
     "output_type": "stream",
     "text": [
      "\n",
      "\n",
      "Min (nonlinear expression)\n",
      "Subject to\n",
      " 1 nonlinear constraint\n",
      " x ≥ 0\n",
      " y ≥ 0\n",
      "\n",
      "\n",
      "\n",
      "******************************************************************************\n",
      "This program contains Ipopt, a library for large-scale nonlinear optimization.\n",
      " Ipopt is released as open source code under the Eclipse Public License (EPL).\n",
      "         For more information visit http://projects.coin-or.org/Ipopt\n",
      "******************************************************************************\n",
      "\n",
      "This is Ipopt version 3.12.1, running with linear solver mumps.\n",
      "NOTE: Other linear solvers might be more efficient (see Ipopt documentation).\n",
      "\n",
      "Number of nonzeros in equality constraint Jacobian...:        2\n",
      "Number of nonzeros in inequality constraint Jacobian.:        0\n",
      "Number of nonzeros in Lagrangian Hessian.............:        5\n",
      "\n",
      "Total number of variables............................:        2\n",
      "                     variables with only lower bounds:        2\n",
      "                variables with lower and upper bounds:        0\n",
      "                     variables with only upper bounds:        0\n",
      "Total number of equality constraints.................:        1\n",
      "Total number of inequality constraints...............:        0\n",
      "        inequality constraints with only lower bounds:        0\n",
      "   inequality constraints with lower and upper bounds:        0\n",
      "        inequality constraints with only upper bounds:        0\n",
      "\n",
      "iter    objective    inf_pr   inf_du lg(mu)  ||d||  lg(rg) alpha_du alpha_pr  ls\n",
      "   0  9.8010002e-01 1.00e+00 9.90e-01  -1.0 0.00e+00    -  0.00e+00 0.00e+00   0\n",
      "   1  3.2170124e-01 3.94e+00 7.36e+04  -1.7 2.51e+01    -  3.95e-04 6.25e-02f  5\n",
      "   2  3.3521227e-03 7.86e-01 3.61e+05  -1.7 6.29e-01   6.0 1.00e+00 1.00e+00h  1\n",
      "   3  7.0369513e-02 8.66e-02 6.19e+04  -1.7 2.09e-01    -  1.00e+00 1.00e+00h  1\n",
      "   4  8.6750484e-02 1.72e-03 2.37e+03  -1.7 2.95e-02    -  1.00e+00 1.00e+00h  1\n",
      "   5  8.7055863e-02 7.57e-07 2.33e+00  -1.7 6.99e-04    -  1.00e+00 1.00e+00h  1\n",
      "   6  5.3550090e-02 9.40e-03 1.48e-01  -1.7 6.88e-02    -  1.00e+00 1.00e+00f  1\n",
      "   7  4.6623962e-02 6.13e-03 3.16e-02  -2.5 6.32e-02    -  1.00e+00 1.00e+00h  1\n",
      "   8  4.7236593e-02 9.86e-05 5.22e-04  -2.5 7.94e-03    -  1.00e+00 1.00e+00h  1\n",
      "   9  4.7249663e-02 1.00e-07 1.09e-06  -3.8 2.83e-04    -  1.00e+00 1.00e+00h  1\n",
      "iter    objective    inf_pr   inf_du lg(mu)  ||d||  lg(rg) alpha_du alpha_pr  ls\n",
      "  10  4.7249675e-02 7.38e-10 2.70e-09  -5.0 2.21e-05    -  1.00e+00 1.00e+00h  1\n",
      "\n",
      "Number of Iterations....: 10\n",
      "\n",
      "                                   (scaled)                 (unscaled)\n",
      "Objective...............:   4.7249675037160044e-02    4.7249675037160044e-02\n",
      "Dual infeasibility......:   2.7011776664162199e-09    2.7011776664162199e-09\n",
      "Constraint violation....:   7.3842043590843787e-10    7.3842043590843787e-10\n",
      "Complementarity.........:   9.0963111503245208e-06    9.0963111503245208e-06\n",
      "Overall NLP error.......:   9.0963111503245208e-06    9.0963111503245208e-06\n",
      "\n",
      "\n",
      "Number of objective function evaluations             = 17\n",
      "Number of objective gradient evaluations             = 11\n",
      "Number of equality constraint evaluations            = 17\n",
      "Number of inequality constraint evaluations          = 0\n",
      "Number of equality constraint Jacobian evaluations   = 11\n",
      "Number of inequality constraint Jacobian evaluations = 0\n",
      "Number of Lagrangian Hessian evaluations             = 10\n",
      "Total CPU secs in IPOPT (w/o function evaluations)   =      0.053\n",
      "Total CPU secs in NLP function evaluations           =      0.016\n",
      "\n",
      "EXIT: Optimal Solution Found.\n"
     ]
    },
    {
     "data": {
      "text/plain": [
       ":Optimal"
      ]
     },
     "execution_count": 2,
     "metadata": {},
     "output_type": "execute_result"
    }
   ],
   "source": [
    "# Model \n",
    "\n",
    "m = Model(solver=IpoptSolver(tol = 1e-4, max_iter = 100,linear_solver =\"mumps\",mu_strategy=\"monotone\"))\n",
    "\n",
    "@variable(m, x >= 0)    \n",
    "@variable(m, y >= 0)    \n",
    "\n",
    "@NLconstraint(m, cons, x^2+y^2==1) \n",
    "\n",
    "@NLobjective(m, Min, (x-1)^2 + (x-y)^3)\n",
    "\n",
    "println(\"\\n\")\n",
    "print(m)\n",
    "println(\"\\n\")\n",
    "\n",
    "solve(m)"
   ]
  },
  {
   "cell_type": "code",
   "execution_count": 3,
   "metadata": {
    "collapsed": false
   },
   "outputs": [
    {
     "name": "stdout",
     "output_type": "stream",
     "text": [
      "x = 0.8121835187292459\n",
      "y = 0.5834020334580615\n"
     ]
    }
   ],
   "source": [
    "\n",
    "println(\"x = \", getvalue(x), \"\\ny = \", getvalue(y))"
   ]
  },
  {
   "cell_type": "code",
   "execution_count": null,
   "metadata": {
    "collapsed": true
   },
   "outputs": [],
   "source": []
  }
 ],
 "metadata": {
  "kernelspec": {
   "display_name": "Julia 0.4.5",
   "language": "julia",
   "name": "julia-0.4"
  },
  "language_info": {
   "file_extension": ".jl",
   "mimetype": "application/julia",
   "name": "julia",
   "version": "0.4.5"
  }
 },
 "nbformat": 4,
 "nbformat_minor": 0
}
