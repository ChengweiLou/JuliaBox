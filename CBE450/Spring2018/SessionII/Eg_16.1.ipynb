{
 "cells": [
  {
   "cell_type": "code",
   "execution_count": 3,
   "metadata": {},
   "outputs": [
    {
     "name": "stdout",
     "output_type": "stream",
     "text": [
      "Min Qs + Qw\n",
      "Subject to\n",
      " R[1] - Qs = -30\n",
      " R[2] - R[1] = -30\n",
      " R[3] - R[2] = 123\n",
      " Qw - R[3] = 102\n",
      " R[i] ≥ 0 ∀ i ∈ {1,2,3}\n",
      " Qs ≥ 0\n",
      " Qw ≥ 0\n"
     ]
    }
   ],
   "source": [
    "#Example 16.1\n",
    "#Equation (16.2)\n",
    "using JuMP\n",
    "using Gurobi\n",
    "m = Model(solver = GurobiSolver(OutputFlag=0));\n",
    "@variable(m, Qs >= 0);\n",
    "@variable(m, Qw >= 0);\n",
    "@variable(m, R[1:3] >= 0);\n",
    "@constraint(m, R[1] - Qs == -30);\n",
    "@constraint(m, R[2] - R[1] == -30);\n",
    "@constraint(m, R[3] - R[2] == 123);\n",
    "@constraint(m, Qw - R[3] == 102);\n",
    "@objective(m, Min, Qs+Qw);\n",
    "print(m);"
   ]
  },
  {
   "cell_type": "code",
   "execution_count": 4,
   "metadata": {},
   "outputs": [
    {
     "name": "stdout",
     "output_type": "stream",
     "text": [
      "Academic license - for non-commercial use only\n",
      "Qs = 60.0\n",
      "Qw = 225.0\n"
     ]
    }
   ],
   "source": [
    "#Solve and print results\n",
    "solve(m);\n",
    "println(\"Qs = \", getvalue(Qs));\n",
    "println(\"Qw = \", getvalue(Qw));"
   ]
  },
  {
   "cell_type": "code",
   "execution_count": 5,
   "metadata": {
    "collapsed": true
   },
   "outputs": [],
   "source": [
    "# Structured model, equation (16.5)\n",
    "# Import data, define sets and dictionary\n",
    "Data = readcsv(\"Eg_16.1.csv\")\n",
    "S = [\"HP\"];\n",
    "W = [\"CW\"];\n",
    "K = length(Data[1,:])-1;\n",
    "Sk = [[\"HP\"],[],[],[]];\n",
    "Wk = [[],[],[],[\"CW\"]];\n",
    "Hk = [[],[\"H1\"],[\"H1\",\"H2\"],[\"H1\",\"H2\"]];\n",
    "Ck = [[\"C1\"],[\"C1\"],[\"C1\",\"C2\"],[\"C2\"]];\n",
    "H = [\"H1\",\"H2\"];\n",
    "C = [\"C1\",\"C2\"];\n",
    "Q = Dict((\"H1\",1) => 0.1)\n",
    "for i in 1:4\n",
    "    for j in 1:4\n",
    "        Q[(Data[i,1],j)] = Data[i,j+1];\n",
    "    end\n",
    "end"
   ]
  },
  {
   "cell_type": "code",
   "execution_count": 7,
   "metadata": {},
   "outputs": [
    {
     "name": "stdout",
     "output_type": "stream",
     "text": [
      "Min Qs[HP] + Qw[CW]\n",
      "Subject to\n",
      " R[0] = 0\n",
      " R[4] = 0\n",
      " R[1] - R[0] - Qs[HP] = -30\n",
      " R[2] - R[1] = -30\n",
      " R[3] - R[2] = 123\n",
      " R[4] - R[3] + Qw[CW] = 102\n",
      " Qs[i] ≥ 0 ∀ i ∈ {HP}\n",
      " Qw[i] ≥ 0 ∀ i ∈ {CW}\n",
      " R[i] ≥ 0 ∀ i ∈ {0,1,2,3,4}\n"
     ]
    }
   ],
   "source": [
    "m2  = Model(solver = GurobiSolver(OutputFlag=0));\n",
    "@variable(m2, Qs[S] >= 0);\n",
    "@variable(m2, Qw[W] >= 0);\n",
    "@variable(m2, R[0:K] >= 0);\n",
    "@constraint(m2, R[0] == 0);\n",
    "@constraint(m2, R[K] == 0);\n",
    "@constraint(m2, [k in 1:K], R[k] - R[k-1]  - sum(Qs[m] for m in Sk[k]) + sum(Qw[n] for n in Wk[k])\n",
    "    == sum(Q[i,k] for i in H) - sum(Q[j,k] for j in C));\n",
    "@objective(m2, Min, sum(Qs[m] for m in S) + sum(Qw[n] for n in W));\n",
    "print(m2);"
   ]
  },
  {
   "cell_type": "code",
   "execution_count": 8,
   "metadata": {},
   "outputs": [
    {
     "name": "stdout",
     "output_type": "stream",
     "text": [
      "Academic license - for non-commercial use only\n",
      "Qs = Qs: 1 dimensions:\n",
      "[HP] = 60.0\n",
      "Qw = Qw: 1 dimensions:\n",
      "[CW] = 225.0\n"
     ]
    }
   ],
   "source": [
    "solve(m2);\n",
    "println(\"Qs = \", getvalue(Qs));\n",
    "println(\"Qw = \", getvalue(Qw));"
   ]
  }
 ],
 "metadata": {
  "kernelspec": {
   "display_name": "Julia 0.5.2",
   "language": "julia",
   "name": "julia-0.5"
  },
  "language_info": {
   "file_extension": ".jl",
   "mimetype": "application/julia",
   "name": "julia",
   "version": "0.5.2"
  }
 },
 "nbformat": 4,
 "nbformat_minor": 2
}
