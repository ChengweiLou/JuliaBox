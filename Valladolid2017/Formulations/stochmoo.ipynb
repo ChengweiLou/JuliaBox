{
 "cells": [
  {
   "cell_type": "code",
   "execution_count": 4,
   "metadata": {
    "collapsed": false
   },
   "outputs": [],
   "source": [
    "# illustration of multi-stakeholder optimization problem\n",
    "# victor m. zavala, 2017\n",
    "\n",
    "using JuMP \n",
    "using Ipopt \n",
    "using PyPlot\n",
    "\n",
    "# number of objectives\n",
    "nObj = 2\n",
    "\n",
    "# number of stakeholders\n",
    "nStake = 20;\n",
    "\n",
    "W = rand(nStake,nObj)\n",
    "for i = 1:size(W,1)\n",
    "W[i,:] = W[i,:] / sum(W[i,:])\n",
    "end\n",
    "\n",
    "# container for solutions\n",
    "x1v=zeros(nStake)\n",
    "x2v=zeros(nStake)\n",
    "cp=zeros(nStake)\n",
    "\n",
    "for p in 1:nStake\n",
    "\n",
    "# Model \n",
    "m = Model(solver=IpoptSolver(print_level=0))\n",
    "\n",
    "@variable(m, 0 <= x1<= 1)    \n",
    "@variable(m, 0 <= x2<= 1)  \n",
    "@variable(m,cost)\n",
    "@NLconstraint(m, cons, x1^2 + x2 == 1 ) \n",
    "@NLconstraint(m,costcons,cost== W[p,1]*(x1-1)^2 + W[p,2]*(x2-x1)^2)\n",
    "@NLobjective(m, Min,cost)\n",
    "   \n",
    "# solve model and get solution\n",
    "solve(m)\n",
    "    \n",
    "# collect solution    \n",
    "    x1v[p]=getvalue(x1);\n",
    "    x2v[p]=getvalue(x2);\n",
    "    cp[p]=getvalue(cost)\n",
    "end"
   ]
  },
  {
   "cell_type": "code",
   "execution_count": 5,
   "metadata": {
    "collapsed": false
   },
   "outputs": [
    {
     "name": "stdout",
     "output_type": "stream",
     "text": [
      "This is Ipopt version 3.12.1, running with linear solver mumps.\n",
      "NOTE: Other linear solvers might be more efficient (see Ipopt documentation).\n",
      "\n",
      "Number of nonzeros in equality constraint Jacobian...:       62\n",
      "Number of nonzeros in inequality constraint Jacobian.:       60\n",
      "Number of nonzeros in Lagrangian Hessian.............:       61\n",
      "\n",
      "Total number of variables............................:       43\n",
      "                     variables with only lower bounds:       20\n",
      "                variables with lower and upper bounds:        2\n",
      "                     variables with only upper bounds:        0\n",
      "Total number of equality constraints.................:       21\n",
      "Total number of inequality constraints...............:       20\n",
      "        inequality constraints with only lower bounds:        0\n",
      "   inequality constraints with lower and upper bounds:        0\n",
      "        inequality constraints with only upper bounds:       20\n",
      "\n",
      "iter    objective    inf_pr   inf_du lg(mu)  ||d||  lg(rg) alpha_du alpha_pr  ls\n",
      "   0  9.9999900e-02 9.90e-01 9.53e-01  -1.0 0.00e+00    -  0.00e+00 0.00e+00   0\n",
      "   1  1.5259689e-01 8.22e-01 1.57e+01  -1.7 9.83e-01    -  1.02e-02 1.66e-01h  1\n",
      "   2  1.9854127e-01 4.21e-01 5.74e+00  -1.7 7.57e-01    -  1.33e-01 5.50e-01f  1\n",
      "   3 -1.8273787e-01 5.63e-01 1.32e+01  -1.7 1.73e+00    -  4.41e-02 3.07e-01f  1\n",
      "   4  4.5079827e-01 1.49e-03 5.82e-01  -1.7 5.62e-01    -  9.33e-01 1.00e+00h  1\n",
      "   5  4.9782344e-01 2.65e-03 4.10e-01  -1.7 2.66e-01    -  3.56e-01 3.09e-01f  1\n",
      "   6  6.9369149e-01 8.35e-02 2.71e-01  -1.7 3.55e-01    -  4.72e-01 1.00e+00f  1\n",
      "   7  8.4036627e-01 2.15e-03 2.42e-03  -1.7 1.14e-01    -  1.00e+00 1.00e+00h  1\n",
      "   8  1.2128401e-01 3.42e-04 1.71e-03  -3.8 3.80e-01    -  9.89e-01 9.36e-01f  1\n",
      "   9  8.0939708e-02 4.78e-03 1.79e-02  -3.8 4.05e-02    -  1.00e+00 1.00e+00h  1\n",
      "iter    objective    inf_pr   inf_du lg(mu)  ||d||  lg(rg) alpha_du alpha_pr  ls\n",
      "  10  7.7670501e-02 4.01e-04 2.46e-04  -3.8 1.70e-02    -  1.00e+00 1.00e+00h  1\n",
      "  11  7.2257512e-02 1.01e-04 2.32e-04  -5.0 8.03e-03    -  1.00e+00 9.91e-01h  1\n",
      "  12  7.2160171e-02 6.60e-07 1.10e-06  -5.0 5.80e-04    -  1.00e+00 1.00e+00f  1\n",
      "\n",
      "Number of Iterations....: 12\n",
      "\n",
      "                                   (scaled)                 (unscaled)\n",
      "Objective...............:   7.2160170969446422e-02    7.2160170969446422e-02\n",
      "Dual infeasibility......:   1.0984554907488905e-06    1.0984554907488905e-06\n",
      "Constraint violation....:   6.5976197544115323e-07    6.5976197544115323e-07\n",
      "Complementarity.........:   1.3412080347128707e-05    1.3412080347128707e-05\n",
      "Overall NLP error.......:   1.3412080347128707e-05    1.3412080347128707e-05\n",
      "\n",
      "\n",
      "Number of objective function evaluations             = 13\n",
      "Number of objective gradient evaluations             = 13\n",
      "Number of equality constraint evaluations            = 13\n",
      "Number of inequality constraint evaluations          = 13\n",
      "Number of equality constraint Jacobian evaluations   = 13\n",
      "Number of inequality constraint Jacobian evaluations = 13\n",
      "Number of Lagrangian Hessian evaluations             = 12\n",
      "Total CPU secs in IPOPT (w/o function evaluations)   =      0.008\n",
      "Total CPU secs in NLP function evaluations           =      0.000\n",
      "\n",
      "EXIT: Optimal Solution Found.\n"
     ]
    },
    {
     "data": {
      "text/plain": [
       ":Optimal"
      ]
     },
     "execution_count": 5,
     "metadata": {},
     "output_type": "execute_result"
    }
   ],
   "source": [
    "# Compute compromise solution using cvar\n",
    "P=1:nStake\n",
    "alpha=0.1\n",
    "\n",
    "m = Model(solver=IpoptSolver(tol = 1e-4, max_iter = 100,linear_solver =\"mumps\",mu_strategy=\"monotone\"))\n",
    "\n",
    "@variable(m, 0 <= x1<= 1)    \n",
    "@variable(m, 0 <= x2<= 1)  \n",
    "@variable(m, phi[P]>=0)\n",
    "@variable(m, cost[P])\n",
    "@variable(m, VaR)\n",
    "@NLconstraint(m, cons, x1^2 + x2 == 1 ) \n",
    "@NLconstraint(m,costcons[p in P],cost[p]== W[p,1]*(x1-1)^2 + W[p,2]*(x2-x1)^2)\n",
    "@NLconstraint(m,cvarcons[p in P],cost[p] - VaR <= phi[p])\n",
    "@NLobjective(m, Min, VaR+(1/(alpha*nStake))*sum(phi[p] for p in P))\n",
    "   \n",
    "# solve model and get solution\n",
    "solve(m)\n"
   ]
  },
  {
   "cell_type": "code",
   "execution_count": 6,
   "metadata": {
    "collapsed": false
   },
   "outputs": [
    {
     "data": {
      "image/png": "[encoded data removed]",
      "text/plain": [
       "PyPlot.Figure(PyObject <matplotlib.figure.Figure object at 0x7f3cee229d10>)"
      ]
     },
     "metadata": {},
     "output_type": "display_data"
    },
    {
     "data": {
      "text/plain": [
       "PyObject <matplotlib.text.Text object at 0x7f3cee1d6050>"
      ]
     },
     "execution_count": 6,
     "metadata": {},
     "output_type": "execute_result"
    }
   ],
   "source": [
    "cx1=zeros(1)\n",
    "cx2=zeros(1)\n",
    "cx1=getvalue(x1)\n",
    "cx2=getvalue(x2)\n",
    "\n",
    "# visualize Pareto set\n",
    "scatter(x1v,x2v,color=\"blue\",marker=\"o\")\n",
    "grid(\"on\")\n",
    "scatter(cx1,cx2,color=\"red\",marker=\".\")\n",
    "xlabel(\"f1\")\n",
    "ylabel(\"f2\")"
   ]
  },
  {
   "cell_type": "code",
   "execution_count": null,
   "metadata": {
    "collapsed": true
   },
   "outputs": [],
   "source": []
  }
 ],
 "metadata": {
  "anaconda-cloud": {},
  "kernelspec": {
   "display_name": "Julia 0.5.2",
   "language": "julia",
   "name": "julia-0.5"
  },
  "language_info": {
   "file_extension": ".jl",
   "mimetype": "application/julia",
   "name": "julia",
   "version": "0.5.2"
  }
 },
 "nbformat": 4,
 "nbformat_minor": 1
}
