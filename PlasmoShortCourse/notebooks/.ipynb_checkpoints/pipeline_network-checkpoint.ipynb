{
 "cells": [
  {
   "cell_type": "markdown",
   "metadata": {},
   "source": [
    "# Modeling a Pipeline Network with JuMP\n",
    "### Jordan Jalving and Victor Zavala"
   ]
  },
  {
   "cell_type": "markdown",
   "metadata": {},
   "source": [
    "![title](13_pipe_sketch.png)"
   ]
  },
  {
   "cell_type": "markdown",
   "metadata": {},
   "source": [
    "## Import packages"
   ]
  },
  {
   "cell_type": "code",
   "execution_count": 1,
   "metadata": {},
   "outputs": [
    {
     "name": "stderr",
     "output_type": "stream",
     "text": [
      "WARNING: Method definition macroexpand(Module, Any) in module Compat at /home/jordan/.julia/v0.5/Compat/src/Compat.jl:1491 overwritten in module MacroTools at /home/jordan/.julia/v0.5/MacroTools/src/utils.jl:64.\n"
     ]
    }
   ],
   "source": [
    "using JuMP\n",
    "using Ipopt\n",
    "using PyPlot"
   ]
  },
  {
   "cell_type": "markdown",
   "metadata": {},
   "source": [
    "# Physical property data"
   ]
  },
  {
   "cell_type": "code",
   "execution_count": 2,
   "metadata": {
    "collapsed": true
   },
   "outputs": [],
   "source": [
    "eps= 0.025\t\t             # pipe rugosity - [mm]\n",
    "z= 0.80        \t\t\t     # gas compressibility  - []\n",
    "rhon=0.72         \t\t     # density of air at normal conditions - [kg/m3]\n",
    "R=8314.0       \t\t\t     # universal gas constant [J/kgmol-K]\n",
    "M=18.0    \t\t\t         # gas molar mass [kg/kgmol]\n",
    "pi=3.14         \t\t     # pi\n",
    "T = 293.15      \t\t     # reference temperature [K]\n",
    "Cp = 2.34        \t\t     # heat capacity @ constant pressure [kJ/kg-K]\n",
    "Cv = 1.85        \t\t     # heat capacity @ constant volume [kJ/kg-K]\n",
    "\n",
    "#scaling factors\n",
    "ffac=(1e+6*rhon)/(24*3600)                     # from scmx10-6/day to kg/s\n",
    "ffac2=(3600)/(1e+4*rhon)                       # from kg/s to scmx10-4/hr\n",
    "pfac=1e+5                                      # from bar to Pa\n",
    "pfac2=1e-5                                     # from Pa to bar\n",
    "dfac=1e-3                                      # from mm to m\n",
    "lfac=1e+3;                                      # from km to m"
   ]
  },
  {
   "cell_type": "markdown",
   "metadata": {},
   "source": [
    "## Define sets of nodes and links"
   ]
  },
  {
   "cell_type": "markdown",
   "metadata": {},
   "source": [
    "$\\mathcal{N}$: Set of nodes in the gas network (junctions) \n",
    "\n",
    "$\\mathcal{L}$: Set of links (pipelines)\n",
    "\n",
    "$\\mathcal{S} \\subseteq \\mathcal{N}$: Set of gas supplies\n",
    "\n",
    "$\\mathcal{D} \\subseteq \\mathcal{N}$: Set of gas demands\n",
    "\n",
    "$\\mathcal{L}_a \\subseteq \\mathcal{L}$: Set of active links (pipelines with compressors)\n",
    "\n",
    "$\\mathcal{L}_p \\subseteq \\mathcal{L}$: Set of passive links (pipelines without compressors)"
   ]
  },
  {
   "cell_type": "markdown",
   "metadata": {},
   "source": [
    "## System Equations for our system\n"
   ]
  },
  {
   "cell_type": "markdown",
   "metadata": {},
   "source": [
    "$\\newcommand{\\norm}[1]{\\left\\lvert#1\\right\\rvert}$\n",
    "__Objective__ (Minimize system compressor cost and maximize gas delivery to all demands)\n",
    "\n",
    "$\n",
    "\\min \\varphi:=\\int_{0}^T \\left(\\sum_{\\ell \\in \\mathcal{L}_a}\\alpha_{P}P_\\ell(t) - \\sum_{j \\in \\mathcal{D}}\\alpha_{gas} d_{deliver,j}(t)\\right)dt\n",
    "$\n",
    "\n",
    "\n",
    "__Isothermal Euler Equations__\n",
    "\n",
    "$\n",
    "\\begin{align*}\n",
    "      &\\frac{\\partial p_{\\ell}(t,x)}{\\partial t} + \\frac{c^2}{A_{\\ell}}\\frac{\\partial f_{\\ell}(t,x)}{\\partial x} = 0, \\ \\ \\ell \\in \\mathcal{L}\\\\\n",
    "      &\\frac{\\partial f_{\\ell}(t,x)}{\\partial t} + \\frac{2c^2f_{\\ell}(t,x)}{A_{\\ell}p_{\\ell}(t,x)}\\frac{\\partial f_{\\ell}(t,x)}{\\partial x} - \\frac{c^2f_{\\ell}(t,x)^2}{A_{\\ell}p_{\\ell}(t,x)^2}\\frac{\\partial p_{\\ell}(t,x)}{\\partial x}\n",
    "          + A_{\\ell}\\frac{\\partial p_{\\ell}(t,x)}{\\partial x} = -\\frac{8c^2\\lambda A_{\\ell}}{\\pi^2D_{\\ell}^5}\\frac{f_{\\ell}(t,x)}{p_{\\ell}(t,x)} \\norm{f_{\\ell}(t,x)}, \\ \\ \\ell \\in \\mathcal{L}\n",
    "    \\end{align*}\n",
    "$\n",
    "\n",
    "__Compressor Equations__\n",
    "\n",
    "$\n",
    "\\begin{align*}\n",
    "&P_{\\ell}(t)= c_p\\cdot T\\cdot f_{in,\\ell}(t)\\cdot \\left(\\left(\\frac{p_{in,\\ell}(t)+\\Delta p_{\\ell}(t)}{p_{in,\\ell}(t)}\\right)^{\\frac{\\gamma-1}\n",
    "{\\gamma}}-1\\right),\\ell \\in \\mathcal{L}_a\\\\\n",
    "\\end{align*}\n",
    "$\n",
    "\n",
    "__Boundary Conditions__\n",
    "\n",
    "$\n",
    "\\begin{align*}\n",
    "&p_{\\ell}(0,t)= p_{in,\\ell}(t)+\\Delta p_{\\ell}(t),\\ell \\in \\mathcal{L}_a\\\\\n",
    "&p_{\\ell}(0,t)= p_{in,\\ell}(t),\\ell \\in \\mathcal{L}_p\\\\\n",
    "&p_{\\ell}(L_{\\ell},t)= p_{out,\\ell}(t),\\ell \\in \\mathcal{L}\\\\\n",
    "\\end{align*}\n",
    "$\n",
    "\n",
    "__Node Conservation__\n",
    "\n",
    "$\n",
    "\\begin{align*}\n",
    "&\\sum_{\\ell\\in\\mathcal{L}_n^{rec}}f_{out,\\ell}(t)-\\sum_{\\ell \\in\\mathcal{L}_n^{snd}}f_{in,\\ell}(t) +\n",
    "\\sum_{i\\in\\mathcal{S}_n}g_i(t) - \\sum_{j\\in \\mathcal{D}_n}d_{deliver,j}(t) = 0,\\; n \\in\\mathcal{N}\n",
    "\\end{align*}\n",
    "$\n",
    "\n",
    "__Supply and Demand__\n",
    "\n",
    "$\n",
    "\\begin{align*}\n",
    "&d_{deliver,j}(t) \\le d_{target,j}(t),j \\in \\mathcal{D} \\\\\n",
    "& \\underline{s}_i \\le g_i(t) \\le \\overline{s}_i,i \\in \\mathcal{S}\n",
    "\\end{align*}\n",
    "$"
   ]
  },
  {
   "cell_type": "markdown",
   "metadata": {
    "collapsed": true
   },
   "source": [
    "## Pipeline parameters"
   ]
  },
  {
   "cell_type": "code",
   "execution_count": 3,
   "metadata": {
    "collapsed": true
   },
   "outputs": [],
   "source": [
    "#parameters\n",
    "diameter = 0.92\n",
    "pipe_length = 60000\n",
    "area = (1/4)*pi*diameter*diameter\n",
    "lam = (2*log10(3.7*diameter/(eps*dfac)))^(-2); \n",
    "\n",
    "#other calculated constants\n",
    "gam = Cp/Cv       \t\t     \t# expansion coefficient [-]\n",
    "nu2 = gam*z*R*T/M  \t\t\t    # gas speed of sound\n",
    "om = (gam-1.0)/gam \t\t     \t# aux constant [-]\n",
    "c4 = (1/ffac2)*(Cp*T)\n",
    "#lumped constants for pipeline\n",
    "c1 = (pfac2/ffac2)*(nu2/area)\n",
    "c2 = area*(ffac2/pfac2)\n",
    "c3 = area*(pfac2/ffac2)*(8*lam*nu2)/(pi*pi*diameter^5);"
   ]
  },
  {
   "cell_type": "markdown",
   "metadata": {},
   "source": [
    "## Create time grid, spatial grid, and time horizon for optimization"
   ]
  },
  {
   "cell_type": "code",
   "execution_count": 4,
   "metadata": {
    "collapsed": true
   },
   "outputs": [],
   "source": [
    "horizon = 24*3600;\n",
    "time_grid = 1:24;\n",
    "x_grid = 1:10;\n",
    "dx = pipe_length / (length(x_grid) - 1)   #equally spaced spatial grid points\n",
    "dt = horizon / length(time_grid);         #equally spaced time grid points"
   ]
  },
  {
   "cell_type": "markdown",
   "metadata": {},
   "source": [
    "## Create demand profile data\n",
    "We consider a constant gas demand and introduce a pulse from hours 10 to 15"
   ]
  },
  {
   "cell_type": "code",
   "execution_count": 20,
   "metadata": {},
   "outputs": [
    {
     "data": {
      "image/png": "[encoded data removed]",
      "text/plain": [
       "PyPlot.Figure(PyObject <matplotlib.figure.Figure object at 0x7fc9522d6710>)"
      ]
     },
     "metadata": {},
     "output_type": "display_data"
    }
   ],
   "source": [
    "gas_demands = fill(42.0,length(time_grid))\n",
    "gas_demands[10:15] = 42*1.1\n",
    "step(time_grid,gas_demands,color=\"blue\")\n",
    "ax = gca()\n",
    "ax[:set_xlim]([1,24])\n",
    "xlabel(\"Time\")\n",
    "ylabel(\"Demand requested\")\n",
    "grid(\"on\")"
   ]
  },
  {
   "cell_type": "markdown",
   "metadata": {},
   "source": [
    "## Setup network information"
   ]
  },
  {
   "cell_type": "code",
   "execution_count": 21,
   "metadata": {
    "collapsed": true
   },
   "outputs": [],
   "source": [
    "links = 1:13              #define set of pipelines \n",
    "plinks = [1,13]           #define passive pipelines\n",
    "alinks = collect(2:12)    #define active pipelines\n",
    "nodes = 1:14              #define set of nodes\n",
    "supplies = [1]            #define set of supplies\n",
    "demands = [1]             #define set of demands\n",
    "supply_locs = [1]         #define node location of supply\n",
    "demand_locs = [14]        #define node location of demand \n",
    "lstartloc = collect(1:13) #link start locations\n",
    "lendloc = collect(2:14);  #link end locations"
   ]
  },
  {
   "cell_type": "markdown",
   "metadata": {},
   "source": [
    "## Define pipeline transport variables\n",
    "Notice how we have added a new index to each variable representing its link in the network"
   ]
  },
  {
   "cell_type": "code",
   "execution_count": 7,
   "metadata": {
    "collapsed": true
   },
   "outputs": [],
   "source": [
    "m = Model(solver = IpoptSolver())\n",
    "@variable(m,pin[links,time_grid] >= 0, start = 60)\n",
    "@variable(m,pout[links,time_grid] >= 0, start = 60)\n",
    "@variable(m,fin[links,time_grid] >=0, start = 100)\n",
    "@variable(m,fout[links,time_grid] >= 0, start = 100)\n",
    "@variable(m, px[links,time_grid,x_grid] >= 0, start = 60)\n",
    "@variable(m, fx[links,time_grid,x_grid] >= 0, start = 10)\n",
    "@constraint(m, flow_in[link = links,t = time_grid],  fx[link,t,1] == fin[link,t])\n",
    "@constraint(m, flow_out[link = links,t = time_grid], fx[link,t,x_grid[end]] == fout[link,t]);"
   ]
  },
  {
   "cell_type": "markdown",
   "metadata": {},
   "source": [
    "## Supply and demand variables and constraints"
   ]
  },
  {
   "cell_type": "code",
   "execution_count": 8,
   "metadata": {
    "collapsed": true
   },
   "outputs": [],
   "source": [
    "# supply and demand variables\n",
    "@variable(m, 34 <= pressure[nodes,time_grid] <= 70, start = 60)\n",
    "\n",
    "#Fix supply pressure; give range for demand pressure\n",
    "@constraint(m, fixsupplypressure[n = supply_locs,t = time_grid],pressure[n,t] == 54)\n",
    "@constraint(m, demandpressure[n = demand_locs,t = time_grid], 39 <= pressure[n,t] <= 41)\n",
    "\n",
    "@variable(m,0 <= sgen[supplies,time_grid] <= 125, start = 100)\n",
    "@variable(m,ddeliver[demands,time_grid] >= 0, start = 100)\n",
    "@variable(m, dtarget[demands,time_grid] >= 0)\n",
    "@constraint(m, gasLimit[d = demands,t = time_grid], ddeliver[d,t] <= dtarget[d,t]);\n",
    "@constraint(m, demand[d = demands,t = time_grid], dtarget[d,t] == gas_demands[t]);"
   ]
  },
  {
   "cell_type": "markdown",
   "metadata": {},
   "source": [
    "## Compressor variables and equations"
   ]
  },
  {
   "cell_type": "code",
   "execution_count": 9,
   "metadata": {
    "collapsed": true
   },
   "outputs": [],
   "source": [
    "@variable(m, 1 <= dp[link = alinks,time_grid] <= 20 , start = 10)\n",
    "@variable(m, 1 <= pow[link = alinks,time_grid] <= 5000, start = 500);\n",
    "@NLconstraint(m,powereqn[link = alinks,t = time_grid], \n",
    "pow[link,t] == c4*fin[link,t]*(((pin[link,t]+dp[link,t])/pin[link,t])^om-1));"
   ]
  },
  {
   "cell_type": "markdown",
   "metadata": {},
   "source": [
    "## Define PDE equations\n",
    "Here we define the isothermal euler equations, as well as the appropriate boundary conditions and initial condition for EACH pipeline"
   ]
  },
  {
   "cell_type": "code",
   "execution_count": null,
   "metadata": {
    "collapsed": true
   },
   "outputs": [],
   "source": [
    "#Auxillary variables\n",
    "# @variable(m, slack1[links,time_grid,x_grid] >= 0, start = 10)  #auxiliary variable for friction loss term\n",
    "# @variable(m, slack2[links,time_grid,x_grid] >= 0, start = 10)  #auxiliary variable\n",
    "# @variable(m, slack3[links,time_grid,x_grid] >= 0, start = 10)  #auxiliary variable\n",
    "\n",
    "# #Auxillary constraints (let's us avoid the fractional terms)\n",
    "# @NLconstraint(m, slackeq1[link = links,t = time_grid, x = x_grid],  \n",
    "# slack1[link,t,x]*px[link,t,x] - c3*fx[link,t,x]*fx[link,t,x] == 0)\n",
    "# @NLconstraint(m, slackeq2[link = links,t = time_grid, x = x_grid],  \n",
    "# slack2[link,t,x]*px[link,t,x] - 2*c1*fx[link,t,x] == 0)\n",
    "# @NLconstraint(m, slackeq3[link = links,t = time_grid, x = x_grid],  \n",
    "# slack3[link,t,x]*px[link,t,x]*px[link,t,x] - c1*fx[link,t,x]*fx[link,t,x] == 0)\n",
    "\n",
    "# #PDE equations\n",
    "# @constraint(m, mass[link = links,t = time_grid[1:end-1], x = x_grid[1:end-1]],\n",
    "#     (px[link,t+1,x]-px[link,t,x])/dt + c1*(fx[link,t+1,x+1]-fx[link,t+1,x])/dx == 0 )\n",
    "# @constraint(m, momentum[link = links,t = time_grid[1:end-1], x = x_grid[1:end-1]],\n",
    "#     (fx[link,t+1,x]-fx[link,t,x])/dt == -slack2[link,t+1,x]*(fx[link,t+1,x+1]-fx[link,t+1,x])/dx +\n",
    "#                             slack3[link,t+1,x]*(px[link,t+1,x+1]-px[link,t+1,x])/dx -c2*(px[link,t+1,x+1]-px[link,t+1,x])/dx - slack1[link,t+1,x])\n",
    "#Adiabatic Approximation (This solves ~10x faster than the full euler equations)"
   ]
  },
  {
   "cell_type": "code",
   "execution_count": 10,
   "metadata": {
    "collapsed": true
   },
   "outputs": [],
   "source": [
    "#Auxillary variables\n",
    "\n",
    "@variable(m, slack1[links,time_grid,x_grid] >= 0, start = 10)  #auxiliary variable for friction loss term\n",
    "@NLconstraint(m, slackeq[link = links,t = time_grid, x = x_grid],  slack1[link,t,x]*px[link,t,x] - c3*fx[link,t,x]*fx[link,t,x] == 0)\n",
    "\n",
    "\n",
    "# #PDE equations\n",
    "@constraint(m, mass[link = links,t = time_grid[1:end-1], x = x_grid[1:end-1]], (px[link,t+1,x]-px[link,t,x])/dt + c1*(fx[link,t+1,x+1]-fx[link,t+1,x])/dx == 0 )\n",
    "@constraint(m, momentum[link = links,t = time_grid[1:end-1], x = x_grid[1:end-1]], 0 == -c2*(px[link,t+1,x+1]-px[link,t+1,x])/dx - slack1[link,t+1,x])\n",
    "\n",
    "#Boundary Conditions\n",
    "#@constraint(m,f_in[t = time_grid],  fin[t] == 80)\n",
    "@constraint(m,press_in1[link = plinks,t = time_grid], px[link,t,1] == pin[link,t])\n",
    "@constraint(m,press_in2[link = alinks,t = time_grid], px[link,t,1] == pin[link,t] + dp[link,t])\n",
    "@constraint(m,press_out[link = links,t = time_grid], px[link,t,x_grid[end]] == pout[link,t])\n",
    "@constraint(m,press_boundary1[link = links,t = time_grid],pin[link,t] == pressure[lstartloc[link],t])\n",
    "@constraint(m,press_boundary2[link = links,t = time_grid],pout[link,t] == pressure[lendloc[link],t])\n",
    "\n",
    "#Initial Conditions\n",
    "@constraint(m, mass_ss[link = links,t = 1, x = x_grid[1:end-1]],\n",
    "(fx[link,t,x+1] - fx[link,t,x]) == 0)\n",
    "@constraint(m, momentum_ss[link = links,t = 1, x = x_grid[1:end-1]], \n",
    "-c2*(px[link,t,x+1] - px[link,t,x])/dx - slack1[link,t,x] == 0);"
   ]
  },
  {
   "cell_type": "markdown",
   "metadata": {},
   "source": [
    "## Node conservation\n",
    "We now introduce a mass balance for gas around each node in the network"
   ]
  },
  {
   "cell_type": "code",
   "execution_count": 11,
   "metadata": {
    "collapsed": true
   },
   "outputs": [],
   "source": [
    "# node balances\n",
    "@constraint(m,nodebalance[node = nodes,t = time_grid],\n",
    "sum(fout[link,t] for link in links if lendloc[link] == node)\n",
    "+ sum(sgen[supply,t] for supply in supplies if supply_locs[supply] == node)\n",
    "- sum(fin[link,t] for link in links if lstartloc[link] == node)\n",
    "- sum(ddeliver[demand,t] for demand in demands if demand_locs[demand] == node) == 0);"
   ]
  },
  {
   "cell_type": "markdown",
   "metadata": {},
   "source": [
    "## Periodic terminal constraint\n",
    "This avoids solutions that deplete the mass of gas in the pipeline"
   ]
  },
  {
   "cell_type": "code",
   "execution_count": 12,
   "metadata": {
    "collapsed": true
   },
   "outputs": [],
   "source": [
    "#Periodic terminal constraint\n",
    "@variable(m,linepack[links,time_grid])\n",
    "@constraint(m,linepack_def[link = links,t = time_grid],linepack[link,t] == sum(fx[link,t,x] for x in x_grid)*dx);\n",
    "@constraint(m,linepack_cons[link = links], linepack[link,time_grid[end]] >= linepack[link,time_grid[1]]);"
   ]
  },
  {
   "cell_type": "markdown",
   "metadata": {},
   "source": [
    "## Objective function terms"
   ]
  },
  {
   "cell_type": "code",
   "execution_count": 13,
   "metadata": {
    "collapsed": true
   },
   "outputs": [],
   "source": [
    "compressor_cost = 0.1\n",
    "@variable(m, powercost[alinks])\n",
    "@constraint(m,boostcosteqn[link = alinks], powercost[link] == sum(compressor_cost*pow[link,t] for t = time_grid)*dt/3600)\n",
    "\n",
    "gas_cost = 1000\n",
    "@variable(m, demandcost[demands])\n",
    "@constraint(m, integratedGasCost[d = demands], demandcost[d] == sum(gas_cost*ddeliver[d,t] for t = time_grid));"
   ]
  },
  {
   "cell_type": "markdown",
   "metadata": {},
   "source": [
    "## Objective function\n",
    "Minimize total compressor power and maximize total gas delivered throughout the network"
   ]
  },
  {
   "cell_type": "code",
   "execution_count": 14,
   "metadata": {
    "collapsed": true
   },
   "outputs": [],
   "source": [
    "@objective(m,Min,sum(powercost[link] for link in alinks) - sum(demandcost[d] for d in demands));"
   ]
  },
  {
   "cell_type": "markdown",
   "metadata": {},
   "source": [
    "## Solve problem"
   ]
  },
  {
   "cell_type": "code",
   "execution_count": null,
   "metadata": {
    "collapsed": true
   },
   "outputs": [],
   "source": [
    "solve(m)"
   ]
  },
  {
   "cell_type": "code",
   "execution_count": null,
   "metadata": {
    "collapsed": true
   },
   "outputs": [],
   "source": [
    "d_profile = getvalue(ddeliver)\n",
    "step(time_grid,d_profile[:],color=\"red\")\n",
    "ax = gca()\n",
    "ax[:set_xlim]([1,24])\n",
    "xlabel(\"Time\")\n",
    "ylabel(\"Demand delivered\")\n",
    "grid(\"on\")"
   ]
  },
  {
   "cell_type": "code",
   "execution_count": null,
   "metadata": {
    "collapsed": true
   },
   "outputs": [],
   "source": [
    "getvalue(m[:px])"
   ]
  },
  {
   "cell_type": "code",
   "execution_count": null,
   "metadata": {
    "collapsed": true
   },
   "outputs": [],
   "source": []
  }
 ],
 "metadata": {
  "kernelspec": {
   "display_name": "Julia 0.5.0",
   "language": "julia",
   "name": "julia-0.5"
  },
  "language_info": {
   "file_extension": ".jl",
   "mimetype": "application/julia",
   "name": "julia",
   "version": "0.5.0"
  }
 },
 "nbformat": 4,
 "nbformat_minor": 2
}
