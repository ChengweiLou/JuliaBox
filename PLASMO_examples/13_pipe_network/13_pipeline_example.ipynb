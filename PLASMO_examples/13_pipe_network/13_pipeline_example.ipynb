{
 "cells": [
  {
   "cell_type": "markdown",
   "metadata": {},
   "source": [
    "13 Pipeline Example Demonstrating PLASMO Functionality"
   ]
  },
  {
   "cell_type": "markdown",
   "metadata": {},
   "source": [
    "First, import all of our pacakages"
   ]
  },
  {
   "cell_type": "code",
   "execution_count": 2,
   "metadata": {
    "collapsed": false
   },
   "outputs": [],
   "source": [
    "push!(LOAD_PATH, pwd());\n",
    "include(\"../src/PlaSMO_debug.jl\");\n",
    "include(\"../gas_components.jl\");"
   ]
  },
  {
   "cell_type": "markdown",
   "metadata": {},
   "source": [
    "Define function for:\n",
    "- Fixing gas demands\n",
    "- Fixing supply pressures\n",
    "- Creating the 13 pipeline network using data files containing parameters and topology"
   ]
  },
  {
   "cell_type": "code",
   "execution_count": 3,
   "metadata": {
    "collapsed": false
   },
   "outputs": [
    {
     "data": {
      "text/plain": [
       "create_13_pipe_network (generic function with 1 method)"
      ]
     },
     "execution_count": 3,
     "metadata": {},
     "output_type": "execute_result"
    }
   ],
   "source": [
    "#fix supply pressures\n",
    "function fix_supply_pressure!(m::JuMP.Model,supply_nodes::Any,spressure::Number)\n",
    "    for supply in supply_nodes\n",
    "        junction = neighbors_out(supply)[1]\n",
    "        pressure = getvariable(junction,:pressure)\n",
    "        @constraint(m,fix_pressure[t = time_grid],pressure[t] == spressure)\n",
    "    end\n",
    "end\n",
    "\n",
    "function fix_demands!(m::JuMP.Model,demand_nodes,demand_matrix)\n",
    "    i = 1\n",
    "    for node in demand_nodes\n",
    "        stoch_data = demand_matrix[i,:]\n",
    "        i += 1\n",
    "        demand = getvariable(node,:fdemand)\n",
    "        @constraint(m, fix_dem[t = time_grid],demand[t] == stoch_data[t])\n",
    "    end\n",
    "end\n",
    "\n",
    "function create_13_pipe_network(node_data,link_data,supply_data,demand_data,time_grid,x_grid,horizon)\n",
    "    #Create the top level gas network\n",
    "    network = Graph()\n",
    "\n",
    "    #create a dictionary to keep track of nodes {node_name:node_object}\n",
    "    nodeDict = Dict()\n",
    "\n",
    "    #Create the individual gas systems\n",
    "    for row in node_data\n",
    "        pmin = row[\"pmin\"]\n",
    "        pmax = row[\"pmax\"]\n",
    "        pstart = (pmin + pmax)/2\n",
    "        jdata = JunctionData(time_grid,pmin,pmax,pstart)  #time grid, p_low,p_high,p_start\n",
    "        node = addnode!(network)\n",
    "        #addattribute!(node,:jdata,jdata)\n",
    "        gassystem = GasSystem(jdata)\n",
    "        nodeDict[row[\"NODE\"]] = gassystem\n",
    "        addgraph!(node,getgraph(gassystem))  #add a gas junction system to the node\n",
    "        setcouplingfunction(network,gassystem.junction,couplegasnode!)\n",
    "    end\n",
    "\n",
    "    #Create gas supplies and connect them to their corresponding gas nodes\n",
    "    #supply_locations = []\n",
    "    supply_nodes = []\n",
    "    for row in supply_data\n",
    "        supply_location = row[\"sloc\"]                #get the supply node location\n",
    "        s_min =  row[\"smin\"]\n",
    "        s_max = row[\"smax\"]*ffac*ffac2\n",
    "        gassystem = nodeDict[supply_location]\n",
    "        sdata = SupplyData(time_grid,0,s_min,s_max)\n",
    "        snode = addsupply!(gassystem,sdata)\n",
    "        addattribute!(snode,:sdata,sdata)\n",
    "        push!(supply_nodes,snode)\n",
    "    end\n",
    "\n",
    "    #create the gas demands and connect them\n",
    "    demand_nodes = []\n",
    "    for row in demand_data\n",
    "        demand_location = row[\"dloc\"]\n",
    "        gassystem = nodeDict[demand_location]\n",
    "        ddata = DemandData(time_grid,-1000)\n",
    "        dnode = adddemand!(gassystem,ddata)\n",
    "        addattribute!(dnode,:ddata,ddata)\n",
    "        push!(demand_nodes,dnode)\n",
    "    end\n",
    "\n",
    "    #create all the links\n",
    "    for row in link_data\n",
    "        start_junction = nodeDict[row[\"lstartloc\"]]  #get the starting gas node\n",
    "        end_junction = nodeDict[row[\"lendloc\"]]      #get the ending gas node\n",
    "        diameter = row[\"ldiam\"]*dfac\n",
    "        llength = row[\"llength\"]*lfac\n",
    "        min_pressure = 0\n",
    "        max_pressure = 100\n",
    "        min_flow = 0\n",
    "        max_flow = 100\n",
    "        dpmin = 0\n",
    "        dpmax = 100\n",
    "        min_power = 0\n",
    "        max_power = 3000\n",
    "        comp_cost = 0.1\n",
    "\n",
    "        pdata = PipeData(llength,diameter,time_grid,x_grid,min_pressure,max_pressure,min_flow,max_flow)\n",
    "        cdata = CompData(dpmin,dpmax,min_power,max_power,comp_cost)\n",
    "        link = Edge(network,start_junction.junction,end_junction.junction)  #connect junctions with pipelines\n",
    "        #add attributes to the link to reference them easily later\n",
    "        addattribute!(link,:pdata,pdata)\n",
    "        if row[\"ltype\"] == \"a\"\n",
    "            setmodel!(link,ssactivelink(pdata,cdata))\n",
    "            addattribute!(link,:cdata,cdata)\n",
    "        elseif row[\"ltype\"] == \"p\"\n",
    "            setmodel!(link,sspassivelink(pdata))\n",
    "        else\n",
    "            error(\"link type should be either a (active) or p (passive)\")\n",
    "        end\n",
    "        setcouplingfunction(network,link,couplelink!)\n",
    "    end\n",
    "    return network,supply_nodes,demand_nodes\n",
    "end\n"
   ]
  },
  {
   "cell_type": "markdown",
   "metadata": {},
   "source": [
    "Include files containing some parsing and plotting functions"
   ]
  },
  {
   "cell_type": "code",
   "execution_count": 5,
   "metadata": {
    "collapsed": false
   },
   "outputs": [],
   "source": [
    "include(\"../parse_input_data.jl\");\n",
    "include(\"../write_outputs.jl\");\n",
    "include(\"plot_13_pipe.jl\");"
   ]
  },
  {
   "cell_type": "markdown",
   "metadata": {},
   "source": [
    "Now create the network from our data"
   ]
  },
  {
   "cell_type": "code",
   "execution_count": 6,
   "metadata": {
    "collapsed": false
   },
   "outputs": [
    {
     "data": {
      "text/plain": [
       "(graph##9128,Any[node2],Any[node2])"
      ]
     },
     "execution_count": 6,
     "metadata": {},
     "output_type": "execute_result"
    }
   ],
   "source": [
    "time_grid = 1:24  #24 hour horizon\n",
    "x_grid = 1:3      #3 grid points in every pipeline\n",
    "const horizon = 24*3600  #the horizon is in seconds\n",
    "\n",
    "#Read data files for nodes, links, supplies, and demands\n",
    "nodeinfo = readdlm(\"DAT_13pipe_GAS/nodeinfo.tab\")\n",
    "linkinfo = readdlm(\"DAT_13pipe_GAS/linkinfo.tab\")\n",
    "supplyinfo = readdlm(\"DAT_13pipe_GAS/supinfo.tab\")\n",
    "demandinfo = readdlm(\"DAT_13pipe_GAS/demandinfo.tab\")\n",
    "\n",
    "#Parse the data into dictionaries\n",
    "node_data = parsedlm(nodeinfo)\n",
    "link_data = parsedlm(linkinfo)\n",
    "supply_data = parsedlm(supplyinfo)\n",
    "demand_data = parsedlm(demandinfo)\n",
    "\n",
    "#create the network using our 13 pipe function\n",
    "gas_network,supply_nodes,demand_nodes = create_13_pipe_network(node_data,link_data,supply_data,demand_data,time_grid,x_grid,horizon)\n"
   ]
  },
  {
   "cell_type": "markdown",
   "metadata": {},
   "source": [
    "Solve the 13 pipeline model"
   ]
  },
  {
   "cell_type": "code",
   "execution_count": 8,
   "metadata": {
    "collapsed": false
   },
   "outputs": [
    {
     "name": "stdout",
     "output_type": "stream",
     "text": [
      "\n",
      "******************************************************************************\n",
      "This program contains Ipopt, a library for large-scale nonlinear optimization.\n",
      " Ipopt is released as open source code under the Eclipse Public License (EPL).\n",
      "         For more information visit http://projects.coin-or.org/Ipopt\n",
      "******************************************************************************\n",
      "\n",
      "This is Ipopt version trunk, running with linear solver ma57.\n",
      "\n",
      "Number of nonzeros in equality constraint Jacobian...:    12347\n",
      "Number of nonzeros in inequality constraint Jacobian.:       48\n",
      "Number of nonzeros in Lagrangian Hessian.............:     4896\n",
      "\n",
      "Total number of variables............................:     5267\n",
      "                     variables with only lower bounds:     2688\n",
      "                variables with lower and upper bounds:     2544\n",
      "                     variables with only upper bounds:        0\n",
      "Total number of equality constraints.................:     5003\n",
      "Total number of inequality constraints...............:       24\n",
      "        inequality constraints with only lower bounds:        0\n",
      "   inequality constraints with lower and upper bounds:        0\n",
      "        inequality constraints with only upper bounds:       24\n",
      "\n",
      "iter    objective    inf_pr   inf_du lg(mu)  ||d||  lg(rg) alpha_du alpha_pr  ls\n",
      "   0  0.0000000e+00 2.40e+06 1.00e+00  -1.0 0.00e+00    -  0.00e+00 0.00e+00   0\n",
      "   1 -3.7396392e+05 2.40e+04 4.11e+03  -1.0 3.92e+05    -  2.38e-04 9.90e-01f  1\n",
      "   2 -4.7641356e+05 2.07e+04 3.56e+03  -1.0 7.68e+05    -  2.76e-02 1.36e-01f  1\n",
      "   3 -4.9008275e+05 2.04e+04 3.50e+03  -1.0 8.35e+05    -  3.69e-01 1.67e-02f  1\n",
      "   4 -9.6049177e+05 1.17e+04 2.01e+03  -1.0 1.14e+06    -  2.58e-01 4.24e-01f  1\n",
      "   5 -9.6517068e+05 1.16e+04 2.00e+03  -1.0 6.04e+05    -  5.18e-01 8.01e-03f  1\n",
      "   6 -9.6597868e+05 1.13e+04 1.93e+03  -1.0 6.27e+03    -  4.47e-01 3.37e-02f  1\n",
      "   7 -9.7230546e+05 6.96e+03 1.19e+03  -1.0 8.67e+03    -  2.70e-01 3.81e-01f  1\n",
      "   8 -9.7239583e+05 6.91e+03 3.42e+03  -1.0 4.55e+03    -  7.41e-01 7.42e-03f  1\n",
      "   9 -9.8157650e+05 2.19e+03 3.75e+02  -1.0 5.40e+03    -  3.99e-01 6.83e-01f  1\n",
      "iter    objective    inf_pr   inf_du lg(mu)  ||d||  lg(rg) alpha_du alpha_pr  ls\n",
      "  10 -9.8744574e+05 3.00e+02 6.30e+03  -1.0 1.53e+03    -  2.86e-01 8.63e-01f  1\n",
      "  11 -9.8818808e+05 2.00e+02 2.53e+04  -1.0 2.81e+03    -  6.54e-02 3.31e-01f  1\n",
      "  12 -9.8880426e+05 1.36e+02 1.95e+04  -1.0 5.32e+03    -  3.02e-01 3.22e-01f  1\n",
      "  13 -9.8929478e+05 7.64e+01 2.05e+03  -1.0 4.84e+03    -  5.13e-01 4.38e-01f  1\n",
      "  14 -9.8956089e+05 4.63e+01 1.19e+05  -1.0 3.64e+03    -  1.49e-01 5.47e-01f  1\n",
      "  15 -9.8971914e+05 3.54e+01 1.91e+05  -1.0 3.82e+03    -  7.59e-02 2.33e-01f  1\n",
      "  16 -9.8990809e+05 2.87e+01 2.76e+04  -1.0 6.12e+03    -  3.53e-01 1.98e-01f  1\n",
      "  17 -9.9025679e+05 5.05e+01 7.90e+03  -1.0 5.45e+03    -  5.32e-01 5.27e-01f  1\n",
      "  18 -9.9029925e+05 5.04e+01 4.94e+05  -1.0 3.13e+03    -  1.00e+00 7.12e-01h  1\n",
      "  19 -9.9020746e+05 3.81e+00 5.24e-02  -1.0 9.04e+02    -  1.00e+00 1.00e+00h  1\n",
      "iter    objective    inf_pr   inf_du lg(mu)  ||d||  lg(rg) alpha_du alpha_pr  ls\n",
      "  20 -9.9026099e+05 2.03e+00 2.12e-02  -1.7 5.55e+02    -  1.00e+00 1.00e+00f  1\n",
      "  21 -9.9026316e+05 1.97e-01 1.57e-03  -1.7 1.44e+02    -  1.00e+00 1.00e+00h  1\n",
      "  22 -9.9027110e+05 1.19e-02 6.98e-05  -2.5 2.67e+01    -  1.00e+00 1.00e+00f  1\n",
      "  23 -9.9027234e+05 3.65e-04 2.04e-06  -3.8 5.26e+00    -  1.00e+00 1.00e+00f  1\n",
      "  24 -9.9027240e+05 1.06e-06 5.91e-09  -5.7 2.85e-01    -  1.00e+00 1.00e+00h  1\n",
      "  25 -9.9027240e+05 1.05e-09 5.73e-10  -7.0 3.20e-03    -  1.00e+00 1.00e+00h  1\n",
      "\n",
      "Number of Iterations....: 25\n",
      "\n",
      "                                   (scaled)                 (unscaled)\n",
      "Objective...............:  -9.9027240466447745e+05   -9.9027240466447745e+05\n",
      "Dual infeasibility......:   5.7317807657447180e-10    5.7317807657447180e-10\n",
      "Constraint violation....:   1.0477378964424134e-10    1.0477378964424133e-09\n",
      "Complementarity.........:   1.1483007307185226e-07    1.1483007307185226e-07\n",
      "Overall NLP error.......:   1.1483007307185226e-07    1.1483007307185226e-07\n",
      "\n",
      "\n",
      "Number of objective function evaluations             = 26\n",
      "Number of objective gradient evaluations             = 26\n",
      "Number of equality constraint evaluations            = 26\n",
      "Number of inequality constraint evaluations          = 26\n",
      "Number of equality constraint Jacobian evaluations   = 26\n",
      "Number of inequality constraint Jacobian evaluations = 26\n",
      "Number of Lagrangian Hessian evaluations             = 25\n",
      "Total CPU secs in IPOPT (w/o function evaluations)   =      0.481\n",
      "Total CPU secs in NLP function evaluations           =      0.114\n",
      "\n",
      "EXIT: Optimal Solution Found.\n"
     ]
    },
    {
     "data": {
      "text/plain": [
       ":Optimal"
      ]
     },
     "execution_count": 8,
     "metadata": {},
     "output_type": "execute_result"
    }
   ],
   "source": [
    "using Ipopt\n",
    "#generate an array of some constant demands\n",
    "demand = fill(10*ffac*ffac2,1,48)\n",
    "#Create the flattened model of the gas network\n",
    "m = generatemodel!(gas_network)\n",
    "\n",
    "# NOTE: We could have fixed demands and pressures before generating the flat model, but we can keep the graph more general if we just fix data afterwards\n",
    "fix_demands!(m,demand_nodes,demand) #fix all the demand node demands using our fix_demands function\n",
    "fix_supply_pressure!(m,supply_nodes,54) #fix all the supply pressures using our function\n",
    "\n",
    "#Set the solver and solve the nonlinear program\n",
    "m.solver = IpoptSolver(linear_solver = \"ma57\", tol = 1E-6)\n",
    "solve(m)"
   ]
  },
  {
   "cell_type": "markdown",
   "metadata": {},
   "source": [
    "Write out and plot the results"
   ]
  },
  {
   "cell_type": "code",
   "execution_count": 9,
   "metadata": {
    "collapsed": false
   },
   "outputs": [
    {
     "data": {
      "image/png": "[encoded data removed]",
      "text/plain": [
       "PyPlot.Figure(PyObject <matplotlib.figure.Figure object at 0x7f00bd6ef0b8>)"
      ]
     },
     "metadata": {},
     "output_type": "display_data"
    }
   ],
   "source": [
    "#write the results\n",
    "fpath = \"./results/gas_delivered.tab\"\n",
    "write_gasnet_data(gas_network,length(x_grid),length(time_grid))\n",
    "#write_gas_delivered(demand_nodes,fpath)\n",
    "plot_13_pipe(press_profile,length(x_grid),length(time_grid))"
   ]
  },
  {
   "cell_type": "code",
   "execution_count": null,
   "metadata": {
    "collapsed": true
   },
   "outputs": [],
   "source": []
  }
 ],
 "metadata": {
  "anaconda-cloud": {},
  "kernelspec": {
   "display_name": "Julia 0.4.5",
   "language": "julia",
   "name": "julia-0.4"
  },
  "language_info": {
   "file_extension": ".jl",
   "mimetype": "application/julia",
   "name": "julia",
   "version": "0.4.5"
  }
 },
 "nbformat": 4,
 "nbformat_minor": 0
}
