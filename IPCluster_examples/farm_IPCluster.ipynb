{
 "cells": [
  {
   "cell_type": "code",
   "execution_count": 1,
   "metadata": {
    "collapsed": true
   },
   "outputs": [],
   "source": [
    "push!(LOAD_PATH, pwd())\n",
    "include(\"ClusterIPM.jl\")\n",
    "using StochJuMP\n",
    "using JuMP\n",
    "using Distributions\n",
    "using Ipopt"
   ]
  },
  {
   "cell_type": "code",
   "execution_count": 2,
   "metadata": {
    "collapsed": false
   },
   "outputs": [
    {
     "data": {
      "text/plain": [
       "10000-element Array{Float64,1}:\n",
       " 25.9513 \n",
       " 30.2409 \n",
       " 25.7133 \n",
       " 22.2971 \n",
       " 18.0166 \n",
       " 16.6764 \n",
       " 24.9048 \n",
       " 19.6226 \n",
       " 21.3691 \n",
       " 19.0289 \n",
       " 18.3032 \n",
       " 15.7806 \n",
       " 15.5553 \n",
       "  ⋮      \n",
       " 19.9427 \n",
       " 30.9726 \n",
       " 18.7831 \n",
       " 23.764  \n",
       " 17.8116 \n",
       " 17.3358 \n",
       " 22.5606 \n",
       " 13.6795 \n",
       " 19.6387 \n",
       " 16.5273 \n",
       " 16.2417 \n",
       "  8.19846"
      ]
     },
     "execution_count": 2,
     "metadata": {},
     "output_type": "execute_result"
    }
   ],
   "source": [
    "# Parameters\n",
    "NS = 10000;                 # number of scenarios\n",
    "S = collect(1:NS)          # scenario set\n",
    "P = collect(1:3)           # set of crops (1=wheat,2=corn,3=beets)\n",
    "\n",
    "prcost = zeros(3)\n",
    "prcost[1] = 150\n",
    "prcost[2] = 230\n",
    "prcost[3] = 260\n",
    "\n",
    "pcost = zeros(3)\n",
    "pcost[1] = 238\n",
    "pcost[2] = 210\n",
    "pcost[3] = 0\n",
    "\n",
    "scost = zeros(3)\n",
    "scost[1] = 170\n",
    "scost[2] = 150\n",
    "scost[3] = 36\n",
    "\n",
    "demand = zeros(3)\n",
    "demand[1] = 200\n",
    "demand[2] = 240\n",
    "demand[3] = 0;\n",
    "\n",
    "# assign random data\n",
    "yield = zeros(length(S),3)\n",
    "yield[S,1] = 2.5\n",
    "yield[S,2] = 3.0\n",
    "srand(123)\n",
    "μ = 20; σ = 5\n",
    "d = Normal(μ,σ)\n",
    "yield[S,3] = rand(d,NS)"
   ]
  },
  {
   "cell_type": "code",
   "execution_count": 3,
   "metadata": {
    "collapsed": false
   },
   "outputs": [
    {
     "name": "stdout",
     "output_type": "stream",
     "text": [
      "\n",
      "******************************************************************************\n",
      "This program contains Ipopt, a library for large-scale nonlinear optimization.\n",
      " Ipopt is released as open source code under the Eclipse Public License (EPL).\n",
      "         For more information visit http://projects.coin-or.org/Ipopt\n",
      "******************************************************************************\n",
      "\n",
      "This is Ipopt version 3.12.4, running with linear solver ma27.\n",
      "\n",
      "Number of nonzeros in equality constraint Jacobian...:   149997\n",
      "Number of nonzeros in inequality constraint Jacobian.:   140000\n",
      "Number of nonzeros in Lagrangian Hessian.............:        0\n",
      "\n",
      "Total number of variables............................:   100000\n",
      "                     variables with only lower bounds:    90000\n",
      "                variables with lower and upper bounds:        0\n",
      "                     variables with only upper bounds:        0\n",
      "Total number of equality constraints.................:    40000\n",
      "Total number of inequality constraints...............:    60000\n",
      "        inequality constraints with only lower bounds:    30000\n",
      "   inequality constraints with lower and upper bounds:        0\n",
      "        inequality constraints with only upper bounds:    30000\n",
      "\n",
      "iter    objective    inf_pr   inf_du lg(mu)  ||d||  lg(rg) alpha_du alpha_pr  ls\n",
      "   0  0.0000000e+00 2.40e+02 1.00e+00  -1.0 0.00e+00    -  0.00e+00 0.00e+00   0\n",
      "   1  1.8702538e+01 2.40e+02 2.97e+00  -1.0 1.83e+03    -  3.41e-03 1.02e-02h  1\n",
      "   2  3.0820217e+02 2.38e+02 5.85e+00  -1.0 3.12e+04    -  4.62e-04 9.29e-03f  1\n",
      "   3  8.3128377e+03 1.75e+02 4.31e+00  -1.0 3.02e+04    -  2.49e-02 2.65e-01f  1\n",
      "   4  1.2022651e+04 1.45e+02 6.63e+00  -1.0 2.22e+04    -  5.97e-01 1.67e-01h  1\n",
      "   5  1.3571976e+04 1.33e+02 1.73e+01  -1.0 1.86e+04    -  5.07e-01 8.35e-02f  1\n",
      "   6  2.6119466e+04 3.60e+01 4.29e+00  -1.0 1.73e+04    -  3.31e-01 7.28e-01f  1\n",
      "   7  2.7074603e+04 2.91e+01 2.96e+01  -1.0 5.57e+03    -  6.45e-01 1.88e-01f  1\n",
      "   8  2.7443470e+04 2.66e+01 4.76e+01  -1.0 4.71e+03    -  3.30e-01 8.08e-02f  1\n",
      "   9  2.7729039e+04 2.46e+01 7.62e+01  -1.0 4.41e+03    -  4.22e-01 6.76e-02f  1\n",
      "iter    objective    inf_pr   inf_du lg(mu)  ||d||  lg(rg) alpha_du alpha_pr  ls\n",
      "  10  2.7773984e+04 2.43e+01 9.14e+01  -1.0 4.04e+03    -  1.81e-01 1.20e-02f  1\n",
      "  11  3.0668342e+04 8.81e-01 3.75e+01  -1.0 3.84e+03    -  3.11e-01 8.42e-01f  1\n",
      "  12  3.0350931e+04 1.03e-01 1.44e+02  -1.0 3.21e+03    -  4.24e-01 1.35e-01f  1\n",
      "  13 -5.9328966e+04 3.54e-02 2.94e+02  -1.0 1.40e+05    -  1.66e-01 6.56e-01f  1\n",
      "  14 -5.8902872e+04 2.17e-02 4.67e+02  -1.0 3.48e+03    -  7.21e-01 3.88e-01f  1\n",
      "  15 -6.2764332e+04 7.48e-03 1.17e+03  -1.0 3.35e+04    -  1.34e-01 6.55e-01f  1\n",
      "  16 -7.3519094e+04 3.10e-03 1.92e+03  -1.0 9.05e+04    -  2.76e-01 5.86e-01f  1\n",
      "  17 -8.4764242e+04 1.86e-03 3.44e+02  -1.0 1.34e+05    -  6.85e-01 4.01e-01f  1\n",
      "  18 -8.5299310e+04 1.79e-03 2.80e+02  -1.0 5.68e+04    -  1.64e-02 3.42e-02f  1\n",
      "  19 -8.6791539e+04 1.62e-03 8.49e+01  -1.0 5.26e+04    -  4.25e-02 9.87e-02f  1\n",
      "iter    objective    inf_pr   inf_du lg(mu)  ||d||  lg(rg) alpha_du alpha_pr  ls\n",
      "  20 -8.8666577e+04 1.38e-03 2.10e+02  -1.0 4.17e+04    -  5.31e-02 1.44e-01f  1\n",
      "  21 -9.0421078e+04 1.15e-03 4.81e+02  -1.0 3.16e+04    -  7.81e-02 1.72e-01f  1\n",
      "  22 -9.2042624e+04 9.03e-04 7.46e+02  -1.0 2.48e+04    -  1.05e-01 2.12e-01f  1\n",
      "  23 -9.3433031e+04 6.77e-04 9.75e+02  -1.0 1.94e+04    -  1.34e-01 2.50e-01f  1\n",
      "  24 -9.4570865e+04 4.88e-04 1.14e+03  -1.0 1.58e+04    -  1.60e-01 2.79e-01f  1\n",
      "  25 -9.5461016e+04 3.32e-04 1.24e+03  -1.0 1.25e+04    -  1.94e-01 3.19e-01f  1\n",
      "  26 -9.6123730e+04 2.13e-04 1.27e+03  -1.0 9.93e+03    -  2.31e-01 3.59e-01f  1\n",
      "  27 -9.6594027e+04 1.29e-04 1.24e+03  -1.0 8.13e+03    -  2.65e-01 3.94e-01f  1\n",
      "  28 -9.6924766e+04 7.06e-05 1.16e+03  -1.0 6.48e+03    -  3.14e-01 4.53e-01f  1\n",
      "  29 -9.7031263e+04 4.88e-05 4.35e+02  -1.0 4.65e+03    -  4.20e-01 3.09e-01f  2\n",
      "iter    objective    inf_pr   inf_du lg(mu)  ||d||  lg(rg) alpha_du alpha_pr  ls\n",
      "  30 -9.7229359e+04 1.51e-05 4.74e+02  -1.0 4.21e+03    -  5.55e-01 6.90e-01h  1\n",
      "  31 -9.7258675e+04 5.44e-06 2.44e+02  -1.0 2.29e+03    -  8.99e-01 1.00e+00h  1\n",
      "  32 -9.7262446e+04 4.98e-06 1.00e-06  -1.0 7.01e+02    -  1.00e+00 1.00e+00h  1\n",
      "  33 -1.0090267e+05 2.39e-06 5.30e-01  -3.8 8.51e+03    -  6.97e-01 5.19e-01f  1\n",
      "  34 -1.0228448e+05 1.40e-06 6.25e-01  -3.8 4.06e+03    -  5.11e-01 4.11e-01f  1\n",
      "  35 -1.0307901e+05 8.34e-07 6.96e-01  -3.8 2.43e+03    -  4.99e-01 4.01e-01f  1\n",
      "  36 -1.0354883e+05 4.98e-07 7.46e-01  -3.8 1.46e+03    -  4.93e-01 3.97e-01f  1\n",
      "  37 -1.0382699e+05 2.99e-07 7.69e-01  -3.8 8.86e+02    -  4.82e-01 3.90e-01f  1\n",
      "  38 -1.0398753e+05 1.84e-07 7.55e-01  -3.8 5.51e+02    -  4.48e-01 3.70e-01f  1\n",
      "  39 -1.0407942e+05 1.18e-07 6.81e-01  -3.8 3.61e+02    -  3.87e-01 3.36e-01f  1\n",
      "iter    objective    inf_pr   inf_du lg(mu)  ||d||  lg(rg) alpha_du alpha_pr  ls\n",
      "  40 -1.0414425e+05 7.15e-08 6.90e-01  -3.8 2.34e+02    -  4.27e-01 3.57e-01f  1\n",
      "  41 -1.0418147e+05 4.48e-08 6.81e-01  -3.8 1.59e+02    -  3.77e-01 3.18e-01f  1\n",
      "  42 -1.0420748e+05 2.62e-08 4.57e-01  -3.8 1.13e+02    -  3.26e-01 3.26e-01f  1\n",
      "  43 -1.0424892e+05 1.07e-10 1.85e+00  -3.8 8.26e+01    -  2.64e-01 7.72e-01f  1\n",
      "  44 -1.0426116e+05 1.16e-10 2.00e+00  -3.8 1.50e+01    -  6.76e-01 1.00e+00f  1\n",
      "  45 -1.0426116e+05 8.73e-11 2.87e-01  -3.8 5.26e+00    -  1.00e+00 9.34e-01h  1\n",
      "  46 -1.0426116e+05 8.73e-11 1.51e-09  -3.8 3.16e+00    -  1.00e+00 1.00e+00f  1\n",
      "  47 -1.0426913e+05 5.82e-11 3.64e+01  -8.6 1.23e+01    -  8.87e-01 7.57e-01f  1\n",
      "  48 -1.0427096e+05 5.82e-11 6.79e+01  -8.6 2.77e+00    -  9.48e-01 7.14e-01f  1\n",
      "  49 -1.0427161e+05 8.73e-11 6.21e+00  -8.6 1.40e+00    -  8.32e-01 8.94e-01f  1\n",
      "iter    objective    inf_pr   inf_du lg(mu)  ||d||  lg(rg) alpha_du alpha_pr  ls\n",
      "  50 -1.0427169e+05 8.73e-11 3.64e-12  -8.6 8.20e-02    -  1.00e+00 1.00e+00f  1\n",
      "\n",
      "Number of Iterations....: 50\n",
      "\n",
      "                                   (scaled)                 (unscaled)\n",
      "Objective...............:  -1.0427168877354328e+05   -1.0427168877354328e+05\n",
      "Dual infeasibility......:   3.6379788070917130e-12    3.6379788070917130e-12\n",
      "Constraint violation....:   3.3581342834692738e-11    8.7311491370201111e-11\n",
      "Complementarity.........:   2.1264588613484530e-08    2.1264588613484530e-08\n",
      "Overall NLP error.......:   8.4745674363900713e-10    2.1264588613484530e-08\n",
      "\n",
      "\n",
      "Number of objective function evaluations             = 52\n",
      "Number of objective gradient evaluations             = 51\n",
      "Number of equality constraint evaluations            = 52\n",
      "Number of inequality constraint evaluations          = 52\n",
      "Number of equality constraint Jacobian evaluations   = 51\n",
      "Number of inequality constraint Jacobian evaluations = 51\n",
      "Number of Lagrangian Hessian evaluations             = 50\n",
      "Total CPU secs in IPOPT (w/o function evaluations)   =      6.583\n",
      "Total CPU secs in NLP function evaluations           =      0.207\n",
      "\n",
      "EXIT: Optimal Solution Found.\n"
     ]
    },
    {
     "data": {
      "text/plain": [
       ":Optimal"
      ]
     },
     "execution_count": 3,
     "metadata": {},
     "output_type": "execute_result"
    }
   ],
   "source": [
    "# build the model and solve with IPOPT\n",
    "m = Model(solver=IpoptSolver())\n",
    "@defVar(m, x[S,P] >= 0)    # acres devoted to crops\n",
    "@defVar(m, y[S,P] >= 0)    # crops purchase\n",
    "@defVar(m, w[S,P] >= 0)    # crops sold;\n",
    "@defVar(m, cost[s in S])\n",
    "@addConstraint(m, varcost[s in S], cost[s] == sum{prcost[j]*x[s,j] + pcost[j]*y[s,j] - scost[j]*w[s,j], j in P})\n",
    "@addConstraint(m, cap[s in S], sum{x[s,j], j in P} <= 500)\n",
    "@addConstraint(m, bal[s in S,j in P], yield[s,j]*x[s,j]+y[s,j]-w[s,j] >= demand[j])\n",
    "@addConstraint(m, sellb[s in S], w[s,3] <= 6000)\n",
    "@addConstraint(m, buyb[s in S], y[s,3] <= 0)\n",
    "@addConstraint(m, nonant[s in S,j in P], x[1,j] == x[s,j])\n",
    "@setObjective(m, Min, (1/NS)*sum{cost[s], s in S})\n",
    "solve(m)"
   ]
  },
  {
   "cell_type": "code",
   "execution_count": 4,
   "metadata": {
    "collapsed": false
   },
   "outputs": [
    {
     "name": "stdout",
     "output_type": "stream",
     "text": [
      "[0/1] create problem \n"
     ]
    },
    {
     "data": {
      "text/plain": [
       "1"
      ]
     },
     "execution_count": 4,
     "metadata": {},
     "output_type": "execute_result"
    },
    {
     "name": "stdout",
     "output_type": "stream",
     "text": [
      "-----------------------------------------------\n",
      "IP Solver\n",
      "V.M. Zavala, Argonne National Laboratory, 2012\n",
      "-----------------------------------------------\n",
      "  Scenarios ======= 10000\n",
      "  Variables ======= 90004 | 1st Stage = 4 | 2nd Stage = 90000\n",
      "  Equality Cons === 30001 | 1st Stage = 1 | 2nd Stage = 30000\n",
      "  Inequality Cons = 110004 | 1st Stage = 4 | 2nd Stage = 110000\n",
      "check point 0. Start \n",
      "Hello world from process 0 of 1\n",
      "check point 1. Before calling solver \n",
      "iter      objective      inf_pr      inf_du     lg(mu)      alpha     |C|    itla \n",
      "   0    0.0000000e+00   5.00e+02   1.37e+07   6.39e+00   0.00e+00       0       0\n",
      "   1    1.8056443e+05   2.31e+02   3.56e+06   5.84e+00   5.37e-01     100       3\n",
      "   2    5.3158647e+05   2.07e+02   5.72e+09   5.84e+00   1.06e-01     100       3\n",
      "   3    5.1394011e+05   2.05e+02   6.30e+09   5.83e+00   9.74e-03     100       3\n",
      "   4    4.2015405e+05   2.03e+02   1.25e+10   5.89e+00   9.80e-03     100       3\n",
      "   5    6.2522939e+05   1.60e+01   2.37e+09   5.05e+00   9.21e-01     100       3\n",
      "   6    6.8323823e+05   6.49e-01   1.85e+08   3.89e+00   9.59e-01     100       3\n",
      "   7    6.7386867e+05   3.75e-03   9.97e+05   1.67e+00   9.94e-01     100       3\n",
      "   8    1.3966456e+05   2.38e-05   8.78e+04   5.69e-01   9.94e-01     100       3\n",
      "   9    1.1990868e+05   1.93e-05   6.75e+04   5.23e-01   1.89e-01     100       3\n",
      "  10    9.5882216e+04   1.68e-05   6.98e+04   5.67e-01   1.31e-01     100       3\n",
      "  11   -2.0182478e+04   3.63e-06   2.39e+04   1.54e-01   7.84e-01     100       3\n",
      "  12   -4.1502253e+04   3.47e-06   2.82e+04   1.97e-01   4.46e-02     100       8\n",
      "  13   -3.5326404e+04   2.72e-06   2.30e+04   1.90e-01   2.16e-01     100      11\n",
      "  14   -1.0376485e+04   6.14e-07   2.41e+04   2.25e-01   7.74e-01     100       6\n",
      "  15   -2.4363303e+04   2.83e-07   1.33e+04   1.35e-01   5.39e-01     100       3\n",
      "  16   -3.8601752e+04   1.61e-07   7.71e+03   2.88e-02   4.31e-01     100      11\n",
      "  17   -8.2497424e+04   5.12e-08   1.17e+03  -5.17e-01   6.82e-01     100       3\n",
      "  18   -9.7241292e+04   9.00e-09   4.92e+02  -9.49e-01   8.24e-01     100      11\n",
      "  19   -1.0113570e+05   2.75e-09   1.60e+02  -1.31e+00   6.95e-01     100      11\n",
      "  20   -1.0356377e+05   4.39e-10   4.29e+01  -1.90e+00   8.40e-01     100      11\n",
      "  21   -1.0399190e+05   1.15e-10   1.55e+01  -2.29e+00   7.39e-01     100      11\n",
      "  22   -1.0416285e+05   3.12e-11   6.55e+00  -2.66e+00   7.28e-01     100      11\n",
      "  23   -1.0421529e+05   1.13e-11   3.67e+00  -2.91e+00   6.38e-01     100      11\n",
      "  24   -1.0424950e+05   3.35e-12   3.13e-02  -3.59e+00   7.03e-01     100      11\n",
      "  25   -1.0426849e+05   1.82e-12   3.43e-03  -4.42e+00   8.91e-01     100      11\n",
      "  26   -1.0427156e+05   2.27e-12   3.46e-05  -5.66e+00   9.90e-01     100      11\n",
      "  27   -1.0427164e+05   1.82e-12   9.97e-06  -6.38e+00   7.14e-01     100      11\n",
      "totalKSPiter  267average iteration 9.00e+00\n",
      "Factorization_K_time 6.38e-02\n",
      "Backsolve_time  3.11e-02\n",
      "Factorization_Kw_s_time 6.64e+00\n",
      "KSP_time 1.48e+01\n",
      "Cluster_time 1.49e+01\n",
      "Block_Backsolve_time 9.27e+00\n",
      "Block_Backsolve 6646600\n",
      "MatrixMult_time  1.95e+00\n",
      "Test_time  0.00e+00\n",
      "PC_0_time 1.15e+01\n",
      "PC_1_time 0.00e+00\n",
      "W_time 1.12e+01\n",
      "Elapsed Time =3.84e+01(s)\n"
     ]
    }
   ],
   "source": [
    "# build with StochJuMP and solve with IPCluster\n",
    "m = StochasticModel(NS)\n",
    "@defVar(m, x[P] >= 0)    # acres devoted to crops\n",
    "@defVar(m, s2 >= 0)\n",
    "@addConstraint(m, cap, sum{x[j], j in P} + s2 == 500)\n",
    "@setObjective(m, Min, sum{prcost[j]*x[j], j in P})\n",
    "for i in 1:NS\n",
    "    bl = StochasticBlock(m)\n",
    "    @defVar(bl, y[P] >= 0)    # crops purchase\n",
    "    @defVar(bl, w[P] >= 0)    # crops sold;\n",
    "    @defVar(bl, s[P] >= 0)\n",
    "    @addConstraint(bl, bal[j in P], yield[i,j]*x[j]+y[j]-w[j] - s[j] == demand[j])\n",
    "    setUpper(w[3], 6000)\n",
    "    setUpper(y[3], 0)\n",
    "    @setObjective(bl, Min, 1.0/NS*sum{pcost[j]*y[j] - scost[j]*w[j], j in P})\n",
    "end\n",
    "CluIPM_solve(m)"
   ]
  },
  {
   "cell_type": "code",
   "execution_count": null,
   "metadata": {
    "collapsed": true
   },
   "outputs": [],
   "source": []
  }
 ],
 "metadata": {
  "kernelspec": {
   "display_name": "Julia 0.4.2",
   "language": "julia",
   "name": "julia-0.4"
  },
  "language_info": {
   "file_extension": ".jl",
   "mimetype": "application/julia",
   "name": "julia",
   "version": "0.4.2"
  }
 },
 "nbformat": 4,
 "nbformat_minor": 0
}
