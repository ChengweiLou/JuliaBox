{
 "cells": [
  {
   "cell_type": "markdown",
   "metadata": {},
   "source": [
    "Mauricio Tombini and Victor M. Zavala 2016 \n",
    "\n",
    "University of Wisconsin-Madison "
   ]
  },
  {
   "cell_type": "code",
   "execution_count": 1,
   "metadata": {
    "collapsed": false
   },
   "outputs": [
    {
     "name": "stderr",
     "output_type": "stream",
     "text": [
      "INFO: Recompiling stale cache file /home/juser/.julia/lib/v0.4/JuMP.ji for module JuMP.\n",
      "INFO: Recompiling stale cache file /home/juser/.julia/lib/v0.4/MathProgBase.ji for module MathProgBase.\n",
      "INFO: Recompiling stale cache file /home/juser/.julia/lib/v0.4/Calculus.ji for module Calculus.\n",
      "INFO: Recompiling stale cache file /home/juser/.julia/lib/v0.4/ReverseDiffSparse.ji for module ReverseDiffSparse.\n",
      "INFO: Recompiling stale cache file /home/juser/.julia/lib/v0.4/NaNMath.ji for module NaNMath.\n",
      "INFO: Recompiling stale cache file /home/juser/.julia/lib/v0.4/DataStructures.ji for module DataStructures.\n",
      "INFO: Recompiling stale cache file /home/juser/.julia/lib/v0.4/Distributions.ji for module Distributions.\n",
      "INFO: Recompiling stale cache file /home/juser/.julia/lib/v0.4/ArrayViews.ji for module ArrayViews.\n",
      "INFO: Recompiling stale cache file /home/juser/.julia/lib/v0.4/PDMats.ji for module PDMats.\n",
      "INFO: Recompiling stale cache file /home/juser/.julia/lib/v0.4/StatsFuns.ji for module StatsFuns.\n",
      "INFO: Recompiling stale cache file /home/juser/.julia/lib/v0.4/StatsBase.ji for module StatsBase.\n",
      "INFO: Recompiling stale cache file /home/juser/.julia/lib/v0.4/Ipopt.ji for module Ipopt.\n",
      "INFO: Precompiling module PyPlot...\n",
      "ERROR: LoadError: LoadError: UndefVarError: MacroTools not defined\n",
      " in include at ./boot.jl:261\n",
      " in include_from_node1 at ./loading.jl:320\n",
      " in include at ./boot.jl:261\n",
      " in include_from_node1 at ./loading.jl:320\n",
      " [inlined code] from none:2\n",
      " in anonymous at no file:0\n",
      " in process_options at ./client.jl:257\n",
      " in _start at ./client.jl:378\n",
      "while loading /opt/julia_packages/.julia/v0.4/PyCall/src/io.jl, in expression starting on line 119\n",
      "while loading /opt/julia_packages/.julia/v0.4/PyCall/src/PyCall.jl, in expression starting on line 178\n",
      "ERROR: LoadError: Failed to precompile PyCall to /home/juser/.julia/lib/v0.4/PyCall.ji\n",
      " in error at ./error.jl:21\n",
      " in compilecache at loading.jl:400\n",
      " in require at ./loading.jl:240\n",
      " in include at ./boot.jl:261\n",
      " in include_from_node1 at ./loading.jl:320\n",
      " [inlined code] from none:2\n",
      " in anonymous at no file:0\n",
      " in process_options at ./client.jl:257\n",
      " in _start at ./client.jl:378\n",
      "while loading /opt/julia_packages/.julia/v0.4/PyPlot/src/PyPlot.jl, in expression starting on line 5\n"
     ]
    },
    {
     "ename": "LoadError",
     "evalue": "LoadError: Failed to precompile PyPlot to /home/juser/.julia/lib/v0.4/PyPlot.ji\nwhile loading In[1], in expression starting on line 6",
     "output_type": "error",
     "traceback": [
      "LoadError: Failed to precompile PyPlot to /home/juser/.julia/lib/v0.4/PyPlot.ji\nwhile loading In[1], in expression starting on line 6",
      "",
      " in error at ./error.jl:21",
      " in compilecache at loading.jl:400",
      " in require at ./loading.jl:266"
     ]
    }
   ],
   "source": [
    "# Loading packages:\n",
    "\n",
    "using JuMP \n",
    "using Distributions \n",
    "using Ipopt\n",
    "using PyPlot "
   ]
  },
  {
   "cell_type": "code",
   "execution_count": 2,
   "metadata": {
    "collapsed": false
   },
   "outputs": [],
   "source": [
    "# Generate random data: \n",
    "\n",
    "N = 1000\n",
    "srand(0)\n",
    "μ = 0; σ = 2; \n",
    "d = Normal(μ,σ)\n",
    "R = rand(d,N);"
   ]
  },
  {
   "cell_type": "code",
   "execution_count": 3,
   "metadata": {
    "collapsed": false
   },
   "outputs": [
    {
     "ename": "LoadError",
     "evalue": "LoadError: UndefVarError: plt not defined\nwhile loading In[3], in expression starting on line 3",
     "output_type": "error",
     "traceback": [
      "LoadError: UndefVarError: plt not defined\nwhile loading In[3], in expression starting on line 3",
      ""
     ]
    }
   ],
   "source": [
    "# Plotting:\n",
    "\n",
    "plt[:hist](R, bins = 30)\n",
    "grid(\"on\")\n",
    "xlabel(L\"\\xi\")\n",
    "ylabel(L\"p(\\xi)\")\n",
    "savefig(\"ex1data.pdf\")"
   ]
  },
  {
   "cell_type": "markdown",
   "metadata": {},
   "source": [
    "## Ex1Gauss"
   ]
  },
  {
   "cell_type": "code",
   "execution_count": 4,
   "metadata": {
    "collapsed": false
   },
   "outputs": [
    {
     "name": "stderr",
     "output_type": "stream",
     "text": [
      "WARNING: @defVar is deprecated, use @variable instead.\n",
      "WARNING: @setObjective is deprecated, use @objective instead.\n"
     ]
    },
    {
     "name": "stdout",
     "output_type": "stream",
     "text": [
      "\n",
      "******************************************************************************\n",
      "This program contains Ipopt, a library for large-scale nonlinear optimization.\n",
      " Ipopt is released as open source code under the Eclipse Public License (EPL).\n",
      "         For more information visit http://projects.coin-or.org/Ipopt\n",
      "******************************************************************************\n",
      "\n"
     ]
    },
    {
     "name": "stderr",
     "output_type": "stream",
     "text": [
      "WARNING: getObjectiveValue is deprecated, use getobjectivevalue instead.\n",
      " in depwarn at deprecated.jl:73\n",
      " in getObjectiveValue at deprecated.jl:30\n",
      " in ex1GaussModel at In[4]:9\n",
      " [inlined code] from In[4]:20\n",
      " in anonymous at no file:0\n",
      " in include_string at loading.jl:282\n",
      " in execute_request_0x535c5df2 at /opt/julia_packages/.julia/v0.4/IJulia/src/execute_request.jl:182\n",
      " in eventloop at /opt/julia_packages/.julia/v0.4/IJulia/src/IJulia.jl:142\n",
      " in anonymous at task.jl:447\n",
      "while loading In[4], in expression starting on line 19\n",
      "WARNING: getValue is deprecated, use getvalue instead.\n",
      " in depwarn at deprecated.jl:73\n",
      " in getValue at deprecated.jl:30\n",
      " in ex1GaussModel at In[4]:10\n",
      " [inlined code] from In[4]:20\n",
      " in anonymous at no file:0\n",
      " in include_string at loading.jl:282\n",
      " in execute_request_0x535c5df2 at /opt/julia_packages/.julia/v0.4/IJulia/src/execute_request.jl:182\n",
      " in eventloop at /opt/julia_packages/.julia/v0.4/IJulia/src/IJulia.jl:142\n",
      " in anonymous at task.jl:447\n",
      "while loading In[4], in expression starting on line 19\n",
      "WARNING: getObjectiveValue is deprecated, use getobjectivevalue instead.\n",
      " in depwarn at deprecated.jl:73\n",
      " in getObjectiveValue at deprecated.jl:30\n",
      " in ex1GaussModel at In[4]:9\n",
      " [inlined code] from In[4]:20\n",
      " in anonymous at no file:0\n",
      " in include_string at loading.jl:282\n",
      " in execute_request_0x535c5df2 at /opt/julia_packages/.julia/v0.4/IJulia/src/execute_request.jl:182\n",
      " in eventloop at /opt/julia_packages/.julia/v0.4/IJulia/src/IJulia.jl:142\n",
      " in anonymous at task.jl:447\n",
      "while loading In[4], in expression starting on line 19\n"
     ]
    }
   ],
   "source": [
    "# ex1gauss.mod \n",
    "\n",
    "function ex1GaussModel(xip)\n",
    "    m = Model(solver=IpoptSolver(print_level=0))\n",
    "    @defVar(m, x)\n",
    "    @setObjective(m, Min, (x-xip)^2 - x*xip)\n",
    "    \n",
    "    solve(m)\n",
    "    obj = getObjectiveValue(m)\n",
    "    x = getValue(x)\n",
    "    \n",
    "    return obj,x\n",
    "end\n",
    "        \n",
    "# solve problems with data points\n",
    "solex1gauss = zeros(N)\n",
    "solxex1gauss = zeros(N)\n",
    "\n",
    "for i=1:N \n",
    "    (solex1gauss[i], solxex1gauss[i]) = ex1GaussModel(R[i])\n",
    "end "
   ]
  },
  {
   "cell_type": "code",
   "execution_count": 5,
   "metadata": {
    "collapsed": false
   },
   "outputs": [
    {
     "ename": "LoadError",
     "evalue": "LoadError: UndefVarError: plt not defined\nwhile loading In[5], in expression starting on line 6",
     "output_type": "error",
     "traceback": [
      "LoadError: UndefVarError: plt not defined\nwhile loading In[5], in expression starting on line 6",
      ""
     ]
    }
   ],
   "source": [
    "# Plotting: \n",
    "\n",
    "sol = solex1gauss;\n",
    "solx = solxex1gauss;\n",
    "\n",
    "plt[:hist](sol, bins = 30)\n",
    "grid(\"on\")\n",
    "xlabel(L\"f(x^*(\\xi),\\xi)\")\n",
    "ylabel(L\"p(f(\\cdot))\")\n",
    "savefig(\"ex1solgauss.pdf\")"
   ]
  },
  {
   "cell_type": "code",
   "execution_count": 6,
   "metadata": {
    "collapsed": false
   },
   "outputs": [
    {
     "ename": "LoadError",
     "evalue": "LoadError: UndefVarError: plt not defined\nwhile loading In[6], in expression starting on line 1",
     "output_type": "error",
     "traceback": [
      "LoadError: UndefVarError: plt not defined\nwhile loading In[6], in expression starting on line 1",
      ""
     ]
    }
   ],
   "source": [
    "plt[:hist](solx, bins = 30)\n",
    "grid(\"on\")\n",
    "xlabel(L\"x^*(\\xi)\")\n",
    "ylabel(L\"p(x^*(\\xi))\")\n",
    "savefig(\"ex1solxgauss.pdf\")"
   ]
  },
  {
   "cell_type": "markdown",
   "metadata": {},
   "source": [
    "## Ex1 Gauss with Constraints"
   ]
  },
  {
   "cell_type": "code",
   "execution_count": 7,
   "metadata": {
    "collapsed": false
   },
   "outputs": [
    {
     "name": "stderr",
     "output_type": "stream",
     "text": [
      "WARNING: getValue is deprecated, use getvalue instead.\n",
      " in depwarn at deprecated.jl:73\n",
      " in getValue at deprecated.jl:30\n",
      " in ex1GaussConsModel at In[7]:10\n",
      " [inlined code] from In[7]:20\n",
      " in anonymous at no file:0\n",
      " in include_string at loading.jl:282\n",
      " in execute_request_0x535c5df2 at /opt/julia_packages/.julia/v0.4/IJulia/src/execute_request.jl:182\n",
      " in eventloop at /opt/julia_packages/.julia/v0.4/IJulia/src/IJulia.jl:142\n",
      " in anonymous at task.jl:447\n",
      "while loading In[7], in expression starting on line 19\n"
     ]
    }
   ],
   "source": [
    "# ex1gausscons.mod\n",
    "\n",
    "function ex1GaussConsModel(xip)\n",
    "    m = Model(solver=IpoptSolver(print_level=0))\n",
    "    @defVar(m, -1 <= x <= 1)\n",
    "    @setObjective(m, Min, (x-xip)^2 - x*xip)\n",
    "    \n",
    "    solve(m)\n",
    "    obj = getObjectiveValue(m)\n",
    "    x = getValue(x)\n",
    "    \n",
    "    return obj,x\n",
    "end\n",
    "        \n",
    "# solve problems with data points\n",
    "solex1gausscons = zeros(N)\n",
    "solxex1gausscons = zeros(N)\n",
    "\n",
    "for i=1:N \n",
    "    (solex1gausscons[i], solxex1gausscons[i]) = ex1GaussConsModel(R[i])\n",
    "end "
   ]
  },
  {
   "cell_type": "code",
   "execution_count": 8,
   "metadata": {
    "collapsed": false
   },
   "outputs": [
    {
     "ename": "LoadError",
     "evalue": "LoadError: UndefVarError: plt not defined\nwhile loading In[8], in expression starting on line 6",
     "output_type": "error",
     "traceback": [
      "LoadError: UndefVarError: plt not defined\nwhile loading In[8], in expression starting on line 6",
      ""
     ]
    }
   ],
   "source": [
    "# Plotting: \n",
    "\n",
    "sol = solex1gausscons\n",
    "solx = solxex1gausscons\n",
    "\n",
    "plt[:hist](sol, bins = 30)\n",
    "grid(\"on\")\n",
    "xlabel(L\"f(x^*(\\xi),\\xi)\")\n",
    "ylabel(L\"p(f(x^*(\\xi),\\xi))\")\n",
    "savefig(\"ex1solgausscons.pdf\")"
   ]
  },
  {
   "cell_type": "code",
   "execution_count": 9,
   "metadata": {
    "collapsed": false
   },
   "outputs": [
    {
     "ename": "LoadError",
     "evalue": "LoadError: UndefVarError: plt not defined\nwhile loading In[9], in expression starting on line 1",
     "output_type": "error",
     "traceback": [
      "LoadError: UndefVarError: plt not defined\nwhile loading In[9], in expression starting on line 1",
      ""
     ]
    }
   ],
   "source": [
    "plt[:hist](solx, bins = 30)\n",
    "grid(\"on\")\n",
    "xlabel(L\"x^*(\\xi)\")\n",
    "ylabel(L\"p(x^*(\\xi))\")\n",
    "savefig(\"ex1solxgausscons.pdf\") "
   ]
  },
  {
   "cell_type": "code",
   "execution_count": null,
   "metadata": {
    "collapsed": true
   },
   "outputs": [],
   "source": []
  }
 ],
 "metadata": {
  "kernelspec": {
   "display_name": "Julia 0.4.5",
   "language": "julia",
   "name": "julia-0.4"
  },
  "language_info": {
   "file_extension": ".jl",
   "mimetype": "application/julia",
   "name": "julia",
   "version": "0.4.5"
  }
 },
 "nbformat": 4,
 "nbformat_minor": 0
}
