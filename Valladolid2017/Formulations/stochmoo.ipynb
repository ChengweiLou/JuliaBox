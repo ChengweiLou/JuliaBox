{
 "cells": [
  {
   "cell_type": "code",
   "execution_count": 5,
   "metadata": {
    "collapsed": false
   },
   "outputs": [],
   "source": [
    "# illustration of multi-stakeholder optimization problem\n",
    "# victor m. zavala, 2017\n",
    "\n",
    "using JuMP \n",
    "using Ipopt \n",
    "using PyPlot\n",
    "\n",
    "# number of objectives\n",
    "nObj = 2\n",
    "\n",
    "# number of stakeholders\n",
    "nStake = 20;\n",
    "\n",
    "W = rand(nStake,nObj)\n",
    "for i = 1:size(W,1)\n",
    "W[i,:] = W[i,:] / sum(W[i,:])\n",
    "end\n",
    "\n",
    "# container for solutions\n",
    "x1v=zeros(nStake)\n",
    "x2v=zeros(nStake)\n",
    "cp=zeros(nStake)\n",
    "\n",
    "for p in 1:nStake\n",
    "\n",
    "# Model \n",
    "m = Model(solver=IpoptSolver(print_level=0))\n",
    "\n",
    "@variable(m, 0 <= x1<= 1)    \n",
    "@variable(m, 0 <= x2<= 1)  \n",
    "@variable(m,cost)\n",
    "@NLconstraint(m, cons, x1^2 + x2 == 1 ) \n",
    "@NLconstraint(m,costcons,cost== W[p,1]*(x1-1)^2 + W[p,2]*(x2-x1)^2)\n",
    "@NLobjective(m, Min,cost)\n",
    "   \n",
    "# solve model and get solution\n",
    "solve(m)\n",
    "    \n",
    "# collect solution    \n",
    "    x1v[p]=getvalue(x1);\n",
    "    x2v[p]=getvalue(x2);\n",
    "    cp[p]=getvalue(cost)\n",
    "end"
   ]
  },
  {
   "cell_type": "code",
   "execution_count": 6,
   "metadata": {
    "collapsed": false
   },
   "outputs": [
    {
     "name": "stdout",
     "output_type": "stream",
     "text": [
      "This is Ipopt version 3.12.1, running with linear solver mumps.\n",
      "NOTE: Other linear solvers might be more efficient (see Ipopt documentation).\n",
      "\n",
      "Number of nonzeros in equality constraint Jacobian...:       62\n",
      "Number of nonzeros in inequality constraint Jacobian.:       60\n",
      "Number of nonzeros in Lagrangian Hessian.............:       61\n",
      "\n",
      "Total number of variables............................:       43\n",
      "                     variables with only lower bounds:       20\n",
      "                variables with lower and upper bounds:        2\n",
      "                     variables with only upper bounds:        0\n",
      "Total number of equality constraints.................:       21\n",
      "Total number of inequality constraints...............:       20\n",
      "        inequality constraints with only lower bounds:        0\n",
      "   inequality constraints with lower and upper bounds:        0\n",
      "        inequality constraints with only upper bounds:       20\n",
      "\n",
      "iter    objective    inf_pr   inf_du lg(mu)  ||d||  lg(rg) alpha_du alpha_pr  ls\n",
      "   0  9.9999900e-02 9.90e-01 9.58e-01  -1.0 0.00e+00    -  0.00e+00 0.00e+00   0\n",
      "   1  1.6132577e-01 7.71e-01 2.10e+01  -1.7 9.83e-01    -  1.02e-02 2.16e-01h  1\n",
      "   2  1.4969237e-01 5.84e-01 1.50e+01  -1.7 6.78e-01    -  1.54e-01 2.68e-01f  1\n",
      "   3  1.2650933e-01 5.31e-01 1.41e+01  -1.7 1.14e+00    -  1.53e-02 1.20e-01h  1\n",
      "   4  1.3915751e-01 5.35e-01 1.43e+01  -1.7 3.74e+00    -  2.97e-02 5.31e-02h  2\n",
      "   5  5.9545952e-01 2.99e-01 1.68e+01  -1.7 4.65e-01    -  5.72e-01 9.80e-01h  1\n",
      "   6  9.8133368e-01 8.38e-03 4.26e+00  -1.7 4.55e-01    -  2.15e-01 1.00e+00h  1\n",
      "   7  4.7562961e-01 1.21e-01 6.05e-01  -1.7 6.00e-01    -  7.17e-01 9.61e-01f  1\n",
      "   8  7.4989162e-01 7.22e-03 8.47e-01  -1.7 1.37e-01    -  3.27e-01 1.00e+00f  1\n",
      "   9  6.8850380e-01 9.54e-02 1.50e-01  -1.7 2.45e-01    -  8.22e-01 1.00e+00h  1\n",
      "iter    objective    inf_pr   inf_du lg(mu)  ||d||  lg(rg) alpha_du alpha_pr  ls\n",
      "  10  2.1301585e-01 2.35e-03 4.47e-03  -2.5 2.55e-01    -  1.00e+00 1.00e+00h  1\n",
      "  11  1.0751376e-01 8.50e-04 6.28e-03  -3.8 8.96e-02    -  1.00e+00 7.64e-01h  1\n",
      "  12  7.9741806e-02 3.49e-03 1.26e-02  -3.8 3.56e-02    -  1.00e+00 1.00e+00h  1\n",
      "  13  7.7697859e-02 1.45e-04 6.80e-05  -3.8 1.08e-02    -  1.00e+00 1.00e+00h  1\n",
      "  14  7.2266710e-02 1.01e-04 2.53e-04  -5.0 7.51e-03    -  1.00e+00 9.89e-01h  1\n",
      "  15  7.2160112e-02 5.67e-07 9.29e-07  -5.0 5.22e-04    -  1.00e+00 1.00e+00f  1\n",
      "\n",
      "Number of Iterations....: 15\n",
      "\n",
      "                                   (scaled)                 (unscaled)\n",
      "Objective...............:   7.2160111685749581e-02    7.2160111685749581e-02\n",
      "Dual infeasibility......:   9.2872005468263932e-07    9.2872005468263932e-07\n",
      "Constraint violation....:   5.6664578231002682e-07    5.6664578231002682e-07\n",
      "Complementarity.........:   1.1378725332037359e-05    1.1378725332037359e-05\n",
      "Overall NLP error.......:   1.1378725332037359e-05    1.1378725332037359e-05\n",
      "\n",
      "\n",
      "Number of objective function evaluations             = 19\n",
      "Number of objective gradient evaluations             = 16\n",
      "Number of equality constraint evaluations            = 19\n",
      "Number of inequality constraint evaluations          = 19\n",
      "Number of equality constraint Jacobian evaluations   = 16\n",
      "Number of inequality constraint Jacobian evaluations = 16\n",
      "Number of Lagrangian Hessian evaluations             = 15\n",
      "Total CPU secs in IPOPT (w/o function evaluations)   =      0.004\n",
      "Total CPU secs in NLP function evaluations           =      0.008\n",
      "\n",
      "EXIT: Optimal Solution Found.\n"
     ]
    },
    {
     "data": {
      "text/plain": [
       ":Optimal"
      ]
     },
     "execution_count": 6,
     "metadata": {},
     "output_type": "execute_result"
    }
   ],
   "source": [
    "# Compute compromise solution using cvar\n",
    "P=1:nStake\n",
    "alpha=0.1\n",
    "\n",
    "m = Model(solver=IpoptSolver(tol = 1e-4, max_iter = 100,linear_solver =\"mumps\",mu_strategy=\"monotone\"))\n",
    "\n",
    "@variable(m, 0 <= x1<= 1)    \n",
    "@variable(m, 0 <= x2<= 1)  \n",
    "@variable(m, phi[P]>=0)\n",
    "@variable(m, cost[P])\n",
    "@variable(m, VaR)\n",
    "@NLconstraint(m, cons, x1^2 + x2 == 1 ) \n",
    "@NLconstraint(m,costcons[p in P],cost[p]== W[p,1]*(x1-1)^2 + W[p,2]*(x2-x1)^2)\n",
    "@NLconstraint(m,cvarcons[p in P],cost[p] - VaR <= phi[p])\n",
    "@NLobjective(m, Min, VaR+(1/(alpha*nStake))*sum(phi[p] for p in P))\n",
    "   \n",
    "# solve model and get solution\n",
    "solve(m)\n"
   ]
  },
  {
   "cell_type": "code",
   "execution_count": 7,
   "metadata": {
    "collapsed": false
   },
   "outputs": [
    {
     "data": {
      "image/png": "[encoded data removed]",
      "text/plain": [
       "PyPlot.Figure(PyObject <matplotlib.figure.Figure object at 0x7fb97f102b10>)"
      ]
     },
     "metadata": {},
     "output_type": "display_data"
    },
    {
     "data": {
      "text/plain": [
       "PyObject <matplotlib.text.Text object at 0x7fb97f236390>"
      ]
     },
     "execution_count": 7,
     "metadata": {},
     "output_type": "execute_result"
    }
   ],
   "source": [
    "cx1=zeros(1)\n",
    "cx2=zeros(1)\n",
    "cx1=getvalue(x1)\n",
    "cx2=getvalue(x2)\n",
    "\n",
    "# visualize Pareto set\n",
    "scatter(x1v,x2v,color=\"blue\",marker=\"o\")\n",
    "grid(\"on\")\n",
    "hold(\"on\")\n",
    "scatter(cx1,cx2,color=\"red\",marker=\".\")\n",
    "xlabel(\"f1\")\n",
    "ylabel(\"f2\")"
   ]
  },
  {
   "cell_type": "code",
   "execution_count": null,
   "metadata": {
    "collapsed": true
   },
   "outputs": [],
   "source": []
  }
 ],
 "metadata": {
  "anaconda-cloud": {},
  "kernelspec": {
   "display_name": "Julia 0.5.2",
   "language": "julia",
   "name": "julia-0.5"
  },
  "language_info": {
   "file_extension": ".jl",
   "mimetype": "application/julia",
   "name": "julia",
   "version": "0.5.2"
  }
 },
 "nbformat": 4,
 "nbformat_minor": 1
}
