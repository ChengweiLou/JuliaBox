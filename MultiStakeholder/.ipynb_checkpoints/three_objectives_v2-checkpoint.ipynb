{
 "cells": [
  {
   "cell_type": "markdown",
   "metadata": {},
   "source": [
    "# Three Objective Multi-stakeholder Example\n",
    "Created by Alex Dowling at the University of Wisconsin-Madison"
   ]
  },
  {
   "cell_type": "markdown",
   "metadata": {},
   "source": [
    "## Step 0: Setup"
   ]
  },
  {
   "cell_type": "markdown",
   "metadata": {},
   "source": [
    "### Load Modules"
   ]
  },
  {
   "cell_type": "code",
   "execution_count": null,
   "metadata": {
    "collapsed": false
   },
   "outputs": [
    {
     "name": "stderr",
     "output_type": "stream",
     "text": [
      "\u001b[1m\u001b[34mINFO: Precompiling module PyPlot...\n",
      "\u001b[0m\u001b[1m\u001b[34mINFO: Recompiling stale cache file /Users/vzavala/.julia/lib/v0.4/PyCall.ji for module PyCall.\n",
      "\u001b[0m\u001b[1m\u001b[34mINFO: Recompiling stale cache file /Users/vzavala/.julia/lib/v0.4/Colors.ji for module Colors.\n",
      "\u001b[0m\u001b[1m\u001b[34mINFO: Recompiling stale cache file /Users/vzavala/.julia/lib/v0.4/FixedPointNumbers.ji for module FixedPointNumbers.\n",
      "\u001b[0mWARNING: New definition \n",
      "    floattype(Type{#T<:FixedPointNumbers.Fixed}) at /Users/vzavala/.julia/v0.4/FixedPointNumbers/src/fixed.jl:16\n",
      "is ambiguous with: \n",
      "    floattype(Type{FixedPointNumbers.FixedPoint{#T<:Union{Int8, UInt16, Int16, UInt8}, #f<:Any}}) at /Users/vzavala/.julia/v0.4/FixedPointNumbers/src/FixedPointNumbers.jl:89.\n",
      "To fix, define \n",
      "    floattype(Type{FixedPointNumbers.Fixed{_<:Union{Int8, Int16}, #f<:Any}})\n",
      "before the new definition.\n",
      "WARNING: New definition \n",
      "    floattype(Type{#T<:FixedPointNumbers.UFixed}) at /Users/vzavala/.julia/v0.4/FixedPointNumbers/src/ufixed.jl:14\n",
      "is ambiguous with: \n",
      "    floattype(Type{FixedPointNumbers.FixedPoint{#T<:Union{Int8, UInt16, Int16, UInt8}, #f<:Any}}) at /Users/vzavala/.julia/v0.4/FixedPointNumbers/src/FixedPointNumbers.jl:89.\n",
      "To fix, define \n",
      "    floattype(Type{FixedPointNumbers.UFixed{_<:Union{UInt16, UInt8}, #f<:Any}})\n",
      "before the new definition.\n",
      "\u001b[1m\u001b[34mINFO: Recompiling stale cache file /Users/vzavala/.julia/lib/v0.4/ColorTypes.ji for module ColorTypes.\n",
      "\u001b[0m"
     ]
    }
   ],
   "source": [
    "using JuMP\n",
    "using PyPlot\n",
    "using Gurobi"
   ]
  },
  {
   "cell_type": "markdown",
   "metadata": {},
   "source": [
    "### Define Problem"
   ]
  },
  {
   "cell_type": "code",
   "execution_count": null,
   "metadata": {
    "collapsed": false
   },
   "outputs": [],
   "source": [
    "type ProbData\n",
    "\txUpperBound\n",
    "\tA\n",
    "\tb\n",
    "\t\n",
    "\tProbData() = new(2/3,[1 1 1],1)\n",
    "end\n",
    "\n",
    "type Solution\n",
    "\n",
    "\tf # Array of objective function values\n",
    "\tz # Either a single float or an array of floats\n",
    "\talpha # Either a float or empty\t\n",
    "\tcvar # Either a float or empty\n",
    "\n",
    "\tx\n",
    "\n",
    "end\n",
    "\n",
    "function generateBaseModel(d)\n",
    "# Create instance of base module using ProbData object \"d\"\n",
    "\n",
    "\tm = Model()\n",
    "\n",
    "\t@defVar(m, 0 <= x[1:3] <= d.xUpperBound)\n",
    "\t@defVar(m, f[1:3])\n",
    "\t@addConstraint(m, SINGLE_CONSTRAINT, d.A[1]*x[1] + d.A[2]*x[2] + d.A[3]*x[3] >= d.b)\n",
    "\t@addConstraint(m, OBJECTIVES[i=1:3], x[i] == f[i])\n",
    "\t\n",
    "\treturn m\n",
    "\t\n",
    " end\n",
    "\n",
    "function assembleSolution(m,alpha)\n",
    "\n",
    "\tf = getVar(m, :f)\n",
    "\tz = getVar(m, :z)\n",
    "\n",
    "\tx = getVar(m, :x)\n",
    "\t\t\n",
    "\tif(0 <= alpha && alpha <= 1)\n",
    "\t\tcvar = getVar(m, :cvar)\n",
    "\t\ts = Solution(getValue(f),getValue(z),alpha,getValue(cvar),getValue(x))\n",
    "\telse\n",
    "\t\ts = Solution(getValue(f),getValue(z),[],[],getValue(x))\n",
    "\tend\n",
    "\n",
    "end"
   ]
  },
  {
   "cell_type": "markdown",
   "metadata": {},
   "source": [
    "### Load CVaR Library"
   ]
  },
  {
   "cell_type": "code",
   "execution_count": null,
   "metadata": {
    "collapsed": false
   },
   "outputs": [],
   "source": [
    "include(\"generic_CVaR_library.jl\")"
   ]
  },
  {
   "cell_type": "markdown",
   "metadata": {},
   "source": [
    "## Step 1: Calculate nadir and utopia points"
   ]
  },
  {
   "cell_type": "code",
   "execution_count": null,
   "metadata": {
    "collapsed": false
   },
   "outputs": [],
   "source": [
    "# Determine Utopia and Nadir points\n",
    "d = ProbData()\n",
    "\n",
    "# Input 2: Number of objectives\n",
    "# Input 3: Use alternate nadir point (true/false)\n",
    "mooData = computeNadirUtopiaPoints(d, false)"
   ]
  },
  {
   "cell_type": "markdown",
   "metadata": {},
   "source": [
    "## Step 2 & 3: Determine ideal solutions & solve CVaR formulation"
   ]
  },
  {
   "cell_type": "markdown",
   "metadata": {},
   "source": [
    "### Define helper function"
   ]
  },
  {
   "cell_type": "code",
   "execution_count": null,
   "metadata": {
    "collapsed": false
   },
   "outputs": [],
   "source": [
    "function solveWithRandW(d,mooData,nStake)\n",
    "\n",
    "\tnObj = mooData.nObj\n",
    "\tnX = 3\n",
    "\t\n",
    "\t### Generate Stakeholders\n",
    "\tW = rand(nStake,nObj)\n",
    "\n",
    "\tfor i = 1:size(W,1)\n",
    "\t\tW[i,:] = W[i,:] / sum(W[i,:])\n",
    "\tend\n",
    "\n",
    "\tstakeholderData = solveForPreferredPoints(d,W,mooData)\n",
    "\n",
    "\t# Iterate over alpha values and save results\n",
    "\talpha = 0:0.01:1\n",
    "\tX = zeros(length(alpha),nX)\n",
    "\tZ = X\n",
    "\n",
    "\tnS = length(alpha)\n",
    "\tslnVector = Array(Solution,nS)\n",
    "\n",
    "\tfor i = 1:nS\n",
    "\t\tslnVector[i] = solveCVaRProblem(d,stakeholderData,alpha[i])\n",
    "\t\tfor j = 1:nX\n",
    "\t\t\tX[i,j] = slnVector[i].x[j]\n",
    "\t\tend\n",
    "\tend\n",
    "\n",
    "\treturn (alpha, X, W, slnVector, stakeholderData)\n",
    "end"
   ]
  },
  {
   "cell_type": "markdown",
   "metadata": {},
   "source": [
    "### Evaluate for 4 randomly generated stakeholder sets"
   ]
  },
  {
   "cell_type": "code",
   "execution_count": null,
   "metadata": {
    "collapsed": false
   },
   "outputs": [],
   "source": [
    "# Seed random number generator\n",
    "srand(2015)\n",
    "\n",
    "# Specify number of stakeholders\n",
    "nStakeholders = 500\n",
    "\n",
    "(alpha1, X1, W1, sv1, sd1) = solveWithRandW(d,mooData, nStakeholders)\n",
    "(alpha2, X2, W2, sv2, sd2) = solveWithRandW(d,mooData, nStakeholders)\n",
    "(alpha3, X3, W3, sv3, sd3) = solveWithRandW(d,mooData, nStakeholders)\n",
    "(alpha4, X4, W4, sv4, sd4) = solveWithRandW(d,mooData, nStakeholders)"
   ]
  },
  {
   "cell_type": "markdown",
   "metadata": {},
   "source": [
    "## Plot Results"
   ]
  },
  {
   "cell_type": "markdown",
   "metadata": {},
   "source": [
    "### Plot Pareto surface"
   ]
  },
  {
   "cell_type": "code",
   "execution_count": null,
   "metadata": {
    "collapsed": false
   },
   "outputs": [],
   "source": [
    "### Plot Pareto surface\n",
    "\n",
    "# Define vertices\n",
    "x = [2/3; 2/3; 1/3; 0;   0;   1/3]\n",
    "y = [1/3; 0;   0;   1/3; 2/3; 2/3]\n",
    "z = [0;   1/3; 2/3; 2/3; 1/3; 0]\n",
    "\n",
    "# Create polygon\n",
    "Poly3DCollection = PyPlot.mplot3d[:art3d][:Poly3DCollection]\n",
    "fig = figure()\n",
    "ax = Axes3D(fig)\n",
    "verts = (collect(zip(x,y,z)),)\n",
    "ax[:add_collection3d](Poly3DCollection(verts, color = \"gray\", alpha=0.25)) \n",
    "\n",
    "### Plot CVaR results for each stakeholder sample\n",
    "plot3D(X1[:,1], X1[:,2], X1[:,3],color=\"r\", marker=\"o\",label=\"Set A\")\n",
    "plot3D(X2[:,1], X2[:,2], X2[:,3],color=\"b\", marker=\"^\",label=\"Set B\")\n",
    "plot3D(X3[:,1], X3[:,2], X3[:,3],color=\"g\", marker=\"v\",label=\"Set C\")\n",
    "plot3D(X4[:,1], X4[:,2], X4[:,3],color=\"m\", marker=\"s\",label=\"Set D\")\n",
    "\n",
    "### Adjust plot aesthetics\n",
    "xlabel(L\"x_0\",fontsize=18)\n",
    "ylabel(L\"x_1\",fontsize=18)\n",
    "zlabel(L\"x_2\",fontsize=18)\n",
    "\n",
    "xlim(0,1)\n",
    "ylim(0,1)\n",
    "zlim(0,1)\n",
    "\n",
    "legend(bbox_to_anchor=(0.5, 1.0), loc=\"upper center\", ncol=4, fancybox=\"True\", shadow=\"True\")\n",
    "\n",
    "ax[:view_init](30,45)"
   ]
  },
  {
   "cell_type": "code",
   "execution_count": null,
   "metadata": {
    "collapsed": true
   },
   "outputs": [],
   "source": []
  }
 ],
 "metadata": {
  "anaconda-cloud": {},
  "kernelspec": {
   "display_name": "Julia 0.4.5",
   "language": "julia",
   "name": "julia-0.4"
  },
  "language_info": {
   "file_extension": ".jl",
   "mimetype": "application/julia",
   "name": "julia",
   "version": "0.4.5"
  }
 },
 "nbformat": 4,
 "nbformat_minor": 0
}
