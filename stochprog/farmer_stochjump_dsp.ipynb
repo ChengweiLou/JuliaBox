{
 "cells": [
  {
   "cell_type": "markdown",
   "metadata": {},
   "source": [
    "Stochastic Programming Example StochJump/DSP\n",
    "\n",
    "Kibaek Kim and Victor M. Zavala 2016\n",
    "\n",
    "University of Wisconsin-Madison"
   ]
  },
  {
   "cell_type": "code",
   "execution_count": 10,
   "metadata": {
    "collapsed": false
   },
   "outputs": [
    {
     "name": "stdout",
     "output_type": "stream",
     "text": [
      "\n"
     ]
    }
   ],
   "source": [
    "# Farmer example from Birge and Louveaux book.\n",
    "\n",
    "# STOCHASTIC MODELING FRAMEWORK\n",
    "\n",
    "NS = 3;                # number of scenarios\n",
    "\n",
    "# FIRST-STAGE MODEL\n",
    "CROPS = 1:3;           # set of crops (wheat, corn and sugar beets, resp.)\n",
    "Cost = [150 230 260];  # cost of planting crops\n",
    "Budget = 500;          # budget capacity\n",
    "\n",
    "# SECOND-STAGE MODELS\n",
    "PURCH = 1:2; # set of crops to purchase (wheat and corn, resp.)\n",
    "SELL  = 1:4; # set of crops to sell (wheat, corn, sugar beets under 6K and those over 6K)\n",
    "Purchase = [238 210;\n",
    "            238 210;\n",
    "            238 210];   # purchase price\n",
    "Sell = [170 150 36 10;\n",
    "        170 150 36 10;\n",
    "        170 150 36 10]; # selling price\n",
    "Yield = [3.0 3.6 24.0;\n",
    "         2.5 3.0 20.0;\n",
    "         2.0 2.4 16.0];\n",
    "Minreq = [100 240 0;\n",
    "          100 240 0;\n",
    "          100 240 0]; # minimum crop requirement\n",
    "println(\"\")"
   ]
  },
  {
   "cell_type": "markdown",
   "metadata": {},
   "source": [
    "Model Expression"
   ]
  },
  {
   "cell_type": "code",
   "execution_count": 11,
   "metadata": {
    "collapsed": false
   },
   "outputs": [],
   "source": [
    "using MPI, StochJuMP, DSPsolver\n",
    "# CREATE STOCHASTIC MODEL\n",
    "ENV[\"LD_LIBRARY_PATH\"] = \"DSP/lib\"\n",
    "m = StochasticModel(NS);\n",
    "\n",
    "# FIRST-STAGE MODEL\n",
    "\n",
    "# first-stage variables\n",
    "@defVar(m, x[i=CROPS] >= 0,Int)\n",
    "\n",
    "# first-stage objective\n",
    "@setObjective(m, Min, sum{Cost[i] * x[i], i=CROPS})\n",
    "\n",
    "# first-stage constraint\n",
    "@addConstraint(m, const_budget,\n",
    "               sum{x[i], i=CROPS} <= Budget)\n",
    "\n",
    "# SECOND-STAGE MODEL\n",
    "@second_stage m s begin\n",
    "    # stochastic block\n",
    "    sb = StochasticBlock(m, 1/NS);\n",
    "\n",
    "    # second-stage variables\n",
    "    @defVar(sb, y[j=PURCH] >= 0)\n",
    "    @defVar(sb, w[k=SELL] >= 0)\n",
    "\n",
    "    # objective\n",
    "    @setObjective(sb, Min, sum{Purchase[s,j]*y[j], j=PURCH} - sum{Sell[s,k]*w[k], k=SELL})\n",
    "\n",
    "    # constraints\n",
    "    @addConstraint(sb, const_minreq[j=PURCH],\n",
    "                   Yield[s,j] * x[j] + y[j] - w[j] >= Minreq[s,j])\n",
    "    @addConstraint(sb, const_minreq_beets,\n",
    "                   Yield[s,3] * x[3] - w[3] - w[4] >= Minreq[s,3])\n",
    "    @addConstraint(sb, const_aux, w[3] <= 6000)\n",
    "end"
   ]
  },
  {
   "cell_type": "markdown",
   "metadata": {},
   "source": [
    "Using StochJuMP, we have produced the complete optimization problem in standard form. Now solve with DSP."
   ]
  },
  {
   "cell_type": "code",
   "execution_count": 12,
   "metadata": {
    "collapsed": false
   },
   "outputs": [
    {
     "name": "stdout",
     "output_type": "stream",
     "text": [
      "presolving (2 rounds):\n",
      " 0 deleted vars, 0 deleted constraints, 0 added constraints, 4 tightened bounds, 0 added holes, 0 changed sides, 0 changed coefficients\n",
      " 0 implications, 0 cliques\n",
      "presolved problem has 4 variables (0 bin, 3 int, 0 impl, 1 cont) and 3 constraints\n",
      "\n",
      " time | node  | left  |LP iter|LP it/n| mem |mdpt |frac |vars |cons |cols |rows |cuts |confs|strbr|  dualbound   | primalbound  |  gap   \n",
      "* 0.0s|     1 |     0 |    21 |     - | 187k|   0 |   - |   4 |   3 |   4 |  15 |  14 |   0 |   0 |-1.253900e+05 |-1.253900e+05 |   0.00%\n",
      "\n",
      "SCIP Status        : problem is solved [optimal solution found]\n",
      "Solving Time (sec) : 0.01\n",
      "Solving Nodes      : 1\n",
      "Primal Bound       : -1.25390000000000e+05 (1 solutions)\n",
      "Dual Bound         : -1.25390000000000e+05\n",
      "Gap                : 0.00 %\n",
      "Solution Status: "
     ]
    },
    {
     "name": "stderr",
     "output_type": "stream",
     "text": [
      "\n",
      "Phase 1:\n",
      "Creating Benders sub problems ... (0.00 sec)\n",
      "Finding global lower bound ... (0.00 sec) -> Lower bound -1.338056e+05\n",
      "Creating master problem instance ... (0.00 sec)\n",
      "\n",
      "Phase 2:\n",
      "\n",
      "Collecting results ... (0.00 sec)\n"
     ]
    },
    {
     "name": "stdout",
     "output_type": "stream",
     "text": [
      "Optimal\n",
      "Primal Bound   : -125389.99999999997\n",
      "Dual Bound     : -125390.0\n"
     ]
    },
    {
     "data": {
      "text/plain": [
       "21-element Array{Float64,1}:\n",
       "  170.0        \n",
       "   80.0        \n",
       "  250.0        \n",
       "    0.0        \n",
       "    0.0        \n",
       "  410.0        \n",
       "   48.0        \n",
       " 6000.0        \n",
       "    0.0        \n",
       "    0.0        \n",
       "    0.0        \n",
       "  325.0        \n",
       "    8.52651e-14\n",
       " 5000.0        \n",
       "    0.0        \n",
       "    0.0        \n",
       "   48.0        \n",
       "  240.0        \n",
       "    0.0        \n",
       " 4000.0        \n",
       "    0.0        "
      ]
     },
     "execution_count": 12,
     "metadata": {},
     "output_type": "execute_result"
    }
   ],
   "source": [
    "# choose algorithm type (in this case Benders decomposition)\n",
    "option = \"BD\"\n",
    "\n",
    "if option == \"DD\"\n",
    "\tMPI.Init();\n",
    "end\n",
    "\n",
    "# load problem to model object\n",
    "DSPsolver.loadProblem(m);\n",
    "\n",
    "# set parameters\n",
    "DSPsolver.setIntParam(\"LOG_LEVEL\",1);\n",
    "DSPsolver.setIntParam(\"ITER_LIM\",100);\n",
    "DSPsolver.setDblParam(\"SCIP/GAP_TOL\",0.0);\n",
    "\n",
    "# solve problem\n",
    "if option == \"DE\"\n",
    "\tDSPsolver.solve(DSP_SOLVER_DE);\n",
    "elseif option == \"BD\"\n",
    "\tDSPsolver.setIntParam(\"BD/NUM_CORES\",1);\n",
    "\tDSPsolver.solve(DSP_SOLVER_BD);\n",
    "elseif option == \"DD\"\n",
    "\tDSPsolver.setIntParam(\"DD/FEAS_CUTS\",1);\n",
    "\tDSPsolver.setIntParam(\"DD/OPT_CUTS\",1);\n",
    "\tDSPsolver.setIntParam(\"DD/EVAL_UB\",1);\n",
    "\tDSPsolver.setIntParam(\"DD/MASTER_ALGO\",IPM_FEAS);\n",
    "\tDSPsolver.solve(DSP_SOLVER_DD);\n",
    "end\n",
    "\n",
    "if MPI.Initialized() == false || MPI.Comm_rank(MPI.COMM_WORLD) == 0\n",
    "\t# print some results\n",
    "\tprintln(\"Solution Status: \", DSPsolver.getSolutionStatus());\n",
    "\tprintln(\"Primal Bound   : \", DSPsolver.getPrimalBound());\n",
    "\tprintln(\"Dual Bound     : \", DSPsolver.getDualBound());\n",
    "end\n",
    "\n",
    "if option == \"DD\"\n",
    "\tMPI.Finalize();\n",
    "end\n",
    "\n",
    "DSPsolver.getSolution()"
   ]
  },
  {
   "cell_type": "code",
   "execution_count": 13,
   "metadata": {
    "collapsed": false
   },
   "outputs": [
    {
     "name": "stdout",
     "output_type": "stream",
     "text": [
      "presolving (2 rounds):\n",
      " 0 deleted vars, 3 deleted constraints, 0 added constraints, 12 tightened bounds, 0 added holes, 0 changed sides, 0 changed coefficients\n",
      " 0 implications, 0 cliques\n",
      "presolved problem has 21 variables (0 bin, 3 int, 0 impl, 18 cont) and 10 constraints\n",
      "\n",
      " time | node  | left  |LP iter|LP it/n| mem |mdpt |frac |vars |cons |cols |rows |cuts |confs|strbr|  dualbound   | primalbound  |  gap   \n",
      "T 0.0s|     1 |     0 |     6 |     - | 226k|   0 |   - |  21 |  10 |  21 |  10 |   0 |   0 |   0 |      --      | 7.420000e+04 |    Inf \n",
      "* 0.0s|     1 |     0 |    20 |     - | 225k|   0 |   - |  21 |  10 |  21 |  10 |   0 |   0 |   0 |-1.253900e+05 |-1.253900e+05 |   0.00%\n",
      "  0.0s|     1 |     0 |    20 |     - | 225k|   0 |   - |  21 |  10 |  21 |  10 |   0 |   0 |   0 |-1.253900e+05 |-1.253900e+05 |   0.00%\n",
      "\n",
      "SCIP Status        : problem is solved [optimal solution found]\n",
      "Solving Time (sec) : 0.00\n",
      "Solving Nodes      : 1\n",
      "Primal Bound       : -1.25390000000000e+05 (2 solutions)\n",
      "Dual Bound         : -1.25390000000000e+05\n",
      "Gap                : 0.00 %\n",
      "Solution Status: Optimal\n",
      "Primal Bound   : -125390.0\n",
      "Dual Bound     : -125390.0\n"
     ]
    },
    {
     "data": {
      "text/plain": [
       "21-element Array{Float64,1}:\n",
       "  170.0\n",
       "   80.0\n",
       "  250.0\n",
       "    0.0\n",
       "    0.0\n",
       "  410.0\n",
       "   48.0\n",
       " 6000.0\n",
       "    0.0\n",
       "    0.0\n",
       "    0.0\n",
       "  325.0\n",
       "    0.0\n",
       " 5000.0\n",
       "    0.0\n",
       "    0.0\n",
       "   48.0\n",
       "  240.0\n",
       "    0.0\n",
       " 4000.0\n",
       "    0.0"
      ]
     },
     "execution_count": 13,
     "metadata": {},
     "output_type": "execute_result"
    }
   ],
   "source": [
    "# choose algorithm type (in this case extensive form)\n",
    "option = \"DE\"\n",
    "\n",
    "if option == \"DD\"\n",
    "\tMPI.Init();\n",
    "end\n",
    "\n",
    "# load problem to model object\n",
    "DSPsolver.loadProblem(m);\n",
    "\n",
    "# set parameters\n",
    "DSPsolver.setIntParam(\"LOG_LEVEL\",1);\n",
    "DSPsolver.setIntParam(\"ITER_LIM\",100);\n",
    "DSPsolver.setDblParam(\"SCIP/GAP_TOL\",0.0);\n",
    "\n",
    "# solve problem\n",
    "if option == \"DE\"\n",
    "\tDSPsolver.solve(DSP_SOLVER_DE);\n",
    "elseif option == \"BD\"\n",
    "\tDSPsolver.setIntParam(\"BD/NUM_CORES\",1);\n",
    "\tDSPsolver.solve(DSP_SOLVER_BD);\n",
    "elseif option == \"DD\"\n",
    "\tDSPsolver.setIntParam(\"DD/FEAS_CUTS\",1);\n",
    "\tDSPsolver.setIntParam(\"DD/OPT_CUTS\",1);\n",
    "\tDSPsolver.setIntParam(\"DD/EVAL_UB\",1);\n",
    "\tDSPsolver.setIntParam(\"DD/MASTER_ALGO\",IPM_FEAS);\n",
    "\tDSPsolver.solve(DSP_SOLVER_DD);\n",
    "end\n",
    "\n",
    "if MPI.Initialized() == false || MPI.Comm_rank(MPI.COMM_WORLD) == 0\n",
    "\t# print some results\n",
    "\tprintln(\"Solution Status: \", DSPsolver.getSolutionStatus());\n",
    "\tprintln(\"Primal Bound   : \", DSPsolver.getPrimalBound());\n",
    "\tprintln(\"Dual Bound     : \", DSPsolver.getDualBound());\n",
    "end\n",
    "\n",
    "if option == \"DD\"\n",
    "\tMPI.Finalize();\n",
    "end\n",
    "\n",
    "DSPsolver.getSolution()"
   ]
  }
 ],
 "metadata": {
  "kernelspec": {
   "display_name": "Julia 0.3.12",
   "language": "julia",
   "name": "julia-0.3"
  },
  "language_info": {
   "file_extension": ".jl",
   "mimetype": "application/julia",
   "name": "julia",
   "version": "0.3.12"
  }
 },
 "nbformat": 4,
 "nbformat_minor": 0
}
