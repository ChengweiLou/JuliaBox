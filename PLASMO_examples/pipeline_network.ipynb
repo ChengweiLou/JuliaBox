{
 "cells": [
  {
   "cell_type": "markdown",
   "metadata": {},
   "source": [
    "# Modeling a Pipeline Network with JuMP\n",
    "### Jordan Jalving and Victor Zavala"
   ]
  },
  {
   "cell_type": "markdown",
   "metadata": {},
   "source": [
    "![title](13_pipe_sketch.png)"
   ]
  },
  {
   "cell_type": "markdown",
   "metadata": {},
   "source": [
    "## Import packages"
   ]
  },
  {
   "cell_type": "code",
   "execution_count": null,
   "metadata": {
    "collapsed": true
   },
   "outputs": [],
   "source": [
    "using JuMP\n",
    "using Ipopth\n",
    "using PyPlot"
   ]
  },
  {
   "cell_type": "markdown",
   "metadata": {},
   "source": [
    "# Physical property data"
   ]
  },
  {
   "cell_type": "code",
   "execution_count": null,
   "metadata": {
    "collapsed": true
   },
   "outputs": [],
   "source": [
    "eps= 0.025\t\t             # pipe rugosity - [mm]\n",
    "z= 0.80        \t\t\t     # gas compressibility  - []\n",
    "rhon=0.72         \t\t     # density of air at normal conditions - [kg/m3]\n",
    "R=8314.0       \t\t\t     # universal gas constant [J/kgmol-K]\n",
    "M=18.0    \t\t\t         # gas molar mass [kg/kgmol]\n",
    "pi=3.14         \t\t     # pi\n",
    "Tgas = 293.15      \t\t     # reference temperature [K]\n",
    "Cp = 2.34        \t\t     # heat capacity @ constant pressure [kJ/kg-K]\n",
    "Cv = 1.85        \t\t     # heat capacity @ constant volume [kJ/kg-K]\n",
    "U = 1.0*0.1     \t\t     # pipe heat transfer coefficient [J/m2-s-K]\n",
    "\n",
    "#scaling factors\n",
    "ffac=(1e+6*rhon)/(24*3600)                     # from scmx10-6/day to kg/s\n",
    "ffac2=(3600)/(1e+4*rhon)                       # from kg/s to scmx10-4/hr\n",
    "pfac=1e+5                                      # from bar to Pa\n",
    "pfac2=1e-5                                     # from Pa to bar\n",
    "dfac=1e-3                                      # from mm to m\n",
    "lfac=1e+3;                                      # from km to m"
   ]
  },
  {
   "cell_type": "markdown",
   "metadata": {},
   "source": [
    "## System Equations\n"
   ]
  },
  {
   "cell_type": "markdown",
   "metadata": {},
   "source": [
    "$\\newcommand{\\norm}[1]{\\left\\lvert#1\\right\\rvert}$\n",
    "__Objective__ (Minimize compressor cost; maximize gas delivery)\n",
    "\n",
    "$\n",
    "\\min \\varphi:=\\int_{0}^T \\left(\\alpha_{P} P_(\\tau)-\\alpha_{gas} f_{deliver}(\\tau)\\right)d\\tau\n",
    "$\n",
    "\n",
    "\n",
    "__Isothermal Euler Equations__\n",
    "\n",
    "$\n",
    "\\begin{align*}\n",
    "     &\\frac{\\partial p(t,x)}{\\partial t} + \\frac{c^2}{A}\\frac{\\partial f(t,x)}{\\partial x} = 0\\\\\n",
    "      &\\frac{\\partial f(t,x)}{\\partial t} + \\frac{2c^2f(t,x)}{Ap(t,x)}\\frac{\\partial f(t,x)}{\\partial x} - \\frac{c^2f(t,x)^2}{Ap(t,x)^2}\\frac{\\partial p(t,x)}{\\partial x}\n",
    "          + A\\frac{\\partial p(t,x)}{\\partial x} = -\\frac{8c^2\\lambda A}{\\pi^2D^5}\\frac{f(t,x)}{p(t,x)} \\norm{f(t,x)}\n",
    "    \\end{align*}\n",
    "$\n",
    "\n",
    "__Compressor Equation__\n",
    "\n",
    "$\n",
    "\\begin{align*}\n",
    "P(t)= c_p\\cdot T\\cdot f_{in}\\left(\\left(\\frac{p_{in}(t)+\\Delta p(t) }{p_{in}(t)}\\right)^{\\frac{\\gamma-1}\n",
    "{\\gamma}}-1\\right)\n",
    "\\end{align*}\n",
    "$\n",
    "\n",
    "__Pipe Boundary Conditions__\n",
    "\n",
    "$\n",
    "\\begin{align*}\n",
    "&p(L,t)=p_{out}(t)\\\\\n",
    "&p(0,t)=p_{in}(t)+\\Delta p(t)\n",
    "\\end{align*}\n",
    "$\n",
    "\n",
    "__Flow Coupling__\n",
    "\n",
    "$\n",
    "\\begin{align*}\n",
    "&f(L,t)=f_{out}(t)\\\\\n",
    "&f(0,t)=f_{in}(t)\n",
    "\\end{align*}\n",
    "$\n",
    "\n",
    "__Gas Demand Relations__\n",
    "\n",
    "$\n",
    "\\begin{align*}\n",
    "&f_{out}(t) = f_{deliver}(t)\\\\\n",
    "&f_{deliver}(t) \\le f_{demand}(t)\n",
    "\\end{align*}\n",
    "$"
   ]
  },
  {
   "cell_type": "code",
   "execution_count": null,
   "metadata": {
    "collapsed": true
   },
   "outputs": [],
   "source": []
  }
 ],
 "metadata": {
  "kernelspec": {
   "display_name": "Julia 0.5.0",
   "language": "julia",
   "name": "julia-0.5"
  },
  "language_info": {
   "file_extension": ".jl",
   "mimetype": "application/julia",
   "name": "julia",
   "version": "0.5.0"
  }
 },
 "nbformat": 4,
 "nbformat_minor": 2
}
