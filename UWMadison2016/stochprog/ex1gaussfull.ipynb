{
 "cells": [
  {
   "cell_type": "markdown",
   "metadata": {},
   "source": [
    "Expected Value vs. CVaR Comparison\n",
    "\n",
    "Mauricio Tombini, Jordan Jalving, and Victor M. Zavala 2016 \n",
    "\n",
    "University of Wisconsin-Madison "
   ]
  },
  {
   "cell_type": "code",
   "execution_count": null,
   "metadata": {
    "collapsed": false
   },
   "outputs": [],
   "source": [
    "# Loading packages:\n",
    "using JuMP \n",
    "using Distributions \n",
    "using Ipopt\n",
    "using Gadfly\n",
    "set_default_plot_size(20cm, 15cm)"
   ]
  },
  {
   "cell_type": "code",
   "execution_count": null,
   "metadata": {
    "collapsed": false
   },
   "outputs": [],
   "source": [
    "# Generate random data: \n",
    "NS = 100\n",
    "S = collect(1:NS); \n",
    "srand(0)\n",
    "μ = 0; σ = 2; \n",
    "d = Normal(μ,σ)\n",
    "R = rand(d,NS);"
   ]
  },
  {
   "cell_type": "code",
   "execution_count": null,
   "metadata": {
    "collapsed": false
   },
   "outputs": [],
   "source": [
    "# Plotting data\n",
    "p = plot(x = R, Geom.histogram(bincount = 30),Guide.XLabel(\"ξ\"), Guide.YLabel(\"p(ξ)\"))"
   ]
  },
  {
   "cell_type": "markdown",
   "metadata": {},
   "source": [
    "Solve expected value problem"
   ]
  },
  {
   "cell_type": "code",
   "execution_count": null,
   "metadata": {
    "collapsed": false
   },
   "outputs": [],
   "source": [
    "# ex1gauss.mod \n",
    "m = Model(solver=IpoptSolver(print_level=0))\n",
    "\n",
    "@variable(m, x)            # decision variable\n",
    "@variable(m, cost[1:NS])   # per scenario cost\n",
    "@constraint(m, costeq[s in S], cost[s] == (x-R[s])^2) \n",
    "\n",
    "@objective(m, Min, (1/NS)*sum{cost[s], s in S})\n",
    "\n",
    "solve(m)\n",
    "solcost = getvalue(cost);\n",
    "println(\"x=\",getvalue(x))\n",
    "println(\"mean=\",getobjectivevalue(m))\n",
    "println(\"meanR=\",(1/NS)*sum(R))"
   ]
  },
  {
   "cell_type": "code",
   "execution_count": null,
   "metadata": {
    "collapsed": false
   },
   "outputs": [],
   "source": [
    "# Plotting cost fistribution \n",
    "plot(x = solcost, Geom.histogram(bincount = 30),Guide.XLabel(\"f(x<sup>*</sup>(ξ),ξ)\"), Guide.YLabel(\"p(f(⋅))\"))"
   ]
  },
  {
   "cell_type": "markdown",
   "metadata": {},
   "source": [
    "Solve CVaR Problem"
   ]
  },
  {
   "cell_type": "code",
   "execution_count": null,
   "metadata": {
    "collapsed": false
   },
   "outputs": [],
   "source": [
    "m = Model(solver=IpoptSolver(print_level=0))\n",
    "\n",
    "@variable(m, x)              # decision variable\n",
    "@variable(m, cost[1:NS])     # per scenario cost\n",
    "@variable(m, VaR)            # cvar auxiliary variable\n",
    "@variable(m, phi[S] >= 0)    # cvar auxiliary variable\n",
    "\n",
    "# set cvar probability level\n",
    "alpha = 0.0001;               \n",
    "\n",
    "@constraint(m, costeq[s in S], cost[s] == (x-R[s])^2) \n",
    "@constraint(m, cvar[s in S], cost[s]-VaR <= phi[s])\n",
    "\n",
    "@objective(m, Min, VaR + (1/NS)*sum{(1/alpha)*phi[s], s in S})\n",
    "\n",
    "solve(m)\n",
    "solcost2 = getvalue(cost);\n",
    "println(\"x=\",getvalue(x))\n",
    "println(\"CVaR=\",getobjectivevalue(m))\n",
    "println(\"mean=\",(1/NS)*sum(solcost2))"
   ]
  },
  {
   "cell_type": "code",
   "execution_count": null,
   "metadata": {
    "collapsed": false
   },
   "outputs": [],
   "source": [
    "# Plotting cost distribution\n",
    "p = plot(x = solcost2, Geom.histogram(bincount = 30),Guide.XLabel(\"f(x<sup>*</sup>(ξ),ξ)\"), Guide.YLabel(\"p(f(⋅))\"))"
   ]
  },
  {
   "cell_type": "code",
   "execution_count": null,
   "metadata": {
    "collapsed": false
   },
   "outputs": [],
   "source": [
    "solcost"
   ]
  }
 ],
 "metadata": {
  "kernelspec": {
   "display_name": "Julia 0.4.5",
   "language": "julia",
   "name": "julia-0.4"
  },
  "language_info": {
   "file_extension": ".jl",
   "mimetype": "application/julia",
   "name": "julia",
   "version": "0.4.5"
  }
 },
 "nbformat": 4,
 "nbformat_minor": 0
}
