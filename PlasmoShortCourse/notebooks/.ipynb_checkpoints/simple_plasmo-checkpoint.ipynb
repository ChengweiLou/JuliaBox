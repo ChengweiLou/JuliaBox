{
 "cells": [
  {
   "cell_type": "markdown",
   "metadata": {},
   "source": [
    "# Linking Models with Plasmo"
   ]
  },
  {
   "cell_type": "markdown",
   "metadata": {},
   "source": [
    "\n",
    "$\\begin{align*}\n",
    "&\\textbf{Model 1}\\\\\n",
    "    &\\min_{x,y} \\ \\ x\\\\\n",
    "    s.t. &\\ 0 \\le  x \\le 5 \\\\\n",
    "    & 0 \\le y \\le 5 \\\\\n",
    "    & x + y \\ge 6\\\\\n",
    "    \\\\\n",
    " &\\textbf{Model 2}\\\\\n",
    "    &\\min_{x,y} \\ \\ x\\\\\n",
    "    s.t. &\\ x \\ge 0 \\\\\n",
    "    & 0 \\le y \\le 5 \\\\\n",
    "    & e^x + y \\le 7\n",
    "    \\\\\n",
    "    &\\textbf{Link Models}\\\\\n",
    "    &m1.x == m2.x\n",
    "\\end{align*}\n",
    "$\n",
    "\n",
    "\n"
   ]
  },
  {
   "cell_type": "markdown",
   "metadata": {},
   "source": [
    "## Import JuMP, Plasmo, and Ipopt"
   ]
  },
  {
   "cell_type": "code",
   "execution_count": 25,
   "metadata": {
    "collapsed": true
   },
   "outputs": [],
   "source": [
    "import JuMP\n",
    "import Plasmo\n",
    "import Ipopt"
   ]
  },
  {
   "cell_type": "markdown",
   "metadata": {},
   "source": [
    "## Create a GraphModel and add nodes and edges"
   ]
  },
  {
   "cell_type": "code",
   "execution_count": 26,
   "metadata": {},
   "outputs": [],
   "source": [
    "#Create a Graph Model\n",
    "model = Plasmo.GraphModel()\n",
    "\n",
    "#It's useful to grab the model's graph to work with\n",
    "graph = Plasmo.getgraph(model)\n",
    "\n",
    "#Add nodes to a GraphModel\n",
    "n1 = Plasmo.add_node!(model)\n",
    "n2 = Plasmo.add_node!(model)\n",
    "\n",
    "#Add an edge between nodes 1 and 2\n",
    "edge = Plasmo.add_edge!(model,n1,n2);"
   ]
  },
  {
   "cell_type": "markdown",
   "metadata": {},
   "source": [
    "## Create two separate JuMP models"
   ]
  },
  {
   "cell_type": "code",
   "execution_count": 27,
   "metadata": {},
   "outputs": [],
   "source": [
    "#Set a model on node 1\n",
    "m1 = JuMP.Model()\n",
    "JuMP.@variable(m1,0 <= x <= 5)\n",
    "JuMP.@variable(m1,0 <= y <= 5)\n",
    "JuMP.@constraint(m1,x+y >= 6)\n",
    "JuMP.@objective(m1,Min,x)\n",
    "\n",
    "#Set a model on node 2\n",
    "m2 = JuMP.Model()\n",
    "JuMP.@variable(m2,x >= 0)\n",
    "JuMP.@variable(m2,0 <= y <= 5)\n",
    "JuMP.@NLconstraint(m2,exp(x)+y <= 7)\n",
    "JuMP.@objective(m2,Max,y);\n"
   ]
  },
  {
   "cell_type": "markdown",
   "metadata": {},
   "source": [
    "## Set the models to the nodes"
   ]
  },
  {
   "cell_type": "code",
   "execution_count": 28,
   "metadata": {},
   "outputs": [],
   "source": [
    "Plasmo.setmodel!(n1,m1)     \n",
    "Plasmo.setmodel!(n2,m2);"
   ]
  },
  {
   "cell_type": "markdown",
   "metadata": {},
   "source": [
    "## Add linking constraint between the models"
   ]
  },
  {
   "cell_type": "code",
   "execution_count": 29,
   "metadata": {},
   "outputs": [
    {
     "data": {
      "text/plain": [
       "1-element Array{JuMP.AbstractConstraint,1}:\n",
       " node[x] - node[x] = 0"
      ]
     },
     "execution_count": 29,
     "metadata": {},
     "output_type": "execute_result"
    }
   ],
   "source": [
    "Plasmo.@linkconstraint(model,graph,n1,n1[:x] == n2[:x]) #will work since the node and edge are connected"
   ]
  },
  {
   "cell_type": "markdown",
   "metadata": {},
   "source": [
    "## Finally, solved the linked system"
   ]
  },
  {
   "cell_type": "code",
   "execution_count": 30,
   "metadata": {},
   "outputs": [
    {
     "name": "stdout",
     "output_type": "stream",
     "text": [
      "Creating flattened graph model...\n",
      "Finished model instantiation\n",
      "This is Ipopt version 3.12.1, running with linear solver mumps.\n",
      "NOTE: Other linear solvers might be more efficient (see Ipopt documentation).\n",
      "\n",
      "Number of nonzeros in equality constraint Jacobian...:        2\n",
      "Number of nonzeros in inequality constraint Jacobian.:        4\n",
      "Number of nonzeros in Lagrangian Hessian.............:        1\n",
      "\n",
      "Total number of variables............................:        4\n",
      "                     variables with only lower bounds:        1\n",
      "                variables with lower and upper bounds:        3\n",
      "                     variables with only upper bounds:        0\n",
      "Total number of equality constraints.................:        1\n",
      "Total number of inequality constraints...............:        2\n",
      "        inequality constraints with only lower bounds:        1\n",
      "   inequality constraints with lower and upper bounds:        0\n",
      "        inequality constraints with only upper bounds:        1\n",
      "\n",
      "iter    objective    inf_pr   inf_du lg(mu)  ||d||  lg(rg) alpha_du alpha_pr  ls\n",
      "   0  0.0000000e+00 5.98e+00 5.85e-01  -1.0 0.00e+00    -  0.00e+00 0.00e+00   0\n",
      "   1  4.8415000e-03 5.96e+00 6.08e-01  -1.0 4.66e+00    -  1.24e-02 1.27e-02h  1\n",
      "   2  4.8424155e-02 8.95e-01 9.48e-01  -1.0 5.85e+00    -  5.17e-01 8.43e-01f  1\n",
      "   3 -9.3285098e-01 7.85e-01 1.44e+00  -1.0 7.14e+00    -  2.89e-01 1.63e-01f  1\n",
      "   4 -2.6152290e+00 0.00e+00 7.34e-01  -1.0 3.66e+00    -  4.19e-01 1.00e+00f  1\n",
      "   5 -3.1670775e+00 1.00e-01 2.85e-01  -1.0 1.09e+00    -  1.00e+00 8.35e-01h  1\n",
      "   6 -3.2601319e+00 0.00e+00 3.95e-02  -1.7 5.66e-02    -  1.00e+00 9.89e-01h  1\n",
      "   7 -3.2738557e+00 0.00e+00 8.02e-05  -2.5 2.24e-02    -  1.00e+00 1.00e+00h  1\n",
      "   8 -3.2812933e+00 0.00e+00 1.21e-05  -3.8 5.97e-03    -  1.00e+00 1.00e+00f  1\n",
      "   9 -3.2817131e+00 0.00e+00 3.53e-08  -5.7 3.44e-04    -  1.00e+00 1.00e+00h  1\n",
      "iter    objective    inf_pr   inf_du lg(mu)  ||d||  lg(rg) alpha_du alpha_pr  ls\n",
      "  10 -3.2817186e+00 0.00e+00 4.72e-12  -8.6 4.47e-06    -  1.00e+00 1.00e+00h  1\n",
      "\n",
      "Number of Iterations....: 10\n",
      "\n",
      "                                   (scaled)                 (unscaled)\n",
      "Objective...............:  -3.2817185830459685e+00   -3.2817185830459685e+00\n",
      "Dual infeasibility......:   4.7191366662965455e-12    4.7191366662965455e-12\n",
      "Constraint violation....:   0.0000000000000000e+00    0.0000000000000000e+00\n",
      "Complementarity.........:   2.5178773816759960e-09    2.5178773816759960e-09\n",
      "Overall NLP error.......:   2.5178773816759960e-09    2.5178773816759960e-09\n",
      "\n",
      "\n",
      "Number of objective function evaluations             = 11\n",
      "Number of objective gradient evaluations             = 11\n",
      "Number of equality constraint evaluations            = 11\n",
      "Number of inequality constraint evaluations          = 11\n",
      "Number of equality constraint Jacobian evaluations   = 11\n",
      "Number of inequality constraint Jacobian evaluations = 11\n",
      "Number of Lagrangian Hessian evaluations             = 10\n",
      "Total CPU secs in IPOPT (w/o function evaluations)   =      0.004\n",
      "Total CPU secs in NLP function evaluations           =      0.000\n",
      "\n",
      "EXIT: Optimal Solution Found.\n"
     ]
    }
   ],
   "source": [
    "model.solver = Ipopt.IpoptSolver()\n",
    "Plasmo.solve(model,graph)"
   ]
  },
  {
   "cell_type": "markdown",
   "metadata": {},
   "source": [
    "## Inspect values of individual nodes"
   ]
  },
  {
   "cell_type": "code",
   "execution_count": 35,
   "metadata": {},
   "outputs": [
    {
     "name": "stdout",
     "output_type": "stream",
     "text": [
      "n1.x = 0.9999998913461743\n",
      "n2.x = 0.9999998913461743\n",
      "n1.y = 5.0\n",
      "n2.y = 4.281718474392143\n"
     ]
    }
   ],
   "source": [
    "println(\"n1.x = \",JuMP.getvalue(n1[:x]))\n",
    "println(\"n2.x = \",JuMP.getvalue(n2[:x]))\n",
    "println(\"n1.y = \",JuMP.getvalue(n1[:y]))\n",
    "println(\"n2.y = \",JuMP.getvalue(n2[:y]))"
   ]
  },
  {
   "cell_type": "code",
   "execution_count": null,
   "metadata": {
    "collapsed": true
   },
   "outputs": [],
   "source": []
  }
 ],
 "metadata": {
  "kernelspec": {
   "display_name": "Julia 0.5.0",
   "language": "julia",
   "name": "julia-0.5"
  },
  "language_info": {
   "file_extension": ".jl",
   "mimetype": "application/julia",
   "name": "julia",
   "version": "0.5.0"
  }
 },
 "nbformat": 4,
 "nbformat_minor": 2
}
